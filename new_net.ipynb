{
 "cells": [
  {
   "cell_type": "markdown",
   "metadata": {},
   "source": [
    "## Aim  of the project"
   ]
  },
  {
   "cell_type": "markdown",
   "metadata": {},
   "source": [
    "This project has been realized in order to understand if some of the features that characterise a song are more relevant than others for predicting two chosen metric of success for the song.\n",
    "\n",
    "The two metrics that we looked at are the song's **popularity** and its reception between musics enthusists, we have labeled this as **critic score**."
   ]
  },
  {
   "cell_type": "markdown",
   "metadata": {},
   "source": [
    "# The Dataset\n",
    "\n",
    "The dataset is the result of merging together a dataset representing the `Rate Your Music top 500 tracks` leaderboard and a dataset obtained scraping through `Spotify API` a playlist containing those same tracks.\n",
    "\n",
    "* **popularity_normalized** &rarr; `minmax scaling` of the metric provided by the `Spotify API`\n",
    "* **critic score** &rarr; augmented knowledge, scaling of the position in RYM ranking computed as `1 - minmax(ranking)` in excel\n",
    "\n",
    "* **acousticness**: A confidence measure from 0.0 to 1.0 of whether the track is acoustic. 1.0 represents high confidence the track is acoustic.\n",
    "\n",
    "* **danceability**: Danceability describes how suitable a track is for dancing based on a combination of musical elements including tempo, rhythm stability, beat strength, and overall regularity. A value of 0.0 is least danceable and 1.0 is most danceable.\n",
    "\n",
    "* **energy**: Energy is a measure from 0.0 to 1.0 and represents a perceptual measure of intensity and activity. Typically, energetic tracks feel fast, loud, and noisy. For example, death metal has high energy, while a Bach prelude scores low on the scale. Perceptual features contributing to this attribute include dynamic range, perceived loudness, timbre, onset rate, and general entropy.\n",
    "\n",
    "* **instrumentalness**: Predicts whether a track contains no vocals. \"Ooh\" and \"aah\" sounds are treated as instrumental in this context. Rap or spoken word tracks are clearly \"vocal\". The closer the instrumentalness value is to 1.0, the greater likelihood the track contains no vocal content. Values *above 0.5* are intended to represent instrumental tracks, but confidence is higher as the value approaches 1.0.\n",
    "\n",
    "* **liveness**:\n",
    "Detects the presence of an audience in the recording. Higher liveness values represent an increased probability that the track was performed live. A value *above 0.8* provides strong likelihood that the track is live.\n",
    "\n",
    "* **speechiness**:\n",
    "Speechiness detects the presence of spoken words in a track. The more exclusively speech-like the recording (e.g. talk show, audio book, poetry), the closer to 1.0 the attribute value. Values *above 0.66* describe tracks that are probably made entirely of spoken words. Values *between 0.33 and 0.66* describe tracks that may contain both music and speech, either in sections or layered, including such cases as rap music. Values *below 0.33* most likely represent music and other non-speech-like tracks.\n",
    "\n",
    "* **valence**:\n",
    "A measure from 0.0 to 1.0 describing the musical positiveness conveyed by a track. Tracks with *high valence* sound *more positive* (e.g. happy, cheerful, euphoric), while tracks with *low valence* sound *more negative* (e.g. sad, depressed, angry).\n",
    "\n",
    "* **tempo**:\n",
    "The overall estimated tempo of a track in beats per minute (BPM). In musical terminology, tempo is the speed or pace of a given piece and derives directly from the average beat duration."
   ]
  },
  {
   "cell_type": "code",
   "execution_count": 22,
   "metadata": {},
   "outputs": [],
   "source": [
    "# importing useful libraries\n",
    "import numpy as np\n",
    "import pandas as pd\n",
    "import matplotlib.pyplot as plt\n",
    "import seaborn as sns\n",
    "import warnings\n",
    "warnings.filterwarnings(\"ignore\")\n",
    "sep = \";\"\n",
    "sns.set_palette(\"Set2\") # set seaborn color palette\n",
    "pal = sns.color_palette('Set2') # get colors for highlighting the quantiles"
   ]
  },
  {
   "cell_type": "code",
   "execution_count": 23,
   "metadata": {},
   "outputs": [],
   "source": [
    "df = pd.read_csv('data.csv',sep=sep)"
   ]
  },
  {
   "cell_type": "code",
   "execution_count": 24,
   "metadata": {},
   "outputs": [
    {
     "data": {
      "text/html": [
       "<div>\n",
       "<style scoped>\n",
       "    .dataframe tbody tr th:only-of-type {\n",
       "        vertical-align: middle;\n",
       "    }\n",
       "\n",
       "    .dataframe tbody tr th {\n",
       "        vertical-align: top;\n",
       "    }\n",
       "\n",
       "    .dataframe thead th {\n",
       "        text-align: right;\n",
       "    }\n",
       "</style>\n",
       "<table border=\"1\" class=\"dataframe\">\n",
       "  <thead>\n",
       "    <tr style=\"text-align: right;\">\n",
       "      <th></th>\n",
       "      <th>track_name</th>\n",
       "      <th>artists</th>\n",
       "      <th>album</th>\n",
       "      <th>danceability</th>\n",
       "      <th>energy</th>\n",
       "      <th>key</th>\n",
       "      <th>loudness</th>\n",
       "      <th>mode</th>\n",
       "      <th>speechiness</th>\n",
       "      <th>acousticness</th>\n",
       "      <th>...</th>\n",
       "      <th>liveness</th>\n",
       "      <th>valence</th>\n",
       "      <th>tempo</th>\n",
       "      <th>duration_ms</th>\n",
       "      <th>time_signature</th>\n",
       "      <th>popularity</th>\n",
       "      <th>year</th>\n",
       "      <th>ranking</th>\n",
       "      <th>critic score</th>\n",
       "      <th>popularity_normalized</th>\n",
       "    </tr>\n",
       "  </thead>\n",
       "  <tbody>\n",
       "    <tr>\n",
       "      <th>0</th>\n",
       "      <td>Wouldn't It Be Nice</td>\n",
       "      <td>The Beach Boys</td>\n",
       "      <td>Greatest Hits</td>\n",
       "      <td>0.385</td>\n",
       "      <td>0.657</td>\n",
       "      <td>5</td>\n",
       "      <td>-6.975</td>\n",
       "      <td>1</td>\n",
       "      <td>0.0342</td>\n",
       "      <td>0.724000</td>\n",
       "      <td>...</td>\n",
       "      <td>0.1050</td>\n",
       "      <td>0.672</td>\n",
       "      <td>124.895</td>\n",
       "      <td>153867</td>\n",
       "      <td>4</td>\n",
       "      <td>60</td>\n",
       "      <td>2012</td>\n",
       "      <td>1</td>\n",
       "      <td>1</td>\n",
       "      <td>0,6125</td>\n",
       "    </tr>\n",
       "    <tr>\n",
       "      <th>1</th>\n",
       "      <td>God Only Knows</td>\n",
       "      <td>The Beach Boys</td>\n",
       "      <td>50 Big Ones: Greatest Hits</td>\n",
       "      <td>0.433</td>\n",
       "      <td>0.469</td>\n",
       "      <td>6</td>\n",
       "      <td>-9.853</td>\n",
       "      <td>0</td>\n",
       "      <td>0.0320</td>\n",
       "      <td>0.156000</td>\n",
       "      <td>...</td>\n",
       "      <td>0.0479</td>\n",
       "      <td>0.334</td>\n",
       "      <td>115.876</td>\n",
       "      <td>175787</td>\n",
       "      <td>4</td>\n",
       "      <td>51</td>\n",
       "      <td>2012</td>\n",
       "      <td>1</td>\n",
       "      <td>1</td>\n",
       "      <td>0,5</td>\n",
       "    </tr>\n",
       "    <tr>\n",
       "      <th>2</th>\n",
       "      <td>Sinnerman</td>\n",
       "      <td>Nina Simone</td>\n",
       "      <td>Pastel Blues</td>\n",
       "      <td>0.436</td>\n",
       "      <td>0.543</td>\n",
       "      <td>11</td>\n",
       "      <td>-13.351</td>\n",
       "      <td>0</td>\n",
       "      <td>0.0962</td>\n",
       "      <td>0.654000</td>\n",
       "      <td>...</td>\n",
       "      <td>0.0937</td>\n",
       "      <td>0.663</td>\n",
       "      <td>148.282</td>\n",
       "      <td>622000</td>\n",
       "      <td>4</td>\n",
       "      <td>63</td>\n",
       "      <td>1965</td>\n",
       "      <td>2</td>\n",
       "      <td>0,997995992</td>\n",
       "      <td>0,65</td>\n",
       "    </tr>\n",
       "    <tr>\n",
       "      <th>3</th>\n",
       "      <td>How to Disappear Completely</td>\n",
       "      <td>Radiohead</td>\n",
       "      <td>Kid A</td>\n",
       "      <td>0.167</td>\n",
       "      <td>0.302</td>\n",
       "      <td>6</td>\n",
       "      <td>-11.644</td>\n",
       "      <td>0</td>\n",
       "      <td>0.0345</td>\n",
       "      <td>0.316000</td>\n",
       "      <td>...</td>\n",
       "      <td>0.1100</td>\n",
       "      <td>0.190</td>\n",
       "      <td>102.026</td>\n",
       "      <td>356333</td>\n",
       "      <td>4</td>\n",
       "      <td>67</td>\n",
       "      <td>2000</td>\n",
       "      <td>3</td>\n",
       "      <td>0,995991984</td>\n",
       "      <td>0,7</td>\n",
       "    </tr>\n",
       "    <tr>\n",
       "      <th>4</th>\n",
       "      <td>when you sleep</td>\n",
       "      <td>my bloody valentine</td>\n",
       "      <td>loveless</td>\n",
       "      <td>0.399</td>\n",
       "      <td>0.866</td>\n",
       "      <td>6</td>\n",
       "      <td>-9.720</td>\n",
       "      <td>1</td>\n",
       "      <td>0.0558</td>\n",
       "      <td>0.000034</td>\n",
       "      <td>...</td>\n",
       "      <td>0.0785</td>\n",
       "      <td>0.125</td>\n",
       "      <td>128.864</td>\n",
       "      <td>251947</td>\n",
       "      <td>4</td>\n",
       "      <td>62</td>\n",
       "      <td>1991</td>\n",
       "      <td>4</td>\n",
       "      <td>0,993987976</td>\n",
       "      <td>0,6375</td>\n",
       "    </tr>\n",
       "  </tbody>\n",
       "</table>\n",
       "<p>5 rows × 21 columns</p>\n",
       "</div>"
      ],
      "text/plain": [
       "                    track_name              artists  \\\n",
       "0          Wouldn't It Be Nice       The Beach Boys   \n",
       "1               God Only Knows       The Beach Boys   \n",
       "2                    Sinnerman          Nina Simone   \n",
       "3  How to Disappear Completely            Radiohead   \n",
       "4               when you sleep  my bloody valentine   \n",
       "\n",
       "                        album  danceability  energy  key  loudness  mode  \\\n",
       "0               Greatest Hits         0.385   0.657    5    -6.975     1   \n",
       "1  50 Big Ones: Greatest Hits         0.433   0.469    6    -9.853     0   \n",
       "2                Pastel Blues         0.436   0.543   11   -13.351     0   \n",
       "3                       Kid A         0.167   0.302    6   -11.644     0   \n",
       "4                    loveless         0.399   0.866    6    -9.720     1   \n",
       "\n",
       "   speechiness  acousticness  ...  liveness  valence    tempo  duration_ms  \\\n",
       "0       0.0342      0.724000  ...    0.1050    0.672  124.895       153867   \n",
       "1       0.0320      0.156000  ...    0.0479    0.334  115.876       175787   \n",
       "2       0.0962      0.654000  ...    0.0937    0.663  148.282       622000   \n",
       "3       0.0345      0.316000  ...    0.1100    0.190  102.026       356333   \n",
       "4       0.0558      0.000034  ...    0.0785    0.125  128.864       251947   \n",
       "\n",
       "   time_signature  popularity  year  ranking  critic score  \\\n",
       "0               4          60  2012        1             1   \n",
       "1               4          51  2012        1             1   \n",
       "2               4          63  1965        2   0,997995992   \n",
       "3               4          67  2000        3   0,995991984   \n",
       "4               4          62  1991        4   0,993987976   \n",
       "\n",
       "  popularity_normalized  \n",
       "0                0,6125  \n",
       "1                   0,5  \n",
       "2                  0,65  \n",
       "3                   0,7  \n",
       "4                0,6375  \n",
       "\n",
       "[5 rows x 21 columns]"
      ]
     },
     "execution_count": 24,
     "metadata": {},
     "output_type": "execute_result"
    }
   ],
   "source": [
    "df.head() # inspecting the data"
   ]
  },
  {
   "cell_type": "markdown",
   "metadata": {},
   "source": [
    "Dropping columns which are not useful to our analysis"
   ]
  },
  {
   "cell_type": "code",
   "execution_count": 25,
   "metadata": {},
   "outputs": [],
   "source": [
    "df = df.drop(['time_signature','mode','key','liveness','popularity','ranking'],axis=1)"
   ]
  },
  {
   "cell_type": "markdown",
   "metadata": {},
   "source": [
    "## Pre-processing columns"
   ]
  },
  {
   "cell_type": "markdown",
   "metadata": {},
   "source": [
    "In this section we prepare the columns `year` and `duration_ms` for discretization"
   ]
  },
  {
   "cell_type": "markdown",
   "metadata": {},
   "source": [
    "* **year**: Convert release date to the decade the album was released in order to discretize the value in order to obtain the **'decade'** column. The column has been kept in numerical format, not casted to a string of the type '1920s', because it would conflict with the discretization.\n",
    "\n",
    "For example by writing 2010 we mean the decade going from to 2010 to 2019"
   ]
  },
  {
   "cell_type": "code",
   "execution_count": 26,
   "metadata": {},
   "outputs": [],
   "source": [
    "df['decade'] = (10 * (df['year'] // 10)) "
   ]
  },
  {
   "cell_type": "code",
   "execution_count": 27,
   "metadata": {},
   "outputs": [
    {
     "name": "stdout",
     "output_type": "stream",
     "text": [
      "1920 2020\n"
     ]
    }
   ],
   "source": [
    "#Printing the min and max values of Release date in order to better discretize the release date \n",
    "# column\n",
    "print(np.min(df['decade']), np.max(df['decade']))"
   ]
  },
  {
   "cell_type": "markdown",
   "metadata": {},
   "source": [
    "### Approximate duration into minutes"
   ]
  },
  {
   "cell_type": "markdown",
   "metadata": {},
   "source": [
    "* **duration_ms**: Through a helper function we convert duration_ms into **'duration_min '**\n",
    " "
   ]
  },
  {
   "cell_type": "markdown",
   "metadata": {},
   "source": [
    "\n",
    "The get_min function takes as input an int value in milliseconds and converts it into an integer\n",
    "that corresponds to the nearest minute. For example, that means that if a duration in milliseconds \n",
    "is equal 3 minutes and 30 seconds it is approximated to the nearest minute which is 4.\n",
    "\n"
   ]
  },
  {
   "cell_type": "code",
   "execution_count": 28,
   "metadata": {},
   "outputs": [
    {
     "name": "stdout",
     "output_type": "stream",
     "text": [
      "4 minutes\n",
      "3 minutes\n"
     ]
    }
   ],
   "source": [
    "def get_min(ms):\n",
    "    minutes=float(ms/float(1000*60))%60.\n",
    "    return int((round(minutes,0)))\n",
    "\n",
    "print(get_min(210000),'minutes') # 210000 milliseconds is equal to 3 minutes and 30 seconds\n",
    "print(get_min(209000),'minutes') # 209000 milliseconds is equal to 3 minutes and 29 seconds"
   ]
  },
  {
   "cell_type": "code",
   "execution_count": 29,
   "metadata": {},
   "outputs": [],
   "source": [
    "df['duration_min'] = df['duration_ms'].apply(lambda x: get_min(x)) # use apply function to use the get min function on every row of the get_min column"
   ]
  },
  {
   "cell_type": "code",
   "execution_count": 30,
   "metadata": {},
   "outputs": [],
   "source": [
    "# drop rows with songs that are too long\n",
    "df1 = df.drop(df[df.duration_min > 15].index,axis=0) "
   ]
  },
  {
   "cell_type": "code",
   "execution_count": 31,
   "metadata": {},
   "outputs": [],
   "source": [
    "# Remove live songs\n",
    "df2=df1.drop(df1[df1['album'].str.contains(\"live\", case=False)].index,axis=0)"
   ]
  },
  {
   "cell_type": "code",
   "execution_count": 32,
   "metadata": {},
   "outputs": [
    {
     "data": {
      "text/html": [
       "<div>\n",
       "<style scoped>\n",
       "    .dataframe tbody tr th:only-of-type {\n",
       "        vertical-align: middle;\n",
       "    }\n",
       "\n",
       "    .dataframe tbody tr th {\n",
       "        vertical-align: top;\n",
       "    }\n",
       "\n",
       "    .dataframe thead th {\n",
       "        text-align: right;\n",
       "    }\n",
       "</style>\n",
       "<table border=\"1\" class=\"dataframe\">\n",
       "  <thead>\n",
       "    <tr style=\"text-align: right;\">\n",
       "      <th></th>\n",
       "      <th>track_name</th>\n",
       "      <th>artists</th>\n",
       "      <th>album</th>\n",
       "      <th>danceability</th>\n",
       "      <th>energy</th>\n",
       "      <th>loudness</th>\n",
       "      <th>speechiness</th>\n",
       "      <th>acousticness</th>\n",
       "      <th>instrumentalness</th>\n",
       "      <th>valence</th>\n",
       "      <th>tempo</th>\n",
       "      <th>duration_ms</th>\n",
       "      <th>year</th>\n",
       "      <th>critic score</th>\n",
       "      <th>popularity_normalized</th>\n",
       "      <th>decade</th>\n",
       "      <th>duration_min</th>\n",
       "    </tr>\n",
       "  </thead>\n",
       "  <tbody>\n",
       "    <tr>\n",
       "      <th>0</th>\n",
       "      <td>Wouldn't It Be Nice</td>\n",
       "      <td>The Beach Boys</td>\n",
       "      <td>Greatest Hits</td>\n",
       "      <td>0.385</td>\n",
       "      <td>0.657</td>\n",
       "      <td>-6.975</td>\n",
       "      <td>0.0342</td>\n",
       "      <td>0.724000</td>\n",
       "      <td>0.000000</td>\n",
       "      <td>0.672</td>\n",
       "      <td>124.895</td>\n",
       "      <td>153867</td>\n",
       "      <td>2012</td>\n",
       "      <td>1</td>\n",
       "      <td>0,6125</td>\n",
       "      <td>2010</td>\n",
       "      <td>3</td>\n",
       "    </tr>\n",
       "    <tr>\n",
       "      <th>1</th>\n",
       "      <td>God Only Knows</td>\n",
       "      <td>The Beach Boys</td>\n",
       "      <td>50 Big Ones: Greatest Hits</td>\n",
       "      <td>0.433</td>\n",
       "      <td>0.469</td>\n",
       "      <td>-9.853</td>\n",
       "      <td>0.0320</td>\n",
       "      <td>0.156000</td>\n",
       "      <td>0.000000</td>\n",
       "      <td>0.334</td>\n",
       "      <td>115.876</td>\n",
       "      <td>175787</td>\n",
       "      <td>2012</td>\n",
       "      <td>1</td>\n",
       "      <td>0,5</td>\n",
       "      <td>2010</td>\n",
       "      <td>3</td>\n",
       "    </tr>\n",
       "    <tr>\n",
       "      <th>2</th>\n",
       "      <td>Sinnerman</td>\n",
       "      <td>Nina Simone</td>\n",
       "      <td>Pastel Blues</td>\n",
       "      <td>0.436</td>\n",
       "      <td>0.543</td>\n",
       "      <td>-13.351</td>\n",
       "      <td>0.0962</td>\n",
       "      <td>0.654000</td>\n",
       "      <td>0.000009</td>\n",
       "      <td>0.663</td>\n",
       "      <td>148.282</td>\n",
       "      <td>622000</td>\n",
       "      <td>1965</td>\n",
       "      <td>0,997995992</td>\n",
       "      <td>0,65</td>\n",
       "      <td>1960</td>\n",
       "      <td>10</td>\n",
       "    </tr>\n",
       "    <tr>\n",
       "      <th>3</th>\n",
       "      <td>How to Disappear Completely</td>\n",
       "      <td>Radiohead</td>\n",
       "      <td>Kid A</td>\n",
       "      <td>0.167</td>\n",
       "      <td>0.302</td>\n",
       "      <td>-11.644</td>\n",
       "      <td>0.0345</td>\n",
       "      <td>0.316000</td>\n",
       "      <td>0.797000</td>\n",
       "      <td>0.190</td>\n",
       "      <td>102.026</td>\n",
       "      <td>356333</td>\n",
       "      <td>2000</td>\n",
       "      <td>0,995991984</td>\n",
       "      <td>0,7</td>\n",
       "      <td>2000</td>\n",
       "      <td>6</td>\n",
       "    </tr>\n",
       "    <tr>\n",
       "      <th>4</th>\n",
       "      <td>when you sleep</td>\n",
       "      <td>my bloody valentine</td>\n",
       "      <td>loveless</td>\n",
       "      <td>0.399</td>\n",
       "      <td>0.866</td>\n",
       "      <td>-9.720</td>\n",
       "      <td>0.0558</td>\n",
       "      <td>0.000034</td>\n",
       "      <td>0.738000</td>\n",
       "      <td>0.125</td>\n",
       "      <td>128.864</td>\n",
       "      <td>251947</td>\n",
       "      <td>1991</td>\n",
       "      <td>0,993987976</td>\n",
       "      <td>0,6375</td>\n",
       "      <td>1990</td>\n",
       "      <td>4</td>\n",
       "    </tr>\n",
       "  </tbody>\n",
       "</table>\n",
       "</div>"
      ],
      "text/plain": [
       "                    track_name              artists  \\\n",
       "0          Wouldn't It Be Nice       The Beach Boys   \n",
       "1               God Only Knows       The Beach Boys   \n",
       "2                    Sinnerman          Nina Simone   \n",
       "3  How to Disappear Completely            Radiohead   \n",
       "4               when you sleep  my bloody valentine   \n",
       "\n",
       "                        album  danceability  energy  loudness  speechiness  \\\n",
       "0               Greatest Hits         0.385   0.657    -6.975       0.0342   \n",
       "1  50 Big Ones: Greatest Hits         0.433   0.469    -9.853       0.0320   \n",
       "2                Pastel Blues         0.436   0.543   -13.351       0.0962   \n",
       "3                       Kid A         0.167   0.302   -11.644       0.0345   \n",
       "4                    loveless         0.399   0.866    -9.720       0.0558   \n",
       "\n",
       "   acousticness  instrumentalness  valence    tempo  duration_ms  year  \\\n",
       "0      0.724000          0.000000    0.672  124.895       153867  2012   \n",
       "1      0.156000          0.000000    0.334  115.876       175787  2012   \n",
       "2      0.654000          0.000009    0.663  148.282       622000  1965   \n",
       "3      0.316000          0.797000    0.190  102.026       356333  2000   \n",
       "4      0.000034          0.738000    0.125  128.864       251947  1991   \n",
       "\n",
       "  critic score popularity_normalized  decade  duration_min  \n",
       "0            1                0,6125    2010             3  \n",
       "1            1                   0,5    2010             3  \n",
       "2  0,997995992                  0,65    1960            10  \n",
       "3  0,995991984                   0,7    2000             6  \n",
       "4  0,993987976                0,6375    1990             4  "
      ]
     },
     "execution_count": 32,
     "metadata": {},
     "output_type": "execute_result"
    }
   ],
   "source": [
    "df2.head()"
   ]
  },
  {
   "cell_type": "code",
   "execution_count": 33,
   "metadata": {},
   "outputs": [],
   "source": [
    "df2=df2.drop([\"duration_ms\",\"year\"],axis=1) # drop columns which are no longer useful "
   ]
  },
  {
   "cell_type": "code",
   "execution_count": 34,
   "metadata": {},
   "outputs": [
    {
     "data": {
      "text/plain": [
       "track_name                object\n",
       "artists                   object\n",
       "album                     object\n",
       "danceability             float64\n",
       "energy                   float64\n",
       "loudness                 float64\n",
       "speechiness              float64\n",
       "acousticness             float64\n",
       "instrumentalness         float64\n",
       "valence                  float64\n",
       "tempo                    float64\n",
       "critic score              object\n",
       "popularity_normalized     object\n",
       "decade                     int64\n",
       "duration_min               int64\n",
       "dtype: object"
      ]
     },
     "execution_count": 34,
     "metadata": {},
     "output_type": "execute_result"
    }
   ],
   "source": [
    "df2.dtypes #check if all data datatypes are ok"
   ]
  },
  {
   "cell_type": "markdown",
   "metadata": {},
   "source": [
    "`critic score` is treated as an object therefore we need to check if it is a `string` "
   ]
  },
  {
   "cell_type": "code",
   "execution_count": 35,
   "metadata": {},
   "outputs": [
    {
     "name": "stdout",
     "output_type": "stream",
     "text": [
      "Checking type of  critic score .... \n"
     ]
    },
    {
     "data": {
      "text/plain": [
       "str"
      ]
     },
     "execution_count": 35,
     "metadata": {},
     "output_type": "execute_result"
    }
   ],
   "source": [
    "print(\"Checking type of  critic score .... \")\n",
    "type_c = type(df2['critic score'][0])\n",
    "type_c"
   ]
  },
  {
   "cell_type": "code",
   "execution_count": 36,
   "metadata": {},
   "outputs": [
    {
     "data": {
      "text/plain": [
       "track_name                object\n",
       "artists                   object\n",
       "album                     object\n",
       "danceability             float64\n",
       "energy                   float64\n",
       "loudness                 float64\n",
       "speechiness              float64\n",
       "acousticness             float64\n",
       "instrumentalness         float64\n",
       "valence                  float64\n",
       "tempo                    float64\n",
       "critic score             float64\n",
       "popularity_normalized     object\n",
       "decade                     int64\n",
       "duration_min               int64\n",
       "dtype: object"
      ]
     },
     "execution_count": 36,
     "metadata": {},
     "output_type": "execute_result"
    }
   ],
   "source": [
    "# critic score was a string so we are casting it to a float\n",
    "df2['critic score'] = df2['critic score'].str.replace(',','.') # change decimal to dot instead of comma\n",
    "df2['critic score'] = df2['critic score'].astype(float)\n",
    "df2.dtypes # Now critic score is a float , need to repeat the same with popularity_normalized    "
   ]
  },
  {
   "cell_type": "markdown",
   "metadata": {},
   "source": [
    "Repeat the same with popularity"
   ]
  },
  {
   "cell_type": "code",
   "execution_count": 37,
   "metadata": {},
   "outputs": [
    {
     "data": {
      "text/plain": [
       "track_name                object\n",
       "artists                   object\n",
       "album                     object\n",
       "danceability             float64\n",
       "energy                   float64\n",
       "loudness                 float64\n",
       "speechiness              float64\n",
       "acousticness             float64\n",
       "instrumentalness         float64\n",
       "valence                  float64\n",
       "tempo                    float64\n",
       "critic score             float64\n",
       "popularity_normalized    float64\n",
       "decade                     int64\n",
       "duration_min               int64\n",
       "dtype: object"
      ]
     },
     "execution_count": 37,
     "metadata": {},
     "output_type": "execute_result"
    }
   ],
   "source": [
    "# popularity_normalized was a string so we are casting it to a float\n",
    "df2['popularity_normalized'] = df2['popularity_normalized'].str.replace(',','.') # change decimal to dot instead of comma\n",
    "df2['popularity_normalized'] = df2['popularity_normalized'].astype(float)\n",
    "df2.dtypes     "
   ]
  },
  {
   "cell_type": "markdown",
   "metadata": {},
   "source": [
    "### Inspecting relationship between variables"
   ]
  },
  {
   "cell_type": "markdown",
   "metadata": {},
   "source": [
    "We want to understand if we can extract some knowledge on the relationship between the variables by looking at the correlation between them."
   ]
  },
  {
   "cell_type": "markdown",
   "metadata": {},
   "source": [
    "We make 2 correlation plots, one for `critic score` and one for `popularity_normalized` because if we have both `critic score` and `popularity_scal` the correlation plot is difficult to read, moreover **we have chosen to use `pearson` correlation because it is the most useful and simple one to understand linear relation between two variables.** Lastly, we drop `popularity` which was already processed."
   ]
  },
  {
   "cell_type": "code",
   "execution_count": 19,
   "metadata": {},
   "outputs": [],
   "source": [
    "# drop not relevant columns\n",
    "dfp=df2.drop([\"critic score\"],axis=1)"
   ]
  },
  {
   "cell_type": "code",
   "execution_count": 38,
   "metadata": {},
   "outputs": [
    {
     "data": {
      "image/png": "[encoded data removed]",
      "text/plain": [
       "<Figure size 792x792 with 2 Axes>"
      ]
     },
     "metadata": {
      "needs_background": "light"
     },
     "output_type": "display_data"
    }
   ],
   "source": [
    "plt.figure(figsize=(11,11))\n",
    "plt.title(\"Correlation with popularity\")\n",
    "corr = dfp.corr(method='pearson')\n",
    "mask = np.triu(np.ones_like(corr, dtype=bool))\n",
    "sns.heatmap(corr, \n",
    "            mask=mask, \n",
    "            annot=True, \n",
    "            cmap=sns.diverging_palette(20, 230, as_cmap=True),   \n",
    "            square = True,                                 \n",
    "            linewidths = 1.5,\n",
    "            cbar_kws = {\"shrink\": .8});"
   ]
  },
  {
   "cell_type": "code",
   "execution_count": 39,
   "metadata": {},
   "outputs": [],
   "source": [
    "dfc=df2.drop([\"popularity_normalized\"],axis=1)"
   ]
  },
  {
   "cell_type": "code",
   "execution_count": 40,
   "metadata": {},
   "outputs": [
    {
     "data": {
      "image/png": "[encoded data removed]",
      "text/plain": [
       "<Figure size 792x792 with 2 Axes>"
      ]
     },
     "metadata": {
      "needs_background": "light"
     },
     "output_type": "display_data"
    }
   ],
   "source": [
    "plt.figure(figsize=(11,11))\n",
    "corr = dfc.corr(method='pearson')\n",
    "mask = np.triu(np.ones_like(corr, dtype=bool))\n",
    "plt.title(\"Correlation with critic score\")\n",
    "sns.set_palette(\"Set2\")\n",
    "sns.heatmap(corr, \n",
    "            mask=mask, \n",
    "            annot=True, \n",
    "            cmap=sns.diverging_palette(200, 20, as_cmap=True),   \n",
    "            square = True,                                 \n",
    "            linewidths = 1.5,\n",
    "            cbar_kws = {\"shrink\": .8});"
   ]
  },
  {
   "cell_type": "markdown",
   "metadata": {},
   "source": [
    "The correlation plot of `popularity_normalized` is particularly useful because it highlights a lot of relationship between our variables. Instead from the `critic score` plot we cannot deduce any useful relation. We have chosen a minimum threshold for correlation which is 0.18 in order to inspect only the most useful pairs of nodes"
   ]
  },
  {
   "cell_type": "markdown",
   "metadata": {},
   "source": [
    "#### Getting most correlated pairs of variables"
   ]
  },
  {
   "cell_type": "code",
   "execution_count": 41,
   "metadata": {},
   "outputs": [
    {
     "data": {
      "text/plain": [
       "loudness      energy              0.754051\n",
       "acousticness  energy              0.571057\n",
       "              loudness            0.474788\n",
       "valence       danceability        0.474150\n",
       "decade        loudness            0.348556\n",
       "valence       energy              0.316167\n",
       "energy        speechiness         0.271381\n",
       "speechiness   decade              0.258126\n",
       "loudness      speechiness         0.242535\n",
       "danceability  tempo               0.241476\n",
       "speechiness   danceability        0.237682\n",
       "valence       duration_min        0.235908\n",
       "decade        valence             0.230263\n",
       "duration_min  instrumentalness    0.214456\n",
       "speechiness   instrumentalness    0.188608\n",
       "dtype: float64"
      ]
     },
     "execution_count": 41,
     "metadata": {},
     "output_type": "execute_result"
    }
   ],
   "source": [
    "corr_df = dfc.corr().abs() # we are interested in extracting the magnitude of the correlation\n",
    "corr_series = corr_df.unstack() # Convert the corr_df to a pandas series\n",
    "corr_series_sorted = corr_series.sort_values(kind=\"quicksortedrt\",ascending=False) \n",
    "no_dup = corr_series_sorted[(corr_series_sorted < 0.9 ) & (corr_series_sorted >= 0.18)].drop_duplicates()\n",
    "no_dup"
   ]
  },
  {
   "cell_type": "code",
   "execution_count": 42,
   "metadata": {},
   "outputs": [
    {
     "name": "stdout",
     "output_type": "stream",
     "text": [
      "There are 15 pairs above the selected correlation threshold\n"
     ]
    }
   ],
   "source": [
    "print(f\"There are {len(no_dup)} pairs above the selected correlation threshold\")"
   ]
  },
  {
   "cell_type": "markdown",
   "metadata": {},
   "source": [
    "We are going to use this knowledge about the correlation between variables when constructing the bayesian network."
   ]
  },
  {
   "cell_type": "markdown",
   "metadata": {},
   "source": [
    "# Discretization\n"
   ]
  },
  {
   "cell_type": "markdown",
   "metadata": {},
   "source": [
    "## Pre-processed columns\n",
    "These columns are relatively easy to discretize because they are not purely numerical domain dependant attributes and we are able to use common knowledge about the musical domain for defining labels' ranges."
   ]
  },
  {
   "cell_type": "markdown",
   "metadata": {},
   "source": [
    "### 1. decade &rarr; musical era"
   ]
  },
  {
   "cell_type": "markdown",
   "metadata": {},
   "source": [
    "Each discretized decade has been mapped into a label in the column **'era'** . For the labels we used some kind of intuition to determine the labels associated with each group of decade.  \n",
    "\n"
   ]
  },
  {
   "cell_type": "markdown",
   "metadata": {},
   "source": [
    "The rationale is:\n",
    "\n",
    "-  Albums released in a decade in range `[1910-1970]` are considered as **vintage**. This is a reasonable assumption considering 1970 was 50 years ago.\n",
    "\n",
    "- Albums released in a decade in range `[1980-2000]` are considered as **modern**.\n",
    "\n",
    "- Albums released in a decade in range `[2010-2020]` are considered as **contemporary**."
   ]
  },
  {
   "cell_type": "code",
   "execution_count": 43,
   "metadata": {},
   "outputs": [],
   "source": [
    "df2['era']=pd.cut(x=df2['decade'], bins=[1910,1970,2000,2020], \n",
    "                        labels=[\"vintage\",\"modern\",\"contemporary\"])"
   ]
  },
  {
   "cell_type": "markdown",
   "metadata": {},
   "source": [
    "### 2. duration_min &rarr; dur"
   ]
  },
  {
   "cell_type": "markdown",
   "metadata": {},
   "source": [
    "Now we are going to inspect the `duration_min` variable by looking at two kind of plots:\n",
    "1. we look at the distribution of values of duration_min in our dataset according to standard quantiles (i.e. first, second and third quantile)\n",
    "2. we look at the distribution of values of duration_min according to knowledge about the musical domain. (i.e. [according to Billboard Hot 100 data \"popular songs are, on average, 3 minutes and 30 seconds long\"](https://www.musicianwave.com/whats-the-average-length-of-a-song-year/#:~:text=The%20average%20length%20of%20a%20song%20can%20change%20over%20time,minutes%20and%2030%20seconds%20long.))"
   ]
  },
  {
   "cell_type": "markdown",
   "metadata": {},
   "source": [
    "Plots with standard quantiles"
   ]
  },
  {
   "cell_type": "code",
   "execution_count": 45,
   "metadata": {},
   "outputs": [
    {
     "data": {
      "image/png": "[encoded data removed]",
      "text/plain": [
       "<Figure size 720x360 with 1 Axes>"
      ]
     },
     "metadata": {
      "needs_background": "light"
     },
     "output_type": "display_data"
    }
   ],
   "source": [
    "from matplotlib.patches import Rectangle # used for drawing colored patches\n",
    "\n",
    "fig, ax = plt.subplots(figsize = (10,5))\n",
    "cols = pal.as_hex()[:4] # save colors for labeling of quantiles\n",
    "N, bins, patches = ax.hist(df2.duration_min,bins=range(np.max(df2.duration_min)+1), edgecolor='black', linewidth=0.5)\n",
    "\n",
    "#get standard the first, second and third quantile\n",
    "quant_25, quant_50, quant_75= int(df2.duration_min.quantile(0.25)),int(df2.duration_min.quantile(0.50)),int(df2.duration_min.quantile(0.75))\n",
    "\n",
    "# color each patch with one of the colors\n",
    "for i in range(0,quant_25+1):\n",
    "    patches[i].set_facecolor(cols[0])\n",
    "for i in range(quant_25+1 ,quant_50+1):    \n",
    "    patches[i].set_facecolor(cols[1])\n",
    "for i in range(quant_50+1, quant_75+1):\n",
    "    patches[i].set_facecolor(cols[2])\n",
    "for i in range(quant_75+1, len(patches)):\n",
    "    patches[i].set_facecolor(cols[3])\n",
    "\n",
    "#create legend for labels\n",
    "handles = [Rectangle((0,0),1,1,color=c,ec=\"k\") for c in  cols]\n",
    "labels= [\"short\",\"average\",\"above average\",\"long\"] # labels we want to use for discretization\n",
    "plt.xticks(np.arange(0, max(df2.duration_min)+1, 1.0)) # set x-axis range\n",
    "plt.legend(handles, labels)\n",
    "plt.show()"
   ]
  },
  {
   "cell_type": "markdown",
   "metadata": {},
   "source": [
    "The standard quantiles of our data are not useful for assigning labels for discretization because they do not represent the distribution of songs on average.\n",
    "\n",
    "This is because we want to understand the relationship of song duration with respect to its success within music enthusiasts. So for example our hypothesis is that a song that is longer may be more critically acclaimed because it may contain long instrumental components whereas a commercial pop song has an average duration of 3 minutes and 30 seconds."
   ]
  },
  {
   "cell_type": "markdown",
   "metadata": {},
   "source": [
    "Plots with standard values for song duration:\n",
    "- a song duration below 3 minutes is considered as *short*\n",
    "- a song duration between 3 and 4 minutes is considered as *average*\n",
    "- a song duration between 4 and 6 minutes is *above average*\n",
    "- a song duration above 6 is considered as *long*"
   ]
  },
  {
   "cell_type": "code",
   "execution_count": 46,
   "metadata": {},
   "outputs": [
    {
     "data": {
      "image/png": "[encoded data removed]",
      "text/plain": [
       "<Figure size 720x360 with 1 Axes>"
      ]
     },
     "metadata": {
      "needs_background": "light"
     },
     "output_type": "display_data"
    }
   ],
   "source": [
    "from matplotlib.patches import Rectangle\n",
    "\n",
    "fig, ax = plt.subplots(figsize = (10,5))\n",
    "cols = pal.as_hex()[:4]\n",
    "N, bins, patches = ax.hist(df2.duration_min,bins=range(14), edgecolor='black', linewidth=0.5)\n",
    "\n",
    "for i in range(0,3):\n",
    "    patches[i].set_facecolor(cols[0])\n",
    "for i in range(3 ,4):    \n",
    "    patches[i].set_facecolor(cols[1])\n",
    "for i in range(4, 6):\n",
    "    patches[i].set_facecolor(cols[2])\n",
    "for i in range(6, len(patches)):\n",
    "    patches[i].set_facecolor(cols[3])\n",
    "\n",
    "handles = [Rectangle((0,0),1,1,color=c,ec=\"k\") for c in  cols]\n",
    "labels= [\"short\",\"average\",\"above average\",\"long\"]\n",
    "plt.xticks(np.arange(0, max(df2.duration_min), 1.0))\n",
    "plt.legend(handles, labels)\n",
    "plt.show()"
   ]
  },
  {
   "cell_type": "code",
   "execution_count": 47,
   "metadata": {},
   "outputs": [],
   "source": [
    "df2['dur']=pd.cut(x=df2['duration_min'],bins=[0,2,3,5,np.max(df2.duration_min)+1], \n",
    "                        labels=[\"short\",\"average\",\"above average\",\"long\"])"
   ]
  },
  {
   "cell_type": "code",
   "execution_count": 48,
   "metadata": {},
   "outputs": [],
   "source": [
    "# Drop unused columns\n",
    "df2 = df2.drop([\"decade\",\"duration_min\"],axis=1)"
   ]
  },
  {
   "cell_type": "code",
   "execution_count": 50,
   "metadata": {},
   "outputs": [
    {
     "data": {
      "text/html": [
       "<div>\n",
       "<style scoped>\n",
       "    .dataframe tbody tr th:only-of-type {\n",
       "        vertical-align: middle;\n",
       "    }\n",
       "\n",
       "    .dataframe tbody tr th {\n",
       "        vertical-align: top;\n",
       "    }\n",
       "\n",
       "    .dataframe thead th {\n",
       "        text-align: right;\n",
       "    }\n",
       "</style>\n",
       "<table border=\"1\" class=\"dataframe\">\n",
       "  <thead>\n",
       "    <tr style=\"text-align: right;\">\n",
       "      <th></th>\n",
       "      <th>track_name</th>\n",
       "      <th>artists</th>\n",
       "      <th>album</th>\n",
       "      <th>danceability</th>\n",
       "      <th>energy</th>\n",
       "      <th>loudness</th>\n",
       "      <th>speechiness</th>\n",
       "      <th>acousticness</th>\n",
       "      <th>instrumentalness</th>\n",
       "      <th>valence</th>\n",
       "      <th>tempo</th>\n",
       "      <th>critic score</th>\n",
       "      <th>popularity_normalized</th>\n",
       "      <th>era</th>\n",
       "      <th>dur</th>\n",
       "    </tr>\n",
       "  </thead>\n",
       "  <tbody>\n",
       "  </tbody>\n",
       "</table>\n",
       "</div>"
      ],
      "text/plain": [
       "Empty DataFrame\n",
       "Columns: [track_name, artists, album, danceability, energy, loudness, speechiness, acousticness, instrumentalness, valence, tempo, critic score, popularity_normalized, era, dur]\n",
       "Index: []"
      ]
     },
     "execution_count": 50,
     "metadata": {},
     "output_type": "execute_result"
    }
   ],
   "source": [
    "df2[df2.isnull().any(axis=1)] #  Check if everything is ok with the dataframe"
   ]
  },
  {
   "cell_type": "markdown",
   "metadata": {},
   "source": [
    "## Raw numerical columns"
   ]
  },
  {
   "cell_type": "markdown",
   "metadata": {},
   "source": [
    "Now we need to discretize columns for which we need to rely on pre-existing knowledge provided by the `Spotify API` or, if this is not provided, using quantiles to compute the discretization. In order to better understand these columns we need to plot the histogram for those."
   ]
  },
  {
   "cell_type": "code",
   "execution_count": 51,
   "metadata": {},
   "outputs": [
    {
     "name": "stdout",
     "output_type": "stream",
     "text": [
      "['track_name', 'artists', 'album', 'danceability', 'energy', 'loudness', 'speechiness', 'acousticness', 'instrumentalness', 'valence', 'tempo', 'critic score', 'popularity_normalized', 'era', 'dur']\n"
     ]
    }
   ],
   "source": [
    "column_list=df2.columns.tolist()\n",
    "print(df2.columns.tolist())"
   ]
  },
  {
   "cell_type": "markdown",
   "metadata": {},
   "source": [
    "We exclude the columns which were already processed (`era`,`dur`) and `'track_name', 'artists', 'album'` which are not relevant for discretization."
   ]
  },
  {
   "cell_type": "code",
   "execution_count": 52,
   "metadata": {},
   "outputs": [
    {
     "name": "stdout",
     "output_type": "stream",
     "text": [
      "['danceability', 'energy', 'loudness', 'speechiness', 'acousticness', 'instrumentalness', 'valence', 'tempo', 'critic score', 'popularity_normalized'] \n",
      "\n",
      "There are 10 columns which do not have entries with str dtype\n"
     ]
    }
   ],
   "source": [
    "non_str_col = [col for col in df2.columns if col not in ['track_name', 'artists', 'album','era', 'dur']] \n",
    "print(non_str_col, '\\n')\n",
    "print(f'There are {len(non_str_col)} columns which do not have entries with str dtype')"
   ]
  },
  {
   "cell_type": "markdown",
   "metadata": {},
   "source": [
    "Inspecting histograms for understand which columns we can plot together"
   ]
  },
  {
   "cell_type": "code",
   "execution_count": 53,
   "metadata": {},
   "outputs": [
    {
     "data": {
      "image/png": "[encoded data removed]",
      "text/plain": [
       "<Figure size 1440x720 with 10 Axes>"
      ]
     },
     "metadata": {
      "needs_background": "light"
     },
     "output_type": "display_data"
    }
   ],
   "source": [
    "_, axes = plt.subplots(nrows=2, ncols=5, figsize=(20, 10))\n",
    "axes = [axis for subl in axes for axis in subl]\n",
    "for col, ax in zip(non_str_col, axes):\n",
    "    sns.histplot(x=col, data=df2, ax=ax)\n",
    "    ax.set_xticks(np.arange(min(df2[col]), max(df2[col])+0.1, step=0.2))"
   ]
  },
  {
   "cell_type": "markdown",
   "metadata": {},
   "source": [
    "From this plot we can see that:\n",
    "\n",
    "- The `tempo` and `loudness` column have a lot of unique value therefore we will need to visualize them one by one, same can be said for `speechiness`\n",
    "- `valence`, `energy` and `danceability` have similar ranges of values\n",
    "- `instrumentalness`, `acousticness` can be looked at together because they have a lot of values stacked towards zero\n",
    "- `critic score` and `popularity` will be inspected together"
   ]
  },
  {
   "cell_type": "markdown",
   "metadata": {},
   "source": [
    "### tempo, loudness and speechiness"
   ]
  },
  {
   "cell_type": "code",
   "execution_count": 54,
   "metadata": {},
   "outputs": [],
   "source": [
    "from matplotlib import rcParams\n",
    "rcParams['figure.figsize'] = 15,10"
   ]
  },
  {
   "cell_type": "markdown",
   "metadata": {},
   "source": [
    "* **tempo**:\n",
    "The overall estimated tempo of a track in beats per minute (BPM). In musical terminology, tempo is the speed or pace of a given piece and derives directly from the average beat duration."
   ]
  },
  {
   "cell_type": "code",
   "execution_count": 55,
   "metadata": {},
   "outputs": [
    {
     "data": {
      "image/png": "[encoded data removed]",
      "text/plain": [
       "<Figure size 1080x720 with 1 Axes>"
      ]
     },
     "metadata": {
      "needs_background": "light"
     },
     "output_type": "display_data"
    }
   ],
   "source": [
    "sns.histplot(x=\"tempo\", data=df2)\n",
    "plt.xlabel(\"tempo(BPM)\")\n",
    "plt.title(\"Histogram of the tempo column\")\n",
    "plt.xticks(np.arange(min(df2[\"tempo\"]), max(df2[\"tempo\"])+9, step=9));"
   ]
  },
  {
   "cell_type": "markdown",
   "metadata": {},
   "source": [
    "From the plot we cannot deduce meaningful conclusions, therefore we will use quantiles."
   ]
  },
  {
   "cell_type": "code",
   "execution_count": 56,
   "metadata": {},
   "outputs": [
    {
     "name": "stdout",
     "output_type": "stream",
     "text": [
      "The minimum and maximum value of the tempo column are respectively 71.398 and 206.247\n"
     ]
    }
   ],
   "source": [
    "print((\"The minimum and maximum value of the tempo column are respectively {} and {}\").format(np.min(df2.tempo), np.max(df2.tempo)))"
   ]
  },
  {
   "cell_type": "code",
   "execution_count": 57,
   "metadata": {},
   "outputs": [],
   "source": [
    "quant_25_t, quant_50_t, quant_75_t= int(df2.tempo.quantile(0.25)),int(df2.tempo.quantile(0.50)),int(df2.tempo.quantile(0.75))\n",
    "df2['tem']=pd.cut(x=df2['tempo'], bins=[np.min(df2.tempo)-0.1,quant_25_t,quant_50_t,np.max(df2.tempo)], \n",
    "                        labels=[\"slow tempo\",\"medium tempo\",\"high tempo\"])"
   ]
  },
  {
   "cell_type": "markdown",
   "metadata": {},
   "source": [
    "* **loudness**: The overall loudness of a track in decibels (*dB*). Loudness values are averaged across the entire track and are useful for comparing relative loudness of tracks. Loudness is the quality of a sound that is the primary psychological correlate of physical strength (amplitude). Values typically range between -60 and 0 dB."
   ]
  },
  {
   "cell_type": "code",
   "execution_count": 58,
   "metadata": {},
   "outputs": [
    {
     "data": {
      "image/png": "[encoded data removed]",
      "text/plain": [
       "<Figure size 1080x720 with 1 Axes>"
      ]
     },
     "metadata": {
      "needs_background": "light"
     },
     "output_type": "display_data"
    }
   ],
   "source": [
    "sns.histplot(x=\"loudness\", data=df2)\n",
    "plt.title(\"Histogram of the loudness column\")\n",
    "plt.xlabel(\"loudness(dB)\")\n",
    "plt.xticks(np.arange(min(df2[\"loudness\"]), max(df2[\"loudness\"]+1.3), step=1.3));"
   ]
  },
  {
   "cell_type": "markdown",
   "metadata": {},
   "source": [
    "We cannot infer much from this plot"
   ]
  },
  {
   "cell_type": "code",
   "execution_count": 59,
   "metadata": {},
   "outputs": [],
   "source": [
    "quant_25_l, quant_50_l, quant_75_l= int(df2.loudness.quantile(0.25)),int(df2.loudness.quantile(0.50)),int(df2.loudness.quantile(0.75))\n",
    "df2['loud']=pd.cut(x=df2['loudness'], bins=[np.min(df2.loudness)-0.1,quant_25_l,quant_50_l,np.max(df2.loudness)], \n",
    "                        labels=[\"quiet\",\"average\",\"loud\"])"
   ]
  },
  {
   "cell_type": "markdown",
   "metadata": {},
   "source": [
    "### Speechiness"
   ]
  },
  {
   "cell_type": "markdown",
   "metadata": {},
   "source": [
    "* **speechiness**:\n",
    "Speechiness detects the presence of spoken words in a track. The more exclusively speech-like the recording (e.g. talk show, audio book, poetry), the closer to 1.0 the attribute value. Values *above 0.66* describe tracks that are probably made entirely of spoken words. Values *between 0.33 and 0.66* describe tracks that may contain both music and speech, either in sections or layered, including such cases as rap music. Values *below 0.33* most likely represent music and other non-speech-like tracks.\n",
    "\n"
   ]
  },
  {
   "cell_type": "code",
   "execution_count": 60,
   "metadata": {},
   "outputs": [
    {
     "data": {
      "image/png": "[encoded data removed]",
      "text/plain": [
       "<Figure size 1080x720 with 1 Axes>"
      ]
     },
     "metadata": {
      "needs_background": "light"
     },
     "output_type": "display_data"
    }
   ],
   "source": [
    "sns.histplot(x=\"speechiness\", data=df2)\n",
    "plt.xticks(np.arange(min(df2[\"speechiness\"]), max(df2[\"speechiness\"]+0.02), step=0.025));"
   ]
  },
  {
   "cell_type": "markdown",
   "metadata": {},
   "source": [
    "For the discretization of the `speechiness` variable we had to use different values than the ones provided by the `Spotify API` because the spotify API also takes into account podcasts. Insted our analysis wants to distinguish standard songs and very verbose songs."
   ]
  },
  {
   "cell_type": "markdown",
   "metadata": {},
   "source": [
    "we can see a lot of data is accumulated towards the start value therefore the variable will be binary."
   ]
  },
  {
   "cell_type": "markdown",
   "metadata": {},
   "source": [
    "We choose to split according to the second quantile because the variable has many values towards the start of the data range."
   ]
  },
  {
   "cell_type": "code",
   "execution_count": 61,
   "metadata": {},
   "outputs": [],
   "source": [
    "quant_25_s, quant_50_s, quant_75_s= round(df2.speechiness.quantile(0.25),2),round(df2.speechiness.quantile(0.50),3),round(df2.speechiness.quantile(0.75),3)\n",
    "df2['speech']=pd.cut(x=df2['speechiness'], bins=[0,quant_50_s,np.max(df2.speechiness)], \n",
    "                        labels=[\"standard word density\",\"high word density\"])"
   ]
  },
  {
   "cell_type": "code",
   "execution_count": 62,
   "metadata": {},
   "outputs": [],
   "source": [
    "df2 = df2.drop([\"speechiness\",\"loudness\",\"tempo\"],axis=1)"
   ]
  },
  {
   "cell_type": "markdown",
   "metadata": {},
   "source": [
    "## Grouped columns"
   ]
  },
  {
   "cell_type": "markdown",
   "metadata": {},
   "source": [
    "We split the data according to the division discussed above."
   ]
  },
  {
   "cell_type": "code",
   "execution_count": 63,
   "metadata": {},
   "outputs": [
    {
     "name": "stdout",
     "output_type": "stream",
     "text": [
      "['track_name', 'artists', 'album', 'danceability', 'energy', 'acousticness', 'instrumentalness', 'valence', 'critic score', 'popularity_normalized', 'era', 'dur', 'tem', 'loud', 'speech']\n"
     ]
    }
   ],
   "source": [
    "column_list = df2.columns.tolist()\n",
    "print(column_list)"
   ]
  },
  {
   "cell_type": "code",
   "execution_count": 64,
   "metadata": {},
   "outputs": [],
   "source": [
    "group1 = ['danceability', 'energy','valence']\n",
    "group2 = ['acousticness', 'instrumentalness']\n",
    "group3 = ['critic score', 'popularity_normalized']"
   ]
  },
  {
   "cell_type": "markdown",
   "metadata": {},
   "source": [
    "## Group 1: 'danceability', 'energy', 'valence'"
   ]
  },
  {
   "cell_type": "code",
   "execution_count": 65,
   "metadata": {},
   "outputs": [
    {
     "data": {
      "image/png": "[encoded data removed]",
      "text/plain": [
       "<Figure size 1080x720 with 3 Axes>"
      ]
     },
     "metadata": {
      "needs_background": "light"
     },
     "output_type": "display_data"
    }
   ],
   "source": [
    "_, axes = plt.subplots(nrows=3, ncols=1, figsize=(15, 10))\n",
    "for col, ax in zip(group1, axes):\n",
    "    sns.histplot(x=col, data=df2, ax=ax)\n",
    "    ax.set_xticks(np.arange(min(df2[col]), max(df2[col]), step=0.1))"
   ]
  },
  {
   "cell_type": "markdown",
   "metadata": {},
   "source": [
    "* **valence**:\n",
    "A measure from 0.0 to 1.0 describing the musical positiveness conveyed by a track. Tracks with *high valence* sound *more positive* (e.g. happy, cheerful, euphoric), while tracks with *low valence* sound *more negative* (e.g. sad, depressed, angry).\n"
   ]
  },
  {
   "cell_type": "code",
   "execution_count": 66,
   "metadata": {},
   "outputs": [],
   "source": [
    "quant_25_v, quant_50_v, quant_75_v= df2.valence.quantile(0.25),df2.valence.quantile(0.50),df2.valence.quantile(0.75)\n",
    "df2['val']=pd.cut(x=df2['valence'], bins=[np.min(df2.valence)-0.1,quant_25_v,quant_50_v,1], \n",
    "                        labels=[\"sad\",\"neutral\",\"euphoric\"])"
   ]
  },
  {
   "cell_type": "markdown",
   "metadata": {},
   "source": [
    "\n",
    "* **danceability**: Danceability describes how suitable a track is for dancing based on a combination of musical elements including tempo, rhythm stability, beat strength, and overall regularity. A value of 0.0 is least danceable and 1.0 is most danceable.\n",
    "\n",
    "\n"
   ]
  },
  {
   "cell_type": "code",
   "execution_count": 67,
   "metadata": {},
   "outputs": [],
   "source": [
    "quant_25_d, quant_50_d, quant_75_d= round(df2.danceability.quantile(0.25),3),round(df2.danceability.quantile(0.50),3),round(df2.danceability.quantile(0.75),3)\n",
    "df2['dan']=pd.cut(x=df2['danceability'], bins=[-1,quant_25_d,quant_50_d,1], \n",
    "                        labels=[\"low danceability\",\"standard danceability\",\"high danceability\"])"
   ]
  },
  {
   "cell_type": "markdown",
   "metadata": {},
   "source": [
    "* **energy**: is a measure from 0.0 to 1.0 and represents a perceptual measure of intensity and activity. Typically, energetic tracks feel fast, loud, and noisy. For example, death metal has high energy, while a Bach prelude scores low on the scale. Perceptual features contributing to this attribute include dynamic range, perceived loudness, timbre, onset rate, and general entropy."
   ]
  },
  {
   "cell_type": "code",
   "execution_count": 68,
   "metadata": {},
   "outputs": [],
   "source": [
    "quant_25_e, quant_50_e, quant_75_e= round(df2.energy.quantile(0.25),3),round(df2.energy.quantile(0.50),3),round(df2.energy.quantile(0.75),3)\n",
    "df2['ene']=pd.cut(x=df2['energy'], bins=[-.01,quant_25_e,quant_50_e,1], \n",
    "                        labels=[\"slow\",\"medium\",\"energic\"])"
   ]
  },
  {
   "cell_type": "code",
   "execution_count": 69,
   "metadata": {},
   "outputs": [],
   "source": [
    "df2 = df2.drop(group1,axis=1)"
   ]
  },
  {
   "cell_type": "markdown",
   "metadata": {},
   "source": [
    "## Group 2: 'acousticness', 'instrumentalness' "
   ]
  },
  {
   "cell_type": "markdown",
   "metadata": {},
   "source": [
    "These two columns are very polarized towards zero therefore a boolean discretization is required"
   ]
  },
  {
   "cell_type": "code",
   "execution_count": 70,
   "metadata": {},
   "outputs": [
    {
     "data": {
      "image/png": "[encoded data removed]",
      "text/plain": [
       "<Figure size 1080x720 with 2 Axes>"
      ]
     },
     "metadata": {
      "needs_background": "light"
     },
     "output_type": "display_data"
    }
   ],
   "source": [
    "_, axes = plt.subplots(nrows=2, ncols=1, figsize=(15, 10))\n",
    "for col, ax in zip(group2, axes):\n",
    "    sns.histplot(x=col, data=df2, ax=ax)\n",
    "    ax.set_xticks(np.arange(min(df2[col]), max(df2[col]), step=0.05))"
   ]
  },
  {
   "cell_type": "markdown",
   "metadata": {},
   "source": [
    "\n",
    "\n",
    "* **instrumentalness**: Predicts whether a track contains no vocals. \"Ooh\" and \"aah\" sounds are treated as instrumental in this context. Rap or spoken word tracks are clearly \"vocal\". The closer the instrumentalness value is to 1.0, the greater likelihood the track contains no vocal content. Values *above 0.5* are intended to represent instrumental tracks, but confidence is higher as the value approaches 1.0.\n"
   ]
  },
  {
   "cell_type": "code",
   "execution_count": 71,
   "metadata": {},
   "outputs": [],
   "source": [
    "quant_25_i, quant_50_i, quant_75_i= df2.instrumentalness.quantile(0.25),round(df2.instrumentalness.quantile(0.50),4),round(df2.instrumentalness.quantile(0.75),4)\n",
    "df2['instr']=pd.cut(x=df2['instrumentalness'], bins=[-.01,quant_50_i,np.max(df2.instrumentalness)], \n",
    "                        labels=[\"not instrumental\",\"instrumental\"])\n",
    "# this column has been discretizated as boolean "
   ]
  },
  {
   "cell_type": "markdown",
   "metadata": {},
   "source": [
    "* **acousticness**: A confidence measure from 0.0 to 1.0 of whether the track is acoustic. 1.0 represents high confidence the track is acoustic.\n"
   ]
  },
  {
   "cell_type": "code",
   "execution_count": 72,
   "metadata": {},
   "outputs": [],
   "source": [
    "quant_25_a, quant_50_a, quant_75_a= round(df2.acousticness.quantile(0.25),3),round(df2.acousticness.quantile(0.50),3),round(df2.acousticness.quantile(0.75),3)\n",
    "df2['aco']=pd.cut(x=df2['acousticness'], bins=[-.01,quant_50_a,1], \n",
    "                        labels=[\"not acoustic\",\"acoustic\"]) \n",
    "# this column has been discretizated as boolean "
   ]
  },
  {
   "cell_type": "code",
   "execution_count": 73,
   "metadata": {},
   "outputs": [],
   "source": [
    "df2 =df2.drop(group2,axis=1)"
   ]
  },
  {
   "cell_type": "markdown",
   "metadata": {},
   "source": [
    "## Group 3: 'Popularity', 'Critic score'"
   ]
  },
  {
   "cell_type": "markdown",
   "metadata": {},
   "source": [
    "* **Popularity**: The popularity of the track. The value will be between 0 and 100, with 100 being the most popular. \n",
    "The popularity of a track is a value between 0 and 100, with 100 being the most popular. The popularity is calculated by algorithm and is based, in the most part, on the total number of plays the track has had and how recent those plays are. \n",
    "Generally speaking, songs that are being played a lot now will have a higher popularity than songs that were played a lot in the past. Duplicate tracks (e.g. the same track from a single and an album) are rated independently. Artist and album popularity is derived mathematically from track popularity"
   ]
  },
  {
   "cell_type": "code",
   "execution_count": 74,
   "metadata": {},
   "outputs": [
    {
     "data": {
      "image/png": "[encoded data removed]",
      "text/plain": [
       "<Figure size 1080x720 with 2 Axes>"
      ]
     },
     "metadata": {
      "needs_background": "light"
     },
     "output_type": "display_data"
    }
   ],
   "source": [
    "_, axes = plt.subplots(nrows=2, ncols=1, figsize=(15, 10))\n",
    "for col, ax in zip(group3, axes):\n",
    "    sns.histplot(x=col, data=df2, ax=ax)\n",
    "    ax.set_xticks(np.arange(min(df2[col]), max(df2[col]), step=0.05))"
   ]
  },
  {
   "cell_type": "code",
   "execution_count": 75,
   "metadata": {},
   "outputs": [],
   "source": [
    "quant_25_p, quant_50_p, quant_75_p= df2.popularity_normalized.quantile(0.25),df2.popularity_normalized.quantile(0.50),df2.popularity_normalized.quantile(0.75)\n",
    "df2['pop']=pd.cut(x=df2['popularity_normalized'], bins=[-.01,quant_25_p,quant_50_p,1], \n",
    "                        labels=[\"low popularity\",\"standard popularity\",\"high popularity\"])"
   ]
  },
  {
   "cell_type": "code",
   "execution_count": 76,
   "metadata": {},
   "outputs": [],
   "source": [
    "quant_25_c, quant_50_c, quant_75_c= round(df2['critic score'].quantile(0.25),2),round(df2['critic score'].quantile(0.50),2),round(df2['critic score'].quantile(0.75),2)\n",
    "df2['crit']=pd.cut(x=df2['critic score'], bins=[-.01,quant_25_c,quant_50_c,1], \n",
    "                        labels=[\"low critically score\",\"average critical score\",\"high critical score\"])"
   ]
  },
  {
   "cell_type": "code",
   "execution_count": 77,
   "metadata": {},
   "outputs": [],
   "source": [
    "strings = [\"track_name\",\"artists\",\"album\"]"
   ]
  },
  {
   "cell_type": "code",
   "execution_count": 78,
   "metadata": {},
   "outputs": [
    {
     "data": {
      "text/html": [
       "<div>\n",
       "<style scoped>\n",
       "    .dataframe tbody tr th:only-of-type {\n",
       "        vertical-align: middle;\n",
       "    }\n",
       "\n",
       "    .dataframe tbody tr th {\n",
       "        vertical-align: top;\n",
       "    }\n",
       "\n",
       "    .dataframe thead th {\n",
       "        text-align: right;\n",
       "    }\n",
       "</style>\n",
       "<table border=\"1\" class=\"dataframe\">\n",
       "  <thead>\n",
       "    <tr style=\"text-align: right;\">\n",
       "      <th></th>\n",
       "      <th>era</th>\n",
       "      <th>dur</th>\n",
       "      <th>tem</th>\n",
       "      <th>loud</th>\n",
       "      <th>speech</th>\n",
       "      <th>val</th>\n",
       "      <th>dan</th>\n",
       "      <th>ene</th>\n",
       "      <th>instr</th>\n",
       "      <th>aco</th>\n",
       "      <th>pop</th>\n",
       "      <th>crit</th>\n",
       "    </tr>\n",
       "  </thead>\n",
       "  <tbody>\n",
       "    <tr>\n",
       "      <th>0</th>\n",
       "      <td>contemporary</td>\n",
       "      <td>average</td>\n",
       "      <td>high tempo</td>\n",
       "      <td>loud</td>\n",
       "      <td>standard word density</td>\n",
       "      <td>euphoric</td>\n",
       "      <td>low danceability</td>\n",
       "      <td>medium</td>\n",
       "      <td>not instrumental</td>\n",
       "      <td>acoustic</td>\n",
       "      <td>standard popularity</td>\n",
       "      <td>high critical score</td>\n",
       "    </tr>\n",
       "    <tr>\n",
       "      <th>1</th>\n",
       "      <td>contemporary</td>\n",
       "      <td>average</td>\n",
       "      <td>medium tempo</td>\n",
       "      <td>average</td>\n",
       "      <td>standard word density</td>\n",
       "      <td>neutral</td>\n",
       "      <td>standard danceability</td>\n",
       "      <td>slow</td>\n",
       "      <td>not instrumental</td>\n",
       "      <td>acoustic</td>\n",
       "      <td>low popularity</td>\n",
       "      <td>high critical score</td>\n",
       "    </tr>\n",
       "    <tr>\n",
       "      <th>2</th>\n",
       "      <td>vintage</td>\n",
       "      <td>long</td>\n",
       "      <td>high tempo</td>\n",
       "      <td>quiet</td>\n",
       "      <td>high word density</td>\n",
       "      <td>euphoric</td>\n",
       "      <td>standard danceability</td>\n",
       "      <td>medium</td>\n",
       "      <td>not instrumental</td>\n",
       "      <td>acoustic</td>\n",
       "      <td>high popularity</td>\n",
       "      <td>high critical score</td>\n",
       "    </tr>\n",
       "    <tr>\n",
       "      <th>3</th>\n",
       "      <td>modern</td>\n",
       "      <td>long</td>\n",
       "      <td>medium tempo</td>\n",
       "      <td>quiet</td>\n",
       "      <td>standard word density</td>\n",
       "      <td>sad</td>\n",
       "      <td>low danceability</td>\n",
       "      <td>slow</td>\n",
       "      <td>instrumental</td>\n",
       "      <td>acoustic</td>\n",
       "      <td>high popularity</td>\n",
       "      <td>high critical score</td>\n",
       "    </tr>\n",
       "    <tr>\n",
       "      <th>4</th>\n",
       "      <td>modern</td>\n",
       "      <td>above average</td>\n",
       "      <td>high tempo</td>\n",
       "      <td>average</td>\n",
       "      <td>high word density</td>\n",
       "      <td>sad</td>\n",
       "      <td>low danceability</td>\n",
       "      <td>energic</td>\n",
       "      <td>instrumental</td>\n",
       "      <td>not acoustic</td>\n",
       "      <td>high popularity</td>\n",
       "      <td>high critical score</td>\n",
       "    </tr>\n",
       "  </tbody>\n",
       "</table>\n",
       "</div>"
      ],
      "text/plain": [
       "            era            dur           tem     loud                 speech  \\\n",
       "0  contemporary        average    high tempo     loud  standard word density   \n",
       "1  contemporary        average  medium tempo  average  standard word density   \n",
       "2       vintage           long    high tempo    quiet      high word density   \n",
       "3        modern           long  medium tempo    quiet  standard word density   \n",
       "4        modern  above average    high tempo  average      high word density   \n",
       "\n",
       "        val                    dan      ene             instr           aco  \\\n",
       "0  euphoric       low danceability   medium  not instrumental      acoustic   \n",
       "1   neutral  standard danceability     slow  not instrumental      acoustic   \n",
       "2  euphoric  standard danceability   medium  not instrumental      acoustic   \n",
       "3       sad       low danceability     slow      instrumental      acoustic   \n",
       "4       sad       low danceability  energic      instrumental  not acoustic   \n",
       "\n",
       "                   pop                 crit  \n",
       "0  standard popularity  high critical score  \n",
       "1       low popularity  high critical score  \n",
       "2      high popularity  high critical score  \n",
       "3      high popularity  high critical score  \n",
       "4      high popularity  high critical score  "
      ]
     },
     "execution_count": 78,
     "metadata": {},
     "output_type": "execute_result"
    }
   ],
   "source": [
    "df3 = df2.drop(group3+strings, axis=1) #drop columns no longer of use\n",
    "df3.head()"
   ]
  },
  {
   "cell_type": "markdown",
   "metadata": {},
   "source": [
    "# Network structure"
   ]
  },
  {
   "cell_type": "markdown",
   "metadata": {},
   "source": [
    "In order to restrict the scope of the project columns which are irrelevant and are too specific\n",
    "to handle only attributes that have been considered particularly relevant were considered. "
   ]
  },
  {
   "cell_type": "markdown",
   "metadata": {},
   "source": [
    "From the preprocessing we have obtained the following discretization, the variables name have been shortened to make the network more compact. A description of each abbreviation for readibility."
   ]
  },
  {
   "cell_type": "markdown",
   "metadata": {},
   "source": [
    "- year &rarr; 'era',\n",
    "- duration_ms &rarr; 'dur',\n",
    "- instrumentalness &rarr; 'instr',\n",
    "- speechiness &rarr; 'speech',\n",
    "- valence &rarr; 'val',\n",
    "- danceability &rarr; 'dan',\n",
    "- acousticness &rarr; 'aco',\n",
    "- popularity &rarr; 'pop',\n",
    "- critic score &rarr; 'crit',\n",
    "- tempo &rarr; 'tem',\n",
    "- loudness &rarr; 'loud',\n",
    "- energy &rarr; 'ene'"
   ]
  },
  {
   "cell_type": "markdown",
   "metadata": {},
   "source": [
    "Connections between nodes have been implemented firstly by looking at correlation between columns and by reasoning about independence and relationship between variables.   "
   ]
  },
  {
   "cell_type": "markdown",
   "metadata": {},
   "source": [
    "# Bayesian network example\n"
   ]
  },
  {
   "cell_type": "markdown",
   "metadata": {},
   "source": [
    "### Analyzing the network"
   ]
  },
  {
   "cell_type": "code",
   "execution_count": 79,
   "metadata": {},
   "outputs": [],
   "source": [
    "from pgmpy.models import BayesianModel "
   ]
  },
  {
   "cell_type": "code",
   "execution_count": 80,
   "metadata": {},
   "outputs": [],
   "source": [
    "import daft\n",
    "import matplotlib.pyplot as plt\n",
    "from daft import PGM"
   ]
  },
  {
   "cell_type": "code",
   "execution_count": 81,
   "metadata": {},
   "outputs": [
    {
     "data": {
      "image/png": "[encoded data removed]",
      "text/plain": [
       "<Figure size 590.551x590.551 with 1 Axes>"
      ]
     },
     "metadata": {},
     "output_type": "display_data"
    }
   ],
   "source": [
    "pgm = daft.PGM(aspect=1.23,directed=True,dpi=150,shape=[5,5])\n",
    "plt.rcParams[\"figure.facecolor\"] = \"w\"\n",
    "\n",
    "# Defining the nodes\n",
    "\n",
    "pgm.add_node(daft.Node('speech', r\"spe\", 2, 5))\n",
    "pgm.add_node(daft.Node('aco', r\"aco\", 4, 5))\n",
    "pgm.add_node(daft.Node('val', r\"val\", 3,5))\n",
    "\n",
    "pgm.add_node(daft.Node('instr', r\"instr\", 1, 4))\n",
    "pgm.add_node(daft.Node('loud', r\"loud\", 4, 4))\n",
    "\n",
    "pgm.add_node(daft.Node('tem', r\"tem\", 3, 3))\n",
    "pgm.add_node(daft.Node('ene', r\"ene\", 4, 2))\n",
    "pgm.add_node(daft.Node('dan', r\"dan\", 2, 2))\n",
    "pgm.add_node(daft.Node('era', r\"era\", 1, 2))\n",
    "pgm.add_node(daft.Node('dur', r\"dur\", 5, 2))\n",
    "\n",
    "\n",
    "pgm.add_node(daft.Node('pop', r\"pop\", 2, 1))\n",
    "pgm.add_node(daft.Node('crit', r\"crit\", 4, 1))\n",
    "\n",
    "#edges\n",
    "\n",
    "pgm.add_edge('instr', 'tem')\n",
    "pgm.add_edge('speech', 'instr')\n",
    "pgm.add_edge('speech', 'loud')\n",
    "pgm.add_edge('speech', 'dan')\n",
    "\n",
    "pgm.add_edge('aco', 'loud')\n",
    "pgm.add_edge('val', 'dan')\n",
    "pgm.add_edge('val', 'ene')\n",
    "\n",
    "pgm.add_edge('loud', 'ene')\n",
    "pgm.add_edge('tem', 'ene')\n",
    "pgm.add_edge('tem', 'dan')\n",
    "\n",
    "pgm.add_edge('dan', 'pop')\n",
    "pgm.add_edge('dan', 'crit')\n",
    "pgm.add_edge('ene', 'crit')\n",
    "pgm.add_edge('dur', 'crit')\n",
    "pgm.add_edge('era', 'crit')\n",
    "pgm.add_edge('era', 'pop')\n",
    "pgm.add_edge('ene', 'crit')\n",
    "pgm.add_edge('ene', 'pop')\n",
    "pgm.add_edge('dur', 'pop')\n",
    "\n",
    "pgm.add_plate([1.5,0.5,3, 1],label=r\"Target variables \",shift=-0.1,label_offset=[50,5],rect_params={\"ec\":\"red\"})\n",
    "pgm.render()\n",
    "plt.show()"
   ]
  },
  {
   "cell_type": "markdown",
   "metadata": {},
   "source": [
    "# Network analysis"
   ]
  },
  {
   "cell_type": "markdown",
   "id": "5df5769b",
   "metadata": {},
   "source": [
    "To build network's connections, 3 approaches were used:\n",
    "\n",
    "- Previous domain knowledge\n",
    "- Correlation between-nodes  \n",
    "- Both above-mentioned approaches"
   ]
  },
  {
   "cell_type": "markdown",
   "id": "841c8e64",
   "metadata": {},
   "source": [
    "### Previous domain knowledge based connections:\n",
    "\n",
    "| Ancestor Node | Descendant Node |\n",
    "| ----------- | ----------- |\n",
    "| Instrumentalness | Tempo |\n",
    "| Era | Popularity |\n",
    "| Era | Critic Score |\n",
    "| Danceability | Critic Score |\n",
    "| Energy | Popularity |\n",
    "| Energy | Critic Score |\n",
    "| Duration | Critic Score |"
   ]
  },
  {
   "cell_type": "markdown",
   "metadata": {},
   "source": [
    "The connection between `Instrumentalness` and `Tempo` is suggested by the fact that if a song is instrumental then it will probably be slower implying lower BPM. \\\n",
    "The fourth and sixth connections are given by the importance that `Danceability` and `Energy` have in determing the experts' judgement thus determining the `Critic Score`."
   ]
  },
  {
   "cell_type": "markdown",
   "id": "18b7b46c",
   "metadata": {},
   "source": [
    "### Correlation between-nodes based connections:\n",
    "\n",
    "| Ancestor Node | Descendant Node | Correlation |\n",
    "| ----------- | ----------- | ----------- |\n",
    "| Valence | Danceability | high (0.48) |\n",
    "| Valence | Energy | high (0.31) |\n",
    "| Loudness | Energy | very high (0.76) |"
   ]
  },
  {
   "cell_type": "markdown",
   "metadata": {},
   "source": [
    "In this case we had no idea of `valence`'s importance in determining a track's `danceability` and `energy`. These connections were completely suggested by high correlation."
   ]
  },
  {
   "cell_type": "markdown",
   "id": "0225efec",
   "metadata": {},
   "source": [
    "### Between-nodes Correlation + Previous domain knowledge based connections:\n",
    "\n",
    "| Ancestor Node | Descendant Node | Correlation |\n",
    "| ----------- | ----------- | ----------- |\n",
    "| Speechiness | Danceability | slight (0.23) |\n",
    "| Speechiness | Loudness | high (0.25) |\n",
    "| Speechiness | Instrumentalness | slight (0.18) |\n",
    "| Acousticness | Loudness | high (0.48) |\n",
    "| Tempo | Danceability | high (0.25) |\n",
    "| Tempo | Energy | slight (0.15) |\n",
    "| Danceability | Popularity | high (0.25) |\n",
    "| Duration | Popularity | slight (0.23) |"
   ]
  },
  {
   "cell_type": "markdown",
   "metadata": {},
   "source": [
    "We decided to keep those couples with correlation below our minimum (`0.18`) due to their association suggested by previous knowledge in musical domain. In fact, we know how `tempo` is really important in determining a track's `energy`."
   ]
  },
  {
   "cell_type": "markdown",
   "metadata": {},
   "source": [
    "## Model creation"
   ]
  },
  {
   "cell_type": "markdown",
   "metadata": {},
   "source": [
    "Create bayesian model from the daft PGM model"
   ]
  },
  {
   "cell_type": "code",
   "execution_count": 82,
   "metadata": {},
   "outputs": [],
   "source": [
    "def convert_pgm_to_pgmpy(pgm):\n",
    "    \"\"\"Takes a Daft PGM object and converts it to a pgmpy BayesianModel\"\"\"\n",
    "    edges = [(edge.node1.name, edge.node2.name) for edge in pgm._edges]\n",
    "    model = BayesianModel(edges)\n",
    "    return model"
   ]
  },
  {
   "cell_type": "code",
   "execution_count": 83,
   "metadata": {},
   "outputs": [],
   "source": [
    "model = convert_pgm_to_pgmpy(pgm)"
   ]
  },
  {
   "cell_type": "code",
   "execution_count": 84,
   "metadata": {},
   "outputs": [
    {
     "data": {
      "text/plain": [
       "NodeView(('instr', 'tem', 'speech', 'loud', 'dan', 'aco', 'val', 'ene', 'pop', 'crit', 'dur', 'era'))"
      ]
     },
     "execution_count": 84,
     "metadata": {},
     "output_type": "execute_result"
    }
   ],
   "source": [
    "model.nodes() # displaying model's nodes"
   ]
  },
  {
   "cell_type": "code",
   "execution_count": 85,
   "metadata": {},
   "outputs": [
    {
     "data": {
      "text/plain": [
       "OutEdgeView([('instr', 'tem'), ('tem', 'ene'), ('tem', 'dan'), ('speech', 'instr'), ('speech', 'loud'), ('speech', 'dan'), ('loud', 'ene'), ('dan', 'pop'), ('dan', 'crit'), ('aco', 'loud'), ('val', 'dan'), ('val', 'ene'), ('ene', 'crit'), ('ene', 'pop'), ('dur', 'crit'), ('dur', 'pop'), ('era', 'crit'), ('era', 'pop')])"
      ]
     },
     "execution_count": 85,
     "metadata": {},
     "output_type": "execute_result"
    }
   ],
   "source": [
    "model.edges() # displaying edges between nodes"
   ]
  },
  {
   "cell_type": "markdown",
   "metadata": {},
   "source": [
    "#### Local independecies"
   ]
  },
  {
   "cell_type": "code",
   "execution_count": 86,
   "metadata": {},
   "outputs": [
    {
     "name": "stdout",
     "output_type": "stream",
     "text": [
      "node instr ==> (instr ⟂ dur, val, aco, era, loud | speech)\n",
      "node tem ==> (tem ⟂ dur, val, aco, era, speech, loud | instr)\n",
      "node speech ==> (speech ⟂ dur, aco, val, era)\n",
      "node loud ==> (loud ⟂ dur, tem, instr, val, era, dan | aco, speech)\n",
      "node dan ==> (dan ⟂ dur, instr, aco, era, loud, ene | val, tem, speech)\n",
      "node aco ==> (aco ⟂ dur, tem, instr, val, era, speech, dan)\n",
      "node val ==> (val ⟂ dur, instr, aco, tem, era, speech, loud)\n",
      "node ene ==> (ene ⟂ dur, instr, aco, era, speech, dan | loud, val, tem)\n",
      "node pop ==> (pop ⟂ instr, val, aco, tem, speech, loud, crit | era, dur, ene, dan)\n",
      "node crit ==> (crit ⟂ pop, instr, val, aco, tem, speech, loud | dur, era, ene, dan)\n",
      "node dur ==> (dur ⟂ aco, ene, tem, instr, val, era, speech, loud, dan)\n",
      "node era ==> (era ⟂ dur, aco, ene, tem, instr, val, speech, loud, dan)\n"
     ]
    }
   ],
   "source": [
    "for node in model.nodes():\n",
    "    print(f\"node {node} ==> {model.local_independencies(node)}\")"
   ]
  },
  {
   "cell_type": "markdown",
   "metadata": {},
   "source": [
    "In the above cell are printed all the local independencies for each of the node of the network. We can see that by fixing the value for some nodes we can stop the flow of influence between other nodes.\n",
    "\n",
    "For example if we fix the `speechiness` of a song its `instrumentalness` is independent of [loud, era, dur, val, aco] because if we know the speechiness of the song the flow of influence to  these variables is interrupted .\n",
    "\n",
    "\n",
    "Another example is the node `dan`, if we have pre-acquired knowledge of the nodes `val, tem, speech` the flow of influences to ` instr,loud, ene`"
   ]
  },
  {
   "cell_type": "markdown",
   "metadata": {},
   "source": [
    "#### Directly connected nodes"
   ]
  },
  {
   "cell_type": "markdown",
   "metadata": {},
   "source": [
    "Checking d-separation between variables first with no evidence and then by providing evidence"
   ]
  },
  {
   "cell_type": "markdown",
   "metadata": {},
   "source": [
    "Metti accenno teorico"
   ]
  },
  {
   "cell_type": "code",
   "execution_count": 91,
   "metadata": {},
   "outputs": [
    {
     "name": "stdout",
     "output_type": "stream",
     "text": [
      "True\n",
      "False\n"
     ]
    }
   ],
   "source": [
    "print(model.is_dconnected(\"ene\", \"aco\")) \n",
    "print(model.is_dconnected(\"ene\", \"aco\",observed=[\"loud\",\"val\",\"tem\"] )) #blocking all paths to aco"
   ]
  },
  {
   "cell_type": "markdown",
   "metadata": {},
   "source": [
    "#### Active trail nodes"
   ]
  },
  {
   "cell_type": "code",
   "execution_count": 92,
   "metadata": {},
   "outputs": [
    {
     "data": {
      "text/plain": [
       "{'ene': {'crit', 'dan', 'ene', 'pop', 'val'}}"
      ]
     },
     "execution_count": 92,
     "metadata": {},
     "output_type": "execute_result"
    }
   ],
   "source": [
    "# Checking active trails from energy  given the evidence danceability\n",
    "model.active_trail_nodes('ene', observed=['speech','tem','loud'])"
   ]
  },
  {
   "cell_type": "markdown",
   "metadata": {},
   "source": [
    "Through the observed field we blocked some of the paths that can reach the node `ene` while letting others through. We can observe that:\n",
    "\n",
    "* `pop` and `crit`  can reach energy from the path immediately below\n",
    "* `val` can reach energy from the path immediately above\n",
    "* `dan` can reach energy from only `val` because the path through `speech` and `tem` have been blocked by fixing the nodes."
   ]
  },
  {
   "cell_type": "code",
   "execution_count": 90,
   "metadata": {},
   "outputs": [
    {
     "data": {
      "text/plain": [
       "['ene', 'instr', 'val', 'speech', 'loud', 'dan']"
      ]
     },
     "execution_count": 90,
     "metadata": {},
     "output_type": "execute_result"
    }
   ],
   "source": [
    "# Checking the markov blanket of the node ene\n",
    "model.get_markov_blanket(\"tem\") "
   ]
  },
  {
   "cell_type": "markdown",
   "metadata": {},
   "source": [
    "The markov blanket of `tem` is composed by:\n",
    "- parents: `instr`\n",
    "- children: `dan`,`ene`\n",
    "- children's parents: `speech`,`val`,`loud`  "
   ]
  },
  {
   "cell_type": "markdown",
   "metadata": {},
   "source": [
    "### Parameter learning"
   ]
  },
  {
   "cell_type": "markdown",
   "metadata": {},
   "source": [
    "In this section we estimate the CPDs"
   ]
  },
  {
   "cell_type": "code",
   "execution_count": 93,
   "metadata": {},
   "outputs": [
    {
     "name": "stdout",
     "output_type": "stream",
     "text": [
      "CPT of instr:\n",
      "+-------------------------+-----+-------------------------------+\n",
      "| speech                  | ... | speech(standard word density) |\n",
      "+-------------------------+-----+-------------------------------+\n",
      "| instr(instrumental)     | ... | 0.5600375234521576            |\n",
      "+-------------------------+-----+-------------------------------+\n",
      "| instr(not instrumental) | ... | 0.4399624765478424            |\n",
      "+-------------------------+-----+-------------------------------+ \n",
      "\n",
      "CPT of tem:\n",
      "+-------------------+---------------------+-------------------------+\n",
      "| instr             | instr(instrumental) | instr(not instrumental) |\n",
      "+-------------------+---------------------+-------------------------+\n",
      "| tem(high tempo)   | 0.5465187923598275  | 0.45779420825631545     |\n",
      "+-------------------+---------------------+-------------------------+\n",
      "| tem(medium tempo) | 0.24337646333949475 | 0.2803450400492914      |\n",
      "+-------------------+---------------------+-------------------------+\n",
      "| tem(slow tempo)   | 0.21010474430067777 | 0.2618607516943931      |\n",
      "+-------------------+---------------------+-------------------------+ \n",
      "\n",
      "CPT of speech:\n",
      "+-------------------------------+----------+\n",
      "| speech(high word density)     | 0.507394 |\n",
      "+-------------------------------+----------+\n",
      "| speech(standard word density) | 0.492606 |\n",
      "+-------------------------------+----------+ \n",
      "\n",
      "CPT of loud:\n",
      "+---------------+-----+-------------------------------+\n",
      "| aco           | ... | aco(not acoustic)             |\n",
      "+---------------+-----+-------------------------------+\n",
      "| speech        | ... | speech(standard word density) |\n",
      "+---------------+-----+-------------------------------+\n",
      "| loud(average) | ... | 0.27885304659498206           |\n",
      "+---------------+-----+-------------------------------+\n",
      "| loud(loud)    | ... | 0.46810035842293907           |\n",
      "+---------------+-----+-------------------------------+\n",
      "| loud(quiet)   | ... | 0.2530465949820789            |\n",
      "+---------------+-----+-------------------------------+ \n",
      "\n",
      "CPT of dan:\n",
      "+----------------------------+-----+-------------------------------+\n",
      "| speech                     | ... | speech(standard word density) |\n",
      "+----------------------------+-----+-------------------------------+\n",
      "| tem                        | ... | tem(slow tempo)               |\n",
      "+----------------------------+-----+-------------------------------+\n",
      "| val                        | ... | val(sad)                      |\n",
      "+----------------------------+-----+-------------------------------+\n",
      "| dan(high danceability)     | ... | 0.3333333333333333            |\n",
      "+----------------------------+-----+-------------------------------+\n",
      "| dan(low danceability)      | ... | 0.42732811140121846           |\n",
      "+----------------------------+-----+-------------------------------+\n",
      "| dan(standard danceability) | ... | 0.2393385552654482            |\n",
      "+----------------------------+-----+-------------------------------+ \n",
      "\n",
      "CPT of aco:\n",
      "+-------------------+-----+\n",
      "| aco(acoustic)     | 0.5 |\n",
      "+-------------------+-----+\n",
      "| aco(not acoustic) | 0.5 |\n",
      "+-------------------+-----+ \n",
      "\n",
      "CPT of val:\n",
      "+---------------+----------+\n",
      "| val(euphoric) | 0.49846  |\n",
      "+---------------+----------+\n",
      "| val(neutral)  | 0.248922 |\n",
      "+---------------+----------+\n",
      "| val(sad)      | 0.252619 |\n",
      "+---------------+----------+ \n",
      "\n",
      "CPT of ene:\n",
      "+--------------+-----+---------------------+\n",
      "| loud         | ... | loud(quiet)         |\n",
      "+--------------+-----+---------------------+\n",
      "| tem          | ... | tem(slow tempo)     |\n",
      "+--------------+-----+---------------------+\n",
      "| val          | ... | val(sad)            |\n",
      "+--------------+-----+---------------------+\n",
      "| ene(energic) | ... | 0.13577235772357724 |\n",
      "+--------------+-----+---------------------+\n",
      "| ene(medium)  | ... | 0.13577235772357724 |\n",
      "+--------------+-----+---------------------+\n",
      "| ene(slow)    | ... | 0.7284552845528456  |\n",
      "+--------------+-----+---------------------+ \n",
      "\n",
      "CPT of pop:\n",
      "+--------------------------+-----+----------------------------+\n",
      "| dan                      | ... | dan(standard danceability) |\n",
      "+--------------------------+-----+----------------------------+\n",
      "| dur                      | ... | dur(short)                 |\n",
      "+--------------------------+-----+----------------------------+\n",
      "| ene                      | ... | ene(slow)                  |\n",
      "+--------------------------+-----+----------------------------+\n",
      "| era                      | ... | era(vintage)               |\n",
      "+--------------------------+-----+----------------------------+\n",
      "| pop(high popularity)     | ... | 0.3333333333333333         |\n",
      "+--------------------------+-----+----------------------------+\n",
      "| pop(low popularity)      | ... | 0.3333333333333333         |\n",
      "+--------------------------+-----+----------------------------+\n",
      "| pop(standard popularity) | ... | 0.3333333333333333         |\n",
      "+--------------------------+-----+----------------------------+ \n",
      "\n",
      "CPT of crit:\n",
      "+------------------------------+-----+----------------------------+\n",
      "| dan                          | ... | dan(standard danceability) |\n",
      "+------------------------------+-----+----------------------------+\n",
      "| dur                          | ... | dur(short)                 |\n",
      "+------------------------------+-----+----------------------------+\n",
      "| ene                          | ... | ene(slow)                  |\n",
      "+------------------------------+-----+----------------------------+\n",
      "| era                          | ... | era(vintage)               |\n",
      "+------------------------------+-----+----------------------------+\n",
      "| crit(average critical score) | ... | 0.3333333333333333         |\n",
      "+------------------------------+-----+----------------------------+\n",
      "| crit(high critical score)    | ... | 0.3333333333333333         |\n",
      "+------------------------------+-----+----------------------------+\n",
      "| crit(low critically score)   | ... | 0.3333333333333333         |\n",
      "+------------------------------+-----+----------------------------+ \n",
      "\n",
      "CPT of dur:\n",
      "+--------------------+-----------+\n",
      "| dur(above average) | 0.503235  |\n",
      "+--------------------+-----------+\n",
      "| dur(average)       | 0.227819  |\n",
      "+--------------------+-----------+\n",
      "| dur(long)          | 0.227819  |\n",
      "+--------------------+-----------+\n",
      "| dur(short)         | 0.0411275 |\n",
      "+--------------------+-----------+ \n",
      "\n",
      "CPT of era:\n",
      "+-------------------+----------+\n",
      "| era(contemporary) | 0.204559 |\n",
      "+-------------------+----------+\n",
      "| era(modern)       | 0.505853 |\n",
      "+-------------------+----------+\n",
      "| era(vintage)      | 0.289587 |\n",
      "+-------------------+----------+ \n",
      "\n"
     ]
    }
   ],
   "source": [
    "from pgmpy.estimators import BayesianEstimator\n",
    "\n",
    "model.cpds = []\n",
    "model.fit(data=df3, estimator=BayesianEstimator, prior_type=\"BDeu\")\n",
    "\n",
    "for cpd in model.get_cpds():\n",
    "    print(f'CPT of {cpd.variable}:')\n",
    "    print(cpd, '\\n')"
   ]
  },
  {
   "cell_type": "code",
   "execution_count": 94,
   "metadata": {},
   "outputs": [
    {
     "data": {
      "text/plain": [
       "True"
      ]
     },
     "execution_count": 94,
     "metadata": {},
     "output_type": "execute_result"
    }
   ],
   "source": [
    "# Checking the validity of the model \n",
    "model.check_model()"
   ]
  },
  {
   "cell_type": "code",
   "execution_count": 95,
   "metadata": {},
   "outputs": [
    {
     "data": {
      "text/plain": [
       "defaultdict(int,\n",
       "            {'instr': 2,\n",
       "             'tem': 3,\n",
       "             'speech': 2,\n",
       "             'loud': 3,\n",
       "             'dan': 3,\n",
       "             'aco': 2,\n",
       "             'val': 3,\n",
       "             'ene': 3,\n",
       "             'pop': 3,\n",
       "             'crit': 3,\n",
       "             'dur': 4,\n",
       "             'era': 3})"
      ]
     },
     "execution_count": 95,
     "metadata": {},
     "output_type": "execute_result"
    }
   ],
   "source": [
    "#Cardinality of all model nodes\n",
    "model.get_cardinality()"
   ]
  },
  {
   "cell_type": "markdown",
   "metadata": {},
   "source": [
    "We can see we have high cardinality for variables, this was a modeling choice to capture the nuances of some variables that could not be simply casted to boolean and needed to be discretized in a way that captured the complexity of the data. "
   ]
  },
  {
   "cell_type": "markdown",
   "metadata": {},
   "source": [
    "##  Inferences"
   ]
  },
  {
   "cell_type": "markdown",
   "metadata": {},
   "source": [
    "###  Exact Inference"
   ]
  },
  {
   "cell_type": "code",
   "execution_count": 96,
   "metadata": {},
   "outputs": [],
   "source": [
    "from pgmpy.inference import VariableElimination\n",
    "infer = VariableElimination(model)"
   ]
  },
  {
   "cell_type": "markdown",
   "metadata": {},
   "source": [
    "#### Casual inference"
   ]
  },
  {
   "cell_type": "markdown",
   "metadata": {},
   "source": [
    "Will a song be critically acclaimed depending on its danceability if we know it is slow?"
   ]
  },
  {
   "cell_type": "code",
   "execution_count": 97,
   "metadata": {},
   "outputs": [
    {
     "name": "stdout",
     "output_type": "stream",
     "text": [
      "+--------------------------+------------+\n",
      "| pop                      |   phi(pop) |\n",
      "+==========================+============+\n",
      "| pop(high popularity)     |     0.4420 |\n",
      "+--------------------------+------------+\n",
      "| pop(low popularity)      |     0.3120 |\n",
      "+--------------------------+------------+\n",
      "| pop(standard popularity) |     0.2459 |\n",
      "+--------------------------+------------+\n"
     ]
    }
   ],
   "source": [
    "#Causal inference:  predicting will the song be popular if it is highly danceable but with a highly instrumental component? \n",
    "print(infer.query([\"pop\"],evidence={\"val\": \"sad\", \"tem\": \"high tempo\"}))"
   ]
  },
  {
   "cell_type": "markdown",
   "metadata": {},
   "source": [
    "#### Evidential inference\n"
   ]
  },
  {
   "cell_type": "markdown",
   "metadata": {},
   "source": [
    "explaining the probability of a song being energic given that it received an high critical score."
   ]
  },
  {
   "cell_type": "code",
   "execution_count": 194,
   "metadata": {},
   "outputs": [
    {
     "name": "stdout",
     "output_type": "stream",
     "text": [
      "+--------------+------------+\n",
      "| ene          |   phi(ene) |\n",
      "+==============+============+\n",
      "| ene(energic) |     0.5276 |\n",
      "+--------------+------------+\n",
      "| ene(medium)  |     0.2017 |\n",
      "+--------------+------------+\n",
      "| ene(slow)    |     0.2706 |\n",
      "+--------------+------------+\n"
     ]
    }
   ],
   "source": [
    "print(infer.query([\"ene\"],evidence={\"crit\": \"high critical score\"}))"
   ]
  },
  {
   "cell_type": "markdown",
   "metadata": {},
   "source": [
    "Interstingly critic score tends to be higher when we have knowledge of the danceability being standard."
   ]
  },
  {
   "cell_type": "markdown",
   "metadata": {},
   "source": [
    "#### Intercausal inference"
   ]
  },
  {
   "cell_type": "markdown",
   "metadata": {},
   "source": [
    "Now we want to see why a song received an high critical score given it wasn't energetic"
   ]
  },
  {
   "cell_type": "code",
   "execution_count": 195,
   "metadata": {},
   "outputs": [
    {
     "name": "stdout",
     "output_type": "stream",
     "text": [
      "+----------------------------+------------+\n",
      "| dan                        |   phi(dan) |\n",
      "+============================+============+\n",
      "| dan(high danceability)     |     0.3358 |\n",
      "+----------------------------+------------+\n",
      "| dan(low danceability)      |     0.3412 |\n",
      "+----------------------------+------------+\n",
      "| dan(standard danceability) |     0.3231 |\n",
      "+----------------------------+------------+\n"
     ]
    }
   ],
   "source": [
    "print(infer.query([\"dan\"],evidence={\"crit\": \"high critical score\", \"ene\": \"slow\"}))"
   ]
  },
  {
   "cell_type": "markdown",
   "metadata": {},
   "source": [
    "We cannot infer much from the above plot but we can say there is a slightly more chance that the song received an high critical score because of high danceability"
   ]
  },
  {
   "cell_type": "markdown",
   "metadata": {},
   "source": [
    "### Predicting values from new data points"
   ]
  },
  {
   "cell_type": "markdown",
   "metadata": {},
   "source": [
    "MAP query: getting the most probable state of the variable"
   ]
  },
  {
   "cell_type": "code",
   "execution_count": 196,
   "metadata": {},
   "outputs": [
    {
     "data": {
      "application/vnd.jupyter.widget-view+json": {
       "model_id": "353029e8fb17493493183ae7d9006475",
       "version_major": 2,
       "version_minor": 0
      },
      "text/plain": [
       "  0%|          | 0/2 [00:00<?, ?it/s]"
      ]
     },
     "metadata": {},
     "output_type": "display_data"
    },
    {
     "data": {
      "application/vnd.jupyter.widget-view+json": {
       "model_id": "948ef10dab2e46eb921805c7a1fef151",
       "version_major": 2,
       "version_minor": 0
      },
      "text/plain": [
       "  0%|          | 0/2 [00:00<?, ?it/s]"
      ]
     },
     "metadata": {},
     "output_type": "display_data"
    },
    {
     "name": "stdout",
     "output_type": "stream",
     "text": [
      "{'loud': 'loud'}\n"
     ]
    },
    {
     "data": {
      "application/vnd.jupyter.widget-view+json": {
       "model_id": "28a975cd6b9e40879714a00dedc25992",
       "version_major": 2,
       "version_minor": 0
      },
      "text/plain": [
       "  0%|          | 0/1 [00:00<?, ?it/s]"
      ]
     },
     "metadata": {},
     "output_type": "display_data"
    },
    {
     "data": {
      "application/vnd.jupyter.widget-view+json": {
       "model_id": "2d2b86ebf8764bdfaa7927f4abc53c24",
       "version_major": 2,
       "version_minor": 0
      },
      "text/plain": [
       "  0%|          | 0/1 [00:00<?, ?it/s]"
      ]
     },
     "metadata": {},
     "output_type": "display_data"
    },
    {
     "name": "stdout",
     "output_type": "stream",
     "text": [
      "{'loud': 'loud'}\n"
     ]
    },
    {
     "data": {
      "application/vnd.jupyter.widget-view+json": {
       "model_id": "7b77918ed7584c2c928014bc875bc211",
       "version_major": 2,
       "version_minor": 0
      },
      "text/plain": [
       "0it [00:00, ?it/s]"
      ]
     },
     "metadata": {},
     "output_type": "display_data"
    },
    {
     "data": {
      "application/vnd.jupyter.widget-view+json": {
       "model_id": "a3940f4b09b84ca29ce45f8f0302019c",
       "version_major": 2,
       "version_minor": 0
      },
      "text/plain": [
       "0it [00:00, ?it/s]"
      ]
     },
     "metadata": {},
     "output_type": "display_data"
    },
    {
     "name": "stdout",
     "output_type": "stream",
     "text": [
      "{'loud': 'loud'}\n"
     ]
    },
    {
     "data": {
      "application/vnd.jupyter.widget-view+json": {
       "model_id": "3bf3ed46a6f64da1a1943cfbe6f066a9",
       "version_major": 2,
       "version_minor": 0
      },
      "text/plain": [
       "0it [00:00, ?it/s]"
      ]
     },
     "metadata": {},
     "output_type": "display_data"
    },
    {
     "data": {
      "application/vnd.jupyter.widget-view+json": {
       "model_id": "f60e12e268b34d4f8b4aba1b05b4dd15",
       "version_major": 2,
       "version_minor": 0
      },
      "text/plain": [
       "0it [00:00, ?it/s]"
      ]
     },
     "metadata": {},
     "output_type": "display_data"
    },
    {
     "name": "stdout",
     "output_type": "stream",
     "text": [
      "{'loud': 'quiet'}\n"
     ]
    }
   ],
   "source": [
    "#Infer MAP queries\n",
    "print(infer.map_query([\"loud\"]))\n",
    "print(infer.map_query([\"loud\"], evidence={'speech': \"high word density\"}))\n",
    "print(infer.map_query([\"loud\"], evidence={'speech': \"standard word density\", 'aco': \"not acoustic\"}))\n",
    "print(infer.map_query([\"loud\"], evidence={'speech': \"standard word density\", 'aco': \"acoustic\"}))\n"
   ]
  },
  {
   "cell_type": "markdown",
   "metadata": {},
   "source": [
    "We can see the loudness most probable value changing by fixing different values for the variable that directly influences it"
   ]
  },
  {
   "cell_type": "markdown",
   "metadata": {},
   "source": [
    "### Approximate Inference"
   ]
  },
  {
   "cell_type": "code",
   "execution_count": 197,
   "metadata": {},
   "outputs": [],
   "source": [
    "from pgmpy.inference import ApproxInference\n",
    "from pgmpy.sampling import BayesianModelSampling\n",
    "\n",
    "infer = ApproxInference(model)\n",
    "inference = BayesianModelSampling(model)"
   ]
  },
  {
   "cell_type": "code",
   "execution_count": 198,
   "metadata": {},
   "outputs": [
    {
     "data": {
      "application/vnd.jupyter.widget-view+json": {
       "model_id": "464d640b7a3545bb8481ec8b0feaedcf",
       "version_major": 2,
       "version_minor": 0
      },
      "text/plain": [
       "  0%|          | 0/12 [00:00<?, ?it/s]"
      ]
     },
     "metadata": {},
     "output_type": "display_data"
    },
    {
     "name": "stdout",
     "output_type": "stream",
     "text": [
      "+------------------------------+-------------+\n",
      "| crit                         |   phi(crit) |\n",
      "+==============================+=============+\n",
      "| crit(average critical score) |      0.2700 |\n",
      "+------------------------------+-------------+\n",
      "| crit(high critical score)    |      0.5000 |\n",
      "+------------------------------+-------------+\n",
      "| crit(low critically score)   |      0.2300 |\n",
      "+------------------------------+-------------+\n"
     ]
    }
   ],
   "source": [
    "# Sampling from an empty network\n",
    "print(infer.query(variables=[\"crit\"], n_samples=100)) "
   ]
  },
  {
   "cell_type": "code",
   "execution_count": 199,
   "metadata": {},
   "outputs": [
    {
     "name": "stdout",
     "output_type": "stream",
     "text": [
      "10 samples\n"
     ]
    },
    {
     "data": {
      "application/vnd.jupyter.widget-view+json": {
       "model_id": "acbacb98980f40da9d055688872621d2",
       "version_major": 2,
       "version_minor": 0
      },
      "text/plain": [
       "  0%|          | 0/12 [00:00<?, ?it/s]"
      ]
     },
     "metadata": {},
     "output_type": "display_data"
    },
    {
     "name": "stdout",
     "output_type": "stream",
     "text": [
      "+------------------------------+-------------+\n",
      "| crit                         |   phi(crit) |\n",
      "+==============================+=============+\n",
      "| crit(average critical score) |      0.2000 |\n",
      "+------------------------------+-------------+\n",
      "| crit(high critical score)    |      0.4000 |\n",
      "+------------------------------+-------------+\n",
      "| crit(low critically score)   |      0.4000 |\n",
      "+------------------------------+-------------+\n",
      "\n",
      " 1000 samples \n"
     ]
    },
    {
     "data": {
      "application/vnd.jupyter.widget-view+json": {
       "model_id": "aea3328bd9ec43f9ab4e611dbf06499d",
       "version_major": 2,
       "version_minor": 0
      },
      "text/plain": [
       "  0%|          | 0/12 [00:00<?, ?it/s]"
      ]
     },
     "metadata": {},
     "output_type": "display_data"
    },
    {
     "name": "stdout",
     "output_type": "stream",
     "text": [
      "+------------------------------+-------------+\n",
      "| crit                         |   phi(crit) |\n",
      "+==============================+=============+\n",
      "| crit(average critical score) |      0.2740 |\n",
      "+------------------------------+-------------+\n",
      "| crit(high critical score)    |      0.4260 |\n",
      "+------------------------------+-------------+\n",
      "| crit(low critically score)   |      0.3000 |\n",
      "+------------------------------+-------------+\n",
      "\n",
      " True probability\n",
      "+------------------------------+-------------+\n",
      "| crit                         |   phi(crit) |\n",
      "+==============================+=============+\n",
      "| crit(average critical score) |      0.2572 |\n",
      "+------------------------------+-------------+\n",
      "| crit(high critical score)    |      0.4734 |\n",
      "+------------------------------+-------------+\n",
      "| crit(low critically score)   |      0.2694 |\n",
      "+------------------------------+-------------+\n"
     ]
    }
   ],
   "source": [
    "# Showing the convergence increasing number of samples\n",
    "\n",
    "print(\"10 samples\")\n",
    "print(infer.query(variables=[\"crit\"], n_samples=10)) #approximate probability with a low number of samples\n",
    "\n",
    "print(\"\\n 1000 samples \")\n",
    "print(infer.query(variables=[\"crit\"], n_samples=1000)) #approximate probability with an high number of samples\n",
    "\n",
    "print(\"\\n True probability\")\n",
    "print(VariableElimination(model).query([\"crit\"]))      #true probability"
   ]
  },
  {
   "cell_type": "code",
   "execution_count": 200,
   "metadata": {},
   "outputs": [
    {
     "data": {
      "application/vnd.jupyter.widget-view+json": {
       "model_id": "ab69a4a47b3745f39df7772660ef692a",
       "version_major": 2,
       "version_minor": 0
      },
      "text/plain": [
       "  0%|          | 0/12 [00:00<?, ?it/s]"
      ]
     },
     "metadata": {},
     "output_type": "display_data"
    },
    {
     "name": "stdout",
     "output_type": "stream",
     "text": [
      "              instr         tem                 speech   loud  \\\n",
      "0      instrumental  high tempo  standard word density   loud   \n",
      "1  not instrumental  high tempo      high word density   loud   \n",
      "2  not instrumental  high tempo  standard word density   loud   \n",
      "3      instrumental  high tempo      high word density   loud   \n",
      "4  not instrumental  slow tempo      high word density  quiet   \n",
      "\n",
      "                     dan           aco       val      ene              pop  \\\n",
      "0      high danceability  not acoustic   neutral  energic  high popularity   \n",
      "1       low danceability  not acoustic       sad  energic  high popularity   \n",
      "2      high danceability      acoustic  euphoric  energic  high popularity   \n",
      "3      high danceability  not acoustic       sad  energic  high popularity   \n",
      "4  standard danceability      acoustic  euphoric     slow  high popularity   \n",
      "\n",
      "                     crit            dur      era  _weight  \n",
      "0     high critical score        average  vintage      1.0  \n",
      "1    low critically score           long   modern      1.0  \n",
      "2  average critical score        average   modern      1.0  \n",
      "3     high critical score  above average  vintage      1.0  \n",
      "4     high critical score  above average   modern      1.0  \n"
     ]
    }
   ],
   "source": [
    "# Showing the results of a sampling process\n",
    "print(inference.likelihood_weighted_sample(size=5)) #size = number of samples"
   ]
  },
  {
   "cell_type": "code",
   "execution_count": 201,
   "metadata": {},
   "outputs": [
    {
     "data": {
      "application/vnd.jupyter.widget-view+json": {
       "model_id": "7f9874694780430bb2842ae13b433b16",
       "version_major": 2,
       "version_minor": 0
      },
      "text/plain": [
       "  0%|          | 0/12 [00:00<?, ?it/s]"
      ]
     },
     "metadata": {},
     "output_type": "display_data"
    },
    {
     "name": "stdout",
     "output_type": "stream",
     "text": [
      "+--------------------------+------------+\n",
      "| pop                      |   phi(pop) |\n",
      "+==========================+============+\n",
      "| pop(high popularity)     |     0.4800 |\n",
      "+--------------------------+------------+\n",
      "| pop(low popularity)      |     0.3000 |\n",
      "+--------------------------+------------+\n",
      "| pop(standard popularity) |     0.2200 |\n",
      "+--------------------------+------------+\n"
     ]
    }
   ],
   "source": [
    "# Likelihood sampling\n",
    "print(infer.get_distribution(inference.likelihood_weighted_sample(size=50), [\"pop\"], joint=True))"
   ]
  },
  {
   "cell_type": "code",
   "execution_count": 202,
   "metadata": {},
   "outputs": [
    {
     "data": {
      "application/vnd.jupyter.widget-view+json": {
       "model_id": "27f13a95284b4d018010a2fc245165e8",
       "version_major": 2,
       "version_minor": 0
      },
      "text/plain": [
       "  0%|          | 0/12 [00:00<?, ?it/s]"
      ]
     },
     "metadata": {},
     "output_type": "display_data"
    },
    {
     "name": "stdout",
     "output_type": "stream",
     "text": [
      "+--------------------------+------------+\n",
      "| pop                      |   phi(pop) |\n",
      "+==========================+============+\n",
      "| pop(high popularity)     |     0.5600 |\n",
      "+--------------------------+------------+\n",
      "| pop(low popularity)      |     0.2000 |\n",
      "+--------------------------+------------+\n",
      "| pop(standard popularity) |     0.2400 |\n",
      "+--------------------------+------------+\n"
     ]
    }
   ],
   "source": [
    "# Rejection sampling\n",
    "print(infer.get_distribution(inference.rejection_sample(size=50), [\"pop\"]))"
   ]
  },
  {
   "cell_type": "markdown",
   "metadata": {},
   "source": [
    "###  Query 1:"
   ]
  },
  {
   "cell_type": "code",
   "execution_count": 203,
   "metadata": {},
   "outputs": [],
   "source": [
    "infer = VariableElimination(model)"
   ]
  },
  {
   "cell_type": "markdown",
   "metadata": {},
   "source": [
    "Da rifare in maniera simile\n"
   ]
  },
  {
   "cell_type": "code",
   "execution_count": 204,
   "metadata": {},
   "outputs": [
    {
     "name": "stdout",
     "output_type": "stream",
     "text": [
      "Probability ofthe danceability given the popularity and musical era : standard popularity contemporary\n",
      "+----------------------------+------------+\n",
      "| dan                        |   phi(dan) |\n",
      "+============================+============+\n",
      "| dan(high danceability)     |     0.4833 |\n",
      "+----------------------------+------------+\n",
      "| dan(low danceability)      |     0.2452 |\n",
      "+----------------------------+------------+\n",
      "| dan(standard danceability) |     0.2715 |\n",
      "+----------------------------+------------+\n",
      "Probability ofthe danceability given the popularity and musical era : standard popularity vintage\n",
      "+----------------------------+------------+\n",
      "| dan                        |   phi(dan) |\n",
      "+============================+============+\n",
      "| dan(high danceability)     |     0.4593 |\n",
      "+----------------------------+------------+\n",
      "| dan(low danceability)      |     0.2712 |\n",
      "+----------------------------+------------+\n",
      "| dan(standard danceability) |     0.2695 |\n",
      "+----------------------------+------------+\n",
      "Probability ofthe danceability given the popularity and musical era : standard popularity modern\n",
      "+----------------------------+------------+\n",
      "| dan                        |   phi(dan) |\n",
      "+============================+============+\n",
      "| dan(high danceability)     |     0.5255 |\n",
      "+----------------------------+------------+\n",
      "| dan(low danceability)      |     0.2697 |\n",
      "+----------------------------+------------+\n",
      "| dan(standard danceability) |     0.2047 |\n",
      "+----------------------------+------------+\n",
      "Probability ofthe danceability given the popularity and musical era : low popularity contemporary\n",
      "+----------------------------+------------+\n",
      "| dan                        |   phi(dan) |\n",
      "+============================+============+\n",
      "| dan(high danceability)     |     0.4116 |\n",
      "+----------------------------+------------+\n",
      "| dan(low danceability)      |     0.3787 |\n",
      "+----------------------------+------------+\n",
      "| dan(standard danceability) |     0.2097 |\n",
      "+----------------------------+------------+\n",
      "Probability ofthe danceability given the popularity and musical era : low popularity vintage\n",
      "+----------------------------+------------+\n",
      "| dan                        |   phi(dan) |\n",
      "+============================+============+\n",
      "| dan(high danceability)     |     0.5896 |\n",
      "+----------------------------+------------+\n",
      "| dan(low danceability)      |     0.1956 |\n",
      "+----------------------------+------------+\n",
      "| dan(standard danceability) |     0.2148 |\n",
      "+----------------------------+------------+\n",
      "Probability ofthe danceability given the popularity and musical era : low popularity modern\n",
      "+----------------------------+------------+\n",
      "| dan                        |   phi(dan) |\n",
      "+============================+============+\n",
      "| dan(high danceability)     |     0.3686 |\n",
      "+----------------------------+------------+\n",
      "| dan(low danceability)      |     0.2974 |\n",
      "+----------------------------+------------+\n",
      "| dan(standard danceability) |     0.3340 |\n",
      "+----------------------------+------------+\n",
      "Probability ofthe danceability given the popularity and musical era : high popularity contemporary\n",
      "+----------------------------+------------+\n",
      "| dan                        |   phi(dan) |\n",
      "+============================+============+\n",
      "| dan(high danceability)     |     0.6022 |\n",
      "+----------------------------+------------+\n",
      "| dan(low danceability)      |     0.1078 |\n",
      "+----------------------------+------------+\n",
      "| dan(standard danceability) |     0.2899 |\n",
      "+----------------------------+------------+\n",
      "Probability ofthe danceability given the popularity and musical era : high popularity vintage\n",
      "+----------------------------+------------+\n",
      "| dan                        |   phi(dan) |\n",
      "+============================+============+\n",
      "| dan(high danceability)     |     0.4771 |\n",
      "+----------------------------+------------+\n",
      "| dan(low danceability)      |     0.2613 |\n",
      "+----------------------------+------------+\n",
      "| dan(standard danceability) |     0.2617 |\n",
      "+----------------------------+------------+\n",
      "Probability ofthe danceability given the popularity and musical era : high popularity modern\n",
      "+----------------------------+------------+\n",
      "| dan                        |   phi(dan) |\n",
      "+============================+============+\n",
      "| dan(high danceability)     |     0.5562 |\n",
      "+----------------------------+------------+\n",
      "| dan(low danceability)      |     0.2121 |\n",
      "+----------------------------+------------+\n",
      "| dan(standard danceability) |     0.2317 |\n",
      "+----------------------------+------------+\n"
     ]
    }
   ],
   "source": [
    "era_value = df3.era.unique()\n",
    "pop_value = df3['pop'].unique()\n",
    "for pop in pop_value:\n",
    "  for era in era_value:\n",
    "    print(\"Probability ofthe danceability given the popularity and musical era :\",pop,era) \n",
    "    print(infer.query([\"dan\"], evidence={\"pop\":pop,\"era\":era}))"
   ]
  },
  {
   "cell_type": "markdown",
   "metadata": {},
   "source": [
    "We can see a more danceable song tends to be more popular"
   ]
  },
  {
   "cell_type": "markdown",
   "metadata": {},
   "source": [
    "###  Query 2: "
   ]
  },
  {
   "cell_type": "markdown",
   "metadata": {},
   "source": [
    "What's the difference in danceability between songs that are sad and with a standard word density, and tracks that are euphoric and verbose?"
   ]
  },
  {
   "cell_type": "markdown",
   "metadata": {},
   "source": [
    "Discuss results here"
   ]
  },
  {
   "cell_type": "code",
   "execution_count": 205,
   "metadata": {},
   "outputs": [
    {
     "name": "stdout",
     "output_type": "stream",
     "text": [
      "standard word density and sad\n",
      "+--------------+------------+\n",
      "| ene          |   phi(ene) |\n",
      "+==============+============+\n",
      "| ene(energic) |     0.3599 |\n",
      "+--------------+------------+\n",
      "| ene(medium)  |     0.1707 |\n",
      "+--------------+------------+\n",
      "| ene(slow)    |     0.4694 |\n",
      "+--------------+------------+\n",
      "high word density and sad\n",
      "+--------------+------------+\n",
      "| ene          |   phi(ene) |\n",
      "+==============+============+\n",
      "| ene(energic) |     0.4686 |\n",
      "+--------------+------------+\n",
      "| ene(medium)  |     0.1691 |\n",
      "+--------------+------------+\n",
      "| ene(slow)    |     0.3623 |\n",
      "+--------------+------------+\n",
      "standard word density and euphoric\n",
      "+--------------+------------+\n",
      "| ene          |   phi(ene) |\n",
      "+==============+============+\n",
      "| ene(energic) |     0.5194 |\n",
      "+--------------+------------+\n",
      "| ene(medium)  |     0.3135 |\n",
      "+--------------+------------+\n",
      "| ene(slow)    |     0.1672 |\n",
      "+--------------+------------+\n",
      "high word density and euphoric\n",
      "+--------------+------------+\n",
      "| ene          |   phi(ene) |\n",
      "+==============+============+\n",
      "| ene(energic) |     0.6154 |\n",
      "+--------------+------------+\n",
      "| ene(medium)  |     0.2638 |\n",
      "+--------------+------------+\n",
      "| ene(slow)    |     0.1208 |\n",
      "+--------------+------------+\n"
     ]
    }
   ],
   "source": [
    "print(\"standard word density and sad\")\n",
    "print(infer.query([\"ene\"], evidence={\"speech\": 'standard word density', \"val\":'sad'}))\n",
    "print(\"high word density and sad\")\n",
    "print(infer.query([\"ene\"], evidence={\"speech\": 'high word density', \"val\":'sad'}))\n",
    "print(\"standard word density and euphoric\")\n",
    "print(infer.query([\"ene\"], evidence={\"speech\": 'standard word density', \"val\":'euphoric'}))\n",
    "print(\"high word density and euphoric\")\n",
    "print(infer.query([\"ene\"], evidence={\"speech\": 'high word density', \"val\":'euphoric'}))"
   ]
  },
  {
   "cell_type": "markdown",
   "metadata": {},
   "source": [
    "We can see that if we fix the `valence` it has a great influence on the `danceability`, instead the `speechiness` has less, but still appreciable effect of $5\\%$ on the CPT."
   ]
  },
  {
   "cell_type": "markdown",
   "metadata": {},
   "source": [
    "### Query 3:"
   ]
  },
  {
   "cell_type": "markdown",
   "metadata": {},
   "source": [
    "Gotta add smth here later"
   ]
  },
  {
   "cell_type": "code",
   "execution_count": 206,
   "metadata": {},
   "outputs": [
    {
     "name": "stdout",
     "output_type": "stream",
     "text": [
      "Probability of being critically acclaimed given track's duration and musical era : (short,low danceability)\n",
      "+------------------------------+-------------+\n",
      "| crit                         |   phi(crit) |\n",
      "+==============================+=============+\n",
      "| crit(average critical score) |      0.2481 |\n",
      "+------------------------------+-------------+\n",
      "| crit(high critical score)    |      0.6254 |\n",
      "+------------------------------+-------------+\n",
      "| crit(low critically score)   |      0.1266 |\n",
      "+------------------------------+-------------+\n",
      "Probability of being critically acclaimed given track's duration and musical era : (average,low danceability)\n",
      "+------------------------------+-------------+\n",
      "| crit                         |   phi(crit) |\n",
      "+==============================+=============+\n",
      "| crit(average critical score) |      0.2270 |\n",
      "+------------------------------+-------------+\n",
      "| crit(high critical score)    |      0.4491 |\n",
      "+------------------------------+-------------+\n",
      "| crit(low critically score)   |      0.3239 |\n",
      "+------------------------------+-------------+\n",
      "Probability of being critically acclaimed given track's duration and musical era : (above average,low danceability)\n",
      "+------------------------------+-------------+\n",
      "| crit                         |   phi(crit) |\n",
      "+==============================+=============+\n",
      "| crit(average critical score) |      0.1452 |\n",
      "+------------------------------+-------------+\n",
      "| crit(high critical score)    |      0.5134 |\n",
      "+------------------------------+-------------+\n",
      "| crit(low critically score)   |      0.3414 |\n",
      "+------------------------------+-------------+\n",
      "Probability of being critically acclaimed given track's duration and musical era : (long,low danceability)\n",
      "+------------------------------+-------------+\n",
      "| crit                         |   phi(crit) |\n",
      "+==============================+=============+\n",
      "| crit(average critical score) |      0.2607 |\n",
      "+------------------------------+-------------+\n",
      "| crit(high critical score)    |      0.4719 |\n",
      "+------------------------------+-------------+\n",
      "| crit(low critically score)   |      0.2674 |\n",
      "+------------------------------+-------------+\n",
      "Probability of being critically acclaimed given track's duration and musical era : (short,standard danceability)\n",
      "+------------------------------+-------------+\n",
      "| crit                         |   phi(crit) |\n",
      "+==============================+=============+\n",
      "| crit(average critical score) |      0.3432 |\n",
      "+------------------------------+-------------+\n",
      "| crit(high critical score)    |      0.4518 |\n",
      "+------------------------------+-------------+\n",
      "| crit(low critically score)   |      0.2050 |\n",
      "+------------------------------+-------------+\n",
      "Probability of being critically acclaimed given track's duration and musical era : (average,standard danceability)\n",
      "+------------------------------+-------------+\n",
      "| crit                         |   phi(crit) |\n",
      "+==============================+=============+\n",
      "| crit(average critical score) |      0.2220 |\n",
      "+------------------------------+-------------+\n",
      "| crit(high critical score)    |      0.4616 |\n",
      "+------------------------------+-------------+\n",
      "| crit(low critically score)   |      0.3164 |\n",
      "+------------------------------+-------------+\n",
      "Probability of being critically acclaimed given track's duration and musical era : (above average,standard danceability)\n",
      "+------------------------------+-------------+\n",
      "| crit                         |   phi(crit) |\n",
      "+==============================+=============+\n",
      "| crit(average critical score) |      0.3119 |\n",
      "+------------------------------+-------------+\n",
      "| crit(high critical score)    |      0.4574 |\n",
      "+------------------------------+-------------+\n",
      "| crit(low critically score)   |      0.2308 |\n",
      "+------------------------------+-------------+\n",
      "Probability of being critically acclaimed given track's duration and musical era : (long,standard danceability)\n",
      "+------------------------------+-------------+\n",
      "| crit                         |   phi(crit) |\n",
      "+==============================+=============+\n",
      "| crit(average critical score) |      0.1688 |\n",
      "+------------------------------+-------------+\n",
      "| crit(high critical score)    |      0.6694 |\n",
      "+------------------------------+-------------+\n",
      "| crit(low critically score)   |      0.1618 |\n",
      "+------------------------------+-------------+\n",
      "Probability of being critically acclaimed given track's duration and musical era : (short,high danceability)\n",
      "+------------------------------+-------------+\n",
      "| crit                         |   phi(crit) |\n",
      "+==============================+=============+\n",
      "| crit(average critical score) |      0.4454 |\n",
      "+------------------------------+-------------+\n",
      "| crit(high critical score)    |      0.1861 |\n",
      "+------------------------------+-------------+\n",
      "| crit(low critically score)   |      0.3685 |\n",
      "+------------------------------+-------------+\n",
      "Probability of being critically acclaimed given track's duration and musical era : (average,high danceability)\n",
      "+------------------------------+-------------+\n",
      "| crit                         |   phi(crit) |\n",
      "+==============================+=============+\n",
      "| crit(average critical score) |      0.2727 |\n",
      "+------------------------------+-------------+\n",
      "| crit(high critical score)    |      0.3997 |\n",
      "+------------------------------+-------------+\n",
      "| crit(low critically score)   |      0.3276 |\n",
      "+------------------------------+-------------+\n",
      "Probability of being critically acclaimed given track's duration and musical era : (above average,high danceability)\n",
      "+------------------------------+-------------+\n",
      "| crit                         |   phi(crit) |\n",
      "+==============================+=============+\n",
      "| crit(average critical score) |      0.3145 |\n",
      "+------------------------------+-------------+\n",
      "| crit(high critical score)    |      0.4354 |\n",
      "+------------------------------+-------------+\n",
      "| crit(low critically score)   |      0.2501 |\n",
      "+------------------------------+-------------+\n",
      "Probability of being critically acclaimed given track's duration and musical era : (long,high danceability)\n",
      "+------------------------------+-------------+\n",
      "| crit                         |   phi(crit) |\n",
      "+==============================+=============+\n",
      "| crit(average critical score) |      0.2141 |\n",
      "+------------------------------+-------------+\n",
      "| crit(high critical score)    |      0.5631 |\n",
      "+------------------------------+-------------+\n",
      "| crit(low critically score)   |      0.2227 |\n",
      "+------------------------------+-------------+\n"
     ]
    }
   ],
   "source": [
    "dancs = df3['dan'].unique().sort_values()\n",
    "durations = df3['dur'].unique().sort_values()\n",
    "\n",
    "for dan in dancs:\n",
    "    for dur in durations:\n",
    "        print(f\"Probability of being critically acclaimed given track's duration and musical era : ({dur},{dan})\")\n",
    "        print(infer.query([\"crit\"], evidence={\"dur\":dur, \"dan\":dan}))"
   ]
  },
  {
   "cell_type": "markdown",
   "metadata": {},
   "source": [
    "###  Query 4: "
   ]
  },
  {
   "cell_type": "markdown",
   "metadata": {},
   "source": [
    "We want to analyze the difference in acousticness appreciation between music enthusiasts and casual listeners "
   ]
  },
  {
   "cell_type": "code",
   "execution_count": 207,
   "metadata": {},
   "outputs": [
    {
     "name": "stdout",
     "output_type": "stream",
     "text": [
      "low critically score :\n",
      "+-------------------+------------+\n",
      "| aco               |   phi(aco) |\n",
      "+===================+============+\n",
      "| aco(acoustic)     |     0.4990 |\n",
      "+-------------------+------------+\n",
      "| aco(not acoustic) |     0.5010 |\n",
      "+-------------------+------------+\n",
      "average critical score :\n",
      "+-------------------+------------+\n",
      "| aco               |   phi(aco) |\n",
      "+===================+============+\n",
      "| aco(acoustic)     |     0.5010 |\n",
      "+-------------------+------------+\n",
      "| aco(not acoustic) |     0.4990 |\n",
      "+-------------------+------------+\n",
      "high critical score :\n",
      "+-------------------+------------+\n",
      "| aco               |   phi(aco) |\n",
      "+===================+============+\n",
      "| aco(acoustic)     |     0.5000 |\n",
      "+-------------------+------------+\n",
      "| aco(not acoustic) |     0.5000 |\n",
      "+-------------------+------------+\n",
      "\n",
      "\n",
      "low popularity :\n",
      "+-------------------+------------+\n",
      "| aco               |   phi(aco) |\n",
      "+===================+============+\n",
      "| aco(acoustic)     |     0.5069 |\n",
      "+-------------------+------------+\n",
      "| aco(not acoustic) |     0.4931 |\n",
      "+-------------------+------------+\n",
      "standard popularity :\n",
      "+-------------------+------------+\n",
      "| aco               |   phi(aco) |\n",
      "+===================+============+\n",
      "| aco(acoustic)     |     0.4939 |\n",
      "+-------------------+------------+\n",
      "| aco(not acoustic) |     0.5061 |\n",
      "+-------------------+------------+\n",
      "high popularity :\n",
      "+-------------------+------------+\n",
      "| aco               |   phi(aco) |\n",
      "+===================+============+\n",
      "| aco(acoustic)     |     0.4991 |\n",
      "+-------------------+------------+\n",
      "| aco(not acoustic) |     0.5009 |\n",
      "+-------------------+------------+\n"
     ]
    }
   ],
   "source": [
    "scores = df3['crit'].unique().sort_values()\n",
    "pop_vals = df3['pop'].unique().sort_values()\n",
    "\n",
    "for score in scores:\n",
    "    print(score,\":\")\n",
    "    print(infer.query([\"aco\"], evidence={\"crit\":score}))\n",
    "\n",
    "\n",
    "print(\"\\n\")\n",
    "for pop in pop_vals:\n",
    "    print(pop,\":\")\n",
    "    print(infer.query([\"aco\"], evidence={\"pop\":pop}))"
   ]
  },
  {
   "cell_type": "markdown",
   "metadata": {},
   "source": [
    "Discuss results here"
   ]
  },
  {
   "cell_type": "markdown",
   "metadata": {},
   "source": [
    "### Query 5:"
   ]
  },
  {
   "cell_type": "markdown",
   "metadata": {},
   "source": [
    "How's the tempo tendency changed during the years?"
   ]
  },
  {
   "cell_type": "code",
   "execution_count": 208,
   "metadata": {},
   "outputs": [
    {
     "name": "stdout",
     "output_type": "stream",
     "text": [
      "val='sad' | speech='standard word density'\n",
      "+-------------------+------------+\n",
      "| tem               |   phi(tem) |\n",
      "+===================+============+\n",
      "| tem(high tempo)   |     0.5075 |\n",
      "+-------------------+------------+\n",
      "| tem(medium tempo) |     0.2596 |\n",
      "+-------------------+------------+\n",
      "| tem(slow tempo)   |     0.2329 |\n",
      "+-------------------+------------+\n",
      "val='sad' | speech='high word density'\n",
      "+-------------------+------------+\n",
      "| tem               |   phi(tem) |\n",
      "+===================+============+\n",
      "| tem(high tempo)   |     0.4970 |\n",
      "+-------------------+------------+\n",
      "| tem(medium tempo) |     0.2640 |\n",
      "+-------------------+------------+\n",
      "| tem(slow tempo)   |     0.2390 |\n",
      "+-------------------+------------+\n",
      "val='neutral' | speech='standard word density'\n",
      "+-------------------+------------+\n",
      "| tem               |   phi(tem) |\n",
      "+===================+============+\n",
      "| tem(high tempo)   |     0.5075 |\n",
      "+-------------------+------------+\n",
      "| tem(medium tempo) |     0.2596 |\n",
      "+-------------------+------------+\n",
      "| tem(slow tempo)   |     0.2329 |\n",
      "+-------------------+------------+\n",
      "val='neutral' | speech='high word density'\n",
      "+-------------------+------------+\n",
      "| tem               |   phi(tem) |\n",
      "+===================+============+\n",
      "| tem(high tempo)   |     0.4970 |\n",
      "+-------------------+------------+\n",
      "| tem(medium tempo) |     0.2640 |\n",
      "+-------------------+------------+\n",
      "| tem(slow tempo)   |     0.2390 |\n",
      "+-------------------+------------+\n",
      "val='euphoric' | speech='standard word density'\n",
      "+-------------------+------------+\n",
      "| tem               |   phi(tem) |\n",
      "+===================+============+\n",
      "| tem(high tempo)   |     0.5075 |\n",
      "+-------------------+------------+\n",
      "| tem(medium tempo) |     0.2596 |\n",
      "+-------------------+------------+\n",
      "| tem(slow tempo)   |     0.2329 |\n",
      "+-------------------+------------+\n",
      "val='euphoric' | speech='high word density'\n",
      "+-------------------+------------+\n",
      "| tem               |   phi(tem) |\n",
      "+===================+============+\n",
      "| tem(high tempo)   |     0.4970 |\n",
      "+-------------------+------------+\n",
      "| tem(medium tempo) |     0.2640 |\n",
      "+-------------------+------------+\n",
      "| tem(slow tempo)   |     0.2390 |\n",
      "+-------------------+------------+\n"
     ]
    }
   ],
   "source": [
    "for val in df3.val.unique().sort_values():\n",
    "    for speech in df3.speech.unique().sort_values():\n",
    "        print(f\"{val=} | {speech=}\")\n",
    "        print(infer.query([\"tem\"], evidence={\"val\":val,\"speech\":speech}))"
   ]
  },
  {
   "cell_type": "markdown",
   "metadata": {},
   "source": [
    "Discuss results here about markov blanket"
   ]
  },
  {
   "cell_type": "markdown",
   "metadata": {},
   "source": [
    "### Query 6:"
   ]
  },
  {
   "cell_type": "markdown",
   "metadata": {},
   "source": [
    "Are slow and instrumental tracks popular among casual listeners?"
   ]
  },
  {
   "cell_type": "code",
   "execution_count": 209,
   "metadata": {},
   "outputs": [
    {
     "name": "stdout",
     "output_type": "stream",
     "text": [
      "+--------------------------+------------+\n",
      "| pop                      |   phi(pop) |\n",
      "+==========================+============+\n",
      "| pop(high popularity)     |     0.4571 |\n",
      "+--------------------------+------------+\n",
      "| pop(low popularity)      |     0.3181 |\n",
      "+--------------------------+------------+\n",
      "| pop(standard popularity) |     0.2248 |\n",
      "+--------------------------+------------+\n"
     ]
    }
   ],
   "source": [
    "print(infer.query([\"pop\"], evidence={\"ene\":'slow', \"instr\":'instrumental'}))"
   ]
  },
  {
   "cell_type": "code",
   "execution_count": 214,
   "metadata": {},
   "outputs": [
    {
     "name": "stdout",
     "output_type": "stream",
     "text": [
      "+--------------------------+------------+\n",
      "| pop                      |   phi(pop) |\n",
      "+==========================+============+\n",
      "| pop(high popularity)     |     0.4767 |\n",
      "+--------------------------+------------+\n",
      "| pop(low popularity)      |     0.2572 |\n",
      "+--------------------------+------------+\n",
      "| pop(standard popularity) |     0.2661 |\n",
      "+--------------------------+------------+\n"
     ]
    }
   ],
   "source": [
    "print(infer.query([\"pop\"], evidence={\"ene\":'energic', \"instr\":'instrumental'}))"
   ]
  },
  {
   "cell_type": "code",
   "execution_count": 210,
   "metadata": {},
   "outputs": [
    {
     "name": "stdout",
     "output_type": "stream",
     "text": [
      "+--------------------------+------------+\n",
      "| pop                      |   phi(pop) |\n",
      "+==========================+============+\n",
      "| pop(high popularity)     |     0.4778 |\n",
      "+--------------------------+------------+\n",
      "| pop(low popularity)      |     0.2559 |\n",
      "+--------------------------+------------+\n",
      "| pop(standard popularity) |     0.2662 |\n",
      "+--------------------------+------------+\n"
     ]
    }
   ],
   "source": [
    "print(infer.query([\"pop\"], evidence={\"ene\":'energic', \"instr\":'not instrumental'}))"
   ]
  },
  {
   "cell_type": "markdown",
   "metadata": {},
   "source": [
    "Discuss results here"
   ]
  },
  {
   "cell_type": "markdown",
   "metadata": {},
   "source": [
    "### Query 7:"
   ]
  },
  {
   "cell_type": "markdown",
   "metadata": {},
   "source": [
    "The ultimate question would be: \"What parameters should a track have to be both popular and critically acclaimed?\""
   ]
  },
  {
   "cell_type": "code",
   "execution_count": 218,
   "metadata": {},
   "outputs": [
    {
     "data": {
      "application/vnd.jupyter.widget-view+json": {
       "model_id": "696e738b86574e119e170c108cd5b95c",
       "version_major": 2,
       "version_minor": 0
      },
      "text/plain": [
       "  0%|          | 0/1 [00:00<?, ?it/s]"
      ]
     },
     "metadata": {},
     "output_type": "display_data"
    },
    {
     "data": {
      "application/vnd.jupyter.widget-view+json": {
       "model_id": "ce957810a5c54c4694146cbcdf29c3d3",
       "version_major": 2,
       "version_minor": 0
      },
      "text/plain": [
       "  0%|          | 0/1 [00:00<?, ?it/s]"
      ]
     },
     "metadata": {},
     "output_type": "display_data"
    },
    {
     "name": "stdout",
     "output_type": "stream",
     "text": [
      "{'dur': 'above average', 'aco': 'not acoustic', 'speech': 'high word density', 'instr': 'not instrumental', 'val': 'euphoric', 'tem': 'high tempo', 'loud': 'loud', 'dan': 'high danceability', 'ene': 'energic'}\n"
     ]
    }
   ],
   "source": [
    "print(infer.map_query([\"dur\",\"aco\",\"speech\",\"instr\",\"val\",\"tem\",\"loud\",\"dan\",\"ene\"],\n",
    "                        evidence={\"pop\":'high popularity', \"crit\":'high critical score'}))"
   ]
  },
  {
   "cell_type": "markdown",
   "metadata": {},
   "source": [
    "Based on the result, if we wanted to create a track that is both popular and critically acclaimed, it would probably have to be a positive rap song with high BPM."
   ]
  }
 ],
 "metadata": {
  "kernelspec": {
   "display_name": "Python 3.10.1 64-bit",
   "language": "python",
   "name": "python3"
  },
  "language_info": {
   "codemirror_mode": {
    "name": "ipython",
    "version": 3
   },
   "file_extension": ".py",
   "mimetype": "text/x-python",
   "name": "python",
   "nbconvert_exporter": "python",
   "pygments_lexer": "ipython3",
   "version": "3.10.1"
  },
  "orig_nbformat": 4,
  "vscode": {
   "interpreter": {
    "hash": "1527373efda72fa2755c1bf8e28aa37d44fcfaa765722a53896873e9ccde169f"
   }
  }
 },
 "nbformat": 4,
 "nbformat_minor": 2
}
