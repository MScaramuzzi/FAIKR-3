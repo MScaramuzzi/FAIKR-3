{
 "cells": [
  {
   "cell_type": "markdown",
   "id": "5df5769b",
   "metadata": {},
   "source": [
    "To build network's connections, 3 approaches were used:\n",
    "\n",
    "- Previous domain knowledge\n",
    "- Between-nodes Correlation \n",
    "- Between-nodes Correlation + Previous domain knowledge"
   ]
  },
  {
   "cell_type": "markdown",
   "id": "841c8e64",
   "metadata": {},
   "source": [
    "### Previous domain knowledge based connections:\n",
    "\n",
    "Instrumentalness --> Tempo      \\\n",
    "Danceability --> Critic Score   \\\n",
    "Energy --> Critic Score"
   ]
  },
  {
   "cell_type": "markdown",
   "id": "18b7b46c",
   "metadata": {},
   "source": [
    "### Between-nodes Correlation based connections:\n",
    "\n",
    "Decade --> Speechiness &emsp; &emsp;&emsp; high correlation (0.26) \\\n",
    "Duration --> Instrumentalness &ensp;&nbsp;slight correlation (0.21) \\\n",
    "Duration --> Valence &emsp; &ensp; &ensp; &ensp; &nbsp; &nbsp;&nbsp; high correlation (0.25) \\\n",
    "Valence --> Danceability &ensp; &ensp; &ensp; &nbsp; &nbsp; high correlation (0.48) \\\n",
    "Valence --> Energy &emsp; &emsp; &emsp; &emsp; &ensp; high correlation (0.31) \\\n",
    "Loudness --> Energy &emsp; &emsp; &emsp; &emsp; very high correlation (0.76)"
   ]
  },
  {
   "cell_type": "markdown",
   "id": "0225efec",
   "metadata": {},
   "source": [
    "### Between-nodes Correlation + Previous domain knowledge based connections:\n",
    "\n",
    "Decade --> Duration &emsp; &emsp; &emsp; &nbsp; &nbsp; slight correlation (0.13) \\\n",
    "Decade --> Acousticness &emsp; &emsp; &nbsp; slight correlation (0.15) \\\n",
    "Speechiness --> Danceability &emsp; slight correlation (0.23) \\\n",
    "Speechiness --> Loudness &emsp; &emsp; high correlation (0.25) \\\n",
    "Acousticness --> Loudness &emsp; &nbsp; &nbsp; high correlation (0.48) \\\n",
    "Tempo --> Danceability &emsp; &emsp; &emsp; high correlation (0.25) \\\n",
    "Tempo --> Energy &emsp; &emsp; &emsp; &emsp; &nbsp; &nbsp; slight correlation (0.15) \\\n",
    "Danceability --> Popularity &emsp; &nbsp; &nbsp; slight correlation (0.18)"
   ]
  }
 ],
 "metadata": {
  "kernelspec": {
   "display_name": "Python 3.9.7 ('base')",
   "language": "python",
   "name": "python3"
  },
  "language_info": {
   "codemirror_mode": {
    "name": "ipython",
    "version": 3
   },
   "file_extension": ".py",
   "mimetype": "text/x-python",
   "name": "python",
   "nbconvert_exporter": "python",
   "pygments_lexer": "ipython3",
   "version": "3.9.7"
  },
  "vscode": {
   "interpreter": {
    "hash": "314ecf4e4f15fe22a658b1d57c99615ad4c86847edfd5102777831eb0be2d97e"
   }
  }
 },
 "nbformat": 4,
 "nbformat_minor": 5
}
