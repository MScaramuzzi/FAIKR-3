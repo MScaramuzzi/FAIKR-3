{
 "cells": [
  {
   "cell_type": "markdown",
   "id": "5df5769b",
   "metadata": {},
   "source": [
    "To build network's connections, 3 approaches were used:\n",
    "\n",
    "- Previous domain knowledge\n",
    "- Between-nodes Correlation \n",
    "- Between-nodes Correlation + Previous domain knowledge"
   ]
  },
  {
   "cell_type": "markdown",
   "id": "841c8e64",
   "metadata": {},
   "source": [
    "### Previous domain knowledge based connections:\n",
    "\n",
    "| Ancestor Node | Descendant Node |\n",
    "| ----------- | ----------- |\n",
    "| Instrumentalness | Tempo |\n",
    "| Danceability | Critic Score |\n",
    "| Energy | Critic Score |\n"
   ]
  },
  {
   "cell_type": "markdown",
   "id": "18b7b46c",
   "metadata": {},
   "source": [
    "### Between-nodes Correlation based connections:\n",
    "\n",
    "| Ancestor Node | Descendant Node | Correlation |\n",
    "| ----------- | ----------- | ----------- |\n",
    "| Era | Speechiness | high (0.26) |\n",
    "| Duration | Instrumentalness | slight (0.21) |\n",
    "| Duration | Valence | high (0.25) |\n",
    "| Valence | Danceability | high (0.48) |\n",
    "| Valence | Energy | high (0.31) |\n",
    "| Loudness | Energy | very high (0.76) |"
   ]
  },
  {
   "cell_type": "markdown",
   "id": "0225efec",
   "metadata": {},
   "source": [
    "### Between-nodes Correlation + Previous domain knowledge based connections:\n",
    "\n",
    "| Ancestor Node | Descendant Node | Correlation |\n",
    "| ----------- | ----------- | ----------- |\n",
    "| Era | Duration | slight (0.13) |\n",
    "| Era | Acousticness | slight (0.15) |\n",
    "| Speechiness | Danceability | slight (0.23) |\n",
    "| Speechiness | Loudness | high (0.25) |\n",
    "| Acousticness | Loudness | high (0.48) |\n",
    "| Tempo | Danceability | high (0.25) |\n",
    "| Tempo | Energy | slight (0.15) |\n",
    "| Danceability | Popularity | slight (0.25) |"
   ]
  }
 ],
 "metadata": {
  "kernelspec": {
   "display_name": "Python 3.9.7 ('base')",
   "language": "python",
   "name": "python3"
  },
  "language_info": {
   "codemirror_mode": {
    "name": "ipython",
    "version": 3
   },
   "file_extension": ".py",
   "mimetype": "text/x-python",
   "name": "python",
   "nbconvert_exporter": "python",
   "pygments_lexer": "ipython3",
   "version": "3.9.7"
  },
  "vscode": {
   "interpreter": {
    "hash": "314ecf4e4f15fe22a658b1d57c99615ad4c86847edfd5102777831eb0be2d97e"
   }
  }
 },
 "nbformat": 4,
 "nbformat_minor": 5
}
