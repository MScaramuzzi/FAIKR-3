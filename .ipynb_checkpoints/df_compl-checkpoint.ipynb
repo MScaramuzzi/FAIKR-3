{
 "cells": [
  {
   "cell_type": "markdown",
   "metadata": {},
   "source": [
    "# Introduction"
   ]
  },
  {
   "cell_type": "markdown",
   "metadata": {},
   "source": [
    "## Purpose of the project"
   ]
  },
  {
   "cell_type": "markdown",
   "metadata": {},
   "source": [
    "## Data scraping"
   ]
  },
  {
   "cell_type": "markdown",
   "metadata": {},
   "source": [
    "# The dataset\n",
    "\n",
    "* **acousticness**: A confidence measure from 0.0 to 1.0 of whether the track is acoustic. 1.0 represents high confidence the track is acoustic.\n",
    "\n",
    "* **danceability**: Danceability describes how suitable a track is for dancing based on a combination of musical elements including tempo, rhythm stability, beat strength, and overall regularity. A value of 0.0 is least danceable and 1.0 is most danceable.\n",
    "\n",
    "* **energy**: Energy is a measure from 0.0 to 1.0 and represents a perceptual measure of intensity and activity. Typically, energetic tracks feel fast, loud, and noisy. For example, death metal has high energy, while a Bach prelude scores low on the scale. Perceptual features contributing to this attribute include dynamic range, perceived loudness, timbre, onset rate, and general entropy.\n",
    "\n",
    "* **instrumentalness**: Predicts whether a track contains no vocals. \"Ooh\" and \"aah\" sounds are treated as instrumental in this context. Rap or spoken word tracks are clearly \"vocal\". The closer the instrumentalness value is to 1.0, the greater likelihood the track contains no vocal content. Values *above 0.5* are intended to represent instrumental tracks, but confidence is higher as the value approaches 1.0.\n",
    "\n",
    "* **liveness**:\n",
    "Detects the presence of an audience in the recording. Higher liveness values represent an increased probability that the track was performed live. A value *above 0.8* provides strong likelihood that the track is live.\n",
    "\n",
    "* **speechiness**:\n",
    "Speechiness detects the presence of spoken words in a track. The more exclusively speech-like the recording (e.g. talk show, audio book, poetry), the closer to 1.0 the attribute value. Values *above 0.66* describe tracks that are probably made entirely of spoken words. Values *between 0.33 and 0.66* describe tracks that may contain both music and speech, either in sections or layered, including such cases as rap music. Values *below 0.33* most likely represent music and other non-speech-like tracks.\n",
    "\n",
    "* **valence**:\n",
    "A measure from 0.0 to 1.0 describing the musical positiveness conveyed by a track. Tracks with *high valence* sound *more positive* (e.g. happy, cheerful, euphoric), while tracks with *low valence* sound *more negative* (e.g. sad, depressed, angry).\n",
    "\n",
    "* **tempo**:\n",
    "The overall estimated tempo of a track in beats per minute (BPM). In musical terminology, tempo is the speed or pace of a given piece and derives directly from the average beat duration."
   ]
  },
  {
   "cell_type": "markdown",
   "metadata": {},
   "source": [
    "## Code"
   ]
  },
  {
   "cell_type": "code",
   "execution_count": 61,
   "metadata": {},
   "outputs": [],
   "source": [
    "# importing useful libraries\n",
    "import numpy as np\n",
    "import pandas as pd\n",
    "import matplotlib.pyplot as plt\n",
    "import seaborn as sns\n",
    "sep = \";\""
   ]
  },
  {
   "cell_type": "code",
   "execution_count": 62,
   "metadata": {},
   "outputs": [],
   "source": [
    "sns.set_palette(\"Set2\") # set seaborn color palette"
   ]
  },
  {
   "cell_type": "code",
   "execution_count": 63,
   "metadata": {},
   "outputs": [],
   "source": [
    "df = pd.read_csv('data.csv',sep=sep)"
   ]
  },
  {
   "cell_type": "code",
   "execution_count": 64,
   "metadata": {},
   "outputs": [
    {
     "data": {
      "text/html": [
       "<div>\n",
       "<style scoped>\n",
       "    .dataframe tbody tr th:only-of-type {\n",
       "        vertical-align: middle;\n",
       "    }\n",
       "\n",
       "    .dataframe tbody tr th {\n",
       "        vertical-align: top;\n",
       "    }\n",
       "\n",
       "    .dataframe thead th {\n",
       "        text-align: right;\n",
       "    }\n",
       "</style>\n",
       "<table border=\"1\" class=\"dataframe\">\n",
       "  <thead>\n",
       "    <tr style=\"text-align: right;\">\n",
       "      <th></th>\n",
       "      <th>track_name</th>\n",
       "      <th>artists</th>\n",
       "      <th>album</th>\n",
       "      <th>danceability</th>\n",
       "      <th>energy</th>\n",
       "      <th>key</th>\n",
       "      <th>loudness</th>\n",
       "      <th>mode</th>\n",
       "      <th>speechiness</th>\n",
       "      <th>acousticness</th>\n",
       "      <th>...</th>\n",
       "      <th>liveness</th>\n",
       "      <th>valence</th>\n",
       "      <th>tempo</th>\n",
       "      <th>duration_ms</th>\n",
       "      <th>time_signature</th>\n",
       "      <th>popularity</th>\n",
       "      <th>year</th>\n",
       "      <th>ranking</th>\n",
       "      <th>critic score</th>\n",
       "      <th>popularity_normalized</th>\n",
       "    </tr>\n",
       "  </thead>\n",
       "  <tbody>\n",
       "    <tr>\n",
       "      <th>0</th>\n",
       "      <td>Wouldn't It Be Nice</td>\n",
       "      <td>The Beach Boys</td>\n",
       "      <td>Greatest Hits</td>\n",
       "      <td>0.385</td>\n",
       "      <td>0.657</td>\n",
       "      <td>5</td>\n",
       "      <td>-6.975</td>\n",
       "      <td>1</td>\n",
       "      <td>0.0342</td>\n",
       "      <td>0.724000</td>\n",
       "      <td>...</td>\n",
       "      <td>0.1050</td>\n",
       "      <td>0.672</td>\n",
       "      <td>124.895</td>\n",
       "      <td>153867</td>\n",
       "      <td>4</td>\n",
       "      <td>60</td>\n",
       "      <td>2012</td>\n",
       "      <td>1</td>\n",
       "      <td>1</td>\n",
       "      <td>0,6125</td>\n",
       "    </tr>\n",
       "    <tr>\n",
       "      <th>1</th>\n",
       "      <td>God Only Knows</td>\n",
       "      <td>The Beach Boys</td>\n",
       "      <td>50 Big Ones: Greatest Hits</td>\n",
       "      <td>0.433</td>\n",
       "      <td>0.469</td>\n",
       "      <td>6</td>\n",
       "      <td>-9.853</td>\n",
       "      <td>0</td>\n",
       "      <td>0.0320</td>\n",
       "      <td>0.156000</td>\n",
       "      <td>...</td>\n",
       "      <td>0.0479</td>\n",
       "      <td>0.334</td>\n",
       "      <td>115.876</td>\n",
       "      <td>175787</td>\n",
       "      <td>4</td>\n",
       "      <td>51</td>\n",
       "      <td>2012</td>\n",
       "      <td>1</td>\n",
       "      <td>1</td>\n",
       "      <td>0,5</td>\n",
       "    </tr>\n",
       "    <tr>\n",
       "      <th>2</th>\n",
       "      <td>Sinnerman</td>\n",
       "      <td>Nina Simone</td>\n",
       "      <td>Pastel Blues</td>\n",
       "      <td>0.436</td>\n",
       "      <td>0.543</td>\n",
       "      <td>11</td>\n",
       "      <td>-13.351</td>\n",
       "      <td>0</td>\n",
       "      <td>0.0962</td>\n",
       "      <td>0.654000</td>\n",
       "      <td>...</td>\n",
       "      <td>0.0937</td>\n",
       "      <td>0.663</td>\n",
       "      <td>148.282</td>\n",
       "      <td>622000</td>\n",
       "      <td>4</td>\n",
       "      <td>63</td>\n",
       "      <td>1965</td>\n",
       "      <td>2</td>\n",
       "      <td>0,997995992</td>\n",
       "      <td>0,65</td>\n",
       "    </tr>\n",
       "    <tr>\n",
       "      <th>3</th>\n",
       "      <td>How to Disappear Completely</td>\n",
       "      <td>Radiohead</td>\n",
       "      <td>Kid A</td>\n",
       "      <td>0.167</td>\n",
       "      <td>0.302</td>\n",
       "      <td>6</td>\n",
       "      <td>-11.644</td>\n",
       "      <td>0</td>\n",
       "      <td>0.0345</td>\n",
       "      <td>0.316000</td>\n",
       "      <td>...</td>\n",
       "      <td>0.1100</td>\n",
       "      <td>0.190</td>\n",
       "      <td>102.026</td>\n",
       "      <td>356333</td>\n",
       "      <td>4</td>\n",
       "      <td>67</td>\n",
       "      <td>2000</td>\n",
       "      <td>3</td>\n",
       "      <td>0,995991984</td>\n",
       "      <td>0,7</td>\n",
       "    </tr>\n",
       "    <tr>\n",
       "      <th>4</th>\n",
       "      <td>when you sleep</td>\n",
       "      <td>my bloody valentine</td>\n",
       "      <td>loveless</td>\n",
       "      <td>0.399</td>\n",
       "      <td>0.866</td>\n",
       "      <td>6</td>\n",
       "      <td>-9.720</td>\n",
       "      <td>1</td>\n",
       "      <td>0.0558</td>\n",
       "      <td>0.000034</td>\n",
       "      <td>...</td>\n",
       "      <td>0.0785</td>\n",
       "      <td>0.125</td>\n",
       "      <td>128.864</td>\n",
       "      <td>251947</td>\n",
       "      <td>4</td>\n",
       "      <td>62</td>\n",
       "      <td>1991</td>\n",
       "      <td>4</td>\n",
       "      <td>0,993987976</td>\n",
       "      <td>0,6375</td>\n",
       "    </tr>\n",
       "  </tbody>\n",
       "</table>\n",
       "<p>5 rows × 21 columns</p>\n",
       "</div>"
      ],
      "text/plain": [
       "                    track_name              artists  \\\n",
       "0          Wouldn't It Be Nice       The Beach Boys   \n",
       "1               God Only Knows       The Beach Boys   \n",
       "2                    Sinnerman          Nina Simone   \n",
       "3  How to Disappear Completely            Radiohead   \n",
       "4               when you sleep  my bloody valentine   \n",
       "\n",
       "                        album  danceability  energy  key  loudness  mode  \\\n",
       "0               Greatest Hits         0.385   0.657    5    -6.975     1   \n",
       "1  50 Big Ones: Greatest Hits         0.433   0.469    6    -9.853     0   \n",
       "2                Pastel Blues         0.436   0.543   11   -13.351     0   \n",
       "3                       Kid A         0.167   0.302    6   -11.644     0   \n",
       "4                    loveless         0.399   0.866    6    -9.720     1   \n",
       "\n",
       "   speechiness  acousticness  ...  liveness  valence    tempo  duration_ms  \\\n",
       "0       0.0342      0.724000  ...    0.1050    0.672  124.895       153867   \n",
       "1       0.0320      0.156000  ...    0.0479    0.334  115.876       175787   \n",
       "2       0.0962      0.654000  ...    0.0937    0.663  148.282       622000   \n",
       "3       0.0345      0.316000  ...    0.1100    0.190  102.026       356333   \n",
       "4       0.0558      0.000034  ...    0.0785    0.125  128.864       251947   \n",
       "\n",
       "   time_signature  popularity  year  ranking  critic score  \\\n",
       "0               4          60  2012        1             1   \n",
       "1               4          51  2012        1             1   \n",
       "2               4          63  1965        2   0,997995992   \n",
       "3               4          67  2000        3   0,995991984   \n",
       "4               4          62  1991        4   0,993987976   \n",
       "\n",
       "  popularity_normalized  \n",
       "0                0,6125  \n",
       "1                   0,5  \n",
       "2                  0,65  \n",
       "3                   0,7  \n",
       "4                0,6375  \n",
       "\n",
       "[5 rows x 21 columns]"
      ]
     },
     "execution_count": 64,
     "metadata": {},
     "output_type": "execute_result"
    }
   ],
   "source": [
    "df.head() # check data shape"
   ]
  },
  {
   "cell_type": "markdown",
   "metadata": {},
   "source": [
    "Dropping columns which are not useful to our analysis"
   ]
  },
  {
   "cell_type": "code",
   "execution_count": 65,
   "metadata": {},
   "outputs": [],
   "source": [
    "df1 = df.drop(['time_signature','mode','key','liveness','popularity','ranking'],axis=1)\n"
   ]
  },
  {
   "cell_type": "code",
   "execution_count": 66,
   "metadata": {},
   "outputs": [
    {
     "data": {
      "text/html": [
       "<div>\n",
       "<style scoped>\n",
       "    .dataframe tbody tr th:only-of-type {\n",
       "        vertical-align: middle;\n",
       "    }\n",
       "\n",
       "    .dataframe tbody tr th {\n",
       "        vertical-align: top;\n",
       "    }\n",
       "\n",
       "    .dataframe thead th {\n",
       "        text-align: right;\n",
       "    }\n",
       "</style>\n",
       "<table border=\"1\" class=\"dataframe\">\n",
       "  <thead>\n",
       "    <tr style=\"text-align: right;\">\n",
       "      <th></th>\n",
       "      <th>track_name</th>\n",
       "      <th>artists</th>\n",
       "      <th>album</th>\n",
       "      <th>danceability</th>\n",
       "      <th>energy</th>\n",
       "      <th>loudness</th>\n",
       "      <th>speechiness</th>\n",
       "      <th>acousticness</th>\n",
       "      <th>instrumentalness</th>\n",
       "      <th>valence</th>\n",
       "      <th>tempo</th>\n",
       "      <th>duration_ms</th>\n",
       "      <th>year</th>\n",
       "      <th>critic score</th>\n",
       "      <th>popularity_normalized</th>\n",
       "    </tr>\n",
       "  </thead>\n",
       "  <tbody>\n",
       "    <tr>\n",
       "      <th>0</th>\n",
       "      <td>Wouldn't It Be Nice</td>\n",
       "      <td>The Beach Boys</td>\n",
       "      <td>Greatest Hits</td>\n",
       "      <td>0.385</td>\n",
       "      <td>0.657</td>\n",
       "      <td>-6.975</td>\n",
       "      <td>0.0342</td>\n",
       "      <td>0.724000</td>\n",
       "      <td>0.000000</td>\n",
       "      <td>0.672</td>\n",
       "      <td>124.895</td>\n",
       "      <td>153867</td>\n",
       "      <td>2012</td>\n",
       "      <td>1</td>\n",
       "      <td>0,6125</td>\n",
       "    </tr>\n",
       "    <tr>\n",
       "      <th>1</th>\n",
       "      <td>God Only Knows</td>\n",
       "      <td>The Beach Boys</td>\n",
       "      <td>50 Big Ones: Greatest Hits</td>\n",
       "      <td>0.433</td>\n",
       "      <td>0.469</td>\n",
       "      <td>-9.853</td>\n",
       "      <td>0.0320</td>\n",
       "      <td>0.156000</td>\n",
       "      <td>0.000000</td>\n",
       "      <td>0.334</td>\n",
       "      <td>115.876</td>\n",
       "      <td>175787</td>\n",
       "      <td>2012</td>\n",
       "      <td>1</td>\n",
       "      <td>0,5</td>\n",
       "    </tr>\n",
       "    <tr>\n",
       "      <th>2</th>\n",
       "      <td>Sinnerman</td>\n",
       "      <td>Nina Simone</td>\n",
       "      <td>Pastel Blues</td>\n",
       "      <td>0.436</td>\n",
       "      <td>0.543</td>\n",
       "      <td>-13.351</td>\n",
       "      <td>0.0962</td>\n",
       "      <td>0.654000</td>\n",
       "      <td>0.000009</td>\n",
       "      <td>0.663</td>\n",
       "      <td>148.282</td>\n",
       "      <td>622000</td>\n",
       "      <td>1965</td>\n",
       "      <td>0,997995992</td>\n",
       "      <td>0,65</td>\n",
       "    </tr>\n",
       "    <tr>\n",
       "      <th>3</th>\n",
       "      <td>How to Disappear Completely</td>\n",
       "      <td>Radiohead</td>\n",
       "      <td>Kid A</td>\n",
       "      <td>0.167</td>\n",
       "      <td>0.302</td>\n",
       "      <td>-11.644</td>\n",
       "      <td>0.0345</td>\n",
       "      <td>0.316000</td>\n",
       "      <td>0.797000</td>\n",
       "      <td>0.190</td>\n",
       "      <td>102.026</td>\n",
       "      <td>356333</td>\n",
       "      <td>2000</td>\n",
       "      <td>0,995991984</td>\n",
       "      <td>0,7</td>\n",
       "    </tr>\n",
       "    <tr>\n",
       "      <th>4</th>\n",
       "      <td>when you sleep</td>\n",
       "      <td>my bloody valentine</td>\n",
       "      <td>loveless</td>\n",
       "      <td>0.399</td>\n",
       "      <td>0.866</td>\n",
       "      <td>-9.720</td>\n",
       "      <td>0.0558</td>\n",
       "      <td>0.000034</td>\n",
       "      <td>0.738000</td>\n",
       "      <td>0.125</td>\n",
       "      <td>128.864</td>\n",
       "      <td>251947</td>\n",
       "      <td>1991</td>\n",
       "      <td>0,993987976</td>\n",
       "      <td>0,6375</td>\n",
       "    </tr>\n",
       "  </tbody>\n",
       "</table>\n",
       "</div>"
      ],
      "text/plain": [
       "                    track_name              artists  \\\n",
       "0          Wouldn't It Be Nice       The Beach Boys   \n",
       "1               God Only Knows       The Beach Boys   \n",
       "2                    Sinnerman          Nina Simone   \n",
       "3  How to Disappear Completely            Radiohead   \n",
       "4               when you sleep  my bloody valentine   \n",
       "\n",
       "                        album  danceability  energy  loudness  speechiness  \\\n",
       "0               Greatest Hits         0.385   0.657    -6.975       0.0342   \n",
       "1  50 Big Ones: Greatest Hits         0.433   0.469    -9.853       0.0320   \n",
       "2                Pastel Blues         0.436   0.543   -13.351       0.0962   \n",
       "3                       Kid A         0.167   0.302   -11.644       0.0345   \n",
       "4                    loveless         0.399   0.866    -9.720       0.0558   \n",
       "\n",
       "   acousticness  instrumentalness  valence    tempo  duration_ms  year  \\\n",
       "0      0.724000          0.000000    0.672  124.895       153867  2012   \n",
       "1      0.156000          0.000000    0.334  115.876       175787  2012   \n",
       "2      0.654000          0.000009    0.663  148.282       622000  1965   \n",
       "3      0.316000          0.797000    0.190  102.026       356333  2000   \n",
       "4      0.000034          0.738000    0.125  128.864       251947  1991   \n",
       "\n",
       "  critic score popularity_normalized  \n",
       "0            1                0,6125  \n",
       "1            1                   0,5  \n",
       "2  0,997995992                  0,65  \n",
       "3  0,995991984                   0,7  \n",
       "4  0,993987976                0,6375  "
      ]
     },
     "execution_count": 66,
     "metadata": {},
     "output_type": "execute_result"
    }
   ],
   "source": [
    "df1.head() #check if columns where properly dropped"
   ]
  },
  {
   "cell_type": "markdown",
   "metadata": {},
   "source": [
    "### Pre-processing columns"
   ]
  },
  {
   "cell_type": "markdown",
   "metadata": {},
   "source": [
    "In this section we prepare the columns `year` and `duration_ms` for discretization"
   ]
  },
  {
   "cell_type": "markdown",
   "metadata": {},
   "source": [
    "* **year**: Convert release date to the decade the album was released in order to discretize the value in order to obtain the **'decade'** column."
   ]
  },
  {
   "cell_type": "code",
   "execution_count": 67,
   "metadata": {},
   "outputs": [],
   "source": [
    "df1['decade'] = (10 * (df1['year'] // 10)) "
   ]
  },
  {
   "cell_type": "code",
   "execution_count": 68,
   "metadata": {},
   "outputs": [
    {
     "name": "stdout",
     "output_type": "stream",
     "text": [
      "1920 2020\n"
     ]
    }
   ],
   "source": [
    "#Printing the min and max values of Release date in order to better discretize the release date \n",
    "# column\n",
    "print(np.min(df1['decade']), np.max(df1['decade']))"
   ]
  },
  {
   "cell_type": "markdown",
   "metadata": {},
   "source": [
    "### Approximate duration into minutes"
   ]
  },
  {
   "cell_type": "markdown",
   "metadata": {},
   "source": [
    "* **duration_ms**: Through a helper function we convert duration_ms into **'duration_min '**\n",
    " "
   ]
  },
  {
   "cell_type": "markdown",
   "metadata": {},
   "source": [
    "\n",
    "The get_min function takes as input an int value in milliseconds and converts it into an integer\n",
    "that corresponds to the nearest minute. For example, that means that if a duration in milliseconds \n",
    "is equal 3 minutes and 30 seconds it is approximated to the nearest minute which is 4.\n",
    "\n"
   ]
  },
  {
   "cell_type": "code",
   "execution_count": 69,
   "metadata": {},
   "outputs": [],
   "source": [
    "def get_min(ms):\n",
    "    minutes=float(ms/float(1000*60))%60.\n",
    "    return int((round(minutes,0))\n",
    ")"
   ]
  },
  {
   "cell_type": "code",
   "execution_count": 70,
   "metadata": {},
   "outputs": [
    {
     "name": "stdout",
     "output_type": "stream",
     "text": [
      "4 minutes\n",
      "3 minutes\n"
     ]
    }
   ],
   "source": [
    "print(get_min(210000),'minutes') # 210000 milliseconds is equal to 3 minutes and 30 seconds\n",
    "print(get_min(209000),'minutes') # 209000 milliseconds is equal to 3 minutes and 29 seconds"
   ]
  },
  {
   "cell_type": "code",
   "execution_count": 71,
   "metadata": {},
   "outputs": [
    {
     "data": {
      "text/html": [
       "<div>\n",
       "<style scoped>\n",
       "    .dataframe tbody tr th:only-of-type {\n",
       "        vertical-align: middle;\n",
       "    }\n",
       "\n",
       "    .dataframe tbody tr th {\n",
       "        vertical-align: top;\n",
       "    }\n",
       "\n",
       "    .dataframe thead th {\n",
       "        text-align: right;\n",
       "    }\n",
       "</style>\n",
       "<table border=\"1\" class=\"dataframe\">\n",
       "  <thead>\n",
       "    <tr style=\"text-align: right;\">\n",
       "      <th></th>\n",
       "      <th>track_name</th>\n",
       "      <th>artists</th>\n",
       "      <th>album</th>\n",
       "      <th>danceability</th>\n",
       "      <th>energy</th>\n",
       "      <th>loudness</th>\n",
       "      <th>speechiness</th>\n",
       "      <th>acousticness</th>\n",
       "      <th>instrumentalness</th>\n",
       "      <th>valence</th>\n",
       "      <th>tempo</th>\n",
       "      <th>duration_ms</th>\n",
       "      <th>year</th>\n",
       "      <th>critic score</th>\n",
       "      <th>popularity_normalized</th>\n",
       "      <th>decade</th>\n",
       "      <th>duration_min</th>\n",
       "    </tr>\n",
       "  </thead>\n",
       "  <tbody>\n",
       "    <tr>\n",
       "      <th>0</th>\n",
       "      <td>Wouldn't It Be Nice</td>\n",
       "      <td>The Beach Boys</td>\n",
       "      <td>Greatest Hits</td>\n",
       "      <td>0.385</td>\n",
       "      <td>0.657</td>\n",
       "      <td>-6.975</td>\n",
       "      <td>0.0342</td>\n",
       "      <td>0.724000</td>\n",
       "      <td>0.000000</td>\n",
       "      <td>0.672</td>\n",
       "      <td>124.895</td>\n",
       "      <td>153867</td>\n",
       "      <td>2012</td>\n",
       "      <td>1</td>\n",
       "      <td>0,6125</td>\n",
       "      <td>2010</td>\n",
       "      <td>3</td>\n",
       "    </tr>\n",
       "    <tr>\n",
       "      <th>1</th>\n",
       "      <td>God Only Knows</td>\n",
       "      <td>The Beach Boys</td>\n",
       "      <td>50 Big Ones: Greatest Hits</td>\n",
       "      <td>0.433</td>\n",
       "      <td>0.469</td>\n",
       "      <td>-9.853</td>\n",
       "      <td>0.0320</td>\n",
       "      <td>0.156000</td>\n",
       "      <td>0.000000</td>\n",
       "      <td>0.334</td>\n",
       "      <td>115.876</td>\n",
       "      <td>175787</td>\n",
       "      <td>2012</td>\n",
       "      <td>1</td>\n",
       "      <td>0,5</td>\n",
       "      <td>2010</td>\n",
       "      <td>3</td>\n",
       "    </tr>\n",
       "    <tr>\n",
       "      <th>2</th>\n",
       "      <td>Sinnerman</td>\n",
       "      <td>Nina Simone</td>\n",
       "      <td>Pastel Blues</td>\n",
       "      <td>0.436</td>\n",
       "      <td>0.543</td>\n",
       "      <td>-13.351</td>\n",
       "      <td>0.0962</td>\n",
       "      <td>0.654000</td>\n",
       "      <td>0.000009</td>\n",
       "      <td>0.663</td>\n",
       "      <td>148.282</td>\n",
       "      <td>622000</td>\n",
       "      <td>1965</td>\n",
       "      <td>0,997995992</td>\n",
       "      <td>0,65</td>\n",
       "      <td>1960</td>\n",
       "      <td>10</td>\n",
       "    </tr>\n",
       "    <tr>\n",
       "      <th>3</th>\n",
       "      <td>How to Disappear Completely</td>\n",
       "      <td>Radiohead</td>\n",
       "      <td>Kid A</td>\n",
       "      <td>0.167</td>\n",
       "      <td>0.302</td>\n",
       "      <td>-11.644</td>\n",
       "      <td>0.0345</td>\n",
       "      <td>0.316000</td>\n",
       "      <td>0.797000</td>\n",
       "      <td>0.190</td>\n",
       "      <td>102.026</td>\n",
       "      <td>356333</td>\n",
       "      <td>2000</td>\n",
       "      <td>0,995991984</td>\n",
       "      <td>0,7</td>\n",
       "      <td>2000</td>\n",
       "      <td>6</td>\n",
       "    </tr>\n",
       "    <tr>\n",
       "      <th>4</th>\n",
       "      <td>when you sleep</td>\n",
       "      <td>my bloody valentine</td>\n",
       "      <td>loveless</td>\n",
       "      <td>0.399</td>\n",
       "      <td>0.866</td>\n",
       "      <td>-9.720</td>\n",
       "      <td>0.0558</td>\n",
       "      <td>0.000034</td>\n",
       "      <td>0.738000</td>\n",
       "      <td>0.125</td>\n",
       "      <td>128.864</td>\n",
       "      <td>251947</td>\n",
       "      <td>1991</td>\n",
       "      <td>0,993987976</td>\n",
       "      <td>0,6375</td>\n",
       "      <td>1990</td>\n",
       "      <td>4</td>\n",
       "    </tr>\n",
       "  </tbody>\n",
       "</table>\n",
       "</div>"
      ],
      "text/plain": [
       "                    track_name              artists  \\\n",
       "0          Wouldn't It Be Nice       The Beach Boys   \n",
       "1               God Only Knows       The Beach Boys   \n",
       "2                    Sinnerman          Nina Simone   \n",
       "3  How to Disappear Completely            Radiohead   \n",
       "4               when you sleep  my bloody valentine   \n",
       "\n",
       "                        album  danceability  energy  loudness  speechiness  \\\n",
       "0               Greatest Hits         0.385   0.657    -6.975       0.0342   \n",
       "1  50 Big Ones: Greatest Hits         0.433   0.469    -9.853       0.0320   \n",
       "2                Pastel Blues         0.436   0.543   -13.351       0.0962   \n",
       "3                       Kid A         0.167   0.302   -11.644       0.0345   \n",
       "4                    loveless         0.399   0.866    -9.720       0.0558   \n",
       "\n",
       "   acousticness  instrumentalness  valence    tempo  duration_ms  year  \\\n",
       "0      0.724000          0.000000    0.672  124.895       153867  2012   \n",
       "1      0.156000          0.000000    0.334  115.876       175787  2012   \n",
       "2      0.654000          0.000009    0.663  148.282       622000  1965   \n",
       "3      0.316000          0.797000    0.190  102.026       356333  2000   \n",
       "4      0.000034          0.738000    0.125  128.864       251947  1991   \n",
       "\n",
       "  critic score popularity_normalized  decade  duration_min  \n",
       "0            1                0,6125    2010             3  \n",
       "1            1                   0,5    2010             3  \n",
       "2  0,997995992                  0,65    1960            10  \n",
       "3  0,995991984                   0,7    2000             6  \n",
       "4  0,993987976                0,6375    1990             4  "
      ]
     },
     "execution_count": 71,
     "metadata": {},
     "output_type": "execute_result"
    }
   ],
   "source": [
    "df1['duration_min'] =df1['duration_ms'].apply(lambda x: get_min(x)) # use apply function to use the get min function on every row of the get_min column\n",
    "df1.head()"
   ]
  },
  {
   "cell_type": "code",
   "execution_count": 72,
   "metadata": {},
   "outputs": [
    {
     "data": {
      "text/html": [
       "<div>\n",
       "<style scoped>\n",
       "    .dataframe tbody tr th:only-of-type {\n",
       "        vertical-align: middle;\n",
       "    }\n",
       "\n",
       "    .dataframe tbody tr th {\n",
       "        vertical-align: top;\n",
       "    }\n",
       "\n",
       "    .dataframe thead th {\n",
       "        text-align: right;\n",
       "    }\n",
       "</style>\n",
       "<table border=\"1\" class=\"dataframe\">\n",
       "  <thead>\n",
       "    <tr style=\"text-align: right;\">\n",
       "      <th></th>\n",
       "      <th>track_name</th>\n",
       "      <th>artists</th>\n",
       "      <th>album</th>\n",
       "      <th>danceability</th>\n",
       "      <th>energy</th>\n",
       "      <th>loudness</th>\n",
       "      <th>speechiness</th>\n",
       "      <th>acousticness</th>\n",
       "      <th>instrumentalness</th>\n",
       "      <th>valence</th>\n",
       "      <th>tempo</th>\n",
       "      <th>duration_ms</th>\n",
       "      <th>year</th>\n",
       "      <th>critic score</th>\n",
       "      <th>popularity_normalized</th>\n",
       "      <th>decade</th>\n",
       "      <th>duration_min</th>\n",
       "    </tr>\n",
       "  </thead>\n",
       "  <tbody>\n",
       "    <tr>\n",
       "      <th>181</th>\n",
       "      <td>The Dripping Tap</td>\n",
       "      <td>King Gizzard &amp; The Lizard Wizard</td>\n",
       "      <td>Omnium Gatherum</td>\n",
       "      <td>0.188</td>\n",
       "      <td>0.942</td>\n",
       "      <td>-4.706</td>\n",
       "      <td>0.1910</td>\n",
       "      <td>0.000505</td>\n",
       "      <td>0.620</td>\n",
       "      <td>0.2310</td>\n",
       "      <td>179.248</td>\n",
       "      <td>1097013</td>\n",
       "      <td>2022</td>\n",
       "      <td>0,679358717</td>\n",
       "      <td>0,55</td>\n",
       "      <td>2020</td>\n",
       "      <td>18</td>\n",
       "    </tr>\n",
       "    <tr>\n",
       "      <th>295</th>\n",
       "      <td>Head On/Pill - Live in San Francisco '16</td>\n",
       "      <td>King Gizzard &amp; The Lizard Wizard</td>\n",
       "      <td>Live in San Francisco '16</td>\n",
       "      <td>0.184</td>\n",
       "      <td>0.719</td>\n",
       "      <td>-9.043</td>\n",
       "      <td>0.0930</td>\n",
       "      <td>0.056900</td>\n",
       "      <td>0.197</td>\n",
       "      <td>0.1680</td>\n",
       "      <td>193.214</td>\n",
       "      <td>1350627</td>\n",
       "      <td>2020</td>\n",
       "      <td>0,468937876</td>\n",
       "      <td>0,1125</td>\n",
       "      <td>2020</td>\n",
       "      <td>23</td>\n",
       "    </tr>\n",
       "    <tr>\n",
       "      <th>369</th>\n",
       "      <td>The Diamond Sea</td>\n",
       "      <td>Sonic Youth</td>\n",
       "      <td>Washing Machine</td>\n",
       "      <td>0.260</td>\n",
       "      <td>0.641</td>\n",
       "      <td>-8.696</td>\n",
       "      <td>0.0414</td>\n",
       "      <td>0.149000</td>\n",
       "      <td>0.293</td>\n",
       "      <td>0.0433</td>\n",
       "      <td>114.534</td>\n",
       "      <td>1177293</td>\n",
       "      <td>1995</td>\n",
       "      <td>0,322645291</td>\n",
       "      <td>0,325</td>\n",
       "      <td>1990</td>\n",
       "      <td>20</td>\n",
       "    </tr>\n",
       "  </tbody>\n",
       "</table>\n",
       "</div>"
      ],
      "text/plain": [
       "                                   track_name  \\\n",
       "181                          The Dripping Tap   \n",
       "295  Head On/Pill - Live in San Francisco '16   \n",
       "369                           The Diamond Sea   \n",
       "\n",
       "                              artists                      album  \\\n",
       "181  King Gizzard & The Lizard Wizard            Omnium Gatherum   \n",
       "295  King Gizzard & The Lizard Wizard  Live in San Francisco '16   \n",
       "369                       Sonic Youth            Washing Machine   \n",
       "\n",
       "     danceability  energy  loudness  speechiness  acousticness  \\\n",
       "181         0.188   0.942    -4.706       0.1910      0.000505   \n",
       "295         0.184   0.719    -9.043       0.0930      0.056900   \n",
       "369         0.260   0.641    -8.696       0.0414      0.149000   \n",
       "\n",
       "     instrumentalness  valence    tempo  duration_ms  year critic score  \\\n",
       "181             0.620   0.2310  179.248      1097013  2022  0,679358717   \n",
       "295             0.197   0.1680  193.214      1350627  2020  0,468937876   \n",
       "369             0.293   0.0433  114.534      1177293  1995  0,322645291   \n",
       "\n",
       "    popularity_normalized  decade  duration_min  \n",
       "181                  0,55    2020            18  \n",
       "295                0,1125    2020            23  \n",
       "369                 0,325    1990            20  "
      ]
     },
     "execution_count": 72,
     "metadata": {},
     "output_type": "execute_result"
    }
   ],
   "source": [
    "df1[df1['duration_min'] > 15] # Drop rows with songs that are too long"
   ]
  },
  {
   "cell_type": "code",
   "execution_count": 73,
   "metadata": {},
   "outputs": [],
   "source": [
    "df2 = df1.drop(df1[df1.duration_min > 15].index,axis=0) "
   ]
  },
  {
   "cell_type": "code",
   "execution_count": 74,
   "metadata": {},
   "outputs": [],
   "source": [
    "# Remove live songs\n",
    "df3=df2.drop(df2[df2['album'].str.contains(\"live\", case=False)].index,axis=0)"
   ]
  },
  {
   "cell_type": "code",
   "execution_count": 75,
   "metadata": {},
   "outputs": [
    {
     "data": {
      "text/html": [
       "<div>\n",
       "<style scoped>\n",
       "    .dataframe tbody tr th:only-of-type {\n",
       "        vertical-align: middle;\n",
       "    }\n",
       "\n",
       "    .dataframe tbody tr th {\n",
       "        vertical-align: top;\n",
       "    }\n",
       "\n",
       "    .dataframe thead th {\n",
       "        text-align: right;\n",
       "    }\n",
       "</style>\n",
       "<table border=\"1\" class=\"dataframe\">\n",
       "  <thead>\n",
       "    <tr style=\"text-align: right;\">\n",
       "      <th></th>\n",
       "      <th>track_name</th>\n",
       "      <th>artists</th>\n",
       "      <th>album</th>\n",
       "      <th>danceability</th>\n",
       "      <th>energy</th>\n",
       "      <th>loudness</th>\n",
       "      <th>speechiness</th>\n",
       "      <th>acousticness</th>\n",
       "      <th>instrumentalness</th>\n",
       "      <th>valence</th>\n",
       "      <th>tempo</th>\n",
       "      <th>duration_ms</th>\n",
       "      <th>year</th>\n",
       "      <th>critic score</th>\n",
       "      <th>popularity_normalized</th>\n",
       "      <th>decade</th>\n",
       "      <th>duration_min</th>\n",
       "    </tr>\n",
       "  </thead>\n",
       "  <tbody>\n",
       "    <tr>\n",
       "      <th>0</th>\n",
       "      <td>Wouldn't It Be Nice</td>\n",
       "      <td>The Beach Boys</td>\n",
       "      <td>Greatest Hits</td>\n",
       "      <td>0.385</td>\n",
       "      <td>0.657</td>\n",
       "      <td>-6.975</td>\n",
       "      <td>0.0342</td>\n",
       "      <td>0.724000</td>\n",
       "      <td>0.000000</td>\n",
       "      <td>0.672</td>\n",
       "      <td>124.895</td>\n",
       "      <td>153867</td>\n",
       "      <td>2012</td>\n",
       "      <td>1</td>\n",
       "      <td>0,6125</td>\n",
       "      <td>2010</td>\n",
       "      <td>3</td>\n",
       "    </tr>\n",
       "    <tr>\n",
       "      <th>1</th>\n",
       "      <td>God Only Knows</td>\n",
       "      <td>The Beach Boys</td>\n",
       "      <td>50 Big Ones: Greatest Hits</td>\n",
       "      <td>0.433</td>\n",
       "      <td>0.469</td>\n",
       "      <td>-9.853</td>\n",
       "      <td>0.0320</td>\n",
       "      <td>0.156000</td>\n",
       "      <td>0.000000</td>\n",
       "      <td>0.334</td>\n",
       "      <td>115.876</td>\n",
       "      <td>175787</td>\n",
       "      <td>2012</td>\n",
       "      <td>1</td>\n",
       "      <td>0,5</td>\n",
       "      <td>2010</td>\n",
       "      <td>3</td>\n",
       "    </tr>\n",
       "    <tr>\n",
       "      <th>2</th>\n",
       "      <td>Sinnerman</td>\n",
       "      <td>Nina Simone</td>\n",
       "      <td>Pastel Blues</td>\n",
       "      <td>0.436</td>\n",
       "      <td>0.543</td>\n",
       "      <td>-13.351</td>\n",
       "      <td>0.0962</td>\n",
       "      <td>0.654000</td>\n",
       "      <td>0.000009</td>\n",
       "      <td>0.663</td>\n",
       "      <td>148.282</td>\n",
       "      <td>622000</td>\n",
       "      <td>1965</td>\n",
       "      <td>0,997995992</td>\n",
       "      <td>0,65</td>\n",
       "      <td>1960</td>\n",
       "      <td>10</td>\n",
       "    </tr>\n",
       "    <tr>\n",
       "      <th>3</th>\n",
       "      <td>How to Disappear Completely</td>\n",
       "      <td>Radiohead</td>\n",
       "      <td>Kid A</td>\n",
       "      <td>0.167</td>\n",
       "      <td>0.302</td>\n",
       "      <td>-11.644</td>\n",
       "      <td>0.0345</td>\n",
       "      <td>0.316000</td>\n",
       "      <td>0.797000</td>\n",
       "      <td>0.190</td>\n",
       "      <td>102.026</td>\n",
       "      <td>356333</td>\n",
       "      <td>2000</td>\n",
       "      <td>0,995991984</td>\n",
       "      <td>0,7</td>\n",
       "      <td>2000</td>\n",
       "      <td>6</td>\n",
       "    </tr>\n",
       "    <tr>\n",
       "      <th>4</th>\n",
       "      <td>when you sleep</td>\n",
       "      <td>my bloody valentine</td>\n",
       "      <td>loveless</td>\n",
       "      <td>0.399</td>\n",
       "      <td>0.866</td>\n",
       "      <td>-9.720</td>\n",
       "      <td>0.0558</td>\n",
       "      <td>0.000034</td>\n",
       "      <td>0.738000</td>\n",
       "      <td>0.125</td>\n",
       "      <td>128.864</td>\n",
       "      <td>251947</td>\n",
       "      <td>1991</td>\n",
       "      <td>0,993987976</td>\n",
       "      <td>0,6375</td>\n",
       "      <td>1990</td>\n",
       "      <td>4</td>\n",
       "    </tr>\n",
       "  </tbody>\n",
       "</table>\n",
       "</div>"
      ],
      "text/plain": [
       "                    track_name              artists  \\\n",
       "0          Wouldn't It Be Nice       The Beach Boys   \n",
       "1               God Only Knows       The Beach Boys   \n",
       "2                    Sinnerman          Nina Simone   \n",
       "3  How to Disappear Completely            Radiohead   \n",
       "4               when you sleep  my bloody valentine   \n",
       "\n",
       "                        album  danceability  energy  loudness  speechiness  \\\n",
       "0               Greatest Hits         0.385   0.657    -6.975       0.0342   \n",
       "1  50 Big Ones: Greatest Hits         0.433   0.469    -9.853       0.0320   \n",
       "2                Pastel Blues         0.436   0.543   -13.351       0.0962   \n",
       "3                       Kid A         0.167   0.302   -11.644       0.0345   \n",
       "4                    loveless         0.399   0.866    -9.720       0.0558   \n",
       "\n",
       "   acousticness  instrumentalness  valence    tempo  duration_ms  year  \\\n",
       "0      0.724000          0.000000    0.672  124.895       153867  2012   \n",
       "1      0.156000          0.000000    0.334  115.876       175787  2012   \n",
       "2      0.654000          0.000009    0.663  148.282       622000  1965   \n",
       "3      0.316000          0.797000    0.190  102.026       356333  2000   \n",
       "4      0.000034          0.738000    0.125  128.864       251947  1991   \n",
       "\n",
       "  critic score popularity_normalized  decade  duration_min  \n",
       "0            1                0,6125    2010             3  \n",
       "1            1                   0,5    2010             3  \n",
       "2  0,997995992                  0,65    1960            10  \n",
       "3  0,995991984                   0,7    2000             6  \n",
       "4  0,993987976                0,6375    1990             4  "
      ]
     },
     "execution_count": 75,
     "metadata": {},
     "output_type": "execute_result"
    }
   ],
   "source": [
    "df3.head()"
   ]
  },
  {
   "cell_type": "code",
   "execution_count": 76,
   "metadata": {},
   "outputs": [],
   "source": [
    "df4=df3.drop([\"duration_ms\",\"year\"],axis=1) # drop no longer useful columns"
   ]
  },
  {
   "cell_type": "code",
   "execution_count": 77,
   "metadata": {},
   "outputs": [
    {
     "data": {
      "text/plain": [
       "track_name                object\n",
       "artists                   object\n",
       "album                     object\n",
       "danceability             float64\n",
       "energy                   float64\n",
       "loudness                 float64\n",
       "speechiness              float64\n",
       "acousticness             float64\n",
       "instrumentalness         float64\n",
       "valence                  float64\n",
       "tempo                    float64\n",
       "critic score              object\n",
       "popularity_normalized     object\n",
       "decade                     int64\n",
       "duration_min               int64\n",
       "dtype: object"
      ]
     },
     "execution_count": 77,
     "metadata": {},
     "output_type": "execute_result"
    }
   ],
   "source": [
    "df4.dtypes #check if all data datatypes are ok"
   ]
  },
  {
   "cell_type": "markdown",
   "metadata": {},
   "source": [
    "`critic score` is treated as an object therefore we need to check if it is a `string` "
   ]
  },
  {
   "cell_type": "code",
   "execution_count": 78,
   "metadata": {},
   "outputs": [
    {
     "name": "stdout",
     "output_type": "stream",
     "text": [
      "Checking type of  critic score .... \n"
     ]
    },
    {
     "data": {
      "text/plain": [
       "str"
      ]
     },
     "execution_count": 78,
     "metadata": {},
     "output_type": "execute_result"
    }
   ],
   "source": [
    "print(\"Checking type of  critic score .... \")\n",
    "type_c = type(df4['critic score'][0])\n",
    "type_c"
   ]
  },
  {
   "cell_type": "code",
   "execution_count": 79,
   "metadata": {},
   "outputs": [
    {
     "data": {
      "text/plain": [
       "track_name                object\n",
       "artists                   object\n",
       "album                     object\n",
       "danceability             float64\n",
       "energy                   float64\n",
       "loudness                 float64\n",
       "speechiness              float64\n",
       "acousticness             float64\n",
       "instrumentalness         float64\n",
       "valence                  float64\n",
       "tempo                    float64\n",
       "critic score             float64\n",
       "popularity_normalized     object\n",
       "decade                     int64\n",
       "duration_min               int64\n",
       "dtype: object"
      ]
     },
     "execution_count": 79,
     "metadata": {},
     "output_type": "execute_result"
    }
   ],
   "source": [
    "# critic score was a string so we are casting it to a float\n",
    "df4['critic score'] = df4['critic score'].str.replace(',','.') # change decimal to dot instead of comma\n",
    "df4['critic score'] = df4['critic score'].astype(float)\n",
    "df4.dtypes # Now critic score is a float , need to reapeat the same with popularity_normalized    "
   ]
  },
  {
   "cell_type": "code",
   "execution_count": 80,
   "metadata": {},
   "outputs": [
    {
     "data": {
      "text/plain": [
       "track_name                object\n",
       "artists                   object\n",
       "album                     object\n",
       "danceability             float64\n",
       "energy                   float64\n",
       "loudness                 float64\n",
       "speechiness              float64\n",
       "acousticness             float64\n",
       "instrumentalness         float64\n",
       "valence                  float64\n",
       "tempo                    float64\n",
       "critic score             float64\n",
       "popularity_normalized    float64\n",
       "decade                     int64\n",
       "duration_min               int64\n",
       "dtype: object"
      ]
     },
     "execution_count": 80,
     "metadata": {},
     "output_type": "execute_result"
    }
   ],
   "source": [
    "# popularity_normalized was a string so we are casting it to a float\n",
    "df4['popularity_normalized'] = df4['popularity_normalized'].str.replace(',','.') # change decimal to dot instead of comma\n",
    "df4['popularity_normalized'] = df4['popularity_normalized'].astype(float)\n",
    "df4.dtypes     "
   ]
  },
  {
   "cell_type": "code",
   "execution_count": 81,
   "metadata": {},
   "outputs": [
    {
     "data": {
      "text/html": [
       "<div>\n",
       "<style scoped>\n",
       "    .dataframe tbody tr th:only-of-type {\n",
       "        vertical-align: middle;\n",
       "    }\n",
       "\n",
       "    .dataframe tbody tr th {\n",
       "        vertical-align: top;\n",
       "    }\n",
       "\n",
       "    .dataframe thead th {\n",
       "        text-align: right;\n",
       "    }\n",
       "</style>\n",
       "<table border=\"1\" class=\"dataframe\">\n",
       "  <thead>\n",
       "    <tr style=\"text-align: right;\">\n",
       "      <th></th>\n",
       "      <th>track_name</th>\n",
       "      <th>artists</th>\n",
       "      <th>album</th>\n",
       "      <th>danceability</th>\n",
       "      <th>energy</th>\n",
       "      <th>loudness</th>\n",
       "      <th>speechiness</th>\n",
       "      <th>acousticness</th>\n",
       "      <th>instrumentalness</th>\n",
       "      <th>valence</th>\n",
       "      <th>tempo</th>\n",
       "      <th>critic score</th>\n",
       "      <th>popularity_normalized</th>\n",
       "      <th>decade</th>\n",
       "      <th>duration_min</th>\n",
       "    </tr>\n",
       "  </thead>\n",
       "  <tbody>\n",
       "    <tr>\n",
       "      <th>0</th>\n",
       "      <td>Wouldn't It Be Nice</td>\n",
       "      <td>The Beach Boys</td>\n",
       "      <td>Greatest Hits</td>\n",
       "      <td>0.385</td>\n",
       "      <td>0.657</td>\n",
       "      <td>-6.975</td>\n",
       "      <td>0.0342</td>\n",
       "      <td>0.724000</td>\n",
       "      <td>0.000000</td>\n",
       "      <td>0.672</td>\n",
       "      <td>124.895</td>\n",
       "      <td>1.000000</td>\n",
       "      <td>0.6125</td>\n",
       "      <td>2010</td>\n",
       "      <td>3</td>\n",
       "    </tr>\n",
       "    <tr>\n",
       "      <th>1</th>\n",
       "      <td>God Only Knows</td>\n",
       "      <td>The Beach Boys</td>\n",
       "      <td>50 Big Ones: Greatest Hits</td>\n",
       "      <td>0.433</td>\n",
       "      <td>0.469</td>\n",
       "      <td>-9.853</td>\n",
       "      <td>0.0320</td>\n",
       "      <td>0.156000</td>\n",
       "      <td>0.000000</td>\n",
       "      <td>0.334</td>\n",
       "      <td>115.876</td>\n",
       "      <td>1.000000</td>\n",
       "      <td>0.5000</td>\n",
       "      <td>2010</td>\n",
       "      <td>3</td>\n",
       "    </tr>\n",
       "    <tr>\n",
       "      <th>2</th>\n",
       "      <td>Sinnerman</td>\n",
       "      <td>Nina Simone</td>\n",
       "      <td>Pastel Blues</td>\n",
       "      <td>0.436</td>\n",
       "      <td>0.543</td>\n",
       "      <td>-13.351</td>\n",
       "      <td>0.0962</td>\n",
       "      <td>0.654000</td>\n",
       "      <td>0.000009</td>\n",
       "      <td>0.663</td>\n",
       "      <td>148.282</td>\n",
       "      <td>0.997996</td>\n",
       "      <td>0.6500</td>\n",
       "      <td>1960</td>\n",
       "      <td>10</td>\n",
       "    </tr>\n",
       "    <tr>\n",
       "      <th>3</th>\n",
       "      <td>How to Disappear Completely</td>\n",
       "      <td>Radiohead</td>\n",
       "      <td>Kid A</td>\n",
       "      <td>0.167</td>\n",
       "      <td>0.302</td>\n",
       "      <td>-11.644</td>\n",
       "      <td>0.0345</td>\n",
       "      <td>0.316000</td>\n",
       "      <td>0.797000</td>\n",
       "      <td>0.190</td>\n",
       "      <td>102.026</td>\n",
       "      <td>0.995992</td>\n",
       "      <td>0.7000</td>\n",
       "      <td>2000</td>\n",
       "      <td>6</td>\n",
       "    </tr>\n",
       "    <tr>\n",
       "      <th>4</th>\n",
       "      <td>when you sleep</td>\n",
       "      <td>my bloody valentine</td>\n",
       "      <td>loveless</td>\n",
       "      <td>0.399</td>\n",
       "      <td>0.866</td>\n",
       "      <td>-9.720</td>\n",
       "      <td>0.0558</td>\n",
       "      <td>0.000034</td>\n",
       "      <td>0.738000</td>\n",
       "      <td>0.125</td>\n",
       "      <td>128.864</td>\n",
       "      <td>0.993988</td>\n",
       "      <td>0.6375</td>\n",
       "      <td>1990</td>\n",
       "      <td>4</td>\n",
       "    </tr>\n",
       "  </tbody>\n",
       "</table>\n",
       "</div>"
      ],
      "text/plain": [
       "                    track_name              artists  \\\n",
       "0          Wouldn't It Be Nice       The Beach Boys   \n",
       "1               God Only Knows       The Beach Boys   \n",
       "2                    Sinnerman          Nina Simone   \n",
       "3  How to Disappear Completely            Radiohead   \n",
       "4               when you sleep  my bloody valentine   \n",
       "\n",
       "                        album  danceability  energy  loudness  speechiness  \\\n",
       "0               Greatest Hits         0.385   0.657    -6.975       0.0342   \n",
       "1  50 Big Ones: Greatest Hits         0.433   0.469    -9.853       0.0320   \n",
       "2                Pastel Blues         0.436   0.543   -13.351       0.0962   \n",
       "3                       Kid A         0.167   0.302   -11.644       0.0345   \n",
       "4                    loveless         0.399   0.866    -9.720       0.0558   \n",
       "\n",
       "   acousticness  instrumentalness  valence    tempo  critic score  \\\n",
       "0      0.724000          0.000000    0.672  124.895      1.000000   \n",
       "1      0.156000          0.000000    0.334  115.876      1.000000   \n",
       "2      0.654000          0.000009    0.663  148.282      0.997996   \n",
       "3      0.316000          0.797000    0.190  102.026      0.995992   \n",
       "4      0.000034          0.738000    0.125  128.864      0.993988   \n",
       "\n",
       "   popularity_normalized  decade  duration_min  \n",
       "0                 0.6125    2010             3  \n",
       "1                 0.5000    2010             3  \n",
       "2                 0.6500    1960            10  \n",
       "3                 0.7000    2000             6  \n",
       "4                 0.6375    1990             4  "
      ]
     },
     "execution_count": 81,
     "metadata": {},
     "output_type": "execute_result"
    }
   ],
   "source": [
    "df4.head()"
   ]
  },
  {
   "cell_type": "markdown",
   "metadata": {},
   "source": [
    "### Inspecting relationship between variables"
   ]
  },
  {
   "cell_type": "markdown",
   "metadata": {},
   "source": [
    "We want to understand if we can have some prior knowledge on the relationship between the variables by looking at the correlation between them."
   ]
  },
  {
   "cell_type": "markdown",
   "metadata": {},
   "source": [
    "We make 2 correlation plots, one for `critic score` and one for `pop_scal` because if we have both `critic score` and `popularity_scal` the correlation plot is difficult to read, moreover we have chosen to use `pearson` correlation. Lastly, we drop `popularity` which was already processed."
   ]
  },
  {
   "cell_type": "code",
   "execution_count": 82,
   "metadata": {},
   "outputs": [],
   "source": [
    "# drop non relevant columns\n",
    "dfp=df4.drop([\"critic score\"],axis=1)"
   ]
  },
  {
   "cell_type": "code",
   "execution_count": 83,
   "metadata": {},
   "outputs": [
    {
     "data": {
      "image/png": "[encoded data removed]",
      "text/plain": [
       "<Figure size 936x792 with 2 Axes>"
      ]
     },
     "metadata": {
      "needs_background": "light"
     },
     "output_type": "display_data"
    }
   ],
   "source": [
    "plt.figure(figsize=(13,11))\n",
    "plt.title(\"Correlation with popularity\")\n",
    "corr = dfp.corr(method='pearson')\n",
    "mask = np.triu(np.ones_like(corr, dtype=bool))\n",
    "sns.heatmap(corr, \n",
    "            mask=mask, \n",
    "            annot=True, \n",
    "            cmap=sns.diverging_palette(20, 230, as_cmap=True),   \n",
    "            square = True,                                 \n",
    "            linewidths = 1.5,\n",
    "            cbar_kws = {\"shrink\": .8});"
   ]
  },
  {
   "cell_type": "code",
   "execution_count": 84,
   "metadata": {},
   "outputs": [],
   "source": [
    "dfc=df4.drop([\"popularity_normalized\"],axis=1)"
   ]
  },
  {
   "cell_type": "code",
   "execution_count": 85,
   "metadata": {},
   "outputs": [
    {
     "data": {
      "image/png": "[encoded data removed]",
      "text/plain": [
       "<Figure size 936x792 with 2 Axes>"
      ]
     },
     "metadata": {
      "needs_background": "light"
     },
     "output_type": "display_data"
    }
   ],
   "source": [
    "plt.figure(figsize=(13,11))\n",
    "corr = dfc.corr(method='pearson')\n",
    "mask = np.triu(np.ones_like(corr, dtype=bool))\n",
    "plt.title(\"Correlation with critic score\")\n",
    "sns.set_palette(\"Set2\")\n",
    "sns.heatmap(corr, \n",
    "            mask=mask, \n",
    "            annot=True, \n",
    "            cmap=sns.diverging_palette(200, 20, as_cmap=True),   \n",
    "            square = True,                                 \n",
    "            linewidths = 1.5,\n",
    "            cbar_kws = {\"shrink\": .8});"
   ]
  },
  {
   "cell_type": "markdown",
   "metadata": {},
   "source": [
    "The correlation plot of `popularity_normalized` is particularly useful because it highlights a lot of relationship between our variables. Instead from the `critic score` plot we cannnot deduce any useful relation."
   ]
  },
  {
   "cell_type": "markdown",
   "metadata": {},
   "source": [
    "Getting most correlated pairs of variables"
   ]
  },
  {
   "cell_type": "code",
   "execution_count": 86,
   "metadata": {},
   "outputs": [
    {
     "data": {
      "text/plain": [
       "loudness      energy              0.754051\n",
       "acousticness  energy              0.571057\n",
       "              loudness            0.474788\n",
       "valence       danceability        0.474150\n",
       "decade        loudness            0.348556\n",
       "valence       energy              0.316167\n",
       "energy        speechiness         0.271381\n",
       "speechiness   decade              0.258126\n",
       "loudness      speechiness         0.242535\n",
       "danceability  tempo               0.241476\n",
       "speechiness   danceability        0.237682\n",
       "valence       duration_min        0.235908\n",
       "decade        valence             0.230263\n",
       "duration_min  instrumentalness    0.214456\n",
       "speechiness   instrumentalness    0.188608\n",
       "dtype: float64"
      ]
     },
     "execution_count": 86,
     "metadata": {},
     "output_type": "execute_result"
    }
   ],
   "source": [
    "corr_df = dfc.corr().abs() # we are interested in extracting the magnitude of the correlation\n",
    "\n",
    "corr_ser = corr_df.unstack() # Convert the corr_df to a pandas series\n",
    "corr_ser_so = corr_ser.sort_values(kind=\"quicksort\",ascending=False) \n",
    "no_dup = corr_ser_so[(corr_ser_so < 0.9 ) & (corr_ser_so >= 0.18)].drop_duplicates()\n",
    "no_dup"
   ]
  },
  {
   "cell_type": "code",
   "execution_count": 87,
   "metadata": {},
   "outputs": [
    {
     "name": "stdout",
     "output_type": "stream",
     "text": [
      "There are 15 variables above the selected correlation threshold\n"
     ]
    }
   ],
   "source": [
    "print(f\"There are {len(no_dup)} variables above the selected correlation threshold\")"
   ]
  },
  {
   "cell_type": "markdown",
   "metadata": {},
   "source": [
    "- loudness &rarr; energy\n",
    "- year &rarr; energy \n",
    "- acousticness &rarr; loudness, energy \n",
    "- valence &rarr; danceability,energy"
   ]
  },
  {
   "cell_type": "markdown",
   "metadata": {},
   "source": [
    "Inserisci le varie coppie"
   ]
  },
  {
   "cell_type": "code",
   "execution_count": 88,
   "metadata": {},
   "outputs": [
    {
     "data": {
      "text/plain": [
       "['#66c2a5',\n",
       " '#fc8d62',\n",
       " '#8da0cb',\n",
       " '#e78ac3',\n",
       " '#a6d854',\n",
       " '#ffd92f',\n",
       " '#e5c494',\n",
       " '#b3b3b3']"
      ]
     },
     "execution_count": 88,
     "metadata": {},
     "output_type": "execute_result"
    }
   ],
   "source": [
    "pal = sns.color_palette('Set2') # get colors for highlighting the quantiles\n",
    "pal.as_hex()\n",
    "pal.as_hex()[:]"
   ]
  },
  {
   "cell_type": "markdown",
   "metadata": {},
   "source": [
    "## Discretization\n"
   ]
  },
  {
   "cell_type": "markdown",
   "metadata": {},
   "source": [
    "Inserisci qui spiegazione sulla durata della canzone"
   ]
  },
  {
   "cell_type": "markdown",
   "metadata": {},
   "source": [
    "# Pre-processed columns\n",
    "\n",
    "These columns are relatively easy to discretize because they are not domain dependent attributes and we are able to use common knowledge about the musical domain for defining the labels ranges."
   ]
  },
  {
   "cell_type": "markdown",
   "metadata": {},
   "source": [
    "### 1. decade &rarr; Musical era"
   ]
  },
  {
   "cell_type": "markdown",
   "metadata": {},
   "source": [
    "Each discretized decade has been mapped into a label in the column **'era'** . For the labels we used some kind of intuition to determine the labels associated with each group of decade.  \n",
    "\n"
   ]
  },
  {
   "cell_type": "markdown",
   "metadata": {},
   "source": [
    "The rationale is:\n",
    "\n",
    "-  Albums released in a decade in range `[1910-1970]` are considered as **vintage**. This is a reasonable assumption considering 1970 was 50 years ago.\n",
    "\n",
    "- Albums released in a decade in range `[1980-2000]` are considered as **modern**.\n",
    "\n",
    "- Albums released in a decade in range `[2010-2020]` are considered as **contemporary**."
   ]
  },
  {
   "cell_type": "code",
   "execution_count": 89,
   "metadata": {},
   "outputs": [],
   "source": [
    "df4['era']=pd.cut(x=df4['decade'], bins=[1910,1970,2000,2020], \n",
    "                        labels=[\"vintage\",\"modern\",\"contemporary\"])\n"
   ]
  },
  {
   "cell_type": "markdown",
   "metadata": {},
   "source": [
    "### 2. duration_min &rarr; era"
   ]
  },
  {
   "cell_type": "markdown",
   "metadata": {},
   "source": [
    "Plots with standard quantiles"
   ]
  },
  {
   "cell_type": "code",
   "execution_count": 90,
   "metadata": {},
   "outputs": [
    {
     "data": {
      "image/png": "[encoded data removed]",
      "text/plain": [
       "<Figure size 720x360 with 1 Axes>"
      ]
     },
     "metadata": {
      "needs_background": "light"
     },
     "output_type": "display_data"
    }
   ],
   "source": [
    "from matplotlib.patches import Rectangle # used for drawing colored patches\n",
    "fig, ax = plt.subplots(figsize = (10,5))\n",
    "\n",
    "cols = pal.as_hex()[:4] # save colors for labeling of quantiles\n",
    "\n",
    "\n",
    "N, bins, patches = ax.hist(df2.duration_min,bins=range(np.max(df2.duration_min)+1), edgecolor='black', linewidth=0.5)\n",
    "\n",
    "#get standard the first, second and third quantile\n",
    "quant_25, quant_50, quant_75= int(df2.duration_min.quantile(0.25)),int(df2.duration_min.quantile(0.50)),int(df2.duration_min.quantile(0.75))\n",
    "\n",
    "# color each patch with one of the colors\n",
    "for i in range(0,quant_25+1):\n",
    "    patches[i].set_facecolor(cols[0])\n",
    "for i in range(quant_25+1 ,quant_50+1):    \n",
    "    patches[i].set_facecolor(cols[1])\n",
    "for i in range(quant_50+1, quant_75+1):\n",
    "    patches[i].set_facecolor(cols[2])\n",
    "for i in range(quant_75+1, len(patches)):\n",
    "    patches[i].set_facecolor(cols[3])\n",
    "\n",
    "#create legend for labels\n",
    "handles = [Rectangle((0,0),1,1,color=c,ec=\"k\") for c in  cols]\n",
    "labels= [\"short\",\"average\",\"above average\",\"long\"] # labels we want to use for discretization\n",
    "plt.xticks(np.arange(0, max(df2.duration_min)+1, 1.0)) # set x-axis range\n",
    "plt.legend(handles, labels)\n",
    "plt.show()"
   ]
  },
  {
   "cell_type": "markdown",
   "metadata": {},
   "source": [
    "Explain histogram"
   ]
  },
  {
   "cell_type": "markdown",
   "metadata": {},
   "source": [
    "Plots with standard values for song duration:\n",
    "- a song duration below 3 minutes is considered as *short*\n",
    "- a song duration between 3 and 4 minutes is considered as *average*\n",
    "- a song duration between 4 and 6 minutes is *above average*\n",
    "- a song duration above 6 is considered as *long*"
   ]
  },
  {
   "cell_type": "code",
   "execution_count": 91,
   "metadata": {},
   "outputs": [
    {
     "data": {
      "image/png": "[encoded data removed]",
      "text/plain": [
       "<Figure size 720x360 with 1 Axes>"
      ]
     },
     "metadata": {
      "needs_background": "light"
     },
     "output_type": "display_data"
    }
   ],
   "source": [
    "from matplotlib.patches import Rectangle\n",
    "fig, ax = plt.subplots(figsize = (10,5))\n",
    "\n",
    "cols = pal.as_hex()[:4]\n",
    "\n",
    "N, bins, patches = ax.hist(df2.duration_min,bins=range(14), edgecolor='black', linewidth=0.5)\n",
    "\n",
    "\n",
    "for i in range(0,3):\n",
    "    patches[i].set_facecolor(cols[0])\n",
    "for i in range(3 ,4):    \n",
    "    patches[i].set_facecolor(cols[1])\n",
    "for i in range(4, 6):\n",
    "    patches[i].set_facecolor(cols[2])\n",
    "for i in range(6, len(patches)):\n",
    "    patches[i].set_facecolor(cols[3])\n",
    "\n",
    "\n",
    "handles = [Rectangle((0,0),1,1,color=c,ec=\"k\") for c in  cols]\n",
    "labels= [\"short\",\"average\",\"above average\",\"long\"]\n",
    "plt.xticks(np.arange(0, max(df2.duration_min), 1.0))\n",
    "\n",
    "plt.legend(handles, labels)\n",
    "\n",
    "plt.show()\n"
   ]
  },
  {
   "cell_type": "markdown",
   "metadata": {},
   "source": [
    "Now we proceed with the actual discretization, we have opted to not use quantiles here because of preexisting knowledge for song duration. From data ` inserire qui fonte` we know the average song duration nowdays is 3 minutes and 30 seconds."
   ]
  },
  {
   "cell_type": "code",
   "execution_count": 92,
   "metadata": {},
   "outputs": [],
   "source": [
    "df4['dur']=pd.cut(x=df4['duration_min'],bins=[0,2,3,5,np.max(df4.duration_min)+1], \n",
    "                        labels=[\"short\",\"average\",\"above average\",\"long\"])"
   ]
  },
  {
   "cell_type": "code",
   "execution_count": 93,
   "metadata": {},
   "outputs": [
    {
     "data": {
      "text/html": [
       "<div>\n",
       "<style scoped>\n",
       "    .dataframe tbody tr th:only-of-type {\n",
       "        vertical-align: middle;\n",
       "    }\n",
       "\n",
       "    .dataframe tbody tr th {\n",
       "        vertical-align: top;\n",
       "    }\n",
       "\n",
       "    .dataframe thead th {\n",
       "        text-align: right;\n",
       "    }\n",
       "</style>\n",
       "<table border=\"1\" class=\"dataframe\">\n",
       "  <thead>\n",
       "    <tr style=\"text-align: right;\">\n",
       "      <th></th>\n",
       "      <th>track_name</th>\n",
       "      <th>artists</th>\n",
       "      <th>album</th>\n",
       "      <th>danceability</th>\n",
       "      <th>energy</th>\n",
       "      <th>loudness</th>\n",
       "      <th>speechiness</th>\n",
       "      <th>acousticness</th>\n",
       "      <th>instrumentalness</th>\n",
       "      <th>valence</th>\n",
       "      <th>tempo</th>\n",
       "      <th>critic score</th>\n",
       "      <th>popularity_normalized</th>\n",
       "      <th>decade</th>\n",
       "      <th>duration_min</th>\n",
       "      <th>era</th>\n",
       "      <th>dur</th>\n",
       "    </tr>\n",
       "  </thead>\n",
       "  <tbody>\n",
       "    <tr>\n",
       "      <th>0</th>\n",
       "      <td>Wouldn't It Be Nice</td>\n",
       "      <td>The Beach Boys</td>\n",
       "      <td>Greatest Hits</td>\n",
       "      <td>0.385</td>\n",
       "      <td>0.657</td>\n",
       "      <td>-6.975</td>\n",
       "      <td>0.0342</td>\n",
       "      <td>0.724000</td>\n",
       "      <td>0.000000</td>\n",
       "      <td>0.672</td>\n",
       "      <td>124.895</td>\n",
       "      <td>1.000000</td>\n",
       "      <td>0.6125</td>\n",
       "      <td>2010</td>\n",
       "      <td>3</td>\n",
       "      <td>contemporary</td>\n",
       "      <td>average</td>\n",
       "    </tr>\n",
       "    <tr>\n",
       "      <th>1</th>\n",
       "      <td>God Only Knows</td>\n",
       "      <td>The Beach Boys</td>\n",
       "      <td>50 Big Ones: Greatest Hits</td>\n",
       "      <td>0.433</td>\n",
       "      <td>0.469</td>\n",
       "      <td>-9.853</td>\n",
       "      <td>0.0320</td>\n",
       "      <td>0.156000</td>\n",
       "      <td>0.000000</td>\n",
       "      <td>0.334</td>\n",
       "      <td>115.876</td>\n",
       "      <td>1.000000</td>\n",
       "      <td>0.5000</td>\n",
       "      <td>2010</td>\n",
       "      <td>3</td>\n",
       "      <td>contemporary</td>\n",
       "      <td>average</td>\n",
       "    </tr>\n",
       "    <tr>\n",
       "      <th>2</th>\n",
       "      <td>Sinnerman</td>\n",
       "      <td>Nina Simone</td>\n",
       "      <td>Pastel Blues</td>\n",
       "      <td>0.436</td>\n",
       "      <td>0.543</td>\n",
       "      <td>-13.351</td>\n",
       "      <td>0.0962</td>\n",
       "      <td>0.654000</td>\n",
       "      <td>0.000009</td>\n",
       "      <td>0.663</td>\n",
       "      <td>148.282</td>\n",
       "      <td>0.997996</td>\n",
       "      <td>0.6500</td>\n",
       "      <td>1960</td>\n",
       "      <td>10</td>\n",
       "      <td>vintage</td>\n",
       "      <td>long</td>\n",
       "    </tr>\n",
       "    <tr>\n",
       "      <th>3</th>\n",
       "      <td>How to Disappear Completely</td>\n",
       "      <td>Radiohead</td>\n",
       "      <td>Kid A</td>\n",
       "      <td>0.167</td>\n",
       "      <td>0.302</td>\n",
       "      <td>-11.644</td>\n",
       "      <td>0.0345</td>\n",
       "      <td>0.316000</td>\n",
       "      <td>0.797000</td>\n",
       "      <td>0.190</td>\n",
       "      <td>102.026</td>\n",
       "      <td>0.995992</td>\n",
       "      <td>0.7000</td>\n",
       "      <td>2000</td>\n",
       "      <td>6</td>\n",
       "      <td>modern</td>\n",
       "      <td>long</td>\n",
       "    </tr>\n",
       "    <tr>\n",
       "      <th>4</th>\n",
       "      <td>when you sleep</td>\n",
       "      <td>my bloody valentine</td>\n",
       "      <td>loveless</td>\n",
       "      <td>0.399</td>\n",
       "      <td>0.866</td>\n",
       "      <td>-9.720</td>\n",
       "      <td>0.0558</td>\n",
       "      <td>0.000034</td>\n",
       "      <td>0.738000</td>\n",
       "      <td>0.125</td>\n",
       "      <td>128.864</td>\n",
       "      <td>0.993988</td>\n",
       "      <td>0.6375</td>\n",
       "      <td>1990</td>\n",
       "      <td>4</td>\n",
       "      <td>modern</td>\n",
       "      <td>above average</td>\n",
       "    </tr>\n",
       "  </tbody>\n",
       "</table>\n",
       "</div>"
      ],
      "text/plain": [
       "                    track_name              artists  \\\n",
       "0          Wouldn't It Be Nice       The Beach Boys   \n",
       "1               God Only Knows       The Beach Boys   \n",
       "2                    Sinnerman          Nina Simone   \n",
       "3  How to Disappear Completely            Radiohead   \n",
       "4               when you sleep  my bloody valentine   \n",
       "\n",
       "                        album  danceability  energy  loudness  speechiness  \\\n",
       "0               Greatest Hits         0.385   0.657    -6.975       0.0342   \n",
       "1  50 Big Ones: Greatest Hits         0.433   0.469    -9.853       0.0320   \n",
       "2                Pastel Blues         0.436   0.543   -13.351       0.0962   \n",
       "3                       Kid A         0.167   0.302   -11.644       0.0345   \n",
       "4                    loveless         0.399   0.866    -9.720       0.0558   \n",
       "\n",
       "   acousticness  instrumentalness  valence    tempo  critic score  \\\n",
       "0      0.724000          0.000000    0.672  124.895      1.000000   \n",
       "1      0.156000          0.000000    0.334  115.876      1.000000   \n",
       "2      0.654000          0.000009    0.663  148.282      0.997996   \n",
       "3      0.316000          0.797000    0.190  102.026      0.995992   \n",
       "4      0.000034          0.738000    0.125  128.864      0.993988   \n",
       "\n",
       "   popularity_normalized  decade  duration_min           era            dur  \n",
       "0                 0.6125    2010             3  contemporary        average  \n",
       "1                 0.5000    2010             3  contemporary        average  \n",
       "2                 0.6500    1960            10       vintage           long  \n",
       "3                 0.7000    2000             6        modern           long  \n",
       "4                 0.6375    1990             4        modern  above average  "
      ]
     },
     "execution_count": 93,
     "metadata": {},
     "output_type": "execute_result"
    }
   ],
   "source": [
    "df4.head()"
   ]
  },
  {
   "cell_type": "code",
   "execution_count": 94,
   "metadata": {},
   "outputs": [],
   "source": [
    "# Drop unused columns\n",
    "df5 = df4.drop([\"decade\",\"duration_min\"],axis=1)\n"
   ]
  },
  {
   "cell_type": "markdown",
   "metadata": {},
   "source": [
    "Check if everything is ok with the dataframe"
   ]
  },
  {
   "cell_type": "code",
   "execution_count": 95,
   "metadata": {},
   "outputs": [
    {
     "data": {
      "text/html": [
       "<div>\n",
       "<style scoped>\n",
       "    .dataframe tbody tr th:only-of-type {\n",
       "        vertical-align: middle;\n",
       "    }\n",
       "\n",
       "    .dataframe tbody tr th {\n",
       "        vertical-align: top;\n",
       "    }\n",
       "\n",
       "    .dataframe thead th {\n",
       "        text-align: right;\n",
       "    }\n",
       "</style>\n",
       "<table border=\"1\" class=\"dataframe\">\n",
       "  <thead>\n",
       "    <tr style=\"text-align: right;\">\n",
       "      <th></th>\n",
       "      <th>track_name</th>\n",
       "      <th>artists</th>\n",
       "      <th>album</th>\n",
       "      <th>danceability</th>\n",
       "      <th>energy</th>\n",
       "      <th>loudness</th>\n",
       "      <th>speechiness</th>\n",
       "      <th>acousticness</th>\n",
       "      <th>instrumentalness</th>\n",
       "      <th>valence</th>\n",
       "      <th>tempo</th>\n",
       "      <th>critic score</th>\n",
       "      <th>popularity_normalized</th>\n",
       "      <th>era</th>\n",
       "      <th>dur</th>\n",
       "    </tr>\n",
       "  </thead>\n",
       "  <tbody>\n",
       "    <tr>\n",
       "      <th>0</th>\n",
       "      <td>Wouldn't It Be Nice</td>\n",
       "      <td>The Beach Boys</td>\n",
       "      <td>Greatest Hits</td>\n",
       "      <td>0.385</td>\n",
       "      <td>0.657</td>\n",
       "      <td>-6.975</td>\n",
       "      <td>0.0342</td>\n",
       "      <td>0.724000</td>\n",
       "      <td>0.000000</td>\n",
       "      <td>0.672</td>\n",
       "      <td>124.895</td>\n",
       "      <td>1.000000</td>\n",
       "      <td>0.6125</td>\n",
       "      <td>contemporary</td>\n",
       "      <td>average</td>\n",
       "    </tr>\n",
       "    <tr>\n",
       "      <th>1</th>\n",
       "      <td>God Only Knows</td>\n",
       "      <td>The Beach Boys</td>\n",
       "      <td>50 Big Ones: Greatest Hits</td>\n",
       "      <td>0.433</td>\n",
       "      <td>0.469</td>\n",
       "      <td>-9.853</td>\n",
       "      <td>0.0320</td>\n",
       "      <td>0.156000</td>\n",
       "      <td>0.000000</td>\n",
       "      <td>0.334</td>\n",
       "      <td>115.876</td>\n",
       "      <td>1.000000</td>\n",
       "      <td>0.5000</td>\n",
       "      <td>contemporary</td>\n",
       "      <td>average</td>\n",
       "    </tr>\n",
       "    <tr>\n",
       "      <th>2</th>\n",
       "      <td>Sinnerman</td>\n",
       "      <td>Nina Simone</td>\n",
       "      <td>Pastel Blues</td>\n",
       "      <td>0.436</td>\n",
       "      <td>0.543</td>\n",
       "      <td>-13.351</td>\n",
       "      <td>0.0962</td>\n",
       "      <td>0.654000</td>\n",
       "      <td>0.000009</td>\n",
       "      <td>0.663</td>\n",
       "      <td>148.282</td>\n",
       "      <td>0.997996</td>\n",
       "      <td>0.6500</td>\n",
       "      <td>vintage</td>\n",
       "      <td>long</td>\n",
       "    </tr>\n",
       "    <tr>\n",
       "      <th>3</th>\n",
       "      <td>How to Disappear Completely</td>\n",
       "      <td>Radiohead</td>\n",
       "      <td>Kid A</td>\n",
       "      <td>0.167</td>\n",
       "      <td>0.302</td>\n",
       "      <td>-11.644</td>\n",
       "      <td>0.0345</td>\n",
       "      <td>0.316000</td>\n",
       "      <td>0.797000</td>\n",
       "      <td>0.190</td>\n",
       "      <td>102.026</td>\n",
       "      <td>0.995992</td>\n",
       "      <td>0.7000</td>\n",
       "      <td>modern</td>\n",
       "      <td>long</td>\n",
       "    </tr>\n",
       "    <tr>\n",
       "      <th>4</th>\n",
       "      <td>when you sleep</td>\n",
       "      <td>my bloody valentine</td>\n",
       "      <td>loveless</td>\n",
       "      <td>0.399</td>\n",
       "      <td>0.866</td>\n",
       "      <td>-9.720</td>\n",
       "      <td>0.0558</td>\n",
       "      <td>0.000034</td>\n",
       "      <td>0.738000</td>\n",
       "      <td>0.125</td>\n",
       "      <td>128.864</td>\n",
       "      <td>0.993988</td>\n",
       "      <td>0.6375</td>\n",
       "      <td>modern</td>\n",
       "      <td>above average</td>\n",
       "    </tr>\n",
       "  </tbody>\n",
       "</table>\n",
       "</div>"
      ],
      "text/plain": [
       "                    track_name              artists  \\\n",
       "0          Wouldn't It Be Nice       The Beach Boys   \n",
       "1               God Only Knows       The Beach Boys   \n",
       "2                    Sinnerman          Nina Simone   \n",
       "3  How to Disappear Completely            Radiohead   \n",
       "4               when you sleep  my bloody valentine   \n",
       "\n",
       "                        album  danceability  energy  loudness  speechiness  \\\n",
       "0               Greatest Hits         0.385   0.657    -6.975       0.0342   \n",
       "1  50 Big Ones: Greatest Hits         0.433   0.469    -9.853       0.0320   \n",
       "2                Pastel Blues         0.436   0.543   -13.351       0.0962   \n",
       "3                       Kid A         0.167   0.302   -11.644       0.0345   \n",
       "4                    loveless         0.399   0.866    -9.720       0.0558   \n",
       "\n",
       "   acousticness  instrumentalness  valence    tempo  critic score  \\\n",
       "0      0.724000          0.000000    0.672  124.895      1.000000   \n",
       "1      0.156000          0.000000    0.334  115.876      1.000000   \n",
       "2      0.654000          0.000009    0.663  148.282      0.997996   \n",
       "3      0.316000          0.797000    0.190  102.026      0.995992   \n",
       "4      0.000034          0.738000    0.125  128.864      0.993988   \n",
       "\n",
       "   popularity_normalized           era            dur  \n",
       "0                 0.6125  contemporary        average  \n",
       "1                 0.5000  contemporary        average  \n",
       "2                 0.6500       vintage           long  \n",
       "3                 0.7000        modern           long  \n",
       "4                 0.6375        modern  above average  "
      ]
     },
     "execution_count": 95,
     "metadata": {},
     "output_type": "execute_result"
    }
   ],
   "source": [
    "df5.head()"
   ]
  },
  {
   "cell_type": "code",
   "execution_count": 96,
   "metadata": {},
   "outputs": [
    {
     "data": {
      "text/html": [
       "<div>\n",
       "<style scoped>\n",
       "    .dataframe tbody tr th:only-of-type {\n",
       "        vertical-align: middle;\n",
       "    }\n",
       "\n",
       "    .dataframe tbody tr th {\n",
       "        vertical-align: top;\n",
       "    }\n",
       "\n",
       "    .dataframe thead th {\n",
       "        text-align: right;\n",
       "    }\n",
       "</style>\n",
       "<table border=\"1\" class=\"dataframe\">\n",
       "  <thead>\n",
       "    <tr style=\"text-align: right;\">\n",
       "      <th></th>\n",
       "      <th>track_name</th>\n",
       "      <th>artists</th>\n",
       "      <th>album</th>\n",
       "      <th>danceability</th>\n",
       "      <th>energy</th>\n",
       "      <th>loudness</th>\n",
       "      <th>speechiness</th>\n",
       "      <th>acousticness</th>\n",
       "      <th>instrumentalness</th>\n",
       "      <th>valence</th>\n",
       "      <th>tempo</th>\n",
       "      <th>critic score</th>\n",
       "      <th>popularity_normalized</th>\n",
       "      <th>era</th>\n",
       "      <th>dur</th>\n",
       "    </tr>\n",
       "  </thead>\n",
       "  <tbody>\n",
       "  </tbody>\n",
       "</table>\n",
       "</div>"
      ],
      "text/plain": [
       "Empty DataFrame\n",
       "Columns: [track_name, artists, album, danceability, energy, loudness, speechiness, acousticness, instrumentalness, valence, tempo, critic score, popularity_normalized, era, dur]\n",
       "Index: []"
      ]
     },
     "execution_count": 96,
     "metadata": {},
     "output_type": "execute_result"
    }
   ],
   "source": [
    "df5[df5.isnull().any(axis=1)]"
   ]
  },
  {
   "cell_type": "markdown",
   "metadata": {},
   "source": [
    "## Raw numerical columns"
   ]
  },
  {
   "cell_type": "markdown",
   "metadata": {},
   "source": [
    "Now we need to discretize columns for which we need to rely on pre-existing knowledge provided by the `Spotify API` or if this is not provided using quantiles to compute the discretization. In order to better understand these columns we need to plot the histogram for those."
   ]
  },
  {
   "cell_type": "code",
   "execution_count": 97,
   "metadata": {},
   "outputs": [
    {
     "name": "stdout",
     "output_type": "stream",
     "text": [
      "['track_name', 'artists', 'album', 'danceability', 'energy', 'loudness', 'speechiness', 'acousticness', 'instrumentalness', 'valence', 'tempo', 'critic score', 'popularity_normalized', 'era', 'dur']\n"
     ]
    }
   ],
   "source": [
    "column_list=df5.columns.tolist()\n",
    "print(df5.columns.tolist())"
   ]
  },
  {
   "cell_type": "code",
   "execution_count": 98,
   "metadata": {},
   "outputs": [
    {
     "name": "stdout",
     "output_type": "stream",
     "text": [
      "['danceability', 'energy', 'loudness', 'speechiness', 'acousticness', 'instrumentalness', 'valence', 'tempo', 'critic score', 'popularity_normalized']\n"
     ]
    },
    {
     "data": {
      "text/plain": [
       "10"
      ]
     },
     "execution_count": 98,
     "metadata": {},
     "output_type": "execute_result"
    }
   ],
   "source": [
    "non_str_col = [col for col in df5.columns if col not in ['track_name', 'artists', 'album','era', 'dur']] \n",
    "print(non_str_col)\n",
    "len(non_str_col)"
   ]
  },
  {
   "cell_type": "code",
   "execution_count": 99,
   "metadata": {},
   "outputs": [
    {
     "data": {
      "image/png": "[encoded data removed]",
      "text/plain": [
       "<Figure size 1440x720 with 10 Axes>"
      ]
     },
     "metadata": {
      "needs_background": "light"
     },
     "output_type": "display_data"
    }
   ],
   "source": [
    "_, axes = plt.subplots(nrows=2, ncols=5, figsize=(20, 10))\n",
    "axes = [axis for subl in axes for axis in subl]\n",
    "for col, ax in zip(non_str_col, axes):\n",
    "    sns.histplot(x=col, data=df5, ax=ax)\n",
    "    ax.set_xticks(np.arange(min(df5[col]), max(df5[col])+0.1, step=0.2))"
   ]
  },
  {
   "cell_type": "markdown",
   "metadata": {},
   "source": [
    "From this plot we can see that:\n",
    "\n",
    "- The tempo and loudness column have a lot of unique value therefore we will need to visualize them one by one. \n",
    "- Speechiness is in a very narrow range\n",
    "- Valence Energy and danceability have similar distribution\n",
    "- Instrumentalness acousticness  can be put looked at together\n",
    "- Critic score and popularity will be inspected together"
   ]
  },
  {
   "cell_type": "markdown",
   "metadata": {},
   "source": [
    "Tempo, loudness and speechiness"
   ]
  },
  {
   "cell_type": "code",
   "execution_count": 100,
   "metadata": {},
   "outputs": [],
   "source": [
    "from matplotlib import rcParams\n",
    "rcParams['figure.figsize'] = 15,10"
   ]
  },
  {
   "cell_type": "markdown",
   "metadata": {},
   "source": [
    "* **tempo**:\n",
    "The overall estimated tempo of a track in beats per minute (BPM). In musical terminology, tempo is the speed or pace of a given piece and derives directly from the average beat duration."
   ]
  },
  {
   "cell_type": "code",
   "execution_count": 101,
   "metadata": {},
   "outputs": [
    {
     "data": {
      "image/png": "[encoded data removed]",
      "text/plain": [
       "<Figure size 1080x720 with 1 Axes>"
      ]
     },
     "metadata": {
      "needs_background": "light"
     },
     "output_type": "display_data"
    }
   ],
   "source": [
    "sns.histplot(x=\"tempo\", data=df5)\n",
    "plt.xlabel(\"BPM\")\n",
    "plt.title(\"Histogram of the tempo column\")\n",
    "plt.xticks(np.arange(min(df5[\"tempo\"]), max(df5[\"tempo\"])+9, step=9));"
   ]
  },
  {
   "cell_type": "markdown",
   "metadata": {},
   "source": [
    "From the plot we cannot deduce meaningful conclusions, there fore we will use quantiles"
   ]
  },
  {
   "cell_type": "code",
   "execution_count": 102,
   "metadata": {},
   "outputs": [
    {
     "data": {
      "text/plain": [
       "(100, 118, 137)"
      ]
     },
     "execution_count": 102,
     "metadata": {},
     "output_type": "execute_result"
    }
   ],
   "source": [
    "quant_25_t, quant_50_t, quant_75_t= int(df5.tempo.quantile(0.25)),int(df5.tempo.quantile(0.50)),int(df5.tempo.quantile(0.75))\n",
    "quant_25_t, quant_50_t, quant_75_t"
   ]
  },
  {
   "cell_type": "code",
   "execution_count": 103,
   "metadata": {},
   "outputs": [
    {
     "data": {
      "text/plain": [
       "(71.398, 206.247)"
      ]
     },
     "execution_count": 103,
     "metadata": {},
     "output_type": "execute_result"
    }
   ],
   "source": [
    "np.min(df5.tempo), np.max(df5.tempo)"
   ]
  },
  {
   "cell_type": "code",
   "execution_count": 104,
   "metadata": {},
   "outputs": [],
   "source": [
    "df5['tem']=pd.cut(x=df5['tempo'], bins=[np.min(df5.tempo)-0.1,quant_25_t,quant_75_t,np.max(df5.tempo)], \n",
    "                        labels=[\"slow tempo\",\"medium tempo\",\"high tempo\"])"
   ]
  },
  {
   "cell_type": "markdown",
   "metadata": {},
   "source": [
    "* **loudness**: The overall loudness of a track in decibels (dB). Loudness values are averaged across the entire track and are useful for comparing relative loudness of tracks. Loudness is the quality of a sound that is the primary psychological correlate of physical strength (amplitude). Values typically range between -60 and 0 db."
   ]
  },
  {
   "cell_type": "code",
   "execution_count": 105,
   "metadata": {},
   "outputs": [
    {
     "data": {
      "image/png": "[encoded data removed]",
      "text/plain": [
       "<Figure size 1080x720 with 1 Axes>"
      ]
     },
     "metadata": {
      "needs_background": "light"
     },
     "output_type": "display_data"
    }
   ],
   "source": [
    "sns.histplot(x=\"loudness\", data=df5)\n",
    "plt.title(\"Histogram of the loudnes column\")\n",
    "plt.xlabel(\"dB\")\n",
    "plt.xticks(np.arange(min(df5[\"loudness\"]), max(df5[\"loudness\"]+1.3), step=1.3));"
   ]
  },
  {
   "cell_type": "code",
   "execution_count": 106,
   "metadata": {},
   "outputs": [
    {
     "data": {
      "text/plain": [
       "(-23.525, 0.915)"
      ]
     },
     "execution_count": 106,
     "metadata": {},
     "output_type": "execute_result"
    }
   ],
   "source": [
    "np.min(df5.loudness),np.max(df5.loudness)"
   ]
  },
  {
   "cell_type": "code",
   "execution_count": 107,
   "metadata": {},
   "outputs": [
    {
     "data": {
      "text/plain": [
       "(-10, -8, -6)"
      ]
     },
     "execution_count": 107,
     "metadata": {},
     "output_type": "execute_result"
    }
   ],
   "source": [
    "quant_25, quant_50_l, quant_75= int(df5.loudness.quantile(0.25)),int(df5.loudness.quantile(0.50)),int(df5.loudness.quantile(0.75))\n",
    "quant_25,quant_50_l,quant_75"
   ]
  },
  {
   "cell_type": "code",
   "execution_count": 108,
   "metadata": {},
   "outputs": [],
   "source": [
    "df5['loud']=pd.cut(x=df5['loudness'], bins=[np.min(df5.loudness)-0.1,quant_25,quant_50_l,np.max(df5.loudness)], \n",
    "                        labels=[\"quiet\",\"normal\",\"loud\"])\n"
   ]
  },
  {
   "cell_type": "markdown",
   "metadata": {},
   "source": [
    "* **speechiness**:\n",
    "Speechiness detects the presence of spoken words in a track. The more exclusively speech-like the recording (e.g. talk show, audio book, poetry), the closer to 1.0 the attribute value. Values *above 0.66* describe tracks that are probably made entirely of spoken words. Values *between 0.33 and 0.66* describe tracks that may contain both music and speech, either in sections or layered, including such cases as rap music. Values *below 0.33* most likely represent music and other non-speech-like tracks.\n",
    "\n"
   ]
  },
  {
   "cell_type": "code",
   "execution_count": 109,
   "metadata": {},
   "outputs": [
    {
     "data": {
      "image/png": "[encoded data removed]",
      "text/plain": [
       "<Figure size 1080x720 with 1 Axes>"
      ]
     },
     "metadata": {
      "needs_background": "light"
     },
     "output_type": "display_data"
    }
   ],
   "source": [
    "sns.histplot(x=\"speechiness\", data=df5)\n",
    "plt.xticks(np.arange(min(df5[\"speechiness\"]), max(df5[\"speechiness\"]+0.02), step=0.025));\n"
   ]
  },
  {
   "cell_type": "markdown",
   "metadata": {},
   "source": [
    "inserisci spiegazione sui range dati"
   ]
  },
  {
   "cell_type": "code",
   "execution_count": 110,
   "metadata": {},
   "outputs": [],
   "source": [
    "df5['speech']=pd.cut(x=df5['speechiness'], bins=[0,0.33,np.max(df5.speechiness)], \n",
    "                        labels=[\"normal song\",\"verbose song\"])\n"
   ]
  },
  {
   "cell_type": "code",
   "execution_count": 111,
   "metadata": {},
   "outputs": [],
   "source": [
    "df6 = df5.drop([\"speechiness\",\"loudness\",\"tempo\"],axis=1)"
   ]
  },
  {
   "cell_type": "markdown",
   "metadata": {},
   "source": [
    "## Grouped columns"
   ]
  },
  {
   "cell_type": "code",
   "execution_count": 112,
   "metadata": {},
   "outputs": [
    {
     "name": "stdout",
     "output_type": "stream",
     "text": [
      "['track_name', 'artists', 'album', 'danceability', 'energy', 'acousticness', 'instrumentalness', 'valence', 'critic score', 'popularity_normalized', 'era', 'dur', 'tem', 'loud', 'speech']\n"
     ]
    }
   ],
   "source": [
    "column_list = df6.columns.tolist()\n",
    "print(column_list)"
   ]
  },
  {
   "cell_type": "code",
   "execution_count": 113,
   "metadata": {},
   "outputs": [],
   "source": [
    "group1 = ['danceability', 'energy','valence']\n",
    "group2 = ['acousticness', 'instrumentalness']\n",
    "group3 = ['critic score', 'popularity_normalized']"
   ]
  },
  {
   "cell_type": "markdown",
   "metadata": {},
   "source": [
    "## Group 1: 'danceability', 'energy','valence'"
   ]
  },
  {
   "cell_type": "code",
   "execution_count": 114,
   "metadata": {},
   "outputs": [
    {
     "data": {
      "image/png": "[encoded data removed]",
      "text/plain": [
       "<Figure size 1440x1440 with 3 Axes>"
      ]
     },
     "metadata": {
      "needs_background": "light"
     },
     "output_type": "display_data"
    }
   ],
   "source": [
    "_, axes = plt.subplots(nrows=3, ncols=1, figsize=(20, 20))\n",
    "for col, ax in zip(group1, axes):\n",
    "    sns.histplot(x=col, data=df6, ax=ax)\n",
    "    ax.set_xticks(np.arange(min(df6[col]), max(df6[col]), step=0.1))\n"
   ]
  },
  {
   "cell_type": "markdown",
   "metadata": {},
   "source": [
    "* **valence**:\n",
    "A measure from 0.0 to 1.0 describing the musical positiveness conveyed by a track. Tracks with *high valence* sound *more positive* (e.g. happy, cheerful, euphoric), while tracks with *low valence* sound *more negative* (e.g. sad, depressed, angry).\n"
   ]
  },
  {
   "cell_type": "code",
   "execution_count": 115,
   "metadata": {},
   "outputs": [
    {
     "data": {
      "text/plain": [
       "(0.29, 0.502, 0.711)"
      ]
     },
     "execution_count": 115,
     "metadata": {},
     "output_type": "execute_result"
    }
   ],
   "source": [
    "quant_25_v, quant_50_v, quant_75_v= df6.valence.quantile(0.25),df6.valence.quantile(0.50),df6.valence.quantile(0.75)\n",
    "quant_25_v, quant_50_v, quant_75_v"
   ]
  },
  {
   "cell_type": "code",
   "execution_count": 116,
   "metadata": {},
   "outputs": [],
   "source": [
    "df6['val']=pd.cut(x=df6['valence'], bins=[np.min(df6.valence)-0.1,0.33,quant_50_v,1], \n",
    "                        labels=[\"sad\",\"neutral\",\"euphoric\"])\n"
   ]
  },
  {
   "cell_type": "markdown",
   "metadata": {},
   "source": [
    "\n",
    "* **danceability**: Danceability describes how suitable a track is for dancing based on a combination of musical elements including tempo, rhythm stability, beat strength, and overall regularity. A value of 0.0 is least danceable and 1.0 is most danceable.\n",
    "\n",
    "\n"
   ]
  },
  {
   "cell_type": "code",
   "execution_count": 117,
   "metadata": {},
   "outputs": [
    {
     "data": {
      "text/plain": [
       "(0.40874999999999995, 0.519, 0.6375)"
      ]
     },
     "execution_count": 117,
     "metadata": {},
     "output_type": "execute_result"
    }
   ],
   "source": [
    "quant_25_d, quant_50_d, quant_75_d= df6.danceability.quantile(0.25),df6.danceability.quantile(0.50),df6.danceability.quantile(0.75)\n",
    "quant_25_d, quant_50_d, quant_75_d "
   ]
  },
  {
   "cell_type": "code",
   "execution_count": 118,
   "metadata": {},
   "outputs": [],
   "source": [
    "df6['dan']=pd.cut(x=df6['danceability'], bins=[-1,quant_25_d,quant_50_d,1], \n",
    "                        labels=[\"least danceable\",\"neutral\",\" most danceable\"])\n"
   ]
  },
  {
   "cell_type": "markdown",
   "metadata": {},
   "source": [
    "* **energy**: is a measure from 0.0 to 1.0 and represents a perceptual measure of intensity and activity. Typically, energetic tracks feel fast, loud, and noisy. For example, death metal has high energy, while a Bach prelude scores low on the scale. Perceptual features contributing to this attribute include dynamic range, perceived loudness, timbre, onset rate, and general entropy."
   ]
  },
  {
   "cell_type": "code",
   "execution_count": 119,
   "metadata": {},
   "outputs": [
    {
     "data": {
      "text/plain": [
       "(0.48124999999999996, 0.48124999999999996, 0.831)"
      ]
     },
     "execution_count": 119,
     "metadata": {},
     "output_type": "execute_result"
    }
   ],
   "source": [
    "quant_25_e, quant_50_e, quant_75_e= df6.energy.quantile(0.25),df6.energy.quantile(0.50),df6.energy.quantile(0.75)\n",
    "quant_25_e, quant_25_e, quant_75_e "
   ]
  },
  {
   "cell_type": "code",
   "execution_count": 120,
   "metadata": {},
   "outputs": [],
   "source": [
    "df6['ene']=pd.cut(x=df6['energy'], bins=[-.01,quant_25_e,quant_50_e,1], \n",
    "                        labels=[\"slow\",\"medium\",\"energic\"])\n"
   ]
  },
  {
   "cell_type": "code",
   "execution_count": 121,
   "metadata": {},
   "outputs": [
    {
     "data": {
      "text/html": [
       "<div>\n",
       "<style scoped>\n",
       "    .dataframe tbody tr th:only-of-type {\n",
       "        vertical-align: middle;\n",
       "    }\n",
       "\n",
       "    .dataframe tbody tr th {\n",
       "        vertical-align: top;\n",
       "    }\n",
       "\n",
       "    .dataframe thead th {\n",
       "        text-align: right;\n",
       "    }\n",
       "</style>\n",
       "<table border=\"1\" class=\"dataframe\">\n",
       "  <thead>\n",
       "    <tr style=\"text-align: right;\">\n",
       "      <th></th>\n",
       "      <th>track_name</th>\n",
       "      <th>artists</th>\n",
       "      <th>album</th>\n",
       "      <th>danceability</th>\n",
       "      <th>energy</th>\n",
       "      <th>acousticness</th>\n",
       "      <th>instrumentalness</th>\n",
       "      <th>valence</th>\n",
       "      <th>critic score</th>\n",
       "      <th>popularity_normalized</th>\n",
       "      <th>era</th>\n",
       "      <th>dur</th>\n",
       "      <th>tem</th>\n",
       "      <th>loud</th>\n",
       "      <th>speech</th>\n",
       "      <th>val</th>\n",
       "      <th>dan</th>\n",
       "      <th>ene</th>\n",
       "    </tr>\n",
       "  </thead>\n",
       "  <tbody>\n",
       "  </tbody>\n",
       "</table>\n",
       "</div>"
      ],
      "text/plain": [
       "Empty DataFrame\n",
       "Columns: [track_name, artists, album, danceability, energy, acousticness, instrumentalness, valence, critic score, popularity_normalized, era, dur, tem, loud, speech, val, dan, ene]\n",
       "Index: []"
      ]
     },
     "execution_count": 121,
     "metadata": {},
     "output_type": "execute_result"
    }
   ],
   "source": [
    "df6[df6.isnull().any(axis=1)]"
   ]
  },
  {
   "cell_type": "code",
   "execution_count": 122,
   "metadata": {},
   "outputs": [],
   "source": [
    "df7 = df6.drop(group1,axis=1)"
   ]
  },
  {
   "cell_type": "code",
   "execution_count": 123,
   "metadata": {},
   "outputs": [
    {
     "data": {
      "text/html": [
       "<div>\n",
       "<style scoped>\n",
       "    .dataframe tbody tr th:only-of-type {\n",
       "        vertical-align: middle;\n",
       "    }\n",
       "\n",
       "    .dataframe tbody tr th {\n",
       "        vertical-align: top;\n",
       "    }\n",
       "\n",
       "    .dataframe thead th {\n",
       "        text-align: right;\n",
       "    }\n",
       "</style>\n",
       "<table border=\"1\" class=\"dataframe\">\n",
       "  <thead>\n",
       "    <tr style=\"text-align: right;\">\n",
       "      <th></th>\n",
       "      <th>track_name</th>\n",
       "      <th>artists</th>\n",
       "      <th>album</th>\n",
       "      <th>acousticness</th>\n",
       "      <th>instrumentalness</th>\n",
       "      <th>critic score</th>\n",
       "      <th>popularity_normalized</th>\n",
       "      <th>era</th>\n",
       "      <th>dur</th>\n",
       "      <th>tem</th>\n",
       "      <th>loud</th>\n",
       "      <th>speech</th>\n",
       "      <th>val</th>\n",
       "      <th>dan</th>\n",
       "      <th>ene</th>\n",
       "    </tr>\n",
       "  </thead>\n",
       "  <tbody>\n",
       "    <tr>\n",
       "      <th>0</th>\n",
       "      <td>Wouldn't It Be Nice</td>\n",
       "      <td>The Beach Boys</td>\n",
       "      <td>Greatest Hits</td>\n",
       "      <td>0.724000</td>\n",
       "      <td>0.000000</td>\n",
       "      <td>1.000000</td>\n",
       "      <td>0.6125</td>\n",
       "      <td>contemporary</td>\n",
       "      <td>average</td>\n",
       "      <td>medium tempo</td>\n",
       "      <td>loud</td>\n",
       "      <td>normal song</td>\n",
       "      <td>euphoric</td>\n",
       "      <td>least danceable</td>\n",
       "      <td>medium</td>\n",
       "    </tr>\n",
       "    <tr>\n",
       "      <th>1</th>\n",
       "      <td>God Only Knows</td>\n",
       "      <td>The Beach Boys</td>\n",
       "      <td>50 Big Ones: Greatest Hits</td>\n",
       "      <td>0.156000</td>\n",
       "      <td>0.000000</td>\n",
       "      <td>1.000000</td>\n",
       "      <td>0.5000</td>\n",
       "      <td>contemporary</td>\n",
       "      <td>average</td>\n",
       "      <td>medium tempo</td>\n",
       "      <td>normal</td>\n",
       "      <td>normal song</td>\n",
       "      <td>neutral</td>\n",
       "      <td>neutral</td>\n",
       "      <td>slow</td>\n",
       "    </tr>\n",
       "    <tr>\n",
       "      <th>2</th>\n",
       "      <td>Sinnerman</td>\n",
       "      <td>Nina Simone</td>\n",
       "      <td>Pastel Blues</td>\n",
       "      <td>0.654000</td>\n",
       "      <td>0.000009</td>\n",
       "      <td>0.997996</td>\n",
       "      <td>0.6500</td>\n",
       "      <td>vintage</td>\n",
       "      <td>long</td>\n",
       "      <td>high tempo</td>\n",
       "      <td>quiet</td>\n",
       "      <td>normal song</td>\n",
       "      <td>euphoric</td>\n",
       "      <td>neutral</td>\n",
       "      <td>medium</td>\n",
       "    </tr>\n",
       "    <tr>\n",
       "      <th>3</th>\n",
       "      <td>How to Disappear Completely</td>\n",
       "      <td>Radiohead</td>\n",
       "      <td>Kid A</td>\n",
       "      <td>0.316000</td>\n",
       "      <td>0.797000</td>\n",
       "      <td>0.995992</td>\n",
       "      <td>0.7000</td>\n",
       "      <td>modern</td>\n",
       "      <td>long</td>\n",
       "      <td>medium tempo</td>\n",
       "      <td>quiet</td>\n",
       "      <td>normal song</td>\n",
       "      <td>sad</td>\n",
       "      <td>least danceable</td>\n",
       "      <td>slow</td>\n",
       "    </tr>\n",
       "    <tr>\n",
       "      <th>4</th>\n",
       "      <td>when you sleep</td>\n",
       "      <td>my bloody valentine</td>\n",
       "      <td>loveless</td>\n",
       "      <td>0.000034</td>\n",
       "      <td>0.738000</td>\n",
       "      <td>0.993988</td>\n",
       "      <td>0.6375</td>\n",
       "      <td>modern</td>\n",
       "      <td>above average</td>\n",
       "      <td>medium tempo</td>\n",
       "      <td>normal</td>\n",
       "      <td>normal song</td>\n",
       "      <td>sad</td>\n",
       "      <td>least danceable</td>\n",
       "      <td>energic</td>\n",
       "    </tr>\n",
       "  </tbody>\n",
       "</table>\n",
       "</div>"
      ],
      "text/plain": [
       "                    track_name              artists  \\\n",
       "0          Wouldn't It Be Nice       The Beach Boys   \n",
       "1               God Only Knows       The Beach Boys   \n",
       "2                    Sinnerman          Nina Simone   \n",
       "3  How to Disappear Completely            Radiohead   \n",
       "4               when you sleep  my bloody valentine   \n",
       "\n",
       "                        album  acousticness  instrumentalness  critic score  \\\n",
       "0               Greatest Hits      0.724000          0.000000      1.000000   \n",
       "1  50 Big Ones: Greatest Hits      0.156000          0.000000      1.000000   \n",
       "2                Pastel Blues      0.654000          0.000009      0.997996   \n",
       "3                       Kid A      0.316000          0.797000      0.995992   \n",
       "4                    loveless      0.000034          0.738000      0.993988   \n",
       "\n",
       "   popularity_normalized           era            dur           tem    loud  \\\n",
       "0                 0.6125  contemporary        average  medium tempo    loud   \n",
       "1                 0.5000  contemporary        average  medium tempo  normal   \n",
       "2                 0.6500       vintage           long    high tempo   quiet   \n",
       "3                 0.7000        modern           long  medium tempo   quiet   \n",
       "4                 0.6375        modern  above average  medium tempo  normal   \n",
       "\n",
       "        speech       val              dan      ene  \n",
       "0  normal song  euphoric  least danceable   medium  \n",
       "1  normal song   neutral          neutral     slow  \n",
       "2  normal song  euphoric          neutral   medium  \n",
       "3  normal song       sad  least danceable     slow  \n",
       "4  normal song       sad  least danceable  energic  "
      ]
     },
     "execution_count": 123,
     "metadata": {},
     "output_type": "execute_result"
    }
   ],
   "source": [
    "df7.head()"
   ]
  },
  {
   "cell_type": "markdown",
   "metadata": {},
   "source": [
    "## Group 2: 'acousticness', 'instrumentalness' "
   ]
  },
  {
   "cell_type": "markdown",
   "metadata": {},
   "source": [
    "These two columns are very polarized towards zero therefore a boolean discretization is required"
   ]
  },
  {
   "cell_type": "code",
   "execution_count": 124,
   "metadata": {},
   "outputs": [
    {
     "data": {
      "image/png": "[encoded data removed]",
      "text/plain": [
       "<Figure size 1440x1080 with 2 Axes>"
      ]
     },
     "metadata": {
      "needs_background": "light"
     },
     "output_type": "display_data"
    }
   ],
   "source": [
    "_, axes = plt.subplots(nrows=2, ncols=1, figsize=(20, 15))\n",
    "for col, ax in zip(group2, axes):\n",
    "    sns.histplot(x=col, data=df7, ax=ax)\n",
    "    ax.set_xticks(np.arange(min(df7[col]), max(df7[col]), step=0.05))\n"
   ]
  },
  {
   "cell_type": "markdown",
   "metadata": {},
   "source": [
    "\n",
    "\n",
    "* **instrumentalness**: Predicts whether a track contains no vocals. \"Ooh\" and \"aah\" sounds are treated as instrumental in this context. Rap or spoken word tracks are clearly \"vocal\". The closer the instrumentalness value is to 1.0, the greater likelihood the track contains no vocal content. Values *above 0.5* are intended to represent instrumental tracks, but confidence is higher as the value approaches 1.0.\n"
   ]
  },
  {
   "cell_type": "code",
   "execution_count": 125,
   "metadata": {},
   "outputs": [
    {
     "data": {
      "text/plain": [
       "(9.1125e-06, 0.00352, 0.2095)"
      ]
     },
     "execution_count": 125,
     "metadata": {},
     "output_type": "execute_result"
    }
   ],
   "source": [
    "quant_25_i, quant_50_i, quant_75_i= df7.instrumentalness.quantile(0.25),df7.instrumentalness.quantile(0.50),df7.instrumentalness.quantile(0.75)\n",
    "quant_25_i, quant_50_i, quant_75_i "
   ]
  },
  {
   "cell_type": "code",
   "execution_count": 126,
   "metadata": {},
   "outputs": [],
   "source": [
    "df7['instr']=pd.cut(x=df7['instrumentalness'], bins=[-.01,0.00352,quant_75_i], \n",
    "                        labels=[\"no instrumental\",\"instrumental\"])\n",
    "# this column has been discretizated as boolean \n"
   ]
  },
  {
   "cell_type": "markdown",
   "metadata": {},
   "source": [
    "* **acousticness**: A confidence measure from 0.0 to 1.0 of whether the track is acoustic. 1.0 represents high confidence the track is acoustic.\n"
   ]
  },
  {
   "cell_type": "code",
   "execution_count": 127,
   "metadata": {},
   "outputs": [
    {
     "data": {
      "text/plain": [
       "(0.014325000000000001, 0.111, 0.3975)"
      ]
     },
     "execution_count": 127,
     "metadata": {},
     "output_type": "execute_result"
    }
   ],
   "source": [
    "quant_25_a, quant_50_a, quant_75_a= df7.acousticness.quantile(0.25),df7.acousticness.quantile(0.50),df7.acousticness.quantile(0.75)\n",
    "quant_25_a, quant_50_a, quant_75_a "
   ]
  },
  {
   "cell_type": "code",
   "execution_count": 128,
   "metadata": {},
   "outputs": [],
   "source": [
    "df7['aco']=pd.cut(x=df7['acousticness'], bins=[-.01,quant_50_a,1], \n",
    "                        labels=[\"electronic\",\"acoustic\"])\n"
   ]
  },
  {
   "cell_type": "code",
   "execution_count": 129,
   "metadata": {},
   "outputs": [],
   "source": [
    "df8 =df7.drop(group2,axis=1)"
   ]
  },
  {
   "cell_type": "code",
   "execution_count": 130,
   "metadata": {},
   "outputs": [
    {
     "data": {
      "text/html": [
       "<div>\n",
       "<style scoped>\n",
       "    .dataframe tbody tr th:only-of-type {\n",
       "        vertical-align: middle;\n",
       "    }\n",
       "\n",
       "    .dataframe tbody tr th {\n",
       "        vertical-align: top;\n",
       "    }\n",
       "\n",
       "    .dataframe thead th {\n",
       "        text-align: right;\n",
       "    }\n",
       "</style>\n",
       "<table border=\"1\" class=\"dataframe\">\n",
       "  <thead>\n",
       "    <tr style=\"text-align: right;\">\n",
       "      <th></th>\n",
       "      <th>track_name</th>\n",
       "      <th>artists</th>\n",
       "      <th>album</th>\n",
       "      <th>critic score</th>\n",
       "      <th>popularity_normalized</th>\n",
       "      <th>era</th>\n",
       "      <th>dur</th>\n",
       "      <th>tem</th>\n",
       "      <th>loud</th>\n",
       "      <th>speech</th>\n",
       "      <th>val</th>\n",
       "      <th>dan</th>\n",
       "      <th>ene</th>\n",
       "      <th>instr</th>\n",
       "      <th>aco</th>\n",
       "    </tr>\n",
       "  </thead>\n",
       "  <tbody>\n",
       "    <tr>\n",
       "      <th>0</th>\n",
       "      <td>Wouldn't It Be Nice</td>\n",
       "      <td>The Beach Boys</td>\n",
       "      <td>Greatest Hits</td>\n",
       "      <td>1.000000</td>\n",
       "      <td>0.6125</td>\n",
       "      <td>contemporary</td>\n",
       "      <td>average</td>\n",
       "      <td>medium tempo</td>\n",
       "      <td>loud</td>\n",
       "      <td>normal song</td>\n",
       "      <td>euphoric</td>\n",
       "      <td>least danceable</td>\n",
       "      <td>medium</td>\n",
       "      <td>no instrumental</td>\n",
       "      <td>acoustic</td>\n",
       "    </tr>\n",
       "    <tr>\n",
       "      <th>1</th>\n",
       "      <td>God Only Knows</td>\n",
       "      <td>The Beach Boys</td>\n",
       "      <td>50 Big Ones: Greatest Hits</td>\n",
       "      <td>1.000000</td>\n",
       "      <td>0.5000</td>\n",
       "      <td>contemporary</td>\n",
       "      <td>average</td>\n",
       "      <td>medium tempo</td>\n",
       "      <td>normal</td>\n",
       "      <td>normal song</td>\n",
       "      <td>neutral</td>\n",
       "      <td>neutral</td>\n",
       "      <td>slow</td>\n",
       "      <td>no instrumental</td>\n",
       "      <td>acoustic</td>\n",
       "    </tr>\n",
       "    <tr>\n",
       "      <th>2</th>\n",
       "      <td>Sinnerman</td>\n",
       "      <td>Nina Simone</td>\n",
       "      <td>Pastel Blues</td>\n",
       "      <td>0.997996</td>\n",
       "      <td>0.6500</td>\n",
       "      <td>vintage</td>\n",
       "      <td>long</td>\n",
       "      <td>high tempo</td>\n",
       "      <td>quiet</td>\n",
       "      <td>normal song</td>\n",
       "      <td>euphoric</td>\n",
       "      <td>neutral</td>\n",
       "      <td>medium</td>\n",
       "      <td>no instrumental</td>\n",
       "      <td>acoustic</td>\n",
       "    </tr>\n",
       "    <tr>\n",
       "      <th>3</th>\n",
       "      <td>How to Disappear Completely</td>\n",
       "      <td>Radiohead</td>\n",
       "      <td>Kid A</td>\n",
       "      <td>0.995992</td>\n",
       "      <td>0.7000</td>\n",
       "      <td>modern</td>\n",
       "      <td>long</td>\n",
       "      <td>medium tempo</td>\n",
       "      <td>quiet</td>\n",
       "      <td>normal song</td>\n",
       "      <td>sad</td>\n",
       "      <td>least danceable</td>\n",
       "      <td>slow</td>\n",
       "      <td>NaN</td>\n",
       "      <td>acoustic</td>\n",
       "    </tr>\n",
       "    <tr>\n",
       "      <th>4</th>\n",
       "      <td>when you sleep</td>\n",
       "      <td>my bloody valentine</td>\n",
       "      <td>loveless</td>\n",
       "      <td>0.993988</td>\n",
       "      <td>0.6375</td>\n",
       "      <td>modern</td>\n",
       "      <td>above average</td>\n",
       "      <td>medium tempo</td>\n",
       "      <td>normal</td>\n",
       "      <td>normal song</td>\n",
       "      <td>sad</td>\n",
       "      <td>least danceable</td>\n",
       "      <td>energic</td>\n",
       "      <td>NaN</td>\n",
       "      <td>electronic</td>\n",
       "    </tr>\n",
       "  </tbody>\n",
       "</table>\n",
       "</div>"
      ],
      "text/plain": [
       "                    track_name              artists  \\\n",
       "0          Wouldn't It Be Nice       The Beach Boys   \n",
       "1               God Only Knows       The Beach Boys   \n",
       "2                    Sinnerman          Nina Simone   \n",
       "3  How to Disappear Completely            Radiohead   \n",
       "4               when you sleep  my bloody valentine   \n",
       "\n",
       "                        album  critic score  popularity_normalized  \\\n",
       "0               Greatest Hits      1.000000                 0.6125   \n",
       "1  50 Big Ones: Greatest Hits      1.000000                 0.5000   \n",
       "2                Pastel Blues      0.997996                 0.6500   \n",
       "3                       Kid A      0.995992                 0.7000   \n",
       "4                    loveless      0.993988                 0.6375   \n",
       "\n",
       "            era            dur           tem    loud       speech       val  \\\n",
       "0  contemporary        average  medium tempo    loud  normal song  euphoric   \n",
       "1  contemporary        average  medium tempo  normal  normal song   neutral   \n",
       "2       vintage           long    high tempo   quiet  normal song  euphoric   \n",
       "3        modern           long  medium tempo   quiet  normal song       sad   \n",
       "4        modern  above average  medium tempo  normal  normal song       sad   \n",
       "\n",
       "               dan      ene            instr         aco  \n",
       "0  least danceable   medium  no instrumental    acoustic  \n",
       "1          neutral     slow  no instrumental    acoustic  \n",
       "2          neutral   medium  no instrumental    acoustic  \n",
       "3  least danceable     slow              NaN    acoustic  \n",
       "4  least danceable  energic              NaN  electronic  "
      ]
     },
     "execution_count": 130,
     "metadata": {},
     "output_type": "execute_result"
    }
   ],
   "source": [
    "df8.head()"
   ]
  },
  {
   "cell_type": "markdown",
   "metadata": {},
   "source": [
    "## Group 3: 'Popularity', 'Critic score'"
   ]
  },
  {
   "cell_type": "markdown",
   "metadata": {},
   "source": [
    "1. Popularity &rarr; minmax of the metric provided by the `Spotify API`\n",
    "3. Critic Score &rarr; augmented knowledge, min/max del ranking"
   ]
  },
  {
   "cell_type": "markdown",
   "metadata": {},
   "source": [
    "* **Popularity**: The popularity of the track. The value will be between 0 and 100, with 100 being the most popular. \n",
    "The popularity of a track is a value between 0 and 100, with 100 being the most popular. The popularity is calculated by algorithm and is based, in the most part, on the total number of plays the track has had and how recent those plays are. \n",
    "Generally speaking, songs that are being played a lot now will have a higher popularity than songs that were played a lot in the past. Duplicate tracks (e.g. the same track from a single and an album) are rated independently. Artist and album popularity is derived mathematically from track popularity"
   ]
  },
  {
   "cell_type": "code",
   "execution_count": 131,
   "metadata": {},
   "outputs": [
    {
     "data": {
      "image/png": "[encoded data removed]",
      "text/plain": [
       "<Figure size 1440x1080 with 2 Axes>"
      ]
     },
     "metadata": {
      "needs_background": "light"
     },
     "output_type": "display_data"
    }
   ],
   "source": [
    "_, axes = plt.subplots(nrows=2, ncols=1, figsize=(20, 15))\n",
    "for col, ax in zip(group3, axes):\n",
    "    sns.histplot(x=col, data=df8, ax=ax)\n",
    "    ax.set_xticks(np.arange(min(df8[col]), max(df8[col]), step=0.05))\n"
   ]
  },
  {
   "cell_type": "code",
   "execution_count": 132,
   "metadata": {},
   "outputs": [
    {
     "data": {
      "text/plain": [
       "(0.525, 0.625, 0.7375)"
      ]
     },
     "execution_count": 132,
     "metadata": {},
     "output_type": "execute_result"
    }
   ],
   "source": [
    "quant_25_p, quant_50_p, quant_75_p= df8.popularity_normalized.quantile(0.25),df8.popularity_normalized.quantile(0.50),df8.popularity_normalized.quantile(0.75)\n",
    "quant_25_p, quant_50_p, quant_75_p "
   ]
  },
  {
   "cell_type": "code",
   "execution_count": 133,
   "metadata": {},
   "outputs": [],
   "source": [
    "df8['pop']=pd.cut(x=df8['popularity_normalized'], bins=[-.01,quant_50_p,quant_75_p,1], \n",
    "                        labels=[\"not popular\",\"middle\",\"very popular\"])"
   ]
  },
  {
   "cell_type": "code",
   "execution_count": 134,
   "metadata": {},
   "outputs": [
    {
     "data": {
      "text/plain": [
       "(0.26, 0.52, 0.77)"
      ]
     },
     "execution_count": 134,
     "metadata": {},
     "output_type": "execute_result"
    }
   ],
   "source": [
    "quant_25_c, quant_50_c, quant_75_c= round(df8['critic score'].quantile(0.25),2),round(df8['critic score'].quantile(0.50),2),round(df8['critic score'].quantile(0.75),2)\n",
    "quant_25_c, quant_50_c, quant_75_c"
   ]
  },
  {
   "cell_type": "code",
   "execution_count": 135,
   "metadata": {},
   "outputs": [],
   "source": [
    "df8['crit']=pd.cut(x=df8['critic score'], bins=[-.01,quant_25_c,quant_50_c,1], \n",
    "                        labels=[\"not critically acclaimed\",\"average critical\",\"critically acclaimed\"])"
   ]
  },
  {
   "cell_type": "code",
   "execution_count": 136,
   "metadata": {},
   "outputs": [
    {
     "data": {
      "text/html": [
       "<div>\n",
       "<style scoped>\n",
       "    .dataframe tbody tr th:only-of-type {\n",
       "        vertical-align: middle;\n",
       "    }\n",
       "\n",
       "    .dataframe tbody tr th {\n",
       "        vertical-align: top;\n",
       "    }\n",
       "\n",
       "    .dataframe thead th {\n",
       "        text-align: right;\n",
       "    }\n",
       "</style>\n",
       "<table border=\"1\" class=\"dataframe\">\n",
       "  <thead>\n",
       "    <tr style=\"text-align: right;\">\n",
       "      <th></th>\n",
       "      <th>track_name</th>\n",
       "      <th>artists</th>\n",
       "      <th>album</th>\n",
       "      <th>critic score</th>\n",
       "      <th>popularity_normalized</th>\n",
       "      <th>era</th>\n",
       "      <th>dur</th>\n",
       "      <th>tem</th>\n",
       "      <th>loud</th>\n",
       "      <th>speech</th>\n",
       "      <th>val</th>\n",
       "      <th>dan</th>\n",
       "      <th>ene</th>\n",
       "      <th>instr</th>\n",
       "      <th>aco</th>\n",
       "      <th>pop</th>\n",
       "      <th>crit</th>\n",
       "    </tr>\n",
       "  </thead>\n",
       "  <tbody>\n",
       "    <tr>\n",
       "      <th>0</th>\n",
       "      <td>Wouldn't It Be Nice</td>\n",
       "      <td>The Beach Boys</td>\n",
       "      <td>Greatest Hits</td>\n",
       "      <td>1.000000</td>\n",
       "      <td>0.6125</td>\n",
       "      <td>contemporary</td>\n",
       "      <td>average</td>\n",
       "      <td>medium tempo</td>\n",
       "      <td>loud</td>\n",
       "      <td>normal song</td>\n",
       "      <td>euphoric</td>\n",
       "      <td>least danceable</td>\n",
       "      <td>medium</td>\n",
       "      <td>no instrumental</td>\n",
       "      <td>acoustic</td>\n",
       "      <td>not popular</td>\n",
       "      <td>critically acclaimed</td>\n",
       "    </tr>\n",
       "    <tr>\n",
       "      <th>1</th>\n",
       "      <td>God Only Knows</td>\n",
       "      <td>The Beach Boys</td>\n",
       "      <td>50 Big Ones: Greatest Hits</td>\n",
       "      <td>1.000000</td>\n",
       "      <td>0.5000</td>\n",
       "      <td>contemporary</td>\n",
       "      <td>average</td>\n",
       "      <td>medium tempo</td>\n",
       "      <td>normal</td>\n",
       "      <td>normal song</td>\n",
       "      <td>neutral</td>\n",
       "      <td>neutral</td>\n",
       "      <td>slow</td>\n",
       "      <td>no instrumental</td>\n",
       "      <td>acoustic</td>\n",
       "      <td>not popular</td>\n",
       "      <td>critically acclaimed</td>\n",
       "    </tr>\n",
       "    <tr>\n",
       "      <th>2</th>\n",
       "      <td>Sinnerman</td>\n",
       "      <td>Nina Simone</td>\n",
       "      <td>Pastel Blues</td>\n",
       "      <td>0.997996</td>\n",
       "      <td>0.6500</td>\n",
       "      <td>vintage</td>\n",
       "      <td>long</td>\n",
       "      <td>high tempo</td>\n",
       "      <td>quiet</td>\n",
       "      <td>normal song</td>\n",
       "      <td>euphoric</td>\n",
       "      <td>neutral</td>\n",
       "      <td>medium</td>\n",
       "      <td>no instrumental</td>\n",
       "      <td>acoustic</td>\n",
       "      <td>middle</td>\n",
       "      <td>critically acclaimed</td>\n",
       "    </tr>\n",
       "    <tr>\n",
       "      <th>3</th>\n",
       "      <td>How to Disappear Completely</td>\n",
       "      <td>Radiohead</td>\n",
       "      <td>Kid A</td>\n",
       "      <td>0.995992</td>\n",
       "      <td>0.7000</td>\n",
       "      <td>modern</td>\n",
       "      <td>long</td>\n",
       "      <td>medium tempo</td>\n",
       "      <td>quiet</td>\n",
       "      <td>normal song</td>\n",
       "      <td>sad</td>\n",
       "      <td>least danceable</td>\n",
       "      <td>slow</td>\n",
       "      <td>NaN</td>\n",
       "      <td>acoustic</td>\n",
       "      <td>middle</td>\n",
       "      <td>critically acclaimed</td>\n",
       "    </tr>\n",
       "    <tr>\n",
       "      <th>4</th>\n",
       "      <td>when you sleep</td>\n",
       "      <td>my bloody valentine</td>\n",
       "      <td>loveless</td>\n",
       "      <td>0.993988</td>\n",
       "      <td>0.6375</td>\n",
       "      <td>modern</td>\n",
       "      <td>above average</td>\n",
       "      <td>medium tempo</td>\n",
       "      <td>normal</td>\n",
       "      <td>normal song</td>\n",
       "      <td>sad</td>\n",
       "      <td>least danceable</td>\n",
       "      <td>energic</td>\n",
       "      <td>NaN</td>\n",
       "      <td>electronic</td>\n",
       "      <td>middle</td>\n",
       "      <td>critically acclaimed</td>\n",
       "    </tr>\n",
       "  </tbody>\n",
       "</table>\n",
       "</div>"
      ],
      "text/plain": [
       "                    track_name              artists  \\\n",
       "0          Wouldn't It Be Nice       The Beach Boys   \n",
       "1               God Only Knows       The Beach Boys   \n",
       "2                    Sinnerman          Nina Simone   \n",
       "3  How to Disappear Completely            Radiohead   \n",
       "4               when you sleep  my bloody valentine   \n",
       "\n",
       "                        album  critic score  popularity_normalized  \\\n",
       "0               Greatest Hits      1.000000                 0.6125   \n",
       "1  50 Big Ones: Greatest Hits      1.000000                 0.5000   \n",
       "2                Pastel Blues      0.997996                 0.6500   \n",
       "3                       Kid A      0.995992                 0.7000   \n",
       "4                    loveless      0.993988                 0.6375   \n",
       "\n",
       "            era            dur           tem    loud       speech       val  \\\n",
       "0  contemporary        average  medium tempo    loud  normal song  euphoric   \n",
       "1  contemporary        average  medium tempo  normal  normal song   neutral   \n",
       "2       vintage           long    high tempo   quiet  normal song  euphoric   \n",
       "3        modern           long  medium tempo   quiet  normal song       sad   \n",
       "4        modern  above average  medium tempo  normal  normal song       sad   \n",
       "\n",
       "               dan      ene            instr         aco          pop  \\\n",
       "0  least danceable   medium  no instrumental    acoustic  not popular   \n",
       "1          neutral     slow  no instrumental    acoustic  not popular   \n",
       "2          neutral   medium  no instrumental    acoustic       middle   \n",
       "3  least danceable     slow              NaN    acoustic       middle   \n",
       "4  least danceable  energic              NaN  electronic       middle   \n",
       "\n",
       "                   crit  \n",
       "0  critically acclaimed  \n",
       "1  critically acclaimed  \n",
       "2  critically acclaimed  \n",
       "3  critically acclaimed  \n",
       "4  critically acclaimed  "
      ]
     },
     "execution_count": 136,
     "metadata": {},
     "output_type": "execute_result"
    }
   ],
   "source": [
    "df8.head()"
   ]
  },
  {
   "cell_type": "code",
   "execution_count": 137,
   "metadata": {},
   "outputs": [],
   "source": [
    "strings = [\"track_name\",\"artists\",\"album\"]\n"
   ]
  },
  {
   "cell_type": "code",
   "execution_count": 138,
   "metadata": {},
   "outputs": [
    {
     "data": {
      "text/html": [
       "<div>\n",
       "<style scoped>\n",
       "    .dataframe tbody tr th:only-of-type {\n",
       "        vertical-align: middle;\n",
       "    }\n",
       "\n",
       "    .dataframe tbody tr th {\n",
       "        vertical-align: top;\n",
       "    }\n",
       "\n",
       "    .dataframe thead th {\n",
       "        text-align: right;\n",
       "    }\n",
       "</style>\n",
       "<table border=\"1\" class=\"dataframe\">\n",
       "  <thead>\n",
       "    <tr style=\"text-align: right;\">\n",
       "      <th></th>\n",
       "      <th>era</th>\n",
       "      <th>dur</th>\n",
       "      <th>tem</th>\n",
       "      <th>loud</th>\n",
       "      <th>speech</th>\n",
       "      <th>val</th>\n",
       "      <th>dan</th>\n",
       "      <th>ene</th>\n",
       "      <th>instr</th>\n",
       "      <th>aco</th>\n",
       "      <th>pop</th>\n",
       "      <th>crit</th>\n",
       "    </tr>\n",
       "  </thead>\n",
       "  <tbody>\n",
       "    <tr>\n",
       "      <th>0</th>\n",
       "      <td>contemporary</td>\n",
       "      <td>average</td>\n",
       "      <td>medium tempo</td>\n",
       "      <td>loud</td>\n",
       "      <td>normal song</td>\n",
       "      <td>euphoric</td>\n",
       "      <td>least danceable</td>\n",
       "      <td>medium</td>\n",
       "      <td>no instrumental</td>\n",
       "      <td>acoustic</td>\n",
       "      <td>not popular</td>\n",
       "      <td>critically acclaimed</td>\n",
       "    </tr>\n",
       "    <tr>\n",
       "      <th>1</th>\n",
       "      <td>contemporary</td>\n",
       "      <td>average</td>\n",
       "      <td>medium tempo</td>\n",
       "      <td>normal</td>\n",
       "      <td>normal song</td>\n",
       "      <td>neutral</td>\n",
       "      <td>neutral</td>\n",
       "      <td>slow</td>\n",
       "      <td>no instrumental</td>\n",
       "      <td>acoustic</td>\n",
       "      <td>not popular</td>\n",
       "      <td>critically acclaimed</td>\n",
       "    </tr>\n",
       "    <tr>\n",
       "      <th>2</th>\n",
       "      <td>vintage</td>\n",
       "      <td>long</td>\n",
       "      <td>high tempo</td>\n",
       "      <td>quiet</td>\n",
       "      <td>normal song</td>\n",
       "      <td>euphoric</td>\n",
       "      <td>neutral</td>\n",
       "      <td>medium</td>\n",
       "      <td>no instrumental</td>\n",
       "      <td>acoustic</td>\n",
       "      <td>middle</td>\n",
       "      <td>critically acclaimed</td>\n",
       "    </tr>\n",
       "    <tr>\n",
       "      <th>3</th>\n",
       "      <td>modern</td>\n",
       "      <td>long</td>\n",
       "      <td>medium tempo</td>\n",
       "      <td>quiet</td>\n",
       "      <td>normal song</td>\n",
       "      <td>sad</td>\n",
       "      <td>least danceable</td>\n",
       "      <td>slow</td>\n",
       "      <td>NaN</td>\n",
       "      <td>acoustic</td>\n",
       "      <td>middle</td>\n",
       "      <td>critically acclaimed</td>\n",
       "    </tr>\n",
       "    <tr>\n",
       "      <th>4</th>\n",
       "      <td>modern</td>\n",
       "      <td>above average</td>\n",
       "      <td>medium tempo</td>\n",
       "      <td>normal</td>\n",
       "      <td>normal song</td>\n",
       "      <td>sad</td>\n",
       "      <td>least danceable</td>\n",
       "      <td>energic</td>\n",
       "      <td>NaN</td>\n",
       "      <td>electronic</td>\n",
       "      <td>middle</td>\n",
       "      <td>critically acclaimed</td>\n",
       "    </tr>\n",
       "  </tbody>\n",
       "</table>\n",
       "</div>"
      ],
      "text/plain": [
       "            era            dur           tem    loud       speech       val  \\\n",
       "0  contemporary        average  medium tempo    loud  normal song  euphoric   \n",
       "1  contemporary        average  medium tempo  normal  normal song   neutral   \n",
       "2       vintage           long    high tempo   quiet  normal song  euphoric   \n",
       "3        modern           long  medium tempo   quiet  normal song       sad   \n",
       "4        modern  above average  medium tempo  normal  normal song       sad   \n",
       "\n",
       "               dan      ene            instr         aco          pop  \\\n",
       "0  least danceable   medium  no instrumental    acoustic  not popular   \n",
       "1          neutral     slow  no instrumental    acoustic  not popular   \n",
       "2          neutral   medium  no instrumental    acoustic       middle   \n",
       "3  least danceable     slow              NaN    acoustic       middle   \n",
       "4  least danceable  energic              NaN  electronic       middle   \n",
       "\n",
       "                   crit  \n",
       "0  critically acclaimed  \n",
       "1  critically acclaimed  \n",
       "2  critically acclaimed  \n",
       "3  critically acclaimed  \n",
       "4  critically acclaimed  "
      ]
     },
     "execution_count": 138,
     "metadata": {},
     "output_type": "execute_result"
    }
   ],
   "source": [
    "df9 = df8.drop(group3+strings, axis=1) #drop useless columns\n",
    "df9.head()"
   ]
  },
  {
   "cell_type": "markdown",
   "metadata": {},
   "source": [
    "# Network structure"
   ]
  },
  {
   "cell_type": "code",
   "execution_count": null,
   "metadata": {},
   "outputs": [],
   "source": [
    "df5.columns.tolist()"
   ]
  },
  {
   "cell_type": "markdown",
   "metadata": {},
   "source": [
    "loud,Era,acoustic,"
   ]
  },
  {
   "cell_type": "markdown",
   "metadata": {},
   "source": [
    "In order to restrict the scope of the project columns which are irrelevant and are too specific\n",
    "to handle only attributes that have been considered particularly relevant were considered. "
   ]
  },
  {
   "cell_type": "markdown",
   "metadata": {},
   "source": [
    "From the preprocessing we have obtained the following discretization, the variables name have been shortened to make the network more compact. A description of each abbreviation for readibility."
   ]
  },
  {
   "cell_type": "markdown",
   "metadata": {},
   "source": [
    "- year &rarr; 'era',\n",
    "- duration_ms &rarr; 'dur',\n",
    "- instrumentalness &rarr; 'instr',\n",
    "- speechiness &rarr; 'speech',\n",
    "- valence &rarr; 'val',\n",
    "- danceability &rarr; 'dan',\n",
    "- acousticness &rarr; 'aco',\n",
    "- popularity &rarr; 'pop',\n",
    "- critic score &rarr; 'crit',\n",
    "- tempo &rarr; 'tem',\n",
    "- loudness &rarr; 'loud',\n",
    "- energy &rarr; 'ene'"
   ]
  },
  {
   "cell_type": "markdown",
   "metadata": {},
   "source": [
    "Connections between nodes have been implemented firstly by looking at correlation between columns and also ...   "
   ]
  },
  {
   "cell_type": "markdown",
   "metadata": {},
   "source": [
    "# Bayesian network example\n"
   ]
  },
  {
   "cell_type": "code",
   "execution_count": null,
   "metadata": {},
   "outputs": [],
   "source": []
  },
  {
   "cell_type": "markdown",
   "metadata": {},
   "source": [
    "Direct cause\n"
   ]
  },
  {
   "cell_type": "markdown",
   "metadata": {},
   "source": [
    "Causal trail"
   ]
  },
  {
   "cell_type": "markdown",
   "metadata": {},
   "source": [
    "Common effect"
   ]
  },
  {
   "cell_type": "markdown",
   "metadata": {},
   "source": [
    "### Analyzing the network"
   ]
  },
  {
   "cell_type": "markdown",
   "metadata": {},
   "source": [
    "1. Fai grafico con daft\n",
    "2. esportalo in model (poi riscrivilo a mano il model)\n",
    "3. "
   ]
  },
  {
   "cell_type": "code",
   "execution_count": 139,
   "metadata": {},
   "outputs": [],
   "source": [
    "from pgmpy.models import BayesianModel "
   ]
  },
  {
   "cell_type": "code",
   "execution_count": 140,
   "metadata": {},
   "outputs": [],
   "source": [
    "import daft\n",
    "import matplotlib.pyplot as plt\n",
    "from daft import PGM"
   ]
  },
  {
   "cell_type": "markdown",
   "metadata": {},
   "source": [
    "- loudness &rarr; energy\n",
    "- year &rarr; energy \n",
    "- acousticness &rarr; loudness, energy \n",
    "- valence &rarr; danceability,energy"
   ]
  },
  {
   "cell_type": "code",
   "execution_count": 185,
   "metadata": {},
   "outputs": [],
   "source": [
    "pgm = PGM(shape=[6,8])"
   ]
  },
  {
   "cell_type": "markdown",
   "metadata": {},
   "source": [
    "- lvl piu alto: dec dur\n",
    "- sotto: instr speech acou \n",
    "- piu sotto: val"
   ]
  },
  {
   "cell_type": "code",
   "execution_count": 188,
   "metadata": {},
   "outputs": [
    {
     "data": {
      "image/png": "[encoded data removed]",
      "text/plain": [
       "<Figure size 2834.65x3779.53 with 1 Axes>"
      ]
     },
     "metadata": {},
     "output_type": "display_data"
    }
   ],
   "source": [
    "# lvl5\n",
    "pgm.add_node(daft.Node('era', r\"era\", 2, 5),scale=0.5)\n",
    "pgm.add_node(daft.Node('dur', r\"dur\", 1, 5))\n",
    "\n",
    "# lvl4\n",
    "pgm.add_node(daft.Node('speech', r\"speech\", 2, 4))\n",
    "pgm.add_node(daft.Node('aco', r\"aco\", 3, 4))\n",
    "\n",
    "#lvl 3\n",
    "pgm.add_node(daft.Node('instr', r\"instr\", 1, 3))\n",
    "pgm.add_node(daft.Node('val', r\"val\", 2, 3))\n",
    "pgm.add_node(daft.Node('loud', r\"loud\", 3, 3))\n",
    "\n",
    "#lvl 2\n",
    "pgm.add_node(daft.Node('dance', r\"dance\", 1, 2))\n",
    "pgm.add_node(daft.Node('tem', r\"tem\", 2, 2))\n",
    "pgm.add_node(daft.Node('ene', r\"ene\", 3, 2))\n",
    "\n",
    "#lvl 1\n",
    "pgm.add_node(daft.Node('pop', r\"pop\", 1, 1))\n",
    "pgm.add_node(daft.Node('crit', r\"crit\", 2, 1))\n",
    "\n",
    "#edges\n",
    "\n",
    "pgm.add_edge('era', 'dur')\n",
    "# lvl5-4\n",
    "pgm.add_edge('era', 'aco')\n",
    "pgm.add_edge('era', 'speech')\n",
    "\n",
    "\n",
    "# lvl4-3\n",
    "pgm.add_edge('dur', 'instr')\n",
    "pgm.add_edge('dur', 'val')\n",
    "pgm.add_edge('speech', 'loud')\n",
    "pgm.add_edge('aco', 'loud')\n",
    "\n",
    "# lvl4-2\n",
    "pgm.add_edge('speech', 'dance')\n",
    "\n",
    "\n",
    "# lvl3-2\n",
    "\n",
    "pgm.add_plate([0.5, 0.5, 2, 1], label=r\"$n = 1, \\cdots, N$\", shift=-0.1)\n",
    "\n",
    "# lvl2-1\n",
    "\n",
    "pgm.render(dpi=600)\n",
    "plt.show()"
   ]
  },
  {
   "cell_type": "code",
   "execution_count": 143,
   "metadata": {},
   "outputs": [],
   "source": [
    "\n",
    "\n",
    "# pgm = PGM(shape=[6, 7])\n",
    "\n",
    "# pgm.add_node(daft.Node('Gen', r\"Gen\", 2, 6))\n",
    "# pgm.add_node(daft.Node('Age', r\"Age\", 1, 6))\n",
    "# pgm.add_node(daft.Node('CPK', r\"CPK\", 3, 6))\n",
    "# pgm.add_node(daft.Node('Smo', r\"Smo\", 4, 6))\n",
    "# pgm.add_node(daft.Node('Sod', r\"Sod\", 5, 6))\n",
    "\n",
    "\n",
    "# pgm.add_node(daft.Node('Ana', r\"Ana\", 2, 5))\n",
    "\n",
    "# pgm.add_node(daft.Node('Dia', r\"Dia\", 1, 3))\n",
    "# pgm.add_node(daft.Node('Blo', r\"Blo\", 3, 3))\n",
    "\n",
    "# pgm.add_node(daft.Node('Fai', r\"Fai\", 3, 2))\n",
    "\n",
    "# pgm.add_node(daft.Node('Eje', r\"Eje\", 2, 1))\n",
    "# pgm.add_node(daft.Node('Pla', r\"Pla\", 4, 1))\n",
    "\n",
    "# pgm.add_edge('Gen', 'CPK')\n",
    "# pgm.add_edge('Gen', 'Dia')\n",
    "# pgm.add_edge('Age', 'Dia')\n",
    "# pgm.add_edge('Age', 'Ana')\n",
    "# pgm.add_edge('Gen', 'Ana')\n",
    "# pgm.add_edge('Dia', 'Blo')\n",
    "# pgm.add_edge('CPK', 'Blo')\n",
    "# pgm.add_edge('Ana', 'Blo')\n",
    "# pgm.add_edge('Smo', 'Blo')\n",
    "# pgm.add_edge('Sod', 'Blo')\n",
    "# pgm.add_edge('Blo', 'Fai')\n",
    "# pgm.add_edge('Dia', 'Fai')\n",
    "# pgm.add_edge('Fai', 'Eje')\n",
    "# pgm.add_edge('Fai', 'Pla')\n",
    "\n",
    "# pgm.render()\n",
    "# plt.show()"
   ]
  },
  {
   "cell_type": "code",
   "execution_count": 144,
   "metadata": {},
   "outputs": [],
   "source": [
    "\n",
    "\n",
    "# model1 = BayesianModel([('age', 'diabetes'),   ('age', 'anaemia'),   ('gender', 'diabetes'), ('gender', 'anaemia'), ('gender', 'creatinine_phosphokinase'),\n",
    "#                        ('anaemia', 'high_blood_pressure'),   ('diabetes', 'high_blood_pressure'), ('creatinine_phosphokinase', 'high_blood_pressure'),\n",
    "#                        ('smoking', 'high_blood_pressure'), ('serum_sodium', 'high_blood_pressure'),\n",
    "#                        ('diabetes', 'heart_failure'), ('high_blood_pressure', 'heart_failure'),\n",
    "#                        ('heart_failure', 'ejection_fraction'), ('heart_failure', 'platelets')])"
   ]
  },
  {
   "cell_type": "code",
   "execution_count": 145,
   "metadata": {},
   "outputs": [],
   "source": [
    "# def convert_pgm_to_pgmpy(pgm):\n",
    "#     \"\"\"Takes a Daft PGM object and converts it to a pgmpy BayesianModel\"\"\"\n",
    "#     edges = [(edge.node1.name, edge.node2.name) for edge in pgm._edges]\n",
    "#     model = BayesianModel(edges)\n",
    "#     return model"
   ]
  },
  {
   "cell_type": "code",
   "execution_count": 146,
   "metadata": {},
   "outputs": [],
   "source": [
    "# model = convert_pgm_to_pgmpy(pgm)\n",
    "# model.edges()"
   ]
  },
  {
   "cell_type": "code",
   "execution_count": 147,
   "metadata": {},
   "outputs": [],
   "source": [
    "# model1.edges()"
   ]
  },
  {
   "cell_type": "markdown",
   "metadata": {},
   "source": [
    "### Parameter learning"
   ]
  },
  {
   "cell_type": "markdown",
   "metadata": {},
   "source": [
    "##  Inferences"
   ]
  },
  {
   "cell_type": "markdown",
   "metadata": {},
   "source": [
    "###  Exact Inference"
   ]
  },
  {
   "cell_type": "markdown",
   "metadata": {},
   "source": [
    "The library provides 4 different heuristics:\n",
    "* `MinFill`: the cost of removing the node is equal to the number of edges that need to be added to the network after its elimination.\n",
    "* `MinNeighbors`: removing a node has a cost equal to the number of neighbors it has in the current architecture. \n",
    "* `MinWeight`: to every node is assigned a weight given by its domain cardinality; then, the cost of removing a node is equal to the product of the weights of its neighbors\n",
    "* `WeightedMinFill`: to every edge is assigned a weight given by the product of the domain cardinality of its vertices; then, the cost of removing node A is given by the sum of the weights of the edges we'll need to add to the network after its elimination.\n"
   ]
  },
  {
   "cell_type": "markdown",
   "metadata": {},
   "source": [
    "### Approximate Inference"
   ]
  },
  {
   "cell_type": "markdown",
   "metadata": {},
   "source": [
    "###  Query 1:"
   ]
  },
  {
   "cell_type": "markdown",
   "metadata": {},
   "source": [
    "###  Query 2: "
   ]
  }
 ],
 "metadata": {
  "kernelspec": {
   "display_name": "Python 3 (ipykernel)",
   "language": "python",
   "name": "python3"
  },
  "language_info": {
   "codemirror_mode": {
    "name": "ipython",
    "version": 3
   },
   "file_extension": ".py",
   "mimetype": "text/x-python",
   "name": "python",
   "nbconvert_exporter": "python",
   "pygments_lexer": "ipython3",
   "version": "3.9.7"
  },
  "vscode": {
   "interpreter": {
    "hash": "1527373efda72fa2755c1bf8e28aa37d44fcfaa765722a53896873e9ccde169f"
   }
  }
 },
 "nbformat": 4,
 "nbformat_minor": 2
}
