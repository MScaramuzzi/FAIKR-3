{
 "cells": [
  {
   "cell_type": "markdown",
   "metadata": {},
   "source": [
    "# Introduction"
   ]
  },
  {
   "cell_type": "markdown",
   "metadata": {},
   "source": [
    "## Purpose of the project"
   ]
  },
  {
   "cell_type": "markdown",
   "metadata": {},
   "source": [
    "## Data scraping"
   ]
  },
  {
   "cell_type": "markdown",
   "metadata": {},
   "source": [
    "# Default columns\n",
    "\n",
    "* **acousticness**: A confidence measure from 0.0 to 1.0 of whether the track is acoustic. 1.0 represents high confidence the track is acoustic.\n",
    "\n",
    "* **danceability**: Danceability describes how suitable a track is for dancing based on a combination of musical elements including tempo, rhythm stability, beat strength, and overall regularity. A value of 0.0 is least danceable and 1.0 is most danceable.\n",
    "\n",
    "* **energy**: Energy is a measure from 0.0 to 1.0 and represents a perceptual measure of intensity and activity. Typically, energetic tracks feel fast, loud, and noisy. For example, death metal has high energy, while a Bach prelude scores low on the scale. Perceptual features contributing to this attribute include dynamic range, perceived loudness, timbre, onset rate, and general entropy.\n",
    "\n",
    "* **instrumentalness**: Predicts whether a track contains no vocals. \"Ooh\" and \"aah\" sounds are treated as instrumental in this context. Rap or spoken word tracks are clearly \"vocal\". The closer the instrumentalness value is to 1.0, the greater likelihood the track contains no vocal content. Values *above 0.5* are intended to represent instrumental tracks, but confidence is higher as the value approaches 1.0.\n",
    "\n",
    "* **liveness**:\n",
    "Detects the presence of an audience in the recording. Higher liveness values represent an increased probability that the track was performed live. A value *above 0.8* provides strong likelihood that the track is live.\n",
    "\n",
    "* **speechiness**:\n",
    "Speechiness detects the presence of spoken words in a track. The more exclusively speech-like the recording (e.g. talk show, audio book, poetry), the closer to 1.0 the attribute value. Values *above 0.66* describe tracks that are probably made entirely of spoken words. Values *between 0.33 and 0.66* describe tracks that may contain both music and speech, either in sections or layered, including such cases as rap music. Values *below 0.33* most likely represent music and other non-speech-like tracks.\n",
    "\n",
    "* **valence**:\n",
    "A measure from 0.0 to 1.0 describing the musical positiveness conveyed by a track. Tracks with *high valence* sound *more positive* (e.g. happy, cheerful, euphoric), while tracks with *low valence* sound *more negative* (e.g. sad, depressed, angry).\n",
    "\n",
    "* **tempo**:\n",
    "The overall estimated tempo of a track in beats per minute (BPM). In musical terminology, tempo is the speed or pace of a given piece and derives directly from the average beat duration."
   ]
  },
  {
   "cell_type": "markdown",
   "metadata": {},
   "source": [
    "## Aim of the project"
   ]
  },
  {
   "cell_type": "code",
   "execution_count": 1,
   "metadata": {},
   "outputs": [],
   "source": [
    "# importing useful libraries\n",
    "import numpy as np\n",
    "import pandas as pd\n",
    "from itertools import combinations\n",
    "import matplotlib.pyplot as plt\n",
    "import seaborn as sns\n",
    "sep = \";\""
   ]
  },
  {
   "cell_type": "code",
   "execution_count": 2,
   "metadata": {},
   "outputs": [],
   "source": [
    "df = pd.read_csv('dataset.csv',sep=sep)"
   ]
  },
  {
   "cell_type": "code",
   "execution_count": 3,
   "metadata": {},
   "outputs": [
    {
     "data": {
      "text/html": [
       "<div>\n",
       "<style scoped>\n",
       "    .dataframe tbody tr th:only-of-type {\n",
       "        vertical-align: middle;\n",
       "    }\n",
       "\n",
       "    .dataframe tbody tr th {\n",
       "        vertical-align: top;\n",
       "    }\n",
       "\n",
       "    .dataframe thead th {\n",
       "        text-align: right;\n",
       "    }\n",
       "</style>\n",
       "<table border=\"1\" class=\"dataframe\">\n",
       "  <thead>\n",
       "    <tr style=\"text-align: right;\">\n",
       "      <th></th>\n",
       "      <th>track_name</th>\n",
       "      <th>artists</th>\n",
       "      <th>album</th>\n",
       "      <th>danceability</th>\n",
       "      <th>energy</th>\n",
       "      <th>key</th>\n",
       "      <th>loudness</th>\n",
       "      <th>mode</th>\n",
       "      <th>speechiness</th>\n",
       "      <th>acousticness</th>\n",
       "      <th>instrumentalness</th>\n",
       "      <th>liveness</th>\n",
       "      <th>valence</th>\n",
       "      <th>tempo</th>\n",
       "      <th>duration_ms</th>\n",
       "      <th>time_signature</th>\n",
       "      <th>popularity</th>\n",
       "      <th>year</th>\n",
       "      <th>ranking</th>\n",
       "      <th>critic score</th>\n",
       "    </tr>\n",
       "  </thead>\n",
       "  <tbody>\n",
       "    <tr>\n",
       "      <th>0</th>\n",
       "      <td>Wouldn't It Be Nice</td>\n",
       "      <td>The Beach Boys</td>\n",
       "      <td>Greatest Hits</td>\n",
       "      <td>0.385</td>\n",
       "      <td>0.657</td>\n",
       "      <td>5</td>\n",
       "      <td>-6.975</td>\n",
       "      <td>1</td>\n",
       "      <td>0.0342</td>\n",
       "      <td>0.724000</td>\n",
       "      <td>0.000000</td>\n",
       "      <td>0.1050</td>\n",
       "      <td>0.672</td>\n",
       "      <td>124.895</td>\n",
       "      <td>153867</td>\n",
       "      <td>4</td>\n",
       "      <td>60</td>\n",
       "      <td>2012</td>\n",
       "      <td>1</td>\n",
       "      <td>1</td>\n",
       "    </tr>\n",
       "    <tr>\n",
       "      <th>1</th>\n",
       "      <td>God Only Knows</td>\n",
       "      <td>The Beach Boys</td>\n",
       "      <td>50 Big Ones: Greatest Hits</td>\n",
       "      <td>0.433</td>\n",
       "      <td>0.469</td>\n",
       "      <td>6</td>\n",
       "      <td>-9.853</td>\n",
       "      <td>0</td>\n",
       "      <td>0.0320</td>\n",
       "      <td>0.156000</td>\n",
       "      <td>0.000000</td>\n",
       "      <td>0.0479</td>\n",
       "      <td>0.334</td>\n",
       "      <td>115.876</td>\n",
       "      <td>175787</td>\n",
       "      <td>4</td>\n",
       "      <td>51</td>\n",
       "      <td>2012</td>\n",
       "      <td>1</td>\n",
       "      <td>1</td>\n",
       "    </tr>\n",
       "    <tr>\n",
       "      <th>2</th>\n",
       "      <td>Sinnerman</td>\n",
       "      <td>Nina Simone</td>\n",
       "      <td>Pastel Blues</td>\n",
       "      <td>0.436</td>\n",
       "      <td>0.543</td>\n",
       "      <td>11</td>\n",
       "      <td>-13.351</td>\n",
       "      <td>0</td>\n",
       "      <td>0.0962</td>\n",
       "      <td>0.654000</td>\n",
       "      <td>0.000009</td>\n",
       "      <td>0.0937</td>\n",
       "      <td>0.663</td>\n",
       "      <td>148.282</td>\n",
       "      <td>622000</td>\n",
       "      <td>4</td>\n",
       "      <td>63</td>\n",
       "      <td>1965</td>\n",
       "      <td>2</td>\n",
       "      <td>0,997995992</td>\n",
       "    </tr>\n",
       "    <tr>\n",
       "      <th>3</th>\n",
       "      <td>How to Disappear Completely</td>\n",
       "      <td>Radiohead</td>\n",
       "      <td>Kid A</td>\n",
       "      <td>0.167</td>\n",
       "      <td>0.302</td>\n",
       "      <td>6</td>\n",
       "      <td>-11.644</td>\n",
       "      <td>0</td>\n",
       "      <td>0.0345</td>\n",
       "      <td>0.316000</td>\n",
       "      <td>0.797000</td>\n",
       "      <td>0.1100</td>\n",
       "      <td>0.190</td>\n",
       "      <td>102.026</td>\n",
       "      <td>356333</td>\n",
       "      <td>4</td>\n",
       "      <td>67</td>\n",
       "      <td>2000</td>\n",
       "      <td>3</td>\n",
       "      <td>0,995991984</td>\n",
       "    </tr>\n",
       "    <tr>\n",
       "      <th>4</th>\n",
       "      <td>when you sleep</td>\n",
       "      <td>my bloody valentine</td>\n",
       "      <td>loveless</td>\n",
       "      <td>0.399</td>\n",
       "      <td>0.866</td>\n",
       "      <td>6</td>\n",
       "      <td>-9.720</td>\n",
       "      <td>1</td>\n",
       "      <td>0.0558</td>\n",
       "      <td>0.000034</td>\n",
       "      <td>0.738000</td>\n",
       "      <td>0.0785</td>\n",
       "      <td>0.125</td>\n",
       "      <td>128.864</td>\n",
       "      <td>251947</td>\n",
       "      <td>4</td>\n",
       "      <td>62</td>\n",
       "      <td>1991</td>\n",
       "      <td>4</td>\n",
       "      <td>0,993987976</td>\n",
       "    </tr>\n",
       "  </tbody>\n",
       "</table>\n",
       "</div>"
      ],
      "text/plain": [
       "                    track_name              artists  \\\n",
       "0          Wouldn't It Be Nice       The Beach Boys   \n",
       "1               God Only Knows       The Beach Boys   \n",
       "2                    Sinnerman          Nina Simone   \n",
       "3  How to Disappear Completely            Radiohead   \n",
       "4               when you sleep  my bloody valentine   \n",
       "\n",
       "                        album  danceability  energy  key  loudness  mode  \\\n",
       "0               Greatest Hits         0.385   0.657    5    -6.975     1   \n",
       "1  50 Big Ones: Greatest Hits         0.433   0.469    6    -9.853     0   \n",
       "2                Pastel Blues         0.436   0.543   11   -13.351     0   \n",
       "3                       Kid A         0.167   0.302    6   -11.644     0   \n",
       "4                    loveless         0.399   0.866    6    -9.720     1   \n",
       "\n",
       "   speechiness  acousticness  instrumentalness  liveness  valence    tempo  \\\n",
       "0       0.0342      0.724000          0.000000    0.1050    0.672  124.895   \n",
       "1       0.0320      0.156000          0.000000    0.0479    0.334  115.876   \n",
       "2       0.0962      0.654000          0.000009    0.0937    0.663  148.282   \n",
       "3       0.0345      0.316000          0.797000    0.1100    0.190  102.026   \n",
       "4       0.0558      0.000034          0.738000    0.0785    0.125  128.864   \n",
       "\n",
       "   duration_ms  time_signature  popularity  year  ranking critic score  \n",
       "0       153867               4          60  2012        1            1  \n",
       "1       175787               4          51  2012        1            1  \n",
       "2       622000               4          63  1965        2  0,997995992  \n",
       "3       356333               4          67  2000        3  0,995991984  \n",
       "4       251947               4          62  1991        4  0,993987976  "
      ]
     },
     "execution_count": 3,
     "metadata": {},
     "output_type": "execute_result"
    }
   ],
   "source": [
    "df.head()"
   ]
  },
  {
   "cell_type": "markdown",
   "metadata": {},
   "source": [
    "# Make simple statistics on critic score"
   ]
  },
  {
   "cell_type": "code",
   "execution_count": 4,
   "metadata": {},
   "outputs": [
    {
     "data": {
      "text/html": [
       "<div>\n",
       "<style scoped>\n",
       "    .dataframe tbody tr th:only-of-type {\n",
       "        vertical-align: middle;\n",
       "    }\n",
       "\n",
       "    .dataframe tbody tr th {\n",
       "        vertical-align: top;\n",
       "    }\n",
       "\n",
       "    .dataframe thead th {\n",
       "        text-align: right;\n",
       "    }\n",
       "</style>\n",
       "<table border=\"1\" class=\"dataframe\">\n",
       "  <thead>\n",
       "    <tr style=\"text-align: right;\">\n",
       "      <th></th>\n",
       "      <th>track_name</th>\n",
       "      <th>artists</th>\n",
       "      <th>album</th>\n",
       "      <th>danceability</th>\n",
       "      <th>energy</th>\n",
       "      <th>loudness</th>\n",
       "      <th>speechiness</th>\n",
       "      <th>acousticness</th>\n",
       "      <th>instrumentalness</th>\n",
       "      <th>liveness</th>\n",
       "      <th>valence</th>\n",
       "      <th>tempo</th>\n",
       "      <th>duration_ms</th>\n",
       "      <th>popularity</th>\n",
       "      <th>year</th>\n",
       "      <th>ranking</th>\n",
       "      <th>critic score</th>\n",
       "    </tr>\n",
       "  </thead>\n",
       "  <tbody>\n",
       "    <tr>\n",
       "      <th>0</th>\n",
       "      <td>Wouldn't It Be Nice</td>\n",
       "      <td>The Beach Boys</td>\n",
       "      <td>Greatest Hits</td>\n",
       "      <td>0.385</td>\n",
       "      <td>0.657</td>\n",
       "      <td>-6.975</td>\n",
       "      <td>0.0342</td>\n",
       "      <td>0.724000</td>\n",
       "      <td>0.000000</td>\n",
       "      <td>0.1050</td>\n",
       "      <td>0.672</td>\n",
       "      <td>124.895</td>\n",
       "      <td>153867</td>\n",
       "      <td>60</td>\n",
       "      <td>2012</td>\n",
       "      <td>1</td>\n",
       "      <td>1</td>\n",
       "    </tr>\n",
       "    <tr>\n",
       "      <th>1</th>\n",
       "      <td>God Only Knows</td>\n",
       "      <td>The Beach Boys</td>\n",
       "      <td>50 Big Ones: Greatest Hits</td>\n",
       "      <td>0.433</td>\n",
       "      <td>0.469</td>\n",
       "      <td>-9.853</td>\n",
       "      <td>0.0320</td>\n",
       "      <td>0.156000</td>\n",
       "      <td>0.000000</td>\n",
       "      <td>0.0479</td>\n",
       "      <td>0.334</td>\n",
       "      <td>115.876</td>\n",
       "      <td>175787</td>\n",
       "      <td>51</td>\n",
       "      <td>2012</td>\n",
       "      <td>1</td>\n",
       "      <td>1</td>\n",
       "    </tr>\n",
       "    <tr>\n",
       "      <th>2</th>\n",
       "      <td>Sinnerman</td>\n",
       "      <td>Nina Simone</td>\n",
       "      <td>Pastel Blues</td>\n",
       "      <td>0.436</td>\n",
       "      <td>0.543</td>\n",
       "      <td>-13.351</td>\n",
       "      <td>0.0962</td>\n",
       "      <td>0.654000</td>\n",
       "      <td>0.000009</td>\n",
       "      <td>0.0937</td>\n",
       "      <td>0.663</td>\n",
       "      <td>148.282</td>\n",
       "      <td>622000</td>\n",
       "      <td>63</td>\n",
       "      <td>1965</td>\n",
       "      <td>2</td>\n",
       "      <td>0,997995992</td>\n",
       "    </tr>\n",
       "    <tr>\n",
       "      <th>3</th>\n",
       "      <td>How to Disappear Completely</td>\n",
       "      <td>Radiohead</td>\n",
       "      <td>Kid A</td>\n",
       "      <td>0.167</td>\n",
       "      <td>0.302</td>\n",
       "      <td>-11.644</td>\n",
       "      <td>0.0345</td>\n",
       "      <td>0.316000</td>\n",
       "      <td>0.797000</td>\n",
       "      <td>0.1100</td>\n",
       "      <td>0.190</td>\n",
       "      <td>102.026</td>\n",
       "      <td>356333</td>\n",
       "      <td>67</td>\n",
       "      <td>2000</td>\n",
       "      <td>3</td>\n",
       "      <td>0,995991984</td>\n",
       "    </tr>\n",
       "    <tr>\n",
       "      <th>4</th>\n",
       "      <td>when you sleep</td>\n",
       "      <td>my bloody valentine</td>\n",
       "      <td>loveless</td>\n",
       "      <td>0.399</td>\n",
       "      <td>0.866</td>\n",
       "      <td>-9.720</td>\n",
       "      <td>0.0558</td>\n",
       "      <td>0.000034</td>\n",
       "      <td>0.738000</td>\n",
       "      <td>0.0785</td>\n",
       "      <td>0.125</td>\n",
       "      <td>128.864</td>\n",
       "      <td>251947</td>\n",
       "      <td>62</td>\n",
       "      <td>1991</td>\n",
       "      <td>4</td>\n",
       "      <td>0,993987976</td>\n",
       "    </tr>\n",
       "  </tbody>\n",
       "</table>\n",
       "</div>"
      ],
      "text/plain": [
       "                    track_name              artists  \\\n",
       "0          Wouldn't It Be Nice       The Beach Boys   \n",
       "1               God Only Knows       The Beach Boys   \n",
       "2                    Sinnerman          Nina Simone   \n",
       "3  How to Disappear Completely            Radiohead   \n",
       "4               when you sleep  my bloody valentine   \n",
       "\n",
       "                        album  danceability  energy  loudness  speechiness  \\\n",
       "0               Greatest Hits         0.385   0.657    -6.975       0.0342   \n",
       "1  50 Big Ones: Greatest Hits         0.433   0.469    -9.853       0.0320   \n",
       "2                Pastel Blues         0.436   0.543   -13.351       0.0962   \n",
       "3                       Kid A         0.167   0.302   -11.644       0.0345   \n",
       "4                    loveless         0.399   0.866    -9.720       0.0558   \n",
       "\n",
       "   acousticness  instrumentalness  liveness  valence    tempo  duration_ms  \\\n",
       "0      0.724000          0.000000    0.1050    0.672  124.895       153867   \n",
       "1      0.156000          0.000000    0.0479    0.334  115.876       175787   \n",
       "2      0.654000          0.000009    0.0937    0.663  148.282       622000   \n",
       "3      0.316000          0.797000    0.1100    0.190  102.026       356333   \n",
       "4      0.000034          0.738000    0.0785    0.125  128.864       251947   \n",
       "\n",
       "   popularity  year  ranking critic score  \n",
       "0          60  2012        1            1  \n",
       "1          51  2012        1            1  \n",
       "2          63  1965        2  0,997995992  \n",
       "3          67  2000        3  0,995991984  \n",
       "4          62  1991        4  0,993987976  "
      ]
     },
     "execution_count": 4,
     "metadata": {},
     "output_type": "execute_result"
    }
   ],
   "source": [
    "df1 = df.drop(['time_signature','mode','key'],axis=1)\n",
    "df1.head()"
   ]
  },
  {
   "cell_type": "markdown",
   "metadata": {},
   "source": [
    "# Pre-processed columns\n",
    "\n",
    "These columns are relatively easy to discretize because they are not domain dependent attributes and we are able to use common hand techniques for generating the labels."
   ]
  },
  {
   "cell_type": "markdown",
   "metadata": {},
   "source": [
    "\n",
    "* **Release date**: Convert release date to the decade the album was released in order to discretize the value in order to obtain the **'Decade'** column. Then we proceeded to convert each discretized decade into a categorical column **'Era'** . For the labels we used some kind of intuition to determine the labels associated with each group of decade.  \n",
    "\n"
   ]
  },
  {
   "cell_type": "code",
   "execution_count": 5,
   "metadata": {},
   "outputs": [
    {
     "data": {
      "text/html": [
       "<div>\n",
       "<style scoped>\n",
       "    .dataframe tbody tr th:only-of-type {\n",
       "        vertical-align: middle;\n",
       "    }\n",
       "\n",
       "    .dataframe tbody tr th {\n",
       "        vertical-align: top;\n",
       "    }\n",
       "\n",
       "    .dataframe thead th {\n",
       "        text-align: right;\n",
       "    }\n",
       "</style>\n",
       "<table border=\"1\" class=\"dataframe\">\n",
       "  <thead>\n",
       "    <tr style=\"text-align: right;\">\n",
       "      <th></th>\n",
       "      <th>track_name</th>\n",
       "      <th>artists</th>\n",
       "      <th>album</th>\n",
       "      <th>danceability</th>\n",
       "      <th>energy</th>\n",
       "      <th>loudness</th>\n",
       "      <th>speechiness</th>\n",
       "      <th>acousticness</th>\n",
       "      <th>instrumentalness</th>\n",
       "      <th>liveness</th>\n",
       "      <th>valence</th>\n",
       "      <th>tempo</th>\n",
       "      <th>duration_ms</th>\n",
       "      <th>popularity</th>\n",
       "      <th>year</th>\n",
       "      <th>ranking</th>\n",
       "      <th>critic score</th>\n",
       "      <th>Decade</th>\n",
       "    </tr>\n",
       "  </thead>\n",
       "  <tbody>\n",
       "    <tr>\n",
       "      <th>0</th>\n",
       "      <td>Wouldn't It Be Nice</td>\n",
       "      <td>The Beach Boys</td>\n",
       "      <td>Greatest Hits</td>\n",
       "      <td>0.385</td>\n",
       "      <td>0.657</td>\n",
       "      <td>-6.975</td>\n",
       "      <td>0.0342</td>\n",
       "      <td>0.724000</td>\n",
       "      <td>0.000000</td>\n",
       "      <td>0.1050</td>\n",
       "      <td>0.672</td>\n",
       "      <td>124.895</td>\n",
       "      <td>153867</td>\n",
       "      <td>60</td>\n",
       "      <td>2012</td>\n",
       "      <td>1</td>\n",
       "      <td>1</td>\n",
       "      <td>2010</td>\n",
       "    </tr>\n",
       "    <tr>\n",
       "      <th>1</th>\n",
       "      <td>God Only Knows</td>\n",
       "      <td>The Beach Boys</td>\n",
       "      <td>50 Big Ones: Greatest Hits</td>\n",
       "      <td>0.433</td>\n",
       "      <td>0.469</td>\n",
       "      <td>-9.853</td>\n",
       "      <td>0.0320</td>\n",
       "      <td>0.156000</td>\n",
       "      <td>0.000000</td>\n",
       "      <td>0.0479</td>\n",
       "      <td>0.334</td>\n",
       "      <td>115.876</td>\n",
       "      <td>175787</td>\n",
       "      <td>51</td>\n",
       "      <td>2012</td>\n",
       "      <td>1</td>\n",
       "      <td>1</td>\n",
       "      <td>2010</td>\n",
       "    </tr>\n",
       "    <tr>\n",
       "      <th>2</th>\n",
       "      <td>Sinnerman</td>\n",
       "      <td>Nina Simone</td>\n",
       "      <td>Pastel Blues</td>\n",
       "      <td>0.436</td>\n",
       "      <td>0.543</td>\n",
       "      <td>-13.351</td>\n",
       "      <td>0.0962</td>\n",
       "      <td>0.654000</td>\n",
       "      <td>0.000009</td>\n",
       "      <td>0.0937</td>\n",
       "      <td>0.663</td>\n",
       "      <td>148.282</td>\n",
       "      <td>622000</td>\n",
       "      <td>63</td>\n",
       "      <td>1965</td>\n",
       "      <td>2</td>\n",
       "      <td>0,997995992</td>\n",
       "      <td>1960</td>\n",
       "    </tr>\n",
       "    <tr>\n",
       "      <th>3</th>\n",
       "      <td>How to Disappear Completely</td>\n",
       "      <td>Radiohead</td>\n",
       "      <td>Kid A</td>\n",
       "      <td>0.167</td>\n",
       "      <td>0.302</td>\n",
       "      <td>-11.644</td>\n",
       "      <td>0.0345</td>\n",
       "      <td>0.316000</td>\n",
       "      <td>0.797000</td>\n",
       "      <td>0.1100</td>\n",
       "      <td>0.190</td>\n",
       "      <td>102.026</td>\n",
       "      <td>356333</td>\n",
       "      <td>67</td>\n",
       "      <td>2000</td>\n",
       "      <td>3</td>\n",
       "      <td>0,995991984</td>\n",
       "      <td>2000</td>\n",
       "    </tr>\n",
       "    <tr>\n",
       "      <th>4</th>\n",
       "      <td>when you sleep</td>\n",
       "      <td>my bloody valentine</td>\n",
       "      <td>loveless</td>\n",
       "      <td>0.399</td>\n",
       "      <td>0.866</td>\n",
       "      <td>-9.720</td>\n",
       "      <td>0.0558</td>\n",
       "      <td>0.000034</td>\n",
       "      <td>0.738000</td>\n",
       "      <td>0.0785</td>\n",
       "      <td>0.125</td>\n",
       "      <td>128.864</td>\n",
       "      <td>251947</td>\n",
       "      <td>62</td>\n",
       "      <td>1991</td>\n",
       "      <td>4</td>\n",
       "      <td>0,993987976</td>\n",
       "      <td>1990</td>\n",
       "    </tr>\n",
       "  </tbody>\n",
       "</table>\n",
       "</div>"
      ],
      "text/plain": [
       "                    track_name              artists  \\\n",
       "0          Wouldn't It Be Nice       The Beach Boys   \n",
       "1               God Only Knows       The Beach Boys   \n",
       "2                    Sinnerman          Nina Simone   \n",
       "3  How to Disappear Completely            Radiohead   \n",
       "4               when you sleep  my bloody valentine   \n",
       "\n",
       "                        album  danceability  energy  loudness  speechiness  \\\n",
       "0               Greatest Hits         0.385   0.657    -6.975       0.0342   \n",
       "1  50 Big Ones: Greatest Hits         0.433   0.469    -9.853       0.0320   \n",
       "2                Pastel Blues         0.436   0.543   -13.351       0.0962   \n",
       "3                       Kid A         0.167   0.302   -11.644       0.0345   \n",
       "4                    loveless         0.399   0.866    -9.720       0.0558   \n",
       "\n",
       "   acousticness  instrumentalness  liveness  valence    tempo  duration_ms  \\\n",
       "0      0.724000          0.000000    0.1050    0.672  124.895       153867   \n",
       "1      0.156000          0.000000    0.0479    0.334  115.876       175787   \n",
       "2      0.654000          0.000009    0.0937    0.663  148.282       622000   \n",
       "3      0.316000          0.797000    0.1100    0.190  102.026       356333   \n",
       "4      0.000034          0.738000    0.0785    0.125  128.864       251947   \n",
       "\n",
       "   popularity  year  ranking critic score  Decade  \n",
       "0          60  2012        1            1    2010  \n",
       "1          51  2012        1            1    2010  \n",
       "2          63  1965        2  0,997995992    1960  \n",
       "3          67  2000        3  0,995991984    2000  \n",
       "4          62  1991        4  0,993987976    1990  "
      ]
     },
     "execution_count": 5,
     "metadata": {},
     "output_type": "execute_result"
    }
   ],
   "source": [
    "df1['Decade'] = (10 * (df1['year'] // 10))\n",
    "df1.head()"
   ]
  },
  {
   "cell_type": "code",
   "execution_count": 6,
   "metadata": {},
   "outputs": [
    {
     "name": "stdout",
     "output_type": "stream",
     "text": [
      "1920 2020\n"
     ]
    }
   ],
   "source": [
    "#Printing the min and max values of Release date in order to better discretize the release date \n",
    "# column\n",
    "print(np.min(df1['Decade']), np.max(df1['Decade']))"
   ]
  },
  {
   "cell_type": "markdown",
   "metadata": {},
   "source": [
    "The rationale is:\n",
    "\n",
    "- Albums released in a decade before the 1980s excluded are considered as *vintage*. This is a reasonable assumption considering 1970 was 50 years ago.\n",
    "\n",
    "- Albums released in a decade after the 1980s included and before the 2000s included are considered as *modern*.\n",
    "\n",
    "- Albums released in a decade after the 2000s **excluded** are considered as *contemporary*."
   ]
  },
  {
   "cell_type": "markdown",
   "metadata": {},
   "source": [
    "TODO: migliora labels"
   ]
  },
  {
   "cell_type": "code",
   "execution_count": 7,
   "metadata": {},
   "outputs": [],
   "source": [
    "df1['Era']=pd.cut(x=df1['Decade'], bins=[1910,1970,2000,2020], \n",
    "                        labels=[\"vintage\",\"modern\",\"contemporary\"])\n"
   ]
  },
  {
   "cell_type": "markdown",
   "metadata": {},
   "source": [
    "* **duration_ms**: Through a helper function we convert duration_ms into **'duration_min '**\n",
    " "
   ]
  },
  {
   "cell_type": "markdown",
   "metadata": {},
   "source": [
    "Visualizza dati\n"
   ]
  },
  {
   "cell_type": "markdown",
   "metadata": {},
   "source": [
    "### Approximate duration into minutes"
   ]
  },
  {
   "cell_type": "markdown",
   "metadata": {},
   "source": [
    "\n",
    "The get_min function takes as input an int value in milliseconds and converts it into an integer\n",
    "that corresponds to the nearest minute. For example, that means that if a duration in milliseconds \n",
    "is equal 3 minutes and 30 seconds it is approximated to the nearest minute which is 4.\n",
    "\n"
   ]
  },
  {
   "cell_type": "code",
   "execution_count": 8,
   "metadata": {},
   "outputs": [],
   "source": [
    "def get_min(ms):\n",
    "    minutes=float(ms/float(1000*60))%60.\n",
    "    return int((round(minutes,0))\n",
    ")"
   ]
  },
  {
   "cell_type": "code",
   "execution_count": 9,
   "metadata": {},
   "outputs": [
    {
     "name": "stdout",
     "output_type": "stream",
     "text": [
      "4 minutes\n",
      "3 minutes\n"
     ]
    }
   ],
   "source": [
    "print(get_min(210000),'minutes') # 210000 milliseconds is equal to 3 minutes and 30 seconds\n",
    "print(get_min(209000),'minutes') # 209000 milliseconds is equal to 3 minutes and 29 seconds"
   ]
  },
  {
   "cell_type": "code",
   "execution_count": 10,
   "metadata": {},
   "outputs": [
    {
     "data": {
      "text/html": [
       "<div>\n",
       "<style scoped>\n",
       "    .dataframe tbody tr th:only-of-type {\n",
       "        vertical-align: middle;\n",
       "    }\n",
       "\n",
       "    .dataframe tbody tr th {\n",
       "        vertical-align: top;\n",
       "    }\n",
       "\n",
       "    .dataframe thead th {\n",
       "        text-align: right;\n",
       "    }\n",
       "</style>\n",
       "<table border=\"1\" class=\"dataframe\">\n",
       "  <thead>\n",
       "    <tr style=\"text-align: right;\">\n",
       "      <th></th>\n",
       "      <th>track_name</th>\n",
       "      <th>artists</th>\n",
       "      <th>album</th>\n",
       "      <th>danceability</th>\n",
       "      <th>energy</th>\n",
       "      <th>loudness</th>\n",
       "      <th>speechiness</th>\n",
       "      <th>acousticness</th>\n",
       "      <th>instrumentalness</th>\n",
       "      <th>liveness</th>\n",
       "      <th>valence</th>\n",
       "      <th>tempo</th>\n",
       "      <th>duration_ms</th>\n",
       "      <th>popularity</th>\n",
       "      <th>year</th>\n",
       "      <th>ranking</th>\n",
       "      <th>critic score</th>\n",
       "      <th>Decade</th>\n",
       "      <th>Era</th>\n",
       "      <th>duration_min</th>\n",
       "    </tr>\n",
       "  </thead>\n",
       "  <tbody>\n",
       "    <tr>\n",
       "      <th>0</th>\n",
       "      <td>Wouldn't It Be Nice</td>\n",
       "      <td>The Beach Boys</td>\n",
       "      <td>Greatest Hits</td>\n",
       "      <td>0.385</td>\n",
       "      <td>0.657</td>\n",
       "      <td>-6.975</td>\n",
       "      <td>0.0342</td>\n",
       "      <td>0.724000</td>\n",
       "      <td>0.000000</td>\n",
       "      <td>0.1050</td>\n",
       "      <td>0.672</td>\n",
       "      <td>124.895</td>\n",
       "      <td>153867</td>\n",
       "      <td>60</td>\n",
       "      <td>2012</td>\n",
       "      <td>1</td>\n",
       "      <td>1</td>\n",
       "      <td>2010</td>\n",
       "      <td>contemporary</td>\n",
       "      <td>3</td>\n",
       "    </tr>\n",
       "    <tr>\n",
       "      <th>1</th>\n",
       "      <td>God Only Knows</td>\n",
       "      <td>The Beach Boys</td>\n",
       "      <td>50 Big Ones: Greatest Hits</td>\n",
       "      <td>0.433</td>\n",
       "      <td>0.469</td>\n",
       "      <td>-9.853</td>\n",
       "      <td>0.0320</td>\n",
       "      <td>0.156000</td>\n",
       "      <td>0.000000</td>\n",
       "      <td>0.0479</td>\n",
       "      <td>0.334</td>\n",
       "      <td>115.876</td>\n",
       "      <td>175787</td>\n",
       "      <td>51</td>\n",
       "      <td>2012</td>\n",
       "      <td>1</td>\n",
       "      <td>1</td>\n",
       "      <td>2010</td>\n",
       "      <td>contemporary</td>\n",
       "      <td>3</td>\n",
       "    </tr>\n",
       "    <tr>\n",
       "      <th>2</th>\n",
       "      <td>Sinnerman</td>\n",
       "      <td>Nina Simone</td>\n",
       "      <td>Pastel Blues</td>\n",
       "      <td>0.436</td>\n",
       "      <td>0.543</td>\n",
       "      <td>-13.351</td>\n",
       "      <td>0.0962</td>\n",
       "      <td>0.654000</td>\n",
       "      <td>0.000009</td>\n",
       "      <td>0.0937</td>\n",
       "      <td>0.663</td>\n",
       "      <td>148.282</td>\n",
       "      <td>622000</td>\n",
       "      <td>63</td>\n",
       "      <td>1965</td>\n",
       "      <td>2</td>\n",
       "      <td>0,997995992</td>\n",
       "      <td>1960</td>\n",
       "      <td>vintage</td>\n",
       "      <td>10</td>\n",
       "    </tr>\n",
       "    <tr>\n",
       "      <th>3</th>\n",
       "      <td>How to Disappear Completely</td>\n",
       "      <td>Radiohead</td>\n",
       "      <td>Kid A</td>\n",
       "      <td>0.167</td>\n",
       "      <td>0.302</td>\n",
       "      <td>-11.644</td>\n",
       "      <td>0.0345</td>\n",
       "      <td>0.316000</td>\n",
       "      <td>0.797000</td>\n",
       "      <td>0.1100</td>\n",
       "      <td>0.190</td>\n",
       "      <td>102.026</td>\n",
       "      <td>356333</td>\n",
       "      <td>67</td>\n",
       "      <td>2000</td>\n",
       "      <td>3</td>\n",
       "      <td>0,995991984</td>\n",
       "      <td>2000</td>\n",
       "      <td>modern</td>\n",
       "      <td>6</td>\n",
       "    </tr>\n",
       "    <tr>\n",
       "      <th>4</th>\n",
       "      <td>when you sleep</td>\n",
       "      <td>my bloody valentine</td>\n",
       "      <td>loveless</td>\n",
       "      <td>0.399</td>\n",
       "      <td>0.866</td>\n",
       "      <td>-9.720</td>\n",
       "      <td>0.0558</td>\n",
       "      <td>0.000034</td>\n",
       "      <td>0.738000</td>\n",
       "      <td>0.0785</td>\n",
       "      <td>0.125</td>\n",
       "      <td>128.864</td>\n",
       "      <td>251947</td>\n",
       "      <td>62</td>\n",
       "      <td>1991</td>\n",
       "      <td>4</td>\n",
       "      <td>0,993987976</td>\n",
       "      <td>1990</td>\n",
       "      <td>modern</td>\n",
       "      <td>4</td>\n",
       "    </tr>\n",
       "  </tbody>\n",
       "</table>\n",
       "</div>"
      ],
      "text/plain": [
       "                    track_name              artists  \\\n",
       "0          Wouldn't It Be Nice       The Beach Boys   \n",
       "1               God Only Knows       The Beach Boys   \n",
       "2                    Sinnerman          Nina Simone   \n",
       "3  How to Disappear Completely            Radiohead   \n",
       "4               when you sleep  my bloody valentine   \n",
       "\n",
       "                        album  danceability  energy  loudness  speechiness  \\\n",
       "0               Greatest Hits         0.385   0.657    -6.975       0.0342   \n",
       "1  50 Big Ones: Greatest Hits         0.433   0.469    -9.853       0.0320   \n",
       "2                Pastel Blues         0.436   0.543   -13.351       0.0962   \n",
       "3                       Kid A         0.167   0.302   -11.644       0.0345   \n",
       "4                    loveless         0.399   0.866    -9.720       0.0558   \n",
       "\n",
       "   acousticness  instrumentalness  liveness  valence    tempo  duration_ms  \\\n",
       "0      0.724000          0.000000    0.1050    0.672  124.895       153867   \n",
       "1      0.156000          0.000000    0.0479    0.334  115.876       175787   \n",
       "2      0.654000          0.000009    0.0937    0.663  148.282       622000   \n",
       "3      0.316000          0.797000    0.1100    0.190  102.026       356333   \n",
       "4      0.000034          0.738000    0.0785    0.125  128.864       251947   \n",
       "\n",
       "   popularity  year  ranking critic score  Decade           Era  duration_min  \n",
       "0          60  2012        1            1    2010  contemporary             3  \n",
       "1          51  2012        1            1    2010  contemporary             3  \n",
       "2          63  1965        2  0,997995992    1960       vintage            10  \n",
       "3          67  2000        3  0,995991984    2000        modern             6  \n",
       "4          62  1991        4  0,993987976    1990        modern             4  "
      ]
     },
     "execution_count": 10,
     "metadata": {},
     "output_type": "execute_result"
    }
   ],
   "source": [
    "df1['duration_min'] =df1['duration_ms'].apply(lambda x: get_min(x)) # use apply function to use the get min function on every row of the get_min column\n",
    "df1.head()"
   ]
  },
  {
   "cell_type": "markdown",
   "metadata": {},
   "source": [
    "TODO: Insert histogram explanation"
   ]
  },
  {
   "cell_type": "code",
   "execution_count": 11,
   "metadata": {},
   "outputs": [
    {
     "data": {
      "text/html": [
       "<div>\n",
       "<style scoped>\n",
       "    .dataframe tbody tr th:only-of-type {\n",
       "        vertical-align: middle;\n",
       "    }\n",
       "\n",
       "    .dataframe tbody tr th {\n",
       "        vertical-align: top;\n",
       "    }\n",
       "\n",
       "    .dataframe thead th {\n",
       "        text-align: right;\n",
       "    }\n",
       "</style>\n",
       "<table border=\"1\" class=\"dataframe\">\n",
       "  <thead>\n",
       "    <tr style=\"text-align: right;\">\n",
       "      <th></th>\n",
       "      <th>track_name</th>\n",
       "      <th>artists</th>\n",
       "      <th>album</th>\n",
       "      <th>danceability</th>\n",
       "      <th>energy</th>\n",
       "      <th>loudness</th>\n",
       "      <th>speechiness</th>\n",
       "      <th>acousticness</th>\n",
       "      <th>instrumentalness</th>\n",
       "      <th>liveness</th>\n",
       "      <th>valence</th>\n",
       "      <th>tempo</th>\n",
       "      <th>duration_ms</th>\n",
       "      <th>popularity</th>\n",
       "      <th>year</th>\n",
       "      <th>ranking</th>\n",
       "      <th>critic score</th>\n",
       "      <th>Decade</th>\n",
       "      <th>Era</th>\n",
       "      <th>duration_min</th>\n",
       "    </tr>\n",
       "  </thead>\n",
       "  <tbody>\n",
       "  </tbody>\n",
       "</table>\n",
       "</div>"
      ],
      "text/plain": [
       "Empty DataFrame\n",
       "Columns: [track_name, artists, album, danceability, energy, loudness, speechiness, acousticness, instrumentalness, liveness, valence, tempo, duration_ms, popularity, year, ranking, critic score, Decade, Era, duration_min]\n",
       "Index: []"
      ]
     },
     "execution_count": 11,
     "metadata": {},
     "output_type": "execute_result"
    }
   ],
   "source": [
    "df1[df1.isna().any(axis=1)]"
   ]
  },
  {
   "cell_type": "code",
   "execution_count": 12,
   "metadata": {},
   "outputs": [
    {
     "data": {
      "text/html": [
       "<div>\n",
       "<style scoped>\n",
       "    .dataframe tbody tr th:only-of-type {\n",
       "        vertical-align: middle;\n",
       "    }\n",
       "\n",
       "    .dataframe tbody tr th {\n",
       "        vertical-align: top;\n",
       "    }\n",
       "\n",
       "    .dataframe thead th {\n",
       "        text-align: right;\n",
       "    }\n",
       "</style>\n",
       "<table border=\"1\" class=\"dataframe\">\n",
       "  <thead>\n",
       "    <tr style=\"text-align: right;\">\n",
       "      <th></th>\n",
       "      <th>track_name</th>\n",
       "      <th>artists</th>\n",
       "      <th>album</th>\n",
       "      <th>danceability</th>\n",
       "      <th>energy</th>\n",
       "      <th>loudness</th>\n",
       "      <th>speechiness</th>\n",
       "      <th>acousticness</th>\n",
       "      <th>instrumentalness</th>\n",
       "      <th>liveness</th>\n",
       "      <th>valence</th>\n",
       "      <th>tempo</th>\n",
       "      <th>duration_ms</th>\n",
       "      <th>popularity</th>\n",
       "      <th>year</th>\n",
       "      <th>ranking</th>\n",
       "      <th>critic score</th>\n",
       "      <th>Decade</th>\n",
       "      <th>Era</th>\n",
       "      <th>duration_min</th>\n",
       "    </tr>\n",
       "  </thead>\n",
       "  <tbody>\n",
       "    <tr>\n",
       "      <th>181</th>\n",
       "      <td>The Dripping Tap</td>\n",
       "      <td>King Gizzard &amp; The Lizard Wizard</td>\n",
       "      <td>Omnium Gatherum</td>\n",
       "      <td>0.188</td>\n",
       "      <td>0.942</td>\n",
       "      <td>-4.706</td>\n",
       "      <td>0.1910</td>\n",
       "      <td>0.000505</td>\n",
       "      <td>0.620</td>\n",
       "      <td>0.390</td>\n",
       "      <td>0.2310</td>\n",
       "      <td>179.248</td>\n",
       "      <td>1097013</td>\n",
       "      <td>55</td>\n",
       "      <td>2022</td>\n",
       "      <td>161</td>\n",
       "      <td>0,679358717</td>\n",
       "      <td>2020</td>\n",
       "      <td>contemporary</td>\n",
       "      <td>18</td>\n",
       "    </tr>\n",
       "    <tr>\n",
       "      <th>295</th>\n",
       "      <td>Head On/Pill - Live in San Francisco '16</td>\n",
       "      <td>King Gizzard &amp; The Lizard Wizard</td>\n",
       "      <td>Live in San Francisco '16</td>\n",
       "      <td>0.184</td>\n",
       "      <td>0.719</td>\n",
       "      <td>-9.043</td>\n",
       "      <td>0.0930</td>\n",
       "      <td>0.056900</td>\n",
       "      <td>0.197</td>\n",
       "      <td>0.816</td>\n",
       "      <td>0.1680</td>\n",
       "      <td>193.214</td>\n",
       "      <td>1350627</td>\n",
       "      <td>20</td>\n",
       "      <td>2020</td>\n",
       "      <td>266</td>\n",
       "      <td>0,468937876</td>\n",
       "      <td>2020</td>\n",
       "      <td>contemporary</td>\n",
       "      <td>23</td>\n",
       "    </tr>\n",
       "    <tr>\n",
       "      <th>369</th>\n",
       "      <td>The Diamond Sea</td>\n",
       "      <td>Sonic Youth</td>\n",
       "      <td>Washing Machine</td>\n",
       "      <td>0.260</td>\n",
       "      <td>0.641</td>\n",
       "      <td>-8.696</td>\n",
       "      <td>0.0414</td>\n",
       "      <td>0.149000</td>\n",
       "      <td>0.293</td>\n",
       "      <td>0.302</td>\n",
       "      <td>0.0433</td>\n",
       "      <td>114.534</td>\n",
       "      <td>1177293</td>\n",
       "      <td>37</td>\n",
       "      <td>1995</td>\n",
       "      <td>339</td>\n",
       "      <td>0,322645291</td>\n",
       "      <td>1990</td>\n",
       "      <td>modern</td>\n",
       "      <td>20</td>\n",
       "    </tr>\n",
       "  </tbody>\n",
       "</table>\n",
       "</div>"
      ],
      "text/plain": [
       "                                   track_name  \\\n",
       "181                          The Dripping Tap   \n",
       "295  Head On/Pill - Live in San Francisco '16   \n",
       "369                           The Diamond Sea   \n",
       "\n",
       "                              artists                      album  \\\n",
       "181  King Gizzard & The Lizard Wizard            Omnium Gatherum   \n",
       "295  King Gizzard & The Lizard Wizard  Live in San Francisco '16   \n",
       "369                       Sonic Youth            Washing Machine   \n",
       "\n",
       "     danceability  energy  loudness  speechiness  acousticness  \\\n",
       "181         0.188   0.942    -4.706       0.1910      0.000505   \n",
       "295         0.184   0.719    -9.043       0.0930      0.056900   \n",
       "369         0.260   0.641    -8.696       0.0414      0.149000   \n",
       "\n",
       "     instrumentalness  liveness  valence    tempo  duration_ms  popularity  \\\n",
       "181             0.620     0.390   0.2310  179.248      1097013          55   \n",
       "295             0.197     0.816   0.1680  193.214      1350627          20   \n",
       "369             0.293     0.302   0.0433  114.534      1177293          37   \n",
       "\n",
       "     year  ranking critic score  Decade           Era  duration_min  \n",
       "181  2022      161  0,679358717    2020  contemporary            18  \n",
       "295  2020      266  0,468937876    2020  contemporary            23  \n",
       "369  1995      339  0,322645291    1990        modern            20  "
      ]
     },
     "execution_count": 12,
     "metadata": {},
     "output_type": "execute_result"
    }
   ],
   "source": [
    "df1[df1['duration_min'] > 15]"
   ]
  },
  {
   "cell_type": "code",
   "execution_count": 13,
   "metadata": {},
   "outputs": [],
   "source": [
    "# df2=df1.drop([181,295,369],axis=0) # removed very long songs"
   ]
  },
  {
   "cell_type": "code",
   "execution_count": 14,
   "metadata": {},
   "outputs": [
    {
     "data": {
      "text/html": [
       "<div>\n",
       "<style scoped>\n",
       "    .dataframe tbody tr th:only-of-type {\n",
       "        vertical-align: middle;\n",
       "    }\n",
       "\n",
       "    .dataframe tbody tr th {\n",
       "        vertical-align: top;\n",
       "    }\n",
       "\n",
       "    .dataframe thead th {\n",
       "        text-align: right;\n",
       "    }\n",
       "</style>\n",
       "<table border=\"1\" class=\"dataframe\">\n",
       "  <thead>\n",
       "    <tr style=\"text-align: right;\">\n",
       "      <th></th>\n",
       "      <th>track_name</th>\n",
       "      <th>artists</th>\n",
       "      <th>album</th>\n",
       "      <th>danceability</th>\n",
       "      <th>energy</th>\n",
       "      <th>loudness</th>\n",
       "      <th>speechiness</th>\n",
       "      <th>acousticness</th>\n",
       "      <th>instrumentalness</th>\n",
       "      <th>liveness</th>\n",
       "      <th>valence</th>\n",
       "      <th>tempo</th>\n",
       "      <th>duration_ms</th>\n",
       "      <th>popularity</th>\n",
       "      <th>year</th>\n",
       "      <th>ranking</th>\n",
       "      <th>critic score</th>\n",
       "      <th>Decade</th>\n",
       "      <th>Era</th>\n",
       "      <th>duration_min</th>\n",
       "    </tr>\n",
       "  </thead>\n",
       "  <tbody>\n",
       "    <tr>\n",
       "      <th>295</th>\n",
       "      <td>Head On/Pill - Live in San Francisco '16</td>\n",
       "      <td>King Gizzard &amp; The Lizard Wizard</td>\n",
       "      <td>Live in San Francisco '16</td>\n",
       "      <td>0.184</td>\n",
       "      <td>0.719</td>\n",
       "      <td>-9.043</td>\n",
       "      <td>0.0930</td>\n",
       "      <td>0.0569</td>\n",
       "      <td>0.19700</td>\n",
       "      <td>0.816</td>\n",
       "      <td>0.168</td>\n",
       "      <td>193.214</td>\n",
       "      <td>1350627</td>\n",
       "      <td>20</td>\n",
       "      <td>2020</td>\n",
       "      <td>266</td>\n",
       "      <td>0,468937876</td>\n",
       "      <td>2020</td>\n",
       "      <td>contemporary</td>\n",
       "      <td>23</td>\n",
       "    </tr>\n",
       "    <tr>\n",
       "      <th>485</th>\n",
       "      <td>California (Live Broadcast In London 1970)</td>\n",
       "      <td>Joni Mitchell And James Taylor</td>\n",
       "      <td>Live In The UK 1970 - The Rare London Radio Br...</td>\n",
       "      <td>0.559</td>\n",
       "      <td>0.297</td>\n",
       "      <td>-16.292</td>\n",
       "      <td>0.0435</td>\n",
       "      <td>0.4810</td>\n",
       "      <td>0.00649</td>\n",
       "      <td>0.968</td>\n",
       "      <td>0.665</td>\n",
       "      <td>79.877</td>\n",
       "      <td>217275</td>\n",
       "      <td>18</td>\n",
       "      <td>2017</td>\n",
       "      <td>450</td>\n",
       "      <td>0,100200401</td>\n",
       "      <td>2010</td>\n",
       "      <td>contemporary</td>\n",
       "      <td>4</td>\n",
       "    </tr>\n",
       "    <tr>\n",
       "      <th>503</th>\n",
       "      <td>Ohio</td>\n",
       "      <td>Crosby, Stills, Nash &amp; Young</td>\n",
       "      <td>Live: Lakehurst, New York City, June 1970</td>\n",
       "      <td>0.262</td>\n",
       "      <td>0.680</td>\n",
       "      <td>-9.377</td>\n",
       "      <td>0.0399</td>\n",
       "      <td>0.1560</td>\n",
       "      <td>0.00120</td>\n",
       "      <td>0.120</td>\n",
       "      <td>0.437</td>\n",
       "      <td>77.844</td>\n",
       "      <td>246950</td>\n",
       "      <td>20</td>\n",
       "      <td>1970</td>\n",
       "      <td>466</td>\n",
       "      <td>0,068136273</td>\n",
       "      <td>1970</td>\n",
       "      <td>vintage</td>\n",
       "      <td>4</td>\n",
       "    </tr>\n",
       "    <tr>\n",
       "      <th>510</th>\n",
       "      <td>Papa Was A Rolling Stone</td>\n",
       "      <td>The Temptations</td>\n",
       "      <td>Live As It Gets</td>\n",
       "      <td>0.847</td>\n",
       "      <td>0.599</td>\n",
       "      <td>-11.607</td>\n",
       "      <td>0.0422</td>\n",
       "      <td>0.0559</td>\n",
       "      <td>0.00483</td>\n",
       "      <td>0.192</td>\n",
       "      <td>0.873</td>\n",
       "      <td>119.997</td>\n",
       "      <td>432893</td>\n",
       "      <td>44</td>\n",
       "      <td>2001</td>\n",
       "      <td>472</td>\n",
       "      <td>0,056112224</td>\n",
       "      <td>2000</td>\n",
       "      <td>modern</td>\n",
       "      <td>7</td>\n",
       "    </tr>\n",
       "  </tbody>\n",
       "</table>\n",
       "</div>"
      ],
      "text/plain": [
       "                                     track_name  \\\n",
       "295    Head On/Pill - Live in San Francisco '16   \n",
       "485  California (Live Broadcast In London 1970)   \n",
       "503                                        Ohio   \n",
       "510                    Papa Was A Rolling Stone   \n",
       "\n",
       "                              artists  \\\n",
       "295  King Gizzard & The Lizard Wizard   \n",
       "485    Joni Mitchell And James Taylor   \n",
       "503      Crosby, Stills, Nash & Young   \n",
       "510                   The Temptations   \n",
       "\n",
       "                                                 album  danceability  energy  \\\n",
       "295                          Live in San Francisco '16         0.184   0.719   \n",
       "485  Live In The UK 1970 - The Rare London Radio Br...         0.559   0.297   \n",
       "503          Live: Lakehurst, New York City, June 1970         0.262   0.680   \n",
       "510                                    Live As It Gets         0.847   0.599   \n",
       "\n",
       "     loudness  speechiness  acousticness  instrumentalness  liveness  valence  \\\n",
       "295    -9.043       0.0930        0.0569           0.19700     0.816    0.168   \n",
       "485   -16.292       0.0435        0.4810           0.00649     0.968    0.665   \n",
       "503    -9.377       0.0399        0.1560           0.00120     0.120    0.437   \n",
       "510   -11.607       0.0422        0.0559           0.00483     0.192    0.873   \n",
       "\n",
       "       tempo  duration_ms  popularity  year  ranking critic score  Decade  \\\n",
       "295  193.214      1350627          20  2020      266  0,468937876    2020   \n",
       "485   79.877       217275          18  2017      450  0,100200401    2010   \n",
       "503   77.844       246950          20  1970      466  0,068136273    1970   \n",
       "510  119.997       432893          44  2001      472  0,056112224    2000   \n",
       "\n",
       "              Era  duration_min  \n",
       "295  contemporary            23  \n",
       "485  contemporary             4  \n",
       "503       vintage             4  \n",
       "510        modern             7  "
      ]
     },
     "execution_count": 14,
     "metadata": {},
     "output_type": "execute_result"
    }
   ],
   "source": [
    "df1[df1['album'].str.contains(\"live\", case=False)]"
   ]
  },
  {
   "cell_type": "code",
   "execution_count": 172,
   "metadata": {},
   "outputs": [
    {
     "data": {
      "image/png": "[encoded data removed]",
      "text/plain": [
       "<Figure size 936x792 with 2 Axes>"
      ]
     },
     "metadata": {
      "needs_background": "light"
     },
     "output_type": "display_data"
    }
   ],
   "source": [
    "# Correlation matrix between columns and plots of each column value with \n",
    "# respect to 'Endometriosis'\n",
    "\n",
    "plt.figure(figsize=(13,11))\n",
    "corr = df1.corr(method='spearman')\n",
    "mask = np.triu(np.ones_like(corr, dtype=bool))\n",
    "plt.title('Diagonal Correlation Plot')\n",
    "sns.set_palette(\"Set2\")\n",
    "sns.heatmap(corr, \n",
    "            mask=mask, \n",
    "            annot=True, \n",
    "            cmap=sns.diverging_palette(230, 20, as_cmap=True),   \n",
    "            square = True,                                 \n",
    "            linewidths = 1.5,\n",
    "            cbar_kws = {\"shrink\": .8});"
   ]
  },
  {
   "cell_type": "markdown",
   "metadata": {},
   "source": [
    "- loudness &rarr; energy\n",
    "- year &rarr; energy \n",
    "- acousticness &rarr; loudness, energy \n",
    "- valence &rarr; danceability,energy"
   ]
  },
  {
   "cell_type": "code",
   "execution_count": 15,
   "metadata": {},
   "outputs": [
    {
     "data": {
      "text/plain": [
       "['#66c2a5',\n",
       " '#fc8d62',\n",
       " '#8da0cb',\n",
       " '#e78ac3',\n",
       " '#a6d854',\n",
       " '#ffd92f',\n",
       " '#e5c494',\n",
       " '#b3b3b3']"
      ]
     },
     "execution_count": 15,
     "metadata": {},
     "output_type": "execute_result"
    }
   ],
   "source": [
    "pal = sns.color_palette('Set2')\n",
    "pal.as_hex()\n",
    "pal.as_hex()[:]"
   ]
  },
  {
   "cell_type": "markdown",
   "metadata": {},
   "source": [
    "Plots with standard quantiles"
   ]
  },
  {
   "cell_type": "code",
   "execution_count": 16,
   "metadata": {},
   "outputs": [
    {
     "data": {
      "image/png": "[encoded data removed]",
      "text/plain": [
       "<Figure size 720x360 with 1 Axes>"
      ]
     },
     "metadata": {
      "needs_background": "light"
     },
     "output_type": "display_data"
    }
   ],
   "source": [
    "from matplotlib.patches import Rectangle\n",
    "fig, ax = plt.subplots(figsize = (10,5))\n",
    "\n",
    "cols = pal.as_hex()[:4]\n",
    "\n",
    "N, bins, patches = ax.hist(df1.duration_min,bins=range(14), edgecolor='black', linewidth=0.5)\n",
    "\n",
    "\n",
    "quant_15, quant_40, quant_70= int(df1.duration_min.quantile(0.15)),int(df1.duration_min.quantile(0.40)),int(df1.duration_min.quantile(0.70))\n",
    "# sns.histplot(x=df1.duration_min,palette=\"Set2\");\n",
    "# 0,0.15,0.4,.7,1\n",
    "for i in range(0,quant_15+1):\n",
    "    patches[i].set_facecolor(cols[0])\n",
    "for i in range(quant_15+1 ,quant_40+1):    \n",
    "    patches[i].set_facecolor(cols[1])\n",
    "for i in range(quant_40+1, quant_70+1):\n",
    "    patches[i].set_facecolor(cols[2])\n",
    "for i in range(quant_70+1, len(patches)):\n",
    "    patches[i].set_facecolor(cols[3])\n",
    "\n",
    "#create legend\n",
    "# handles = [Rectangle((0,0),1,1,color=c,ec=\"k\") for c in ['b','r','orange','black']]\n",
    "handles = [Rectangle((0,0),1,1,color=c,ec=\"k\") for c in  cols]\n",
    "labels= [\"short\",\"average\",\"above average\",\"long\"]\n",
    "plt.xticks(np.arange(0, max(df1.duration_min), 1.0))\n",
    "\n",
    "plt.legend(handles, labels)\n",
    "\n",
    "plt.show()\n"
   ]
  },
  {
   "cell_type": "markdown",
   "metadata": {},
   "source": [
    "Plots with standard values for song duration:\n",
    "- the average song duration is 3 minutes"
   ]
  },
  {
   "cell_type": "code",
   "execution_count": 17,
   "metadata": {},
   "outputs": [
    {
     "data": {
      "image/png": "[encoded data removed]",
      "text/plain": [
       "<Figure size 720x360 with 1 Axes>"
      ]
     },
     "metadata": {
      "needs_background": "light"
     },
     "output_type": "display_data"
    }
   ],
   "source": [
    "from matplotlib.patches import Rectangle\n",
    "fig, ax = plt.subplots(figsize = (10,5))\n",
    "\n",
    "cols = pal.as_hex()[:4]\n",
    "\n",
    "N, bins, patches = ax.hist(df1.duration_min,bins=range(14), edgecolor='black', linewidth=0.5)\n",
    "\n",
    "\n",
    "quant_03, quant_25, quant_75= int(df1.duration_min.quantile(0.03)),int(df1.duration_min.quantile(0.25)),int(df1.duration_min.quantile(0.75))\n",
    "# sns.histplot(x=df1.duration_min,palette=\"Set2\");\n",
    "# 0,0.03,0.4,.7,1\n",
    "for i in range(0,quant_03+1):\n",
    "    patches[i].set_facecolor(cols[0])\n",
    "for i in range(quant_03+1 ,quant_25+1):    \n",
    "    patches[i].set_facecolor(cols[1])\n",
    "for i in range(quant_25+1, quant_75+1):\n",
    "    patches[i].set_facecolor(cols[2])\n",
    "for i in range(quant_75+1, len(patches)):\n",
    "    patches[i].set_facecolor(cols[3])\n",
    "\n",
    "#create legend\n",
    "# handles = [Rectangle((0,0),1,1,color=c,ec=\"k\") for c in ['b','r','orange','black']]\n",
    "handles = [Rectangle((0,0),1,1,color=c,ec=\"k\") for c in  cols]\n",
    "labels= [\"short\",\"average\",\"above average\",\"long\"]\n",
    "plt.xticks(np.arange(0, max(df1.duration_min), 1.0))\n",
    "\n",
    "plt.legend(handles, labels)\n",
    "\n",
    "plt.show()\n"
   ]
  },
  {
   "cell_type": "code",
   "execution_count": 18,
   "metadata": {},
   "outputs": [],
   "source": [
    "df1['duration_min2']=pd.cut(x=df1['duration_min'],bins=[0,2,3,5,np.max(df1.duration_min)+1], \n",
    "                        labels=[\"short\",\"average\",\"above average\",\"long\"])"
   ]
  },
  {
   "cell_type": "code",
   "execution_count": 19,
   "metadata": {},
   "outputs": [
    {
     "data": {
      "text/html": [
       "<div>\n",
       "<style scoped>\n",
       "    .dataframe tbody tr th:only-of-type {\n",
       "        vertical-align: middle;\n",
       "    }\n",
       "\n",
       "    .dataframe tbody tr th {\n",
       "        vertical-align: top;\n",
       "    }\n",
       "\n",
       "    .dataframe thead th {\n",
       "        text-align: right;\n",
       "    }\n",
       "</style>\n",
       "<table border=\"1\" class=\"dataframe\">\n",
       "  <thead>\n",
       "    <tr style=\"text-align: right;\">\n",
       "      <th></th>\n",
       "      <th>track_name</th>\n",
       "      <th>artists</th>\n",
       "      <th>album</th>\n",
       "      <th>danceability</th>\n",
       "      <th>energy</th>\n",
       "      <th>loudness</th>\n",
       "      <th>speechiness</th>\n",
       "      <th>acousticness</th>\n",
       "      <th>instrumentalness</th>\n",
       "      <th>liveness</th>\n",
       "      <th>...</th>\n",
       "      <th>tempo</th>\n",
       "      <th>duration_ms</th>\n",
       "      <th>popularity</th>\n",
       "      <th>year</th>\n",
       "      <th>ranking</th>\n",
       "      <th>critic score</th>\n",
       "      <th>Decade</th>\n",
       "      <th>Era</th>\n",
       "      <th>duration_min</th>\n",
       "      <th>duration_min2</th>\n",
       "    </tr>\n",
       "  </thead>\n",
       "  <tbody>\n",
       "  </tbody>\n",
       "</table>\n",
       "<p>0 rows × 21 columns</p>\n",
       "</div>"
      ],
      "text/plain": [
       "Empty DataFrame\n",
       "Columns: [track_name, artists, album, danceability, energy, loudness, speechiness, acousticness, instrumentalness, liveness, valence, tempo, duration_ms, popularity, year, ranking, critic score, Decade, Era, duration_min, duration_min2]\n",
       "Index: []\n",
       "\n",
       "[0 rows x 21 columns]"
      ]
     },
     "execution_count": 19,
     "metadata": {},
     "output_type": "execute_result"
    }
   ],
   "source": [
    "df1[df1.isna().any(axis=1)]"
   ]
  },
  {
   "cell_type": "code",
   "execution_count": 20,
   "metadata": {},
   "outputs": [
    {
     "data": {
      "text/html": [
       "<div>\n",
       "<style scoped>\n",
       "    .dataframe tbody tr th:only-of-type {\n",
       "        vertical-align: middle;\n",
       "    }\n",
       "\n",
       "    .dataframe tbody tr th {\n",
       "        vertical-align: top;\n",
       "    }\n",
       "\n",
       "    .dataframe thead th {\n",
       "        text-align: right;\n",
       "    }\n",
       "</style>\n",
       "<table border=\"1\" class=\"dataframe\">\n",
       "  <thead>\n",
       "    <tr style=\"text-align: right;\">\n",
       "      <th></th>\n",
       "      <th>track_name</th>\n",
       "      <th>artists</th>\n",
       "      <th>album</th>\n",
       "      <th>danceability</th>\n",
       "      <th>energy</th>\n",
       "      <th>loudness</th>\n",
       "      <th>speechiness</th>\n",
       "      <th>acousticness</th>\n",
       "      <th>instrumentalness</th>\n",
       "      <th>liveness</th>\n",
       "      <th>...</th>\n",
       "      <th>tempo</th>\n",
       "      <th>duration_ms</th>\n",
       "      <th>popularity</th>\n",
       "      <th>year</th>\n",
       "      <th>ranking</th>\n",
       "      <th>critic score</th>\n",
       "      <th>Decade</th>\n",
       "      <th>Era</th>\n",
       "      <th>duration_min</th>\n",
       "      <th>duration_min2</th>\n",
       "    </tr>\n",
       "  </thead>\n",
       "  <tbody>\n",
       "    <tr>\n",
       "      <th>0</th>\n",
       "      <td>Wouldn't It Be Nice</td>\n",
       "      <td>The Beach Boys</td>\n",
       "      <td>Greatest Hits</td>\n",
       "      <td>0.385</td>\n",
       "      <td>0.657</td>\n",
       "      <td>-6.975</td>\n",
       "      <td>0.0342</td>\n",
       "      <td>0.724000</td>\n",
       "      <td>0.000000</td>\n",
       "      <td>0.1050</td>\n",
       "      <td>...</td>\n",
       "      <td>124.895</td>\n",
       "      <td>153867</td>\n",
       "      <td>60</td>\n",
       "      <td>2012</td>\n",
       "      <td>1</td>\n",
       "      <td>1</td>\n",
       "      <td>2010</td>\n",
       "      <td>contemporary</td>\n",
       "      <td>3</td>\n",
       "      <td>average</td>\n",
       "    </tr>\n",
       "    <tr>\n",
       "      <th>1</th>\n",
       "      <td>God Only Knows</td>\n",
       "      <td>The Beach Boys</td>\n",
       "      <td>50 Big Ones: Greatest Hits</td>\n",
       "      <td>0.433</td>\n",
       "      <td>0.469</td>\n",
       "      <td>-9.853</td>\n",
       "      <td>0.0320</td>\n",
       "      <td>0.156000</td>\n",
       "      <td>0.000000</td>\n",
       "      <td>0.0479</td>\n",
       "      <td>...</td>\n",
       "      <td>115.876</td>\n",
       "      <td>175787</td>\n",
       "      <td>51</td>\n",
       "      <td>2012</td>\n",
       "      <td>1</td>\n",
       "      <td>1</td>\n",
       "      <td>2010</td>\n",
       "      <td>contemporary</td>\n",
       "      <td>3</td>\n",
       "      <td>average</td>\n",
       "    </tr>\n",
       "    <tr>\n",
       "      <th>2</th>\n",
       "      <td>Sinnerman</td>\n",
       "      <td>Nina Simone</td>\n",
       "      <td>Pastel Blues</td>\n",
       "      <td>0.436</td>\n",
       "      <td>0.543</td>\n",
       "      <td>-13.351</td>\n",
       "      <td>0.0962</td>\n",
       "      <td>0.654000</td>\n",
       "      <td>0.000009</td>\n",
       "      <td>0.0937</td>\n",
       "      <td>...</td>\n",
       "      <td>148.282</td>\n",
       "      <td>622000</td>\n",
       "      <td>63</td>\n",
       "      <td>1965</td>\n",
       "      <td>2</td>\n",
       "      <td>0,997995992</td>\n",
       "      <td>1960</td>\n",
       "      <td>vintage</td>\n",
       "      <td>10</td>\n",
       "      <td>long</td>\n",
       "    </tr>\n",
       "    <tr>\n",
       "      <th>3</th>\n",
       "      <td>How to Disappear Completely</td>\n",
       "      <td>Radiohead</td>\n",
       "      <td>Kid A</td>\n",
       "      <td>0.167</td>\n",
       "      <td>0.302</td>\n",
       "      <td>-11.644</td>\n",
       "      <td>0.0345</td>\n",
       "      <td>0.316000</td>\n",
       "      <td>0.797000</td>\n",
       "      <td>0.1100</td>\n",
       "      <td>...</td>\n",
       "      <td>102.026</td>\n",
       "      <td>356333</td>\n",
       "      <td>67</td>\n",
       "      <td>2000</td>\n",
       "      <td>3</td>\n",
       "      <td>0,995991984</td>\n",
       "      <td>2000</td>\n",
       "      <td>modern</td>\n",
       "      <td>6</td>\n",
       "      <td>long</td>\n",
       "    </tr>\n",
       "    <tr>\n",
       "      <th>4</th>\n",
       "      <td>when you sleep</td>\n",
       "      <td>my bloody valentine</td>\n",
       "      <td>loveless</td>\n",
       "      <td>0.399</td>\n",
       "      <td>0.866</td>\n",
       "      <td>-9.720</td>\n",
       "      <td>0.0558</td>\n",
       "      <td>0.000034</td>\n",
       "      <td>0.738000</td>\n",
       "      <td>0.0785</td>\n",
       "      <td>...</td>\n",
       "      <td>128.864</td>\n",
       "      <td>251947</td>\n",
       "      <td>62</td>\n",
       "      <td>1991</td>\n",
       "      <td>4</td>\n",
       "      <td>0,993987976</td>\n",
       "      <td>1990</td>\n",
       "      <td>modern</td>\n",
       "      <td>4</td>\n",
       "      <td>above average</td>\n",
       "    </tr>\n",
       "    <tr>\n",
       "      <th>5</th>\n",
       "      <td>Running Up That Hill (A Deal With God)</td>\n",
       "      <td>Kate Bush</td>\n",
       "      <td>Hounds Of Love</td>\n",
       "      <td>0.629</td>\n",
       "      <td>0.547</td>\n",
       "      <td>-13.123</td>\n",
       "      <td>0.0550</td>\n",
       "      <td>0.720000</td>\n",
       "      <td>0.003140</td>\n",
       "      <td>0.0604</td>\n",
       "      <td>...</td>\n",
       "      <td>108.375</td>\n",
       "      <td>298933</td>\n",
       "      <td>91</td>\n",
       "      <td>1985</td>\n",
       "      <td>5</td>\n",
       "      <td>0,991983968</td>\n",
       "      <td>1980</td>\n",
       "      <td>modern</td>\n",
       "      <td>5</td>\n",
       "      <td>above average</td>\n",
       "    </tr>\n",
       "    <tr>\n",
       "      <th>6</th>\n",
       "      <td>Heroes - 2017 Remaster</td>\n",
       "      <td>David Bowie</td>\n",
       "      <td>\"Heroes\" (2017 Remaster)</td>\n",
       "      <td>0.489</td>\n",
       "      <td>0.758</td>\n",
       "      <td>-6.491</td>\n",
       "      <td>0.0297</td>\n",
       "      <td>0.000678</td>\n",
       "      <td>0.490000</td>\n",
       "      <td>0.0920</td>\n",
       "      <td>...</td>\n",
       "      <td>112.113</td>\n",
       "      <td>371413</td>\n",
       "      <td>78</td>\n",
       "      <td>1977</td>\n",
       "      <td>6</td>\n",
       "      <td>0,98997996</td>\n",
       "      <td>1970</td>\n",
       "      <td>vintage</td>\n",
       "      <td>6</td>\n",
       "      <td>long</td>\n",
       "    </tr>\n",
       "    <tr>\n",
       "      <th>7</th>\n",
       "      <td>Strawberry Fields Forever</td>\n",
       "      <td>The Beatles</td>\n",
       "      <td>Love</td>\n",
       "      <td>0.383</td>\n",
       "      <td>0.558</td>\n",
       "      <td>-10.319</td>\n",
       "      <td>0.0514</td>\n",
       "      <td>0.030300</td>\n",
       "      <td>0.000040</td>\n",
       "      <td>0.5550</td>\n",
       "      <td>...</td>\n",
       "      <td>102.508</td>\n",
       "      <td>271974</td>\n",
       "      <td>49</td>\n",
       "      <td>2006</td>\n",
       "      <td>7</td>\n",
       "      <td>0,987975952</td>\n",
       "      <td>2000</td>\n",
       "      <td>modern</td>\n",
       "      <td>5</td>\n",
       "      <td>above average</td>\n",
       "    </tr>\n",
       "    <tr>\n",
       "      <th>8</th>\n",
       "      <td>There Is a Light That Never Goes Out - 2011 Re...</td>\n",
       "      <td>The Smiths</td>\n",
       "      <td>The Queen Is Dead</td>\n",
       "      <td>0.523</td>\n",
       "      <td>0.769</td>\n",
       "      <td>-5.855</td>\n",
       "      <td>0.0269</td>\n",
       "      <td>0.040000</td>\n",
       "      <td>0.000000</td>\n",
       "      <td>0.1360</td>\n",
       "      <td>...</td>\n",
       "      <td>136.162</td>\n",
       "      <td>244587</td>\n",
       "      <td>81</td>\n",
       "      <td>1986</td>\n",
       "      <td>8</td>\n",
       "      <td>0,985971944</td>\n",
       "      <td>1980</td>\n",
       "      <td>modern</td>\n",
       "      <td>4</td>\n",
       "      <td>above average</td>\n",
       "    </tr>\n",
       "    <tr>\n",
       "      <th>9</th>\n",
       "      <td>Life On Mars?</td>\n",
       "      <td>David Bowie</td>\n",
       "      <td>Licorice Pizza (Original Motion Picture Soundt...</td>\n",
       "      <td>0.459</td>\n",
       "      <td>0.528</td>\n",
       "      <td>-10.292</td>\n",
       "      <td>0.0376</td>\n",
       "      <td>0.646000</td>\n",
       "      <td>0.000069</td>\n",
       "      <td>0.0623</td>\n",
       "      <td>...</td>\n",
       "      <td>123.440</td>\n",
       "      <td>232773</td>\n",
       "      <td>48</td>\n",
       "      <td>2021</td>\n",
       "      <td>9</td>\n",
       "      <td>0,983967936</td>\n",
       "      <td>2020</td>\n",
       "      <td>contemporary</td>\n",
       "      <td>4</td>\n",
       "      <td>above average</td>\n",
       "    </tr>\n",
       "  </tbody>\n",
       "</table>\n",
       "<p>10 rows × 21 columns</p>\n",
       "</div>"
      ],
      "text/plain": [
       "                                          track_name              artists  \\\n",
       "0                                Wouldn't It Be Nice       The Beach Boys   \n",
       "1                                     God Only Knows       The Beach Boys   \n",
       "2                                          Sinnerman          Nina Simone   \n",
       "3                        How to Disappear Completely            Radiohead   \n",
       "4                                     when you sleep  my bloody valentine   \n",
       "5             Running Up That Hill (A Deal With God)            Kate Bush   \n",
       "6                             Heroes - 2017 Remaster          David Bowie   \n",
       "7                          Strawberry Fields Forever          The Beatles   \n",
       "8  There Is a Light That Never Goes Out - 2011 Re...           The Smiths   \n",
       "9                                      Life On Mars?          David Bowie   \n",
       "\n",
       "                                               album  danceability  energy  \\\n",
       "0                                      Greatest Hits         0.385   0.657   \n",
       "1                         50 Big Ones: Greatest Hits         0.433   0.469   \n",
       "2                                       Pastel Blues         0.436   0.543   \n",
       "3                                              Kid A         0.167   0.302   \n",
       "4                                           loveless         0.399   0.866   \n",
       "5                                     Hounds Of Love         0.629   0.547   \n",
       "6                           \"Heroes\" (2017 Remaster)         0.489   0.758   \n",
       "7                                               Love         0.383   0.558   \n",
       "8                                  The Queen Is Dead         0.523   0.769   \n",
       "9  Licorice Pizza (Original Motion Picture Soundt...         0.459   0.528   \n",
       "\n",
       "   loudness  speechiness  acousticness  instrumentalness  liveness  ...  \\\n",
       "0    -6.975       0.0342      0.724000          0.000000    0.1050  ...   \n",
       "1    -9.853       0.0320      0.156000          0.000000    0.0479  ...   \n",
       "2   -13.351       0.0962      0.654000          0.000009    0.0937  ...   \n",
       "3   -11.644       0.0345      0.316000          0.797000    0.1100  ...   \n",
       "4    -9.720       0.0558      0.000034          0.738000    0.0785  ...   \n",
       "5   -13.123       0.0550      0.720000          0.003140    0.0604  ...   \n",
       "6    -6.491       0.0297      0.000678          0.490000    0.0920  ...   \n",
       "7   -10.319       0.0514      0.030300          0.000040    0.5550  ...   \n",
       "8    -5.855       0.0269      0.040000          0.000000    0.1360  ...   \n",
       "9   -10.292       0.0376      0.646000          0.000069    0.0623  ...   \n",
       "\n",
       "     tempo  duration_ms  popularity  year  ranking  critic score Decade  \\\n",
       "0  124.895       153867          60  2012        1             1   2010   \n",
       "1  115.876       175787          51  2012        1             1   2010   \n",
       "2  148.282       622000          63  1965        2   0,997995992   1960   \n",
       "3  102.026       356333          67  2000        3   0,995991984   2000   \n",
       "4  128.864       251947          62  1991        4   0,993987976   1990   \n",
       "5  108.375       298933          91  1985        5   0,991983968   1980   \n",
       "6  112.113       371413          78  1977        6    0,98997996   1970   \n",
       "7  102.508       271974          49  2006        7   0,987975952   2000   \n",
       "8  136.162       244587          81  1986        8   0,985971944   1980   \n",
       "9  123.440       232773          48  2021        9   0,983967936   2020   \n",
       "\n",
       "            Era duration_min  duration_min2  \n",
       "0  contemporary            3        average  \n",
       "1  contemporary            3        average  \n",
       "2       vintage           10           long  \n",
       "3        modern            6           long  \n",
       "4        modern            4  above average  \n",
       "5        modern            5  above average  \n",
       "6       vintage            6           long  \n",
       "7        modern            5  above average  \n",
       "8        modern            4  above average  \n",
       "9  contemporary            4  above average  \n",
       "\n",
       "[10 rows x 21 columns]"
      ]
     },
     "execution_count": 20,
     "metadata": {},
     "output_type": "execute_result"
    }
   ],
   "source": [
    "df1.head(10)"
   ]
  },
  {
   "cell_type": "code",
   "execution_count": 21,
   "metadata": {},
   "outputs": [],
   "source": [
    "# Drop unused columns\n",
    "df2 = df1.drop(['year','duration_ms','duration_min','Decade'],axis=1)\n"
   ]
  },
  {
   "cell_type": "code",
   "execution_count": 22,
   "metadata": {},
   "outputs": [
    {
     "data": {
      "text/html": [
       "<div>\n",
       "<style scoped>\n",
       "    .dataframe tbody tr th:only-of-type {\n",
       "        vertical-align: middle;\n",
       "    }\n",
       "\n",
       "    .dataframe tbody tr th {\n",
       "        vertical-align: top;\n",
       "    }\n",
       "\n",
       "    .dataframe thead th {\n",
       "        text-align: right;\n",
       "    }\n",
       "</style>\n",
       "<table border=\"1\" class=\"dataframe\">\n",
       "  <thead>\n",
       "    <tr style=\"text-align: right;\">\n",
       "      <th></th>\n",
       "      <th>track_name</th>\n",
       "      <th>artists</th>\n",
       "      <th>album</th>\n",
       "      <th>danceability</th>\n",
       "      <th>energy</th>\n",
       "      <th>loudness</th>\n",
       "      <th>speechiness</th>\n",
       "      <th>acousticness</th>\n",
       "      <th>instrumentalness</th>\n",
       "      <th>liveness</th>\n",
       "      <th>valence</th>\n",
       "      <th>tempo</th>\n",
       "      <th>popularity</th>\n",
       "      <th>ranking</th>\n",
       "      <th>critic score</th>\n",
       "      <th>Era</th>\n",
       "      <th>duration_min2</th>\n",
       "    </tr>\n",
       "  </thead>\n",
       "  <tbody>\n",
       "    <tr>\n",
       "      <th>0</th>\n",
       "      <td>Wouldn't It Be Nice</td>\n",
       "      <td>The Beach Boys</td>\n",
       "      <td>Greatest Hits</td>\n",
       "      <td>0.385</td>\n",
       "      <td>0.657</td>\n",
       "      <td>-6.975</td>\n",
       "      <td>0.0342</td>\n",
       "      <td>0.724000</td>\n",
       "      <td>0.000000</td>\n",
       "      <td>0.1050</td>\n",
       "      <td>0.672</td>\n",
       "      <td>124.895</td>\n",
       "      <td>60</td>\n",
       "      <td>1</td>\n",
       "      <td>1</td>\n",
       "      <td>contemporary</td>\n",
       "      <td>average</td>\n",
       "    </tr>\n",
       "    <tr>\n",
       "      <th>1</th>\n",
       "      <td>God Only Knows</td>\n",
       "      <td>The Beach Boys</td>\n",
       "      <td>50 Big Ones: Greatest Hits</td>\n",
       "      <td>0.433</td>\n",
       "      <td>0.469</td>\n",
       "      <td>-9.853</td>\n",
       "      <td>0.0320</td>\n",
       "      <td>0.156000</td>\n",
       "      <td>0.000000</td>\n",
       "      <td>0.0479</td>\n",
       "      <td>0.334</td>\n",
       "      <td>115.876</td>\n",
       "      <td>51</td>\n",
       "      <td>1</td>\n",
       "      <td>1</td>\n",
       "      <td>contemporary</td>\n",
       "      <td>average</td>\n",
       "    </tr>\n",
       "    <tr>\n",
       "      <th>2</th>\n",
       "      <td>Sinnerman</td>\n",
       "      <td>Nina Simone</td>\n",
       "      <td>Pastel Blues</td>\n",
       "      <td>0.436</td>\n",
       "      <td>0.543</td>\n",
       "      <td>-13.351</td>\n",
       "      <td>0.0962</td>\n",
       "      <td>0.654000</td>\n",
       "      <td>0.000009</td>\n",
       "      <td>0.0937</td>\n",
       "      <td>0.663</td>\n",
       "      <td>148.282</td>\n",
       "      <td>63</td>\n",
       "      <td>2</td>\n",
       "      <td>0,997995992</td>\n",
       "      <td>vintage</td>\n",
       "      <td>long</td>\n",
       "    </tr>\n",
       "    <tr>\n",
       "      <th>3</th>\n",
       "      <td>How to Disappear Completely</td>\n",
       "      <td>Radiohead</td>\n",
       "      <td>Kid A</td>\n",
       "      <td>0.167</td>\n",
       "      <td>0.302</td>\n",
       "      <td>-11.644</td>\n",
       "      <td>0.0345</td>\n",
       "      <td>0.316000</td>\n",
       "      <td>0.797000</td>\n",
       "      <td>0.1100</td>\n",
       "      <td>0.190</td>\n",
       "      <td>102.026</td>\n",
       "      <td>67</td>\n",
       "      <td>3</td>\n",
       "      <td>0,995991984</td>\n",
       "      <td>modern</td>\n",
       "      <td>long</td>\n",
       "    </tr>\n",
       "    <tr>\n",
       "      <th>4</th>\n",
       "      <td>when you sleep</td>\n",
       "      <td>my bloody valentine</td>\n",
       "      <td>loveless</td>\n",
       "      <td>0.399</td>\n",
       "      <td>0.866</td>\n",
       "      <td>-9.720</td>\n",
       "      <td>0.0558</td>\n",
       "      <td>0.000034</td>\n",
       "      <td>0.738000</td>\n",
       "      <td>0.0785</td>\n",
       "      <td>0.125</td>\n",
       "      <td>128.864</td>\n",
       "      <td>62</td>\n",
       "      <td>4</td>\n",
       "      <td>0,993987976</td>\n",
       "      <td>modern</td>\n",
       "      <td>above average</td>\n",
       "    </tr>\n",
       "  </tbody>\n",
       "</table>\n",
       "</div>"
      ],
      "text/plain": [
       "                    track_name              artists  \\\n",
       "0          Wouldn't It Be Nice       The Beach Boys   \n",
       "1               God Only Knows       The Beach Boys   \n",
       "2                    Sinnerman          Nina Simone   \n",
       "3  How to Disappear Completely            Radiohead   \n",
       "4               when you sleep  my bloody valentine   \n",
       "\n",
       "                        album  danceability  energy  loudness  speechiness  \\\n",
       "0               Greatest Hits         0.385   0.657    -6.975       0.0342   \n",
       "1  50 Big Ones: Greatest Hits         0.433   0.469    -9.853       0.0320   \n",
       "2                Pastel Blues         0.436   0.543   -13.351       0.0962   \n",
       "3                       Kid A         0.167   0.302   -11.644       0.0345   \n",
       "4                    loveless         0.399   0.866    -9.720       0.0558   \n",
       "\n",
       "   acousticness  instrumentalness  liveness  valence    tempo  popularity  \\\n",
       "0      0.724000          0.000000    0.1050    0.672  124.895          60   \n",
       "1      0.156000          0.000000    0.0479    0.334  115.876          51   \n",
       "2      0.654000          0.000009    0.0937    0.663  148.282          63   \n",
       "3      0.316000          0.797000    0.1100    0.190  102.026          67   \n",
       "4      0.000034          0.738000    0.0785    0.125  128.864          62   \n",
       "\n",
       "   ranking critic score           Era  duration_min2  \n",
       "0        1            1  contemporary        average  \n",
       "1        1            1  contemporary        average  \n",
       "2        2  0,997995992       vintage           long  \n",
       "3        3  0,995991984        modern           long  \n",
       "4        4  0,993987976        modern  above average  "
      ]
     },
     "execution_count": 22,
     "metadata": {},
     "output_type": "execute_result"
    }
   ],
   "source": [
    "df2.head()\n"
   ]
  },
  {
   "cell_type": "markdown",
   "metadata": {},
   "source": [
    "Create popularity_scal and critic score through min max scaling of respectively popularity and ranking."
   ]
  },
  {
   "cell_type": "code",
   "execution_count": 23,
   "metadata": {},
   "outputs": [
    {
     "data": {
      "text/plain": [
       "track_name            object\n",
       "artists               object\n",
       "album                 object\n",
       "danceability         float64\n",
       "energy               float64\n",
       "loudness             float64\n",
       "speechiness          float64\n",
       "acousticness         float64\n",
       "instrumentalness     float64\n",
       "liveness             float64\n",
       "valence              float64\n",
       "tempo                float64\n",
       "popularity             int64\n",
       "ranking                int64\n",
       "critic score          object\n",
       "Era                 category\n",
       "duration_min2       category\n",
       "dtype: object"
      ]
     },
     "execution_count": 23,
     "metadata": {},
     "output_type": "execute_result"
    }
   ],
   "source": [
    "df2.dtypes"
   ]
  },
  {
   "cell_type": "code",
   "execution_count": 24,
   "metadata": {},
   "outputs": [],
   "source": [
    "from sklearn.preprocessing import MinMaxScaler\n",
    "\n",
    "scaler = MinMaxScaler()\n",
    "\n",
    "df2[['popularity_scal']] = scaler.fit_transform(df2[['popularity']])"
   ]
  },
  {
   "cell_type": "code",
   "execution_count": 25,
   "metadata": {},
   "outputs": [
    {
     "data": {
      "text/html": [
       "<div>\n",
       "<style scoped>\n",
       "    .dataframe tbody tr th:only-of-type {\n",
       "        vertical-align: middle;\n",
       "    }\n",
       "\n",
       "    .dataframe tbody tr th {\n",
       "        vertical-align: top;\n",
       "    }\n",
       "\n",
       "    .dataframe thead th {\n",
       "        text-align: right;\n",
       "    }\n",
       "</style>\n",
       "<table border=\"1\" class=\"dataframe\">\n",
       "  <thead>\n",
       "    <tr style=\"text-align: right;\">\n",
       "      <th></th>\n",
       "      <th>track_name</th>\n",
       "      <th>artists</th>\n",
       "      <th>album</th>\n",
       "      <th>danceability</th>\n",
       "      <th>energy</th>\n",
       "      <th>loudness</th>\n",
       "      <th>speechiness</th>\n",
       "      <th>acousticness</th>\n",
       "      <th>instrumentalness</th>\n",
       "      <th>liveness</th>\n",
       "      <th>valence</th>\n",
       "      <th>tempo</th>\n",
       "      <th>popularity</th>\n",
       "      <th>ranking</th>\n",
       "      <th>critic score</th>\n",
       "      <th>Era</th>\n",
       "      <th>duration_min2</th>\n",
       "      <th>popularity_scal</th>\n",
       "    </tr>\n",
       "  </thead>\n",
       "  <tbody>\n",
       "    <tr>\n",
       "      <th>0</th>\n",
       "      <td>Wouldn't It Be Nice</td>\n",
       "      <td>The Beach Boys</td>\n",
       "      <td>Greatest Hits</td>\n",
       "      <td>0.385</td>\n",
       "      <td>0.657</td>\n",
       "      <td>-6.975</td>\n",
       "      <td>0.0342</td>\n",
       "      <td>0.724000</td>\n",
       "      <td>0.000000</td>\n",
       "      <td>0.1050</td>\n",
       "      <td>0.672</td>\n",
       "      <td>124.895</td>\n",
       "      <td>60</td>\n",
       "      <td>1</td>\n",
       "      <td>1</td>\n",
       "      <td>contemporary</td>\n",
       "      <td>average</td>\n",
       "      <td>0.6125</td>\n",
       "    </tr>\n",
       "    <tr>\n",
       "      <th>1</th>\n",
       "      <td>God Only Knows</td>\n",
       "      <td>The Beach Boys</td>\n",
       "      <td>50 Big Ones: Greatest Hits</td>\n",
       "      <td>0.433</td>\n",
       "      <td>0.469</td>\n",
       "      <td>-9.853</td>\n",
       "      <td>0.0320</td>\n",
       "      <td>0.156000</td>\n",
       "      <td>0.000000</td>\n",
       "      <td>0.0479</td>\n",
       "      <td>0.334</td>\n",
       "      <td>115.876</td>\n",
       "      <td>51</td>\n",
       "      <td>1</td>\n",
       "      <td>1</td>\n",
       "      <td>contemporary</td>\n",
       "      <td>average</td>\n",
       "      <td>0.5000</td>\n",
       "    </tr>\n",
       "    <tr>\n",
       "      <th>2</th>\n",
       "      <td>Sinnerman</td>\n",
       "      <td>Nina Simone</td>\n",
       "      <td>Pastel Blues</td>\n",
       "      <td>0.436</td>\n",
       "      <td>0.543</td>\n",
       "      <td>-13.351</td>\n",
       "      <td>0.0962</td>\n",
       "      <td>0.654000</td>\n",
       "      <td>0.000009</td>\n",
       "      <td>0.0937</td>\n",
       "      <td>0.663</td>\n",
       "      <td>148.282</td>\n",
       "      <td>63</td>\n",
       "      <td>2</td>\n",
       "      <td>0,997995992</td>\n",
       "      <td>vintage</td>\n",
       "      <td>long</td>\n",
       "      <td>0.6500</td>\n",
       "    </tr>\n",
       "    <tr>\n",
       "      <th>3</th>\n",
       "      <td>How to Disappear Completely</td>\n",
       "      <td>Radiohead</td>\n",
       "      <td>Kid A</td>\n",
       "      <td>0.167</td>\n",
       "      <td>0.302</td>\n",
       "      <td>-11.644</td>\n",
       "      <td>0.0345</td>\n",
       "      <td>0.316000</td>\n",
       "      <td>0.797000</td>\n",
       "      <td>0.1100</td>\n",
       "      <td>0.190</td>\n",
       "      <td>102.026</td>\n",
       "      <td>67</td>\n",
       "      <td>3</td>\n",
       "      <td>0,995991984</td>\n",
       "      <td>modern</td>\n",
       "      <td>long</td>\n",
       "      <td>0.7000</td>\n",
       "    </tr>\n",
       "    <tr>\n",
       "      <th>4</th>\n",
       "      <td>when you sleep</td>\n",
       "      <td>my bloody valentine</td>\n",
       "      <td>loveless</td>\n",
       "      <td>0.399</td>\n",
       "      <td>0.866</td>\n",
       "      <td>-9.720</td>\n",
       "      <td>0.0558</td>\n",
       "      <td>0.000034</td>\n",
       "      <td>0.738000</td>\n",
       "      <td>0.0785</td>\n",
       "      <td>0.125</td>\n",
       "      <td>128.864</td>\n",
       "      <td>62</td>\n",
       "      <td>4</td>\n",
       "      <td>0,993987976</td>\n",
       "      <td>modern</td>\n",
       "      <td>above average</td>\n",
       "      <td>0.6375</td>\n",
       "    </tr>\n",
       "  </tbody>\n",
       "</table>\n",
       "</div>"
      ],
      "text/plain": [
       "                    track_name              artists  \\\n",
       "0          Wouldn't It Be Nice       The Beach Boys   \n",
       "1               God Only Knows       The Beach Boys   \n",
       "2                    Sinnerman          Nina Simone   \n",
       "3  How to Disappear Completely            Radiohead   \n",
       "4               when you sleep  my bloody valentine   \n",
       "\n",
       "                        album  danceability  energy  loudness  speechiness  \\\n",
       "0               Greatest Hits         0.385   0.657    -6.975       0.0342   \n",
       "1  50 Big Ones: Greatest Hits         0.433   0.469    -9.853       0.0320   \n",
       "2                Pastel Blues         0.436   0.543   -13.351       0.0962   \n",
       "3                       Kid A         0.167   0.302   -11.644       0.0345   \n",
       "4                    loveless         0.399   0.866    -9.720       0.0558   \n",
       "\n",
       "   acousticness  instrumentalness  liveness  valence    tempo  popularity  \\\n",
       "0      0.724000          0.000000    0.1050    0.672  124.895          60   \n",
       "1      0.156000          0.000000    0.0479    0.334  115.876          51   \n",
       "2      0.654000          0.000009    0.0937    0.663  148.282          63   \n",
       "3      0.316000          0.797000    0.1100    0.190  102.026          67   \n",
       "4      0.000034          0.738000    0.0785    0.125  128.864          62   \n",
       "\n",
       "   ranking critic score           Era  duration_min2  popularity_scal  \n",
       "0        1            1  contemporary        average           0.6125  \n",
       "1        1            1  contemporary        average           0.5000  \n",
       "2        2  0,997995992       vintage           long           0.6500  \n",
       "3        3  0,995991984        modern           long           0.7000  \n",
       "4        4  0,993987976        modern  above average           0.6375  "
      ]
     },
     "execution_count": 25,
     "metadata": {},
     "output_type": "execute_result"
    }
   ],
   "source": [
    "df2.head()"
   ]
  },
  {
   "cell_type": "markdown",
   "metadata": {},
   "source": [
    "### FIX graph"
   ]
  },
  {
   "cell_type": "code",
   "execution_count": 26,
   "metadata": {},
   "outputs": [
    {
     "data": {
      "text/plain": [
       "['track_name',\n",
       " 'artists',\n",
       " 'album',\n",
       " 'danceability',\n",
       " 'energy',\n",
       " 'loudness',\n",
       " 'speechiness',\n",
       " 'acousticness',\n",
       " 'instrumentalness',\n",
       " 'liveness',\n",
       " 'valence',\n",
       " 'tempo',\n",
       " 'popularity',\n",
       " 'ranking',\n",
       " 'critic score',\n",
       " 'Era',\n",
       " 'duration_min2',\n",
       " 'popularity_scal']"
      ]
     },
     "execution_count": 26,
     "metadata": {},
     "output_type": "execute_result"
    }
   ],
   "source": [
    "df2.columns.tolist()"
   ]
  },
  {
   "cell_type": "code",
   "execution_count": 27,
   "metadata": {},
   "outputs": [],
   "source": [
    "easy_col =  df2.columns.tolist()[3:6] + df2.columns.tolist()[10:12] # get  'danceability', 'energy', 'loudness' and valence/tempo 3"
   ]
  },
  {
   "cell_type": "code",
   "execution_count": 28,
   "metadata": {},
   "outputs": [
    {
     "data": {
      "text/plain": [
       "['danceability', 'energy', 'loudness', 'valence', 'tempo']"
      ]
     },
     "execution_count": 28,
     "metadata": {},
     "output_type": "execute_result"
    }
   ],
   "source": [
    "easy_col "
   ]
  },
  {
   "cell_type": "code",
   "execution_count": 29,
   "metadata": {},
   "outputs": [],
   "source": [
    "strange_cols = list(set(df2.columns.tolist()[3:12]) - set(easy_col))"
   ]
  },
  {
   "cell_type": "code",
   "execution_count": 30,
   "metadata": {},
   "outputs": [
    {
     "data": {
      "text/plain": [
       "['liveness', 'speechiness', 'acousticness', 'instrumentalness']"
      ]
     },
     "execution_count": 30,
     "metadata": {},
     "output_type": "execute_result"
    }
   ],
   "source": [
    "strange_cols"
   ]
  },
  {
   "cell_type": "code",
   "execution_count": 31,
   "metadata": {},
   "outputs": [
    {
     "data": {
      "text/html": [
       "<div>\n",
       "<style scoped>\n",
       "    .dataframe tbody tr th:only-of-type {\n",
       "        vertical-align: middle;\n",
       "    }\n",
       "\n",
       "    .dataframe tbody tr th {\n",
       "        vertical-align: top;\n",
       "    }\n",
       "\n",
       "    .dataframe thead th {\n",
       "        text-align: right;\n",
       "    }\n",
       "</style>\n",
       "<table border=\"1\" class=\"dataframe\">\n",
       "  <thead>\n",
       "    <tr style=\"text-align: right;\">\n",
       "      <th></th>\n",
       "      <th>track_name</th>\n",
       "      <th>artists</th>\n",
       "      <th>album</th>\n",
       "      <th>danceability</th>\n",
       "      <th>energy</th>\n",
       "      <th>loudness</th>\n",
       "      <th>speechiness</th>\n",
       "      <th>acousticness</th>\n",
       "      <th>instrumentalness</th>\n",
       "      <th>liveness</th>\n",
       "      <th>valence</th>\n",
       "      <th>tempo</th>\n",
       "      <th>popularity</th>\n",
       "      <th>ranking</th>\n",
       "      <th>critic score</th>\n",
       "      <th>Era</th>\n",
       "      <th>duration_min2</th>\n",
       "      <th>popularity_scal</th>\n",
       "    </tr>\n",
       "  </thead>\n",
       "  <tbody>\n",
       "    <tr>\n",
       "      <th>0</th>\n",
       "      <td>Wouldn't It Be Nice</td>\n",
       "      <td>The Beach Boys</td>\n",
       "      <td>Greatest Hits</td>\n",
       "      <td>0.385</td>\n",
       "      <td>0.657</td>\n",
       "      <td>-6.975</td>\n",
       "      <td>0.0342</td>\n",
       "      <td>0.724000</td>\n",
       "      <td>0.000000</td>\n",
       "      <td>0.1050</td>\n",
       "      <td>0.672</td>\n",
       "      <td>124.895</td>\n",
       "      <td>60</td>\n",
       "      <td>1</td>\n",
       "      <td>1</td>\n",
       "      <td>contemporary</td>\n",
       "      <td>average</td>\n",
       "      <td>0.6125</td>\n",
       "    </tr>\n",
       "    <tr>\n",
       "      <th>1</th>\n",
       "      <td>God Only Knows</td>\n",
       "      <td>The Beach Boys</td>\n",
       "      <td>50 Big Ones: Greatest Hits</td>\n",
       "      <td>0.433</td>\n",
       "      <td>0.469</td>\n",
       "      <td>-9.853</td>\n",
       "      <td>0.0320</td>\n",
       "      <td>0.156000</td>\n",
       "      <td>0.000000</td>\n",
       "      <td>0.0479</td>\n",
       "      <td>0.334</td>\n",
       "      <td>115.876</td>\n",
       "      <td>51</td>\n",
       "      <td>1</td>\n",
       "      <td>1</td>\n",
       "      <td>contemporary</td>\n",
       "      <td>average</td>\n",
       "      <td>0.5000</td>\n",
       "    </tr>\n",
       "    <tr>\n",
       "      <th>2</th>\n",
       "      <td>Sinnerman</td>\n",
       "      <td>Nina Simone</td>\n",
       "      <td>Pastel Blues</td>\n",
       "      <td>0.436</td>\n",
       "      <td>0.543</td>\n",
       "      <td>-13.351</td>\n",
       "      <td>0.0962</td>\n",
       "      <td>0.654000</td>\n",
       "      <td>0.000009</td>\n",
       "      <td>0.0937</td>\n",
       "      <td>0.663</td>\n",
       "      <td>148.282</td>\n",
       "      <td>63</td>\n",
       "      <td>2</td>\n",
       "      <td>0,997995992</td>\n",
       "      <td>vintage</td>\n",
       "      <td>long</td>\n",
       "      <td>0.6500</td>\n",
       "    </tr>\n",
       "    <tr>\n",
       "      <th>3</th>\n",
       "      <td>How to Disappear Completely</td>\n",
       "      <td>Radiohead</td>\n",
       "      <td>Kid A</td>\n",
       "      <td>0.167</td>\n",
       "      <td>0.302</td>\n",
       "      <td>-11.644</td>\n",
       "      <td>0.0345</td>\n",
       "      <td>0.316000</td>\n",
       "      <td>0.797000</td>\n",
       "      <td>0.1100</td>\n",
       "      <td>0.190</td>\n",
       "      <td>102.026</td>\n",
       "      <td>67</td>\n",
       "      <td>3</td>\n",
       "      <td>0,995991984</td>\n",
       "      <td>modern</td>\n",
       "      <td>long</td>\n",
       "      <td>0.7000</td>\n",
       "    </tr>\n",
       "    <tr>\n",
       "      <th>4</th>\n",
       "      <td>when you sleep</td>\n",
       "      <td>my bloody valentine</td>\n",
       "      <td>loveless</td>\n",
       "      <td>0.399</td>\n",
       "      <td>0.866</td>\n",
       "      <td>-9.720</td>\n",
       "      <td>0.0558</td>\n",
       "      <td>0.000034</td>\n",
       "      <td>0.738000</td>\n",
       "      <td>0.0785</td>\n",
       "      <td>0.125</td>\n",
       "      <td>128.864</td>\n",
       "      <td>62</td>\n",
       "      <td>4</td>\n",
       "      <td>0,993987976</td>\n",
       "      <td>modern</td>\n",
       "      <td>above average</td>\n",
       "      <td>0.6375</td>\n",
       "    </tr>\n",
       "  </tbody>\n",
       "</table>\n",
       "</div>"
      ],
      "text/plain": [
       "                    track_name              artists  \\\n",
       "0          Wouldn't It Be Nice       The Beach Boys   \n",
       "1               God Only Knows       The Beach Boys   \n",
       "2                    Sinnerman          Nina Simone   \n",
       "3  How to Disappear Completely            Radiohead   \n",
       "4               when you sleep  my bloody valentine   \n",
       "\n",
       "                        album  danceability  energy  loudness  speechiness  \\\n",
       "0               Greatest Hits         0.385   0.657    -6.975       0.0342   \n",
       "1  50 Big Ones: Greatest Hits         0.433   0.469    -9.853       0.0320   \n",
       "2                Pastel Blues         0.436   0.543   -13.351       0.0962   \n",
       "3                       Kid A         0.167   0.302   -11.644       0.0345   \n",
       "4                    loveless         0.399   0.866    -9.720       0.0558   \n",
       "\n",
       "   acousticness  instrumentalness  liveness  valence    tempo  popularity  \\\n",
       "0      0.724000          0.000000    0.1050    0.672  124.895          60   \n",
       "1      0.156000          0.000000    0.0479    0.334  115.876          51   \n",
       "2      0.654000          0.000009    0.0937    0.663  148.282          63   \n",
       "3      0.316000          0.797000    0.1100    0.190  102.026          67   \n",
       "4      0.000034          0.738000    0.0785    0.125  128.864          62   \n",
       "\n",
       "   ranking critic score           Era  duration_min2  popularity_scal  \n",
       "0        1            1  contemporary        average           0.6125  \n",
       "1        1            1  contemporary        average           0.5000  \n",
       "2        2  0,997995992       vintage           long           0.6500  \n",
       "3        3  0,995991984        modern           long           0.7000  \n",
       "4        4  0,993987976        modern  above average           0.6375  "
      ]
     },
     "execution_count": 31,
     "metadata": {},
     "output_type": "execute_result"
    }
   ],
   "source": [
    "df2.head()"
   ]
  },
  {
   "cell_type": "code",
   "execution_count": 32,
   "metadata": {},
   "outputs": [
    {
     "data": {
      "image/png": "[encoded data removed]",
      "text/plain": [
       "<Figure size 720x360 with 1 Axes>"
      ]
     },
     "metadata": {
      "needs_background": "light"
     },
     "output_type": "display_data"
    }
   ],
   "source": [
    "from matplotlib.patches import Rectangle\n",
    "fig, ax = plt.subplots(figsize = (10,5))\n",
    "\n",
    "cols = pal.as_hex()[:3]\n",
    "\n",
    "N, bins, patches = ax.hist(df2.instrumentalness, edgecolor='black', linewidth=0.5)\n",
    "\n",
    "\n",
    "quant_25= int(df2.instrumentalness.quantile(0.25))\n",
    "quant_50=int(df2.instrumentalness.quantile(0.50))\n",
    "# sns.histplot(x=df2.instrumentalness,palette=\"Set2\");\n",
    "# 0,0.05,0.4,.7,1\n",
    "for i in np.arange(0,int(quant_25+0.01)):\n",
    "    patches[i].set_facecolor(cols[0])\n",
    "for i in np.arange(int(quant_25+0.01) ,int(quant_50+0.1)):    \n",
    "    patches[i].set_facecolor(cols[1])\n",
    "for i in np.arange(int(quant_50+0.01), len(patches)):\n",
    "    patches[i].set_facecolor(cols[2])\n",
    "\n",
    "\n",
    "#create legend\n",
    "# handles = [Rectangle((0,0),1,1,color=c,ec=\"k\") for c in ['b','r','orange','black']]\n",
    "handles = [Rectangle((0,0),1,1,color=c,ec=\"k\") for c in  cols]\n",
    "labels= [\"low instrumental\",\"highly instrumental\",\"instrumental\"]\n",
    "plt.xticks(np.arange(0, max(df2.instrumentalness), 0.1))\n",
    "\n",
    "plt.legend(handles, labels)\n",
    "\n",
    "plt.show()\n"
   ]
  },
  {
   "cell_type": "code",
   "execution_count": 33,
   "metadata": {},
   "outputs": [
    {
     "data": {
      "image/png": "[encoded data removed]",
      "text/plain": [
       "<Figure size 1440x720 with 4 Axes>"
      ]
     },
     "metadata": {
      "needs_background": "light"
     },
     "output_type": "display_data"
    }
   ],
   "source": [
    "_, axes = plt.subplots(nrows=2, ncols=2, figsize=(20, 10))\n",
    "axes = [axis for subl in axes for axis in subl]\n",
    "for col, ax in zip(strange_cols, axes):\n",
    "    sns.histplot(x=col, data=df2, ax=ax)\n",
    "    plt.xticks(np.arange(min(df2[col]), max(df2[col]), 1.0))\n"
   ]
  },
  {
   "cell_type": "markdown",
   "metadata": {},
   "source": [
    "\n",
    "\n",
    "* **instrumentalness**: Predicts whether a track contains no vocals. \"Ooh\" and \"aah\" sounds are treated as instrumental in this context. Rap or spoken word tracks are clearly \"vocal\". The closer the instrumentalness value is to 1.0, the greater likelihood the track contains no vocal content. Values *above 0.5* are intended to represent instrumental tracks, but confidence is higher as the value approaches 1.0.\n"
   ]
  },
  {
   "cell_type": "code",
   "execution_count": 34,
   "metadata": {},
   "outputs": [],
   "source": [
    "df2['instr']=pd.cut(x=df2['instrumentalness'], bins=[-.01,0.5,0.8,1], \n",
    "                        labels=[\"low instrumental\",\"highly instrumental\",\"instrumental\"])\n"
   ]
  },
  {
   "cell_type": "markdown",
   "metadata": {},
   "source": [
    "* **liveness**:\n",
    "Detects the presence of an audience in the recording. Higher liveness values represent an increased probability that the track was performed live. A value *above 0.8* provides strong likelihood that the track is live."
   ]
  },
  {
   "cell_type": "code",
   "execution_count": 35,
   "metadata": {},
   "outputs": [],
   "source": [
    "df2['live']=pd.cut(x=df2['liveness'], bins=[-.01,0.5,0.8,1], \n",
    "                        labels=[\"studio recorded\",\"low probability live\",\"live\"])\n"
   ]
  },
  {
   "cell_type": "code",
   "execution_count": 36,
   "metadata": {},
   "outputs": [
    {
     "data": {
      "text/html": [
       "<div>\n",
       "<style scoped>\n",
       "    .dataframe tbody tr th:only-of-type {\n",
       "        vertical-align: middle;\n",
       "    }\n",
       "\n",
       "    .dataframe tbody tr th {\n",
       "        vertical-align: top;\n",
       "    }\n",
       "\n",
       "    .dataframe thead th {\n",
       "        text-align: right;\n",
       "    }\n",
       "</style>\n",
       "<table border=\"1\" class=\"dataframe\">\n",
       "  <thead>\n",
       "    <tr style=\"text-align: right;\">\n",
       "      <th></th>\n",
       "      <th>track_name</th>\n",
       "      <th>artists</th>\n",
       "      <th>album</th>\n",
       "      <th>danceability</th>\n",
       "      <th>energy</th>\n",
       "      <th>loudness</th>\n",
       "      <th>speechiness</th>\n",
       "      <th>acousticness</th>\n",
       "      <th>instrumentalness</th>\n",
       "      <th>liveness</th>\n",
       "      <th>valence</th>\n",
       "      <th>tempo</th>\n",
       "      <th>popularity</th>\n",
       "      <th>ranking</th>\n",
       "      <th>critic score</th>\n",
       "      <th>Era</th>\n",
       "      <th>duration_min2</th>\n",
       "      <th>popularity_scal</th>\n",
       "      <th>instr</th>\n",
       "      <th>live</th>\n",
       "    </tr>\n",
       "  </thead>\n",
       "  <tbody>\n",
       "  </tbody>\n",
       "</table>\n",
       "</div>"
      ],
      "text/plain": [
       "Empty DataFrame\n",
       "Columns: [track_name, artists, album, danceability, energy, loudness, speechiness, acousticness, instrumentalness, liveness, valence, tempo, popularity, ranking, critic score, Era, duration_min2, popularity_scal, instr, live]\n",
       "Index: []"
      ]
     },
     "execution_count": 36,
     "metadata": {},
     "output_type": "execute_result"
    }
   ],
   "source": [
    "df2[df2.isna().any(axis=1)]"
   ]
  },
  {
   "cell_type": "markdown",
   "metadata": {},
   "source": [
    "* **speechiness**:\n",
    "Speechiness detects the presence of spoken words in a track. The more exclusively speech-like the recording (e.g. talk show, audio book, poetry), the closer to 1.0 the attribute value. Values *above 0.66* describe tracks that are probably made entirely of spoken words. Values *between 0.33 and 0.66* describe tracks that may contain both music and speech, either in sections or layered, including such cases as rap music. Values *below 0.33* most likely represent music and other non-speech-like tracks.\n",
    "\n"
   ]
  },
  {
   "cell_type": "code",
   "execution_count": 37,
   "metadata": {},
   "outputs": [],
   "source": [
    "df2['speech']=pd.cut(x=df2['speechiness'], bins=[-.01,0.33,0.66,1], \n",
    "                        labels=[\"non speech track\",\"music/speech\",\"spoken word\"])\n"
   ]
  },
  {
   "cell_type": "code",
   "execution_count": 38,
   "metadata": {},
   "outputs": [
    {
     "data": {
      "text/html": [
       "<div>\n",
       "<style scoped>\n",
       "    .dataframe tbody tr th:only-of-type {\n",
       "        vertical-align: middle;\n",
       "    }\n",
       "\n",
       "    .dataframe tbody tr th {\n",
       "        vertical-align: top;\n",
       "    }\n",
       "\n",
       "    .dataframe thead th {\n",
       "        text-align: right;\n",
       "    }\n",
       "</style>\n",
       "<table border=\"1\" class=\"dataframe\">\n",
       "  <thead>\n",
       "    <tr style=\"text-align: right;\">\n",
       "      <th></th>\n",
       "      <th>track_name</th>\n",
       "      <th>artists</th>\n",
       "      <th>album</th>\n",
       "      <th>danceability</th>\n",
       "      <th>energy</th>\n",
       "      <th>loudness</th>\n",
       "      <th>speechiness</th>\n",
       "      <th>acousticness</th>\n",
       "      <th>instrumentalness</th>\n",
       "      <th>liveness</th>\n",
       "      <th>...</th>\n",
       "      <th>tempo</th>\n",
       "      <th>popularity</th>\n",
       "      <th>ranking</th>\n",
       "      <th>critic score</th>\n",
       "      <th>Era</th>\n",
       "      <th>duration_min2</th>\n",
       "      <th>popularity_scal</th>\n",
       "      <th>instr</th>\n",
       "      <th>live</th>\n",
       "      <th>speech</th>\n",
       "    </tr>\n",
       "  </thead>\n",
       "  <tbody>\n",
       "  </tbody>\n",
       "</table>\n",
       "<p>0 rows × 21 columns</p>\n",
       "</div>"
      ],
      "text/plain": [
       "Empty DataFrame\n",
       "Columns: [track_name, artists, album, danceability, energy, loudness, speechiness, acousticness, instrumentalness, liveness, valence, tempo, popularity, ranking, critic score, Era, duration_min2, popularity_scal, instr, live, speech]\n",
       "Index: []\n",
       "\n",
       "[0 rows x 21 columns]"
      ]
     },
     "execution_count": 38,
     "metadata": {},
     "output_type": "execute_result"
    }
   ],
   "source": [
    "df2[df2.isna().any(axis=1)]"
   ]
  },
  {
   "cell_type": "markdown",
   "metadata": {},
   "source": [
    "## Normal cols"
   ]
  },
  {
   "cell_type": "code",
   "execution_count": 39,
   "metadata": {},
   "outputs": [
    {
     "data": {
      "image/png": "[encoded data removed]",
      "text/plain": [
       "<Figure size 1440x1080 with 5 Axes>"
      ]
     },
     "metadata": {
      "needs_background": "light"
     },
     "output_type": "display_data"
    }
   ],
   "source": [
    "f, axes = plt.subplots(nrows=2, ncols=3, figsize=(20, 15), sharey=True)\n",
    "f.delaxes(axes[1,2]) \n",
    "axes = [axis for subl in axes for axis in subl]\n",
    "for col, ax in zip(easy_col, axes):\n",
    "    sns.histplot(x=col, data=df2, ax=ax)\n",
    "    plt.xticks(np.arange(min(df2[col]), max(df2[col]), 1.0))\n",
    "    if col == 'tempo':\n",
    "        ax.set_xticks(range(0,len(col), 100))\n",
    "\n",
    "\n"
   ]
  },
  {
   "cell_type": "markdown",
   "metadata": {},
   "source": [
    "* **valence**:\n",
    "A measure from 0.0 to 1.0 describing the musical positiveness conveyed by a track. Tracks with *high valence* sound *more positive* (e.g. happy, cheerful, euphoric), while tracks with *low valence* sound *more negative* (e.g. sad, depressed, angry).\n"
   ]
  },
  {
   "cell_type": "code",
   "execution_count": 41,
   "metadata": {},
   "outputs": [],
   "source": [
    "df2['val']=pd.cut(x=df2['valence'], bins=[-.01,0.33,0.66,1], \n",
    "                        labels=[\"sad\",\"neutral\",\"euphoric\"])\n"
   ]
  },
  {
   "cell_type": "markdown",
   "metadata": {},
   "source": [
    "\n",
    "* **danceability**: Danceability describes how suitable a track is for dancing based on a combination of musical elements including tempo, rhythm stability, beat strength, and overall regularity. A value of 0.0 is least danceable and 1.0 is most danceable.\n",
    "\n",
    "\n"
   ]
  },
  {
   "cell_type": "code",
   "execution_count": 42,
   "metadata": {},
   "outputs": [],
   "source": [
    "df2['dan']=pd.cut(x=df2['danceability'], bins=[-1,0.33,0.66,1], \n",
    "                        labels=[\"least danceable\",\"neutral\",\" most danceable\"])\n"
   ]
  },
  {
   "cell_type": "markdown",
   "metadata": {},
   "source": [
    "* **acousticness**: A confidence measure from 0.0 to 1.0 of whether the track is acoustic. 1.0 represents high confidence the track is acoustic.\n"
   ]
  },
  {
   "cell_type": "code",
   "execution_count": 43,
   "metadata": {},
   "outputs": [],
   "source": [
    "df2['aco']=pd.cut(x=df2['acousticness'], bins=[-.01,0.33,0.66,1], \n",
    "                        labels=[\"electronic\",\"ele/ac\",\"acoustic\"])\n"
   ]
  },
  {
   "cell_type": "markdown",
   "metadata": {},
   "source": [
    "* **tempo**:\n",
    "The overall estimated tempo of a track in beats per minute (BPM). In musical terminology, tempo is the speed or pace of a given piece and derives directly from the average beat duration."
   ]
  },
  {
   "cell_type": "code",
   "execution_count": 139,
   "metadata": {},
   "outputs": [
    {
     "data": {
      "text/plain": [
       "(100, 118, 137)"
      ]
     },
     "execution_count": 139,
     "metadata": {},
     "output_type": "execute_result"
    }
   ],
   "source": [
    "quant_25_t, quant_50_t, quant_75_t= int(df2.tempo.quantile(0.25)),int(df2.tempo.quantile(0.50)),int(df2.tempo.quantile(0.75))\n",
    "quant_25_t, quant_50_t, quant_75_t"
   ]
  },
  {
   "cell_type": "code",
   "execution_count": 140,
   "metadata": {},
   "outputs": [
    {
     "data": {
      "text/plain": [
       "(71.398, 206.247)"
      ]
     },
     "execution_count": 140,
     "metadata": {},
     "output_type": "execute_result"
    }
   ],
   "source": [
    "np.min(df2.tempo), np.max(df2.tempo)"
   ]
  },
  {
   "cell_type": "code",
   "execution_count": 141,
   "metadata": {},
   "outputs": [],
   "source": [
    "df2['tem']=pd.cut(x=df2['tempo'], bins=[np.min(df2.tempo),quant_25_t,quant_75_t,np.max(df2.tempo)], \n",
    "                        labels=[\"slow tempo\",\"medium tempo\",\"high tempo\"])\n"
   ]
  },
  {
   "cell_type": "markdown",
   "metadata": {},
   "source": [
    "* **loudness**: The overall loudness of a track in decibels (dB). Loudness values are averaged across the entire track and are useful for comparing relative loudness of tracks. Loudness is the quality of a sound that is the primary psychological correlate of physical strength (amplitude). Values typically range between -60 and 0 db."
   ]
  },
  {
   "cell_type": "code",
   "execution_count": 142,
   "metadata": {},
   "outputs": [
    {
     "data": {
      "text/plain": [
       "-23.525"
      ]
     },
     "execution_count": 142,
     "metadata": {},
     "output_type": "execute_result"
    }
   ],
   "source": [
    "np.min(df2.loudness)"
   ]
  },
  {
   "cell_type": "code",
   "execution_count": 143,
   "metadata": {},
   "outputs": [
    {
     "data": {
      "text/plain": [
       "(-10, -8, -6)"
      ]
     },
     "execution_count": 143,
     "metadata": {},
     "output_type": "execute_result"
    }
   ],
   "source": [
    "quant_25, quant_50_l, quant_75= int(df2.loudness.quantile(0.25)),int(df2.loudness.quantile(0.50)),int(df2.loudness.quantile(0.75))\n",
    "quant_25,quant_50_l,quant_75"
   ]
  },
  {
   "cell_type": "code",
   "execution_count": 144,
   "metadata": {},
   "outputs": [],
   "source": [
    "df2['loud']=pd.cut(x=df2['loudness'], bins=[np.min(df2.loudness),quant_25,quant_50_l,np.max(df2.loudness)], \n",
    "                        labels=[\"quiet\",\"normal\",\"loud\"])\n"
   ]
  },
  {
   "cell_type": "markdown",
   "metadata": {},
   "source": [
    "* **energy**: is a measure from 0.0 to 1.0 and represents a perceptual measure of intensity and activity. Typically, energetic tracks feel fast, loud, and noisy. For example, death metal has high energy, while a Bach prelude scores low on the scale. Perceptual features contributing to this attribute include dynamic range, perceived loudness, timbre, onset rate, and general entropy."
   ]
  },
  {
   "cell_type": "code",
   "execution_count": 145,
   "metadata": {},
   "outputs": [],
   "source": [
    "df2['ene']=pd.cut(x=df2['energy'], bins=[-.01,0.33,0.66,1], \n",
    "                        labels=[\"slow\",\"medium\",\"energic\"])\n"
   ]
  },
  {
   "cell_type": "markdown",
   "metadata": {},
   "source": [
    "1. Ranking &rarr; posizione classifica\n",
    "3. Critic Score &rarr; augmented knowledge, min/max del ranking"
   ]
  },
  {
   "cell_type": "markdown",
   "metadata": {},
   "source": [
    "* **Popularity**: The popularity of the track. The value will be between 0 and 100, with 100 being the most popular. \n",
    "The popularity of a track is a value between 0 and 100, with 100 being the most popular. The popularity is calculated by algorithm and is based, in the most part, on the total number of plays the track has had and how recent those plays are. \n",
    "Generally speaking, songs that are being played a lot now will have a higher popularity than songs that were played a lot in the past. Duplicate tracks (e.g. the same track from a single and an album) are rated independently. Artist and album popularity is derived mathematically from track popularity"
   ]
  },
  {
   "cell_type": "code",
   "execution_count": 146,
   "metadata": {},
   "outputs": [],
   "source": [
    "df2['pop']=pd.cut(x=df2['popularity_scal'], bins=[-.01,0.33,0.66,1], \n",
    "                        labels=[\"not popular\",\"middle\",\"very popular\"])"
   ]
  },
  {
   "cell_type": "markdown",
   "metadata": {},
   "source": [
    "# Critic score is augmented\n"
   ]
  },
  {
   "cell_type": "markdown",
   "metadata": {},
   "source": [
    "Cast critc score to float"
   ]
  },
  {
   "cell_type": "code",
   "execution_count": 147,
   "metadata": {},
   "outputs": [
    {
     "ename": "AttributeError",
     "evalue": "Can only use .str accessor with string values!",
     "output_type": "error",
     "traceback": [
      "\u001b[1;31m---------------------------------------------------------------------------\u001b[0m",
      "\u001b[1;31mAttributeError\u001b[0m                            Traceback (most recent call last)",
      "\u001b[1;32mc:\\Users\\Utente\\Desktop\\FAIKR 3 proj\\df_compl.ipynb Cella 86\u001b[0m in \u001b[0;36m<module>\u001b[1;34m\u001b[0m\n\u001b[1;32m----> <a href='vscode-notebook-cell:/c%3A/Users/Utente/Desktop/FAIKR%203%20proj/df_compl.ipynb#Y205sZmlsZQ%3D%3D?line=0'>1</a>\u001b[0m df2[\u001b[39m'\u001b[39m\u001b[39mcritic score\u001b[39m\u001b[39m'\u001b[39m] \u001b[39m=\u001b[39m df2[\u001b[39m'\u001b[39;49m\u001b[39mcritic score\u001b[39;49m\u001b[39m'\u001b[39;49m]\u001b[39m.\u001b[39;49mstr\u001b[39m.\u001b[39mreplace(\u001b[39m'\u001b[39m\u001b[39m,\u001b[39m\u001b[39m'\u001b[39m,\u001b[39m'\u001b[39m\u001b[39m.\u001b[39m\u001b[39m'\u001b[39m)\n\u001b[0;32m      <a href='vscode-notebook-cell:/c%3A/Users/Utente/Desktop/FAIKR%203%20proj/df_compl.ipynb#Y205sZmlsZQ%3D%3D?line=1'>2</a>\u001b[0m df2[\u001b[39m'\u001b[39m\u001b[39mcritic score\u001b[39m\u001b[39m'\u001b[39m] \u001b[39m=\u001b[39m df2[\u001b[39m'\u001b[39m\u001b[39mcritic score\u001b[39m\u001b[39m'\u001b[39m]\u001b[39m.\u001b[39mastype(\u001b[39mfloat\u001b[39m)\n\u001b[0;32m      <a href='vscode-notebook-cell:/c%3A/Users/Utente/Desktop/FAIKR%203%20proj/df_compl.ipynb#Y205sZmlsZQ%3D%3D?line=2'>3</a>\u001b[0m \u001b[39mprint\u001b[39m(df2\u001b[39m.\u001b[39mdtypes)\n",
      "File \u001b[1;32mc:\\Users\\Utente\\AppData\\Local\\Programs\\Python\\Python310\\lib\\site-packages\\pandas\\core\\generic.py:5583\u001b[0m, in \u001b[0;36mNDFrame.__getattr__\u001b[1;34m(self, name)\u001b[0m\n\u001b[0;32m   5576\u001b[0m \u001b[39mif\u001b[39;00m (\n\u001b[0;32m   5577\u001b[0m     name \u001b[39mnot\u001b[39;00m \u001b[39min\u001b[39;00m \u001b[39mself\u001b[39m\u001b[39m.\u001b[39m_internal_names_set\n\u001b[0;32m   5578\u001b[0m     \u001b[39mand\u001b[39;00m name \u001b[39mnot\u001b[39;00m \u001b[39min\u001b[39;00m \u001b[39mself\u001b[39m\u001b[39m.\u001b[39m_metadata\n\u001b[0;32m   5579\u001b[0m     \u001b[39mand\u001b[39;00m name \u001b[39mnot\u001b[39;00m \u001b[39min\u001b[39;00m \u001b[39mself\u001b[39m\u001b[39m.\u001b[39m_accessors\n\u001b[0;32m   5580\u001b[0m     \u001b[39mand\u001b[39;00m \u001b[39mself\u001b[39m\u001b[39m.\u001b[39m_info_axis\u001b[39m.\u001b[39m_can_hold_identifiers_and_holds_name(name)\n\u001b[0;32m   5581\u001b[0m ):\n\u001b[0;32m   5582\u001b[0m     \u001b[39mreturn\u001b[39;00m \u001b[39mself\u001b[39m[name]\n\u001b[1;32m-> 5583\u001b[0m \u001b[39mreturn\u001b[39;00m \u001b[39mobject\u001b[39;49m\u001b[39m.\u001b[39;49m\u001b[39m__getattribute__\u001b[39;49m(\u001b[39mself\u001b[39;49m, name)\n",
      "File \u001b[1;32mc:\\Users\\Utente\\AppData\\Local\\Programs\\Python\\Python310\\lib\\site-packages\\pandas\\core\\accessor.py:182\u001b[0m, in \u001b[0;36mCachedAccessor.__get__\u001b[1;34m(self, obj, cls)\u001b[0m\n\u001b[0;32m    179\u001b[0m \u001b[39mif\u001b[39;00m obj \u001b[39mis\u001b[39;00m \u001b[39mNone\u001b[39;00m:\n\u001b[0;32m    180\u001b[0m     \u001b[39m# we're accessing the attribute of the class, i.e., Dataset.geo\u001b[39;00m\n\u001b[0;32m    181\u001b[0m     \u001b[39mreturn\u001b[39;00m \u001b[39mself\u001b[39m\u001b[39m.\u001b[39m_accessor\n\u001b[1;32m--> 182\u001b[0m accessor_obj \u001b[39m=\u001b[39m \u001b[39mself\u001b[39;49m\u001b[39m.\u001b[39;49m_accessor(obj)\n\u001b[0;32m    183\u001b[0m \u001b[39m# Replace the property with the accessor object. Inspired by:\u001b[39;00m\n\u001b[0;32m    184\u001b[0m \u001b[39m# https://www.pydanny.com/cached-property.html\u001b[39;00m\n\u001b[0;32m    185\u001b[0m \u001b[39m# We need to use object.__setattr__ because we overwrite __setattr__ on\u001b[39;00m\n\u001b[0;32m    186\u001b[0m \u001b[39m# NDFrame\u001b[39;00m\n\u001b[0;32m    187\u001b[0m \u001b[39mobject\u001b[39m\u001b[39m.\u001b[39m\u001b[39m__setattr__\u001b[39m(obj, \u001b[39mself\u001b[39m\u001b[39m.\u001b[39m_name, accessor_obj)\n",
      "File \u001b[1;32mc:\\Users\\Utente\\AppData\\Local\\Programs\\Python\\Python310\\lib\\site-packages\\pandas\\core\\strings\\accessor.py:177\u001b[0m, in \u001b[0;36mStringMethods.__init__\u001b[1;34m(self, data)\u001b[0m\n\u001b[0;32m    174\u001b[0m \u001b[39mdef\u001b[39;00m \u001b[39m__init__\u001b[39m(\u001b[39mself\u001b[39m, data):\n\u001b[0;32m    175\u001b[0m     \u001b[39mfrom\u001b[39;00m \u001b[39mpandas\u001b[39;00m\u001b[39m.\u001b[39;00m\u001b[39mcore\u001b[39;00m\u001b[39m.\u001b[39;00m\u001b[39marrays\u001b[39;00m\u001b[39m.\u001b[39;00m\u001b[39mstring_\u001b[39;00m \u001b[39mimport\u001b[39;00m StringDtype\n\u001b[1;32m--> 177\u001b[0m     \u001b[39mself\u001b[39m\u001b[39m.\u001b[39m_inferred_dtype \u001b[39m=\u001b[39m \u001b[39mself\u001b[39;49m\u001b[39m.\u001b[39;49m_validate(data)\n\u001b[0;32m    178\u001b[0m     \u001b[39mself\u001b[39m\u001b[39m.\u001b[39m_is_categorical \u001b[39m=\u001b[39m is_categorical_dtype(data\u001b[39m.\u001b[39mdtype)\n\u001b[0;32m    179\u001b[0m     \u001b[39mself\u001b[39m\u001b[39m.\u001b[39m_is_string \u001b[39m=\u001b[39m \u001b[39misinstance\u001b[39m(data\u001b[39m.\u001b[39mdtype, StringDtype)\n",
      "File \u001b[1;32mc:\\Users\\Utente\\AppData\\Local\\Programs\\Python\\Python310\\lib\\site-packages\\pandas\\core\\strings\\accessor.py:231\u001b[0m, in \u001b[0;36mStringMethods._validate\u001b[1;34m(data)\u001b[0m\n\u001b[0;32m    228\u001b[0m inferred_dtype \u001b[39m=\u001b[39m lib\u001b[39m.\u001b[39minfer_dtype(values, skipna\u001b[39m=\u001b[39m\u001b[39mTrue\u001b[39;00m)\n\u001b[0;32m    230\u001b[0m \u001b[39mif\u001b[39;00m inferred_dtype \u001b[39mnot\u001b[39;00m \u001b[39min\u001b[39;00m allowed_types:\n\u001b[1;32m--> 231\u001b[0m     \u001b[39mraise\u001b[39;00m \u001b[39mAttributeError\u001b[39;00m(\u001b[39m\"\u001b[39m\u001b[39mCan only use .str accessor with string values!\u001b[39m\u001b[39m\"\u001b[39m)\n\u001b[0;32m    232\u001b[0m \u001b[39mreturn\u001b[39;00m inferred_dtype\n",
      "\u001b[1;31mAttributeError\u001b[0m: Can only use .str accessor with string values!"
     ]
    }
   ],
   "source": [
    "\n",
    "# df2['critic score'] = df2['critic score'].str.replace(',','.')\n",
    "# df2['critic score'] = df2['critic score'].astype(float)\n",
    "# print(df2.dtypes)\n"
   ]
  },
  {
   "cell_type": "code",
   "execution_count": 163,
   "metadata": {},
   "outputs": [
    {
     "data": {
      "text/plain": [
       "(0.26, 0.51, 0.77)"
      ]
     },
     "execution_count": 163,
     "metadata": {},
     "output_type": "execute_result"
    }
   ],
   "source": [
    "quant_25_c, quant_50_c, quant_75_c= round(df2['critic score'].quantile(0.25),2),round(df2['critic score'].quantile(0.50),2),round(df2['critic score'].quantile(0.75),2)\n",
    "quant_25_c, quant_50_c, quant_75_c"
   ]
  },
  {
   "cell_type": "code",
   "execution_count": 165,
   "metadata": {},
   "outputs": [],
   "source": [
    "df2['crit']=pd.cut(x=df2['critic score'], bins=[-.01,quant_25_c,quant_75_c,1], \n",
    "                        labels=[\"not critically acclaimed\",\"average critical\",\"critically acclaimed\"])"
   ]
  },
  {
   "cell_type": "code",
   "execution_count": 166,
   "metadata": {},
   "outputs": [
    {
     "data": {
      "text/html": [
       "<div>\n",
       "<style scoped>\n",
       "    .dataframe tbody tr th:only-of-type {\n",
       "        vertical-align: middle;\n",
       "    }\n",
       "\n",
       "    .dataframe tbody tr th {\n",
       "        vertical-align: top;\n",
       "    }\n",
       "\n",
       "    .dataframe thead th {\n",
       "        text-align: right;\n",
       "    }\n",
       "</style>\n",
       "<table border=\"1\" class=\"dataframe\">\n",
       "  <thead>\n",
       "    <tr style=\"text-align: right;\">\n",
       "      <th></th>\n",
       "      <th>track_name</th>\n",
       "      <th>artists</th>\n",
       "      <th>album</th>\n",
       "      <th>danceability</th>\n",
       "      <th>energy</th>\n",
       "      <th>loudness</th>\n",
       "      <th>speechiness</th>\n",
       "      <th>acousticness</th>\n",
       "      <th>instrumentalness</th>\n",
       "      <th>liveness</th>\n",
       "      <th>...</th>\n",
       "      <th>live</th>\n",
       "      <th>speech</th>\n",
       "      <th>val</th>\n",
       "      <th>dan</th>\n",
       "      <th>aco</th>\n",
       "      <th>pop</th>\n",
       "      <th>crit</th>\n",
       "      <th>tem</th>\n",
       "      <th>loud</th>\n",
       "      <th>ene</th>\n",
       "    </tr>\n",
       "  </thead>\n",
       "  <tbody>\n",
       "    <tr>\n",
       "      <th>0</th>\n",
       "      <td>Wouldn't It Be Nice</td>\n",
       "      <td>The Beach Boys</td>\n",
       "      <td>Greatest Hits</td>\n",
       "      <td>0.385</td>\n",
       "      <td>0.657</td>\n",
       "      <td>-6.975</td>\n",
       "      <td>0.0342</td>\n",
       "      <td>0.724000</td>\n",
       "      <td>0.000000</td>\n",
       "      <td>0.1050</td>\n",
       "      <td>...</td>\n",
       "      <td>studio recorded</td>\n",
       "      <td>non speech track</td>\n",
       "      <td>euphoric</td>\n",
       "      <td>neutral</td>\n",
       "      <td>acoustic</td>\n",
       "      <td>middle</td>\n",
       "      <td>critically acclaimed</td>\n",
       "      <td>medium tempo</td>\n",
       "      <td>loud</td>\n",
       "      <td>medium</td>\n",
       "    </tr>\n",
       "    <tr>\n",
       "      <th>1</th>\n",
       "      <td>God Only Knows</td>\n",
       "      <td>The Beach Boys</td>\n",
       "      <td>50 Big Ones: Greatest Hits</td>\n",
       "      <td>0.433</td>\n",
       "      <td>0.469</td>\n",
       "      <td>-9.853</td>\n",
       "      <td>0.0320</td>\n",
       "      <td>0.156000</td>\n",
       "      <td>0.000000</td>\n",
       "      <td>0.0479</td>\n",
       "      <td>...</td>\n",
       "      <td>studio recorded</td>\n",
       "      <td>non speech track</td>\n",
       "      <td>neutral</td>\n",
       "      <td>neutral</td>\n",
       "      <td>electronic</td>\n",
       "      <td>middle</td>\n",
       "      <td>critically acclaimed</td>\n",
       "      <td>medium tempo</td>\n",
       "      <td>normal</td>\n",
       "      <td>medium</td>\n",
       "    </tr>\n",
       "    <tr>\n",
       "      <th>2</th>\n",
       "      <td>Sinnerman</td>\n",
       "      <td>Nina Simone</td>\n",
       "      <td>Pastel Blues</td>\n",
       "      <td>0.436</td>\n",
       "      <td>0.543</td>\n",
       "      <td>-13.351</td>\n",
       "      <td>0.0962</td>\n",
       "      <td>0.654000</td>\n",
       "      <td>0.000009</td>\n",
       "      <td>0.0937</td>\n",
       "      <td>...</td>\n",
       "      <td>studio recorded</td>\n",
       "      <td>non speech track</td>\n",
       "      <td>euphoric</td>\n",
       "      <td>neutral</td>\n",
       "      <td>ele/ac</td>\n",
       "      <td>middle</td>\n",
       "      <td>critically acclaimed</td>\n",
       "      <td>high tempo</td>\n",
       "      <td>quiet</td>\n",
       "      <td>medium</td>\n",
       "    </tr>\n",
       "    <tr>\n",
       "      <th>3</th>\n",
       "      <td>How to Disappear Completely</td>\n",
       "      <td>Radiohead</td>\n",
       "      <td>Kid A</td>\n",
       "      <td>0.167</td>\n",
       "      <td>0.302</td>\n",
       "      <td>-11.644</td>\n",
       "      <td>0.0345</td>\n",
       "      <td>0.316000</td>\n",
       "      <td>0.797000</td>\n",
       "      <td>0.1100</td>\n",
       "      <td>...</td>\n",
       "      <td>studio recorded</td>\n",
       "      <td>non speech track</td>\n",
       "      <td>sad</td>\n",
       "      <td>least danceable</td>\n",
       "      <td>electronic</td>\n",
       "      <td>very popular</td>\n",
       "      <td>critically acclaimed</td>\n",
       "      <td>medium tempo</td>\n",
       "      <td>quiet</td>\n",
       "      <td>slow</td>\n",
       "    </tr>\n",
       "    <tr>\n",
       "      <th>4</th>\n",
       "      <td>when you sleep</td>\n",
       "      <td>my bloody valentine</td>\n",
       "      <td>loveless</td>\n",
       "      <td>0.399</td>\n",
       "      <td>0.866</td>\n",
       "      <td>-9.720</td>\n",
       "      <td>0.0558</td>\n",
       "      <td>0.000034</td>\n",
       "      <td>0.738000</td>\n",
       "      <td>0.0785</td>\n",
       "      <td>...</td>\n",
       "      <td>studio recorded</td>\n",
       "      <td>non speech track</td>\n",
       "      <td>sad</td>\n",
       "      <td>neutral</td>\n",
       "      <td>electronic</td>\n",
       "      <td>middle</td>\n",
       "      <td>critically acclaimed</td>\n",
       "      <td>medium tempo</td>\n",
       "      <td>normal</td>\n",
       "      <td>energic</td>\n",
       "    </tr>\n",
       "  </tbody>\n",
       "</table>\n",
       "<p>5 rows × 29 columns</p>\n",
       "</div>"
      ],
      "text/plain": [
       "                    track_name              artists  \\\n",
       "0          Wouldn't It Be Nice       The Beach Boys   \n",
       "1               God Only Knows       The Beach Boys   \n",
       "2                    Sinnerman          Nina Simone   \n",
       "3  How to Disappear Completely            Radiohead   \n",
       "4               when you sleep  my bloody valentine   \n",
       "\n",
       "                        album  danceability  energy  loudness  speechiness  \\\n",
       "0               Greatest Hits         0.385   0.657    -6.975       0.0342   \n",
       "1  50 Big Ones: Greatest Hits         0.433   0.469    -9.853       0.0320   \n",
       "2                Pastel Blues         0.436   0.543   -13.351       0.0962   \n",
       "3                       Kid A         0.167   0.302   -11.644       0.0345   \n",
       "4                    loveless         0.399   0.866    -9.720       0.0558   \n",
       "\n",
       "   acousticness  instrumentalness  liveness  ...             live  \\\n",
       "0      0.724000          0.000000    0.1050  ...  studio recorded   \n",
       "1      0.156000          0.000000    0.0479  ...  studio recorded   \n",
       "2      0.654000          0.000009    0.0937  ...  studio recorded   \n",
       "3      0.316000          0.797000    0.1100  ...  studio recorded   \n",
       "4      0.000034          0.738000    0.0785  ...  studio recorded   \n",
       "\n",
       "             speech       val              dan         aco           pop  \\\n",
       "0  non speech track  euphoric          neutral    acoustic        middle   \n",
       "1  non speech track   neutral          neutral  electronic        middle   \n",
       "2  non speech track  euphoric          neutral      ele/ac        middle   \n",
       "3  non speech track       sad  least danceable  electronic  very popular   \n",
       "4  non speech track       sad          neutral  electronic        middle   \n",
       "\n",
       "                   crit           tem    loud      ene  \n",
       "0  critically acclaimed  medium tempo    loud   medium  \n",
       "1  critically acclaimed  medium tempo  normal   medium  \n",
       "2  critically acclaimed    high tempo   quiet   medium  \n",
       "3  critically acclaimed  medium tempo   quiet     slow  \n",
       "4  critically acclaimed  medium tempo  normal  energic  \n",
       "\n",
       "[5 rows x 29 columns]"
      ]
     },
     "execution_count": 166,
     "metadata": {},
     "output_type": "execute_result"
    }
   ],
   "source": [
    "df2.head()"
   ]
  },
  {
   "cell_type": "code",
   "execution_count": null,
   "metadata": {},
   "outputs": [
    {
     "data": {
      "text/plain": [
       "['track_name',\n",
       " 'artists',\n",
       " 'album',\n",
       " 'danceability',\n",
       " 'energy',\n",
       " 'loudness',\n",
       " 'speechiness',\n",
       " 'acousticness',\n",
       " 'instrumentalness',\n",
       " 'liveness',\n",
       " 'valence',\n",
       " 'tempo',\n",
       " 'popularity',\n",
       " 'ranking',\n",
       " 'critic score',\n",
       " 'Era',\n",
       " 'duration_min2',\n",
       " 'popularity_scal',\n",
       " 'instr',\n",
       " 'live',\n",
       " 'speech',\n",
       " 'val',\n",
       " 'dan',\n",
       " 'aco',\n",
       " 'pop',\n",
       " 'crit']"
      ]
     },
     "execution_count": 59,
     "metadata": {},
     "output_type": "execute_result"
    }
   ],
   "source": [
    "df2.columns.tolist()"
   ]
  },
  {
   "cell_type": "code",
   "execution_count": 167,
   "metadata": {},
   "outputs": [],
   "source": [
    "df3 = df2.drop([\"danceability\",\"energy\",\"instrumentalness\",\"speechiness\", 'valence',\n",
    "'loudness','acousticness','liveness','ranking','critic score', 'popularity','popularity_scal'\n",
    ",'tempo'],axis=1)"
   ]
  },
  {
   "cell_type": "code",
   "execution_count": 168,
   "metadata": {},
   "outputs": [
    {
     "data": {
      "text/plain": [
       "['track_name',\n",
       " 'artists',\n",
       " 'album',\n",
       " 'Era',\n",
       " 'duration_min2',\n",
       " 'instr',\n",
       " 'live',\n",
       " 'speech',\n",
       " 'val',\n",
       " 'dan',\n",
       " 'aco',\n",
       " 'pop',\n",
       " 'crit',\n",
       " 'tem',\n",
       " 'loud',\n",
       " 'ene']"
      ]
     },
     "execution_count": 168,
     "metadata": {},
     "output_type": "execute_result"
    }
   ],
   "source": [
    "df3.columns.tolist()"
   ]
  },
  {
   "cell_type": "code",
   "execution_count": 154,
   "metadata": {},
   "outputs": [],
   "source": [
    "dft = df3.drop(['track_name','artists','album'],axis=1)"
   ]
  },
  {
   "cell_type": "code",
   "execution_count": 169,
   "metadata": {},
   "outputs": [
    {
     "data": {
      "image/png": "[encoded data removed]",
      "text/plain": [
       "<Figure size 1440x2160 with 12 Axes>"
      ]
     },
     "metadata": {
      "needs_background": "light"
     },
     "output_type": "display_data"
    }
   ],
   "source": [
    "_, axes = plt.subplots(nrows=6, ncols=2, figsize=(20, 30), sharey=True)\n",
    "axes = [axis for subl in axes for axis in subl]\n",
    "for col, ax in zip(dft.columns, axes):\n",
    "    if col != 'crit':\n",
    "        sns.countplot(x=col, hue=\"crit\", data=dft, ax=ax, palette=\"Set2\")\n",
    "\n",
    "    else:\n",
    "        sns.countplot(x=col, data=dft, ax=ax, palette=\"pastel\")\n"
   ]
  },
  {
   "cell_type": "code",
   "execution_count": 170,
   "metadata": {},
   "outputs": [
    {
     "data": {
      "image/png": "[encoded data removed]",
      "text/plain": [
       "<Figure size 1440x2160 with 12 Axes>"
      ]
     },
     "metadata": {
      "needs_background": "light"
     },
     "output_type": "display_data"
    }
   ],
   "source": [
    "_, axes = plt.subplots(nrows=6, ncols=2, figsize=(20, 30), sharey=True)\n",
    "axes = [axis for subl in axes for axis in subl]\n",
    "for col, ax in zip(dft.columns, axes):\n",
    "    if col != 'pop':\n",
    "        sns.countplot(x=col, hue=\"pop\", data=dft, ax=ax, palette=\"Set2\")\n",
    "\n",
    "    else:\n",
    "        sns.countplot(x=col, data=dft, ax=ax, palette=\"Set2\")\n"
   ]
  },
  {
   "cell_type": "markdown",
   "metadata": {},
   "source": [
    "# Network structure"
   ]
  },
  {
   "cell_type": "code",
   "execution_count": 173,
   "metadata": {},
   "outputs": [
    {
     "data": {
      "text/plain": [
       "['track_name',\n",
       " 'artists',\n",
       " 'album',\n",
       " 'Era',\n",
       " 'duration_min2',\n",
       " 'instr',\n",
       " 'live',\n",
       " 'speech',\n",
       " 'val',\n",
       " 'dan',\n",
       " 'aco',\n",
       " 'pop',\n",
       " 'crit',\n",
       " 'tem',\n",
       " 'loud',\n",
       " 'ene']"
      ]
     },
     "execution_count": 173,
     "metadata": {},
     "output_type": "execute_result"
    }
   ],
   "source": [
    "df3.columns.tolist()"
   ]
  },
  {
   "cell_type": "markdown",
   "metadata": {},
   "source": [
    "- loudness &rarr; energy\n",
    "- year &rarr; energy \n",
    "- acousticness &rarr; loudness, energy \n",
    "- valence &rarr; danceability,energy"
   ]
  },
  {
   "cell_type": "markdown",
   "metadata": {},
   "source": [
    "loud,Era,acoustic,"
   ]
  },
  {
   "cell_type": "markdown",
   "metadata": {},
   "source": [
    "- Era',\n",
    "- 'duration_min2',\n",
    "- 'instr',\n",
    "- 'live',\n",
    "- 'speech',\n",
    "- 'val',\n",
    "- 'dan',\n",
    "- 'aco',\n",
    "- 'pop',\n",
    "- 'crit',\n",
    "- 'tem',\n",
    "- 'loud',\n",
    "- 'ene']"
   ]
  },
  {
   "cell_type": "markdown",
   "metadata": {},
   "source": [
    "In order to restrict the scope of the project columns which are irrelevant and are too specific\n",
    "to handle only attributes that have been considered particularly relevant were considered. \n",
    "\n",
    "Connections between nodes have been implemented firstly by looking at correlation between columns and also ...   \n",
    "\n"
   ]
  },
  {
   "cell_type": "markdown",
   "metadata": {},
   "source": [
    "# Bayesian network example\n"
   ]
  },
  {
   "cell_type": "markdown",
   "metadata": {},
   "source": [
    "Direct cause\n"
   ]
  },
  {
   "cell_type": "markdown",
   "metadata": {},
   "source": [
    "Causal trail"
   ]
  },
  {
   "cell_type": "markdown",
   "metadata": {},
   "source": [
    "Common effect"
   ]
  },
  {
   "cell_type": "markdown",
   "metadata": {},
   "source": [
    "### Analyzing the network"
   ]
  },
  {
   "cell_type": "markdown",
   "metadata": {},
   "source": [
    "### Parameter learning"
   ]
  },
  {
   "cell_type": "markdown",
   "metadata": {},
   "source": [
    "##  Inferences"
   ]
  },
  {
   "cell_type": "markdown",
   "metadata": {},
   "source": [
    "###  Exact Inference"
   ]
  },
  {
   "cell_type": "markdown",
   "metadata": {},
   "source": [
    "The library provides 4 different heuristics:\n",
    "* `MinFill`: the cost of removing the node is equal to the number of edges that need to be added to the network after its elimination.\n",
    "* `MinNeighbors`: removing a node has a cost equal to the number of neighbors it has in the current architecture. \n",
    "* `MinWeight`: to every node is assigned a weight given by its domain cardinality; then, the cost of removing a node is equal to the product of the weights of its neighbors\n",
    "* `WeightedMinFill`: to every edge is assigned a weight given by the product of the domain cardinality of its vertices; then, the cost of removing node A is given by the sum of the weights of the edges we'll need to add to the network after its elimination.\n"
   ]
  },
  {
   "cell_type": "markdown",
   "metadata": {},
   "source": [
    "### Approximate Inference"
   ]
  },
  {
   "cell_type": "markdown",
   "metadata": {},
   "source": [
    "###  Query 1:"
   ]
  },
  {
   "cell_type": "markdown",
   "metadata": {},
   "source": [
    "###  Query 2: "
   ]
  }
 ],
 "metadata": {
  "kernelspec": {
   "display_name": "Python 3.10.1 64-bit",
   "language": "python",
   "name": "python3"
  },
  "language_info": {
   "codemirror_mode": {
    "name": "ipython",
    "version": 3
   },
   "file_extension": ".py",
   "mimetype": "text/x-python",
   "name": "python",
   "nbconvert_exporter": "python",
   "pygments_lexer": "ipython3",
   "version": "3.10.1"
  },
  "orig_nbformat": 4,
  "vscode": {
   "interpreter": {
    "hash": "1527373efda72fa2755c1bf8e28aa37d44fcfaa765722a53896873e9ccde169f"
   }
  }
 },
 "nbformat": 4,
 "nbformat_minor": 2
}
