{
 "cells": [
  {
   "cell_type": "markdown",
   "metadata": {
    "colab_type": "text",
    "id": "view-in-github"
   },
   "source": [
    "<a href=\"https://colab.research.google.com/github/pgmpy/pgmpy_notebook/blob/master/notebooks/3.%20Causal%20Bayesian%20Networks.ipynb\" target=\"_parent\"><img src=\"https://colab.research.google.com/assets/colab-badge.svg\" alt=\"Open In Colab\"/></a>"
   ]
  },
  {
   "cell_type": "markdown",
   "metadata": {
    "colab_type": "text",
    "id": "qR-vG2CF4jaz"
   },
   "source": [
    "# Causal Bayesian Networks\n",
    "\n",
    "Causal Inference is a new feature for pgmpy, so I wanted to develop a few examples which show off the features that we're developing! \n",
    "\n",
    "This particular notebook walks through the 5 games that used as examples for building intuition about backdoor paths in *The Book of Why* by Judea Peal. I have consistently been using them to test different implementations of backdoor adjustment from different libraries and include them as unit tests in pgmpy, so I wanted to walk through them and a few other related games as a potential resource to both understand the implementation of CausalInference in pgmpy, as well as develope some useful intuitions about backdoor paths. \n",
    "\n",
    "## Objective of the Games\n",
    "\n",
    "For each game we get a causal graph, and our goal is to identify the set of deconfounders (often denoted $Z$) which will close all backdoor paths from nodes $X$ to $Y$. For the time being, I'll assume that you're familiar with the concept of backdoor paths, though I may expand this portion to explain it. "
   ]
  },
  {
   "cell_type": "code",
   "execution_count": 21,
   "metadata": {
    "cellView": "both",
    "colab": {
     "base_uri": "https://localhost:8080/",
     "height": 258
    },
    "colab_type": "code",
    "id": "p1uBjhCQgaaG",
    "outputId": "25270025-2cd2-4ce6-a8e6-7d16e2855492"
   },
   "outputs": [
    {
     "name": "stderr",
     "output_type": "stream",
     "text": [
      "/usr/local/lib/python3.6/dist-packages/statsmodels/compat/pandas.py:56: FutureWarning: The pandas.core.datetools module is deprecated and will be removed in a future version. Please use the pandas.tseries module instead.\n",
      "  from pandas.core import datetools\n"
     ]
    },
    {
     "name": "stdout",
     "output_type": "stream",
     "text": [
      "Your branch is up to date with 'origin/feature/causalmodel'.\n",
      "Updating c459420..95af23b\n",
      "Fast-forward\n",
      " pgmpy/inference/causal_inference.py                 | 14 +++++++-------\n",
      " pgmpy/tests/test_inference/test_causal_inference.py |  2 +-\n",
      " 2 files changed, 8 insertions(+), 8 deletions(-)\n"
     ]
    },
    {
     "name": "stderr",
     "output_type": "stream",
     "text": [
      "fatal: destination path 'pgmpy' already exists and is not an empty directory.\n",
      "mv: cannot move '/content/pgmpy' to '/content/pgmpydev/pgmpy': Directory not empty\n",
      "Already on 'feature/causalmodel'\n",
      "From https://github.com/mrklees/pgmpy\n",
      "   c459420..95af23b  feature/causalmodel -> origin/feature/causalmodel\n"
     ]
    }
   ],
   "source": [
    "#@title Clone the Development Repo & Install Requirements\n",
    "#@markdown Because the Causal Inference class is currently in dev, we will actually need to pull the code from GitHub.  This cell will give us a pretty good development environment for interactively developing and testing the CausalModel class and its methods.\n",
    "#@markdown You only need to run this the first time you've started the kernel.\n",
    "%%sh\n",
    "git clone https://github.com/mrklees/pgmpy.git\n",
    "mv /content/pgmpy /content/pgmpydev\n",
    "cd pgmpydev/\n",
    "git checkout feature/causalmodel\n",
    "git pull\n",
    "#@markdown In testing the CausalModel and Bayesian Network portion of pgmpy we've actually been able to use up to date version of Networkx and other packages, but we may be forced to downgrade to networkx 1.11 if errors arise.\n",
    "#pip install -U -r requirements-dev.txt"
   ]
  },
  {
   "cell_type": "code",
   "execution_count": 3,
   "metadata": {
    "cellView": "both",
    "colab": {
     "base_uri": "https://localhost:8080/",
     "height": 51
    },
    "colab_type": "code",
    "id": "EkFVGD3Tv7ma",
    "outputId": "a3fd160d-dcdf-4495-e8ea-e5b3aedadaf5"
   },
   "outputs": [
    {
     "name": "stdout",
     "output_type": "stream",
     "text": [
      "The autoreload extension is already loaded. To reload it, use:\n",
      "  %reload_ext autoreload\n"
     ]
    },
    {
     "ename": "ModuleNotFoundError",
     "evalue": "No module named 'statsmodels'",
     "output_type": "error",
     "traceback": [
      "\u001b[1;31m---------------------------------------------------------------------------\u001b[0m",
      "\u001b[1;31mModuleNotFoundError\u001b[0m                       Traceback (most recent call last)",
      "\u001b[1;32mc:\\Users\\Utente\\Desktop\\FAIKR 3 proj\\notebooks\\3. Causal Bayesian Networks.ipynb Cella 4\u001b[0m in \u001b[0;36m<module>\u001b[1;34m\u001b[0m\n\u001b[0;32m     <a href='vscode-notebook-cell:/c%3A/Users/Utente/Desktop/FAIKR%203%20proj/notebooks/3.%20Causal%20Bayesian%20Networks.ipynb#W3sZmlsZQ%3D%3D?line=12'>13</a>\u001b[0m \u001b[39m# We can now import the development version of pgmpy\u001b[39;00m\n\u001b[0;32m     <a href='vscode-notebook-cell:/c%3A/Users/Utente/Desktop/FAIKR%203%20proj/notebooks/3.%20Causal%20Bayesian%20Networks.ipynb#W3sZmlsZQ%3D%3D?line=13'>14</a>\u001b[0m \u001b[39mfrom\u001b[39;00m \u001b[39mpgmpy\u001b[39;00m\u001b[39m.\u001b[39;00m\u001b[39mmodels\u001b[39;00m\u001b[39m.\u001b[39;00m\u001b[39mBayesianModel\u001b[39;00m \u001b[39mimport\u001b[39;00m BayesianModel\n\u001b[1;32m---> <a href='vscode-notebook-cell:/c%3A/Users/Utente/Desktop/FAIKR%203%20proj/notebooks/3.%20Causal%20Bayesian%20Networks.ipynb#W3sZmlsZQ%3D%3D?line=14'>15</a>\u001b[0m \u001b[39mfrom\u001b[39;00m \u001b[39mpgmpy\u001b[39;00m\u001b[39m.\u001b[39;00m\u001b[39minference\u001b[39;00m \u001b[39mimport\u001b[39;00m CausalInference\n\u001b[0;32m     <a href='vscode-notebook-cell:/c%3A/Users/Utente/Desktop/FAIKR%203%20proj/notebooks/3.%20Causal%20Bayesian%20Networks.ipynb#W3sZmlsZQ%3D%3D?line=16'>17</a>\u001b[0m \u001b[39mdef\u001b[39;00m \u001b[39mconvert_pgm_to_pgmpy\u001b[39m(pgm):\n\u001b[0;32m     <a href='vscode-notebook-cell:/c%3A/Users/Utente/Desktop/FAIKR%203%20proj/notebooks/3.%20Causal%20Bayesian%20Networks.ipynb#W3sZmlsZQ%3D%3D?line=17'>18</a>\u001b[0m     \u001b[39m\"\"\"Takes a Daft PGM object and converts it to a pgmpy BayesianModel\"\"\"\u001b[39;00m\n",
      "File \u001b[1;32mc:\\Users\\Utente\\AppData\\Local\\Programs\\Python\\Python310\\lib\\site-packages\\pgmpy\\inference\\CausalInference.py:5\u001b[0m, in \u001b[0;36m<module>\u001b[1;34m\u001b[0m\n\u001b[0;32m      2\u001b[0m \u001b[39mimport\u001b[39;00m \u001b[39mnetworkx\u001b[39;00m \u001b[39mas\u001b[39;00m \u001b[39mnx\u001b[39;00m\n\u001b[0;32m      4\u001b[0m \u001b[39mfrom\u001b[39;00m \u001b[39mpgmpy\u001b[39;00m\u001b[39m.\u001b[39;00m\u001b[39mmodels\u001b[39;00m\u001b[39m.\u001b[39;00m\u001b[39mBayesianModel\u001b[39;00m \u001b[39mimport\u001b[39;00m BayesianModel\n\u001b[1;32m----> 5\u001b[0m \u001b[39mfrom\u001b[39;00m \u001b[39mpgmpy\u001b[39;00m\u001b[39m.\u001b[39;00m\u001b[39mestimators\u001b[39;00m\u001b[39m.\u001b[39;00m\u001b[39mLinearModel\u001b[39;00m \u001b[39mimport\u001b[39;00m LinearEstimator\n\u001b[0;32m      6\u001b[0m \u001b[39mfrom\u001b[39;00m \u001b[39mpgmpy\u001b[39;00m\u001b[39m.\u001b[39;00m\u001b[39mutils\u001b[39;00m\u001b[39m.\u001b[39;00m\u001b[39msets\u001b[39;00m \u001b[39mimport\u001b[39;00m _powerset, _variable_or_iterable_to_set\n\u001b[0;32m      9\u001b[0m \u001b[39mclass\u001b[39;00m \u001b[39mCausalInference\u001b[39;00m(\u001b[39mobject\u001b[39m):\n",
      "File \u001b[1;32mc:\\Users\\Utente\\AppData\\Local\\Programs\\Python\\Python310\\lib\\site-packages\\pgmpy\\estimators\\__init__.py:11\u001b[0m, in \u001b[0;36m<module>\u001b[1;34m\u001b[0m\n\u001b[0;32m      9\u001b[0m \u001b[39mfrom\u001b[39;00m \u001b[39mpgmpy\u001b[39;00m\u001b[39m.\u001b[39;00m\u001b[39mestimators\u001b[39;00m\u001b[39m.\u001b[39;00m\u001b[39mHillClimbSearch\u001b[39;00m \u001b[39mimport\u001b[39;00m HillClimbSearch\n\u001b[0;32m     10\u001b[0m \u001b[39mfrom\u001b[39;00m \u001b[39mpgmpy\u001b[39;00m\u001b[39m.\u001b[39;00m\u001b[39mestimators\u001b[39;00m\u001b[39m.\u001b[39;00m\u001b[39mConstraintBasedEstimator\u001b[39;00m \u001b[39mimport\u001b[39;00m ConstraintBasedEstimator\n\u001b[1;32m---> 11\u001b[0m \u001b[39mfrom\u001b[39;00m \u001b[39mpgmpy\u001b[39;00m\u001b[39m.\u001b[39;00m\u001b[39mestimators\u001b[39;00m\u001b[39m.\u001b[39;00m\u001b[39mSEMEstimator\u001b[39;00m \u001b[39mimport\u001b[39;00m SEMEstimator, IVEstimator\n\u001b[0;32m     13\u001b[0m __all__ \u001b[39m=\u001b[39m [\n\u001b[0;32m     14\u001b[0m     \u001b[39m\"\u001b[39m\u001b[39mBaseEstimator\u001b[39m\u001b[39m\"\u001b[39m,\n\u001b[0;32m     15\u001b[0m     \u001b[39m\"\u001b[39m\u001b[39mParameterEstimator\u001b[39m\u001b[39m\"\u001b[39m,\n\u001b[1;32m   (...)\u001b[0m\n\u001b[0;32m     26\u001b[0m     \u001b[39m\"\u001b[39m\u001b[39mIVEstimator\u001b[39m\u001b[39m\"\u001b[39m,\n\u001b[0;32m     27\u001b[0m ]\n",
      "File \u001b[1;32mc:\\Users\\Utente\\AppData\\Local\\Programs\\Python\\Python310\\lib\\site-packages\\pgmpy\\estimators\\SEMEstimator.py:5\u001b[0m, in \u001b[0;36m<module>\u001b[1;34m\u001b[0m\n\u001b[0;32m      3\u001b[0m \u001b[39mimport\u001b[39;00m \u001b[39mnumpy\u001b[39;00m \u001b[39mas\u001b[39;00m \u001b[39mnp\u001b[39;00m\n\u001b[0;32m      4\u001b[0m \u001b[39mimport\u001b[39;00m \u001b[39mpandas\u001b[39;00m \u001b[39mas\u001b[39;00m \u001b[39mpd\u001b[39;00m\n\u001b[1;32m----> 5\u001b[0m \u001b[39mimport\u001b[39;00m \u001b[39mstatsmodels\u001b[39;00m\u001b[39m.\u001b[39;00m\u001b[39mapi\u001b[39;00m \u001b[39mas\u001b[39;00m \u001b[39msm\u001b[39;00m\n\u001b[0;32m      6\u001b[0m \u001b[39mimport\u001b[39;00m \u001b[39mtorch\u001b[39;00m\n\u001b[0;32m      8\u001b[0m \u001b[39mfrom\u001b[39;00m \u001b[39mpgmpy\u001b[39;00m\u001b[39m.\u001b[39;00m\u001b[39mmodels\u001b[39;00m \u001b[39mimport\u001b[39;00m SEMGraph, SEMAlg, SEM\n",
      "\u001b[1;31mModuleNotFoundError\u001b[0m: No module named 'statsmodels'"
     ]
    }
   ],
   "source": [
    "#@title Imports\n",
    "%load_ext autoreload\n",
    "%autoreload 2\n",
    "import sys\n",
    "sys.path.append('/content/pgmpydev')\n",
    "\n",
    "!pip3 install -q daft\n",
    "import matplotlib.pyplot as plt\n",
    "%matplotlib inline\n",
    "import daft\n",
    "from daft import PGM\n",
    "\n",
    "# We can now import the development version of pgmpy\n",
    "from pgmpy.models.BayesianModel import BayesianModel\n",
    "from pgmpy.inference import CausalInference\n",
    "\n",
    "def convert_pgm_to_pgmpy(pgm):\n",
    "    \"\"\"Takes a Daft PGM object and converts it to a pgmpy BayesianModel\"\"\"\n",
    "    edges = [(edge.node1.name, edge.node2.name) for edge in pgm._edges]\n",
    "    model = BayesianModel(edges)\n",
    "    return model"
   ]
  },
  {
   "cell_type": "code",
   "execution_count": 23,
   "metadata": {
    "cellView": "form",
    "colab": {
     "base_uri": "https://localhost:8080/",
     "height": 201
    },
    "colab_type": "code",
    "id": "P90trQAQ7Clc",
    "outputId": "2e62d5b8-de0e-4e28-b14d-5c03bcd1ab61"
   },
   "outputs": [
    {
     "data": {
      "image/png": "[encoded data removed]",
      "text/plain": [
       "<Figure size 226.772x170.079 with 1 Axes>"
      ]
     },
     "metadata": {
      "tags": []
     },
     "output_type": "display_data"
    }
   ],
   "source": [
    "#@title # Game 1\n",
    "#@markdown While this is a \"trivial\" example, many statisticians would consider including either or both A and B in their models \"just for good measure\".  Notice though how controlling for A would close off the path of causal information from X to Y, actually *impeding* your effort to measure that effect.\n",
    "pgm = PGM(shape=[4, 3])\n",
    "\n",
    "pgm.add_node(daft.Node('X', r\"X\", 1, 2))\n",
    "pgm.add_node(daft.Node('Y', r\"Y\", 3, 2))\n",
    "pgm.add_node(daft.Node('A', r\"A\", 2, 2))\n",
    "pgm.add_node(daft.Node('B', r\"B\", 2, 1))\n",
    "\n",
    "\n",
    "pgm.add_edge('X', 'A')\n",
    "pgm.add_edge('A', 'Y')\n",
    "pgm.add_edge('A', 'B')\n",
    "\n",
    "pgm.render()\n",
    "plt.show()"
   ]
  },
  {
   "cell_type": "code",
   "execution_count": 24,
   "metadata": {
    "cellView": "both",
    "colab": {
     "base_uri": "https://localhost:8080/",
     "height": 51
    },
    "colab_type": "code",
    "id": "yQyYJEC83ODX",
    "outputId": "07597081-bbec-4209-db8f-b731de34ae3a"
   },
   "outputs": [
    {
     "name": "stdout",
     "output_type": "stream",
     "text": [
      "Are there are active backdoor paths? False\n",
      "If so, what's the possible backdoor adjustment sets? frozenset()\n"
     ]
    }
   ],
   "source": [
    "#@markdown Notice how there are no nodes with arrows pointing into X.  Said another way, X has no parents.  Therefore, there can't be any backdoor paths confounding X and Y.  pgmpy will confirm this in the following way:\n",
    "game1 = convert_pgm_to_pgmpy(pgm)\n",
    "inference1 = CausalInference(game1)\n",
    "print(f\"Are there are active backdoor paths? {inference1._has_active_backdoors('X', 'Y')}\")\n",
    "adj_sets = inference1.get_all_backdoor_adjustment_sets(\"X\", \"Y\")\n",
    "print(f\"If so, what's the possible backdoor adjustment sets? {adj_sets}\")"
   ]
  },
  {
   "cell_type": "code",
   "execution_count": 25,
   "metadata": {
    "cellView": "form",
    "colab": {
     "base_uri": "https://localhost:8080/",
     "height": 258
    },
    "colab_type": "code",
    "id": "b5RJ0UsH_kQ4",
    "outputId": "3e4f9430-fca7-40d4-f8b3-ffd241c6a8f8"
   },
   "outputs": [
    {
     "data": {
      "image/png": "[encoded data removed]",
      "text/plain": [
       "<Figure size 226.772x226.772 with 1 Axes>"
      ]
     },
     "metadata": {
      "tags": []
     },
     "output_type": "display_data"
    }
   ],
   "source": [
    "#@title # Game 2\n",
    "#@markdown This graph looks harder, but actualy is also trivial to solve.  The key is noticing the one backdoor path, which goes from X <- A -> B <- D -> E -> Y, has a collider at B (or a 'V structure'), and therefore the backdoor path is closed. \n",
    "pgm = PGM(shape=[4, 4])\n",
    "\n",
    "pgm.add_node(daft.Node('X', r\"X\", 1, 1))\n",
    "pgm.add_node(daft.Node('Y', r\"Y\", 3, 1))\n",
    "pgm.add_node(daft.Node('A', r\"A\", 1, 3))\n",
    "pgm.add_node(daft.Node('B', r\"B\", 2, 3))\n",
    "pgm.add_node(daft.Node('C', r\"C\", 3, 3))\n",
    "pgm.add_node(daft.Node('D', r\"D\", 2, 2))\n",
    "pgm.add_node(daft.Node('E', r\"E\", 2, 1))\n",
    "\n",
    "\n",
    "pgm.add_edge('X', 'E')\n",
    "pgm.add_edge('A', 'X')\n",
    "pgm.add_edge('A', 'B')\n",
    "pgm.add_edge('B', 'C')\n",
    "pgm.add_edge('D', 'B')\n",
    "pgm.add_edge('D', 'E')\n",
    "pgm.add_edge('E', 'Y')\n",
    "\n",
    "pgm.render()\n",
    "plt.show()"
   ]
  },
  {
   "cell_type": "code",
   "execution_count": 26,
   "metadata": {
    "colab": {
     "base_uri": "https://localhost:8080/",
     "height": 51
    },
    "colab_type": "code",
    "id": "2d6Ezs6PDDON",
    "outputId": "c597c0df-3271-4e8e-9a68-3200c7f105a5"
   },
   "outputs": [
    {
     "name": "stdout",
     "output_type": "stream",
     "text": [
      "Are there are active backdoor paths? False\n",
      "If so, what's the possible backdoor adjustment sets? frozenset()\n"
     ]
    }
   ],
   "source": [
    "graph = convert_pgm_to_pgmpy(pgm)\n",
    "inference = CausalInference(graph)\n",
    "print(f\"Are there are active backdoor paths? {inference._has_active_backdoors('X', 'Y')}\")\n",
    "adj_sets = inference.get_all_backdoor_adjustment_sets(\"X\", \"Y\")\n",
    "print(f\"If so, what's the possible backdoor adjustment sets? {adj_sets}\")"
   ]
  },
  {
   "cell_type": "code",
   "execution_count": 27,
   "metadata": {
    "cellView": "form",
    "colab": {
     "base_uri": "https://localhost:8080/",
     "height": 258
    },
    "colab_type": "code",
    "id": "Pg6T2WA3DZ8n",
    "outputId": "5d79efd3-b8f7-46a8-dcf0-da2b7997be3c"
   },
   "outputs": [
    {
     "data": {
      "image/png": "[encoded data removed]",
      "text/plain": [
       "<Figure size 226.772x226.772 with 1 Axes>"
      ]
     },
     "metadata": {
      "tags": []
     },
     "output_type": "display_data"
    }
   ],
   "source": [
    "#@title # Game 3\n",
    "#@markdown This game actually requires some action.  Notice the backdoor path X <- B -> Y.  This is a confounding pattern, is one of the clearest signs that we'll need to control for something, in this case B. \n",
    "pgm = PGM(shape=[4, 4])\n",
    "\n",
    "pgm.add_node(daft.Node('X', r\"X\", 1, 1))\n",
    "pgm.add_node(daft.Node('Y', r\"Y\", 3, 1))\n",
    "pgm.add_node(daft.Node('A', r\"A\", 2, 1.75))\n",
    "pgm.add_node(daft.Node('B', r\"B\", 2, 3))\n",
    "\n",
    "\n",
    "pgm.add_edge('X', 'Y')\n",
    "pgm.add_edge('X', 'A')\n",
    "pgm.add_edge('B', 'A')\n",
    "pgm.add_edge('B', 'X')\n",
    "pgm.add_edge('B', 'Y')\n",
    "\n",
    "pgm.render()\n",
    "plt.show()"
   ]
  },
  {
   "cell_type": "code",
   "execution_count": 28,
   "metadata": {
    "colab": {
     "base_uri": "https://localhost:8080/",
     "height": 51
    },
    "colab_type": "code",
    "id": "l0GI2mM3WQeI",
    "outputId": "7ca879e8-e678-42d9-9d03-404ffb67c51c"
   },
   "outputs": [
    {
     "name": "stdout",
     "output_type": "stream",
     "text": [
      "Are there are active backdoor paths? True\n",
      "If so, what's the possible backdoor adjustment sets? frozenset({frozenset({'B'})})\n"
     ]
    }
   ],
   "source": [
    "graph = convert_pgm_to_pgmpy(pgm)\n",
    "inference = CausalInference(graph)\n",
    "print(f\"Are there are active backdoor paths? {inference._has_active_backdoors('X', 'Y')}\")\n",
    "adj_sets = inference.get_all_backdoor_adjustment_sets(\"X\", \"Y\")\n",
    "print(f\"If so, what's the possible backdoor adjustment sets? {adj_sets}\")"
   ]
  },
  {
   "cell_type": "code",
   "execution_count": 29,
   "metadata": {
    "cellView": "form",
    "colab": {
     "base_uri": "https://localhost:8080/",
     "height": 258
    },
    "colab_type": "code",
    "id": "XP2ORZw8EtyZ",
    "outputId": "9f267191-b408-483b-87d9-754c949a7d72"
   },
   "outputs": [
    {
     "data": {
      "image/png": "[encoded data removed]",
      "text/plain": [
       "<Figure size 226.772x226.772 with 1 Axes>"
      ]
     },
     "metadata": {
      "tags": []
     },
     "output_type": "display_data"
    }
   ],
   "source": [
    "#@title # Game 4\n",
    "#@markdown Pearl named this particular configuration \"M Bias\", not only because of it's shape, but also because of the common practice of statisticians to want to control for B in many situations.  However, notice how in this configuration X and Y start out as *not confounded* and how by controlling for B we would actually introduce confounding by opening the path at the collider, B. \n",
    "pgm = PGM(shape=[4, 4])\n",
    "\n",
    "pgm.add_node(daft.Node('X', r\"X\", 1, 1))\n",
    "pgm.add_node(daft.Node('Y', r\"Y\", 3, 1))\n",
    "pgm.add_node(daft.Node('A', r\"A\", 1, 3))\n",
    "pgm.add_node(daft.Node('B', r\"B\", 2, 2))\n",
    "pgm.add_node(daft.Node('C', r\"C\", 3, 3))\n",
    "\n",
    "\n",
    "pgm.add_edge('A', 'X')\n",
    "pgm.add_edge('A', 'B')\n",
    "pgm.add_edge('C', 'B')\n",
    "pgm.add_edge('C', 'Y')\n",
    "\n",
    "pgm.render()\n",
    "plt.show()"
   ]
  },
  {
   "cell_type": "code",
   "execution_count": 30,
   "metadata": {
    "colab": {
     "base_uri": "https://localhost:8080/",
     "height": 51
    },
    "colab_type": "code",
    "id": "CBaGzLKSFmnQ",
    "outputId": "95c1c6a5-dbe3-4768-8f37-94d9547e9db6"
   },
   "outputs": [
    {
     "name": "stdout",
     "output_type": "stream",
     "text": [
      "Are there are active backdoor paths? False\n",
      "If so, what's the possible backdoor adjustment sets? frozenset()\n"
     ]
    }
   ],
   "source": [
    "graph = convert_pgm_to_pgmpy(pgm)\n",
    "inference = CausalInference(graph)\n",
    "print(f\"Are there are active backdoor paths? {inference._has_active_backdoors('X', 'Y')}\")\n",
    "adj_sets = inference.get_all_backdoor_adjustment_sets(\"X\", \"Y\")\n",
    "print(f\"If so, what's the possible backdoor adjustment sets? {adj_sets}\")"
   ]
  },
  {
   "cell_type": "code",
   "execution_count": 31,
   "metadata": {
    "cellView": "form",
    "colab": {
     "base_uri": "https://localhost:8080/",
     "height": 258
    },
    "colab_type": "code",
    "id": "ZAbSVPvZFxZH",
    "outputId": "88a7fff6-0744-4dda-b5e9-8d93dcea84d7"
   },
   "outputs": [
    {
     "data": {
      "image/png": "[encoded data removed]",
      "text/plain": [
       "<Figure size 226.772x226.772 with 1 Axes>"
      ]
     },
     "metadata": {
      "tags": []
     },
     "output_type": "display_data"
    }
   ],
   "source": [
    "#@title # Game 5\n",
    "#@markdown This is the last game in The Book of Why is the most complex.  In this case we have two backdoor paths, one going through A and the other through B, and it's important to notice that if we only control for B that the path: X <- A -> B <- C -> Y (which starts out as closed because B is a collider) actually is opened.  Therefore we have to either close both A and B or, as astute observers will notice, we can also just close C and completely close both backdoor paths.  pgmpy will nicely confirm these results for us. \n",
    "pgm = PGM(shape=[4, 4])\n",
    "\n",
    "pgm.add_node(daft.Node('X', r\"X\", 1, 1))\n",
    "pgm.add_node(daft.Node('Y', r\"Y\", 3, 1))\n",
    "pgm.add_node(daft.Node('A', r\"A\", 1, 3))\n",
    "pgm.add_node(daft.Node('B', r\"B\", 2, 2))\n",
    "pgm.add_node(daft.Node('C', r\"C\", 3, 3))\n",
    "\n",
    "\n",
    "pgm.add_edge('A', 'X')\n",
    "pgm.add_edge('A', 'B')\n",
    "pgm.add_edge('C', 'B')\n",
    "pgm.add_edge('C', 'Y')\n",
    "pgm.add_edge(\"X\", \"Y\")\n",
    "pgm.add_edge(\"B\", \"X\")\n",
    "\n",
    "pgm.render()\n",
    "plt.show()"
   ]
  },
  {
   "cell_type": "code",
   "execution_count": 32,
   "metadata": {
    "colab": {
     "base_uri": "https://localhost:8080/",
     "height": 51
    },
    "colab_type": "code",
    "id": "IF1jYMq_eNHd",
    "outputId": "68bcc15d-c1aa-40c4-fb61-b400e7c31abe"
   },
   "outputs": [
    {
     "name": "stdout",
     "output_type": "stream",
     "text": [
      "Are there are active backdoor paths? True\n",
      "If so, what's the possible backdoor adjustment sets? frozenset({frozenset({'B', 'A'}), frozenset({'C'})})\n"
     ]
    }
   ],
   "source": [
    "graph = convert_pgm_to_pgmpy(pgm)\n",
    "inference = CausalInference(graph)\n",
    "print(f\"Are there are active backdoor paths? {inference._has_active_backdoors('X', 'Y')}\")\n",
    "adj_sets = inference.get_all_backdoor_adjustment_sets(\"X\", \"Y\")\n",
    "print(f\"If so, what's the possible backdoor adjustment sets? {adj_sets}\")"
   ]
  },
  {
   "cell_type": "code",
   "execution_count": 36,
   "metadata": {
    "cellView": "form",
    "colab": {
     "base_uri": "https://localhost:8080/",
     "height": 258
    },
    "colab_type": "code",
    "id": "dSjZqd5fHF06",
    "outputId": "05857131-230d-4dd9-88d0-25d4b800eb68"
   },
   "outputs": [
    {
     "data": {
      "image/png": "[encoded data removed]",
      "text/plain": [
       "<Figure size 226.772x226.772 with 1 Axes>"
      ]
     },
     "metadata": {
      "tags": []
     },
     "output_type": "display_data"
    }
   ],
   "source": [
    "#@title # Game 6\n",
    "#@markdown So these are no longer drawn from The Book of Why, but were either drawn from another source (which I will reference) or a developed to try to induce a specific bug. \n",
    "#@markdown This example is drawn from Causality by Pearl on p. 80. This example is kind of interesting because there are many possible combinations of nodes which will close the two backdoor paths which exist in this graph.  In turns out that D plus any other node in {A, B, C, E} will deconfound X and Y. \n",
    "\n",
    "pgm = PGM(shape=[4, 4])\n",
    "\n",
    "pgm.add_node(daft.Node('X', r\"X\", 1, 1))\n",
    "pgm.add_node(daft.Node('Y', r\"Y\", 3, 1))\n",
    "pgm.add_node(daft.Node('A', r\"A\", 1, 3))\n",
    "pgm.add_node(daft.Node('B', r\"B\", 3, 3))\n",
    "pgm.add_node(daft.Node('C', r\"C\", 1, 2))\n",
    "pgm.add_node(daft.Node('D', r\"D\", 2, 2))\n",
    "pgm.add_node(daft.Node('E', r\"E\", 3, 2))\n",
    "pgm.add_node(daft.Node('F', r\"F\", 2, 1))\n",
    "\n",
    "\n",
    "pgm.add_edge('X', 'F')\n",
    "pgm.add_edge('F', 'Y')\n",
    "pgm.add_edge('C', 'X')\n",
    "pgm.add_edge('A', 'C')\n",
    "pgm.add_edge('A', 'D')\n",
    "pgm.add_edge('D', 'X')\n",
    "pgm.add_edge('D', 'Y')\n",
    "pgm.add_edge('B', 'D')\n",
    "pgm.add_edge('B', 'E')\n",
    "pgm.add_edge('E', 'Y')\n",
    "\n",
    "pgm.render()\n",
    "plt.show()"
   ]
  },
  {
   "cell_type": "code",
   "execution_count": 38,
   "metadata": {
    "colab": {
     "base_uri": "https://localhost:8080/",
     "height": 68
    },
    "colab_type": "code",
    "id": "30OIiRt7raN2",
    "outputId": "4c285443-724c-4988-b9a6-2ad2fcf2654e"
   },
   "outputs": [
    {
     "name": "stdout",
     "output_type": "stream",
     "text": [
      "Are there are active backdoor paths? True\n",
      "If so, what's the possible backdoor adjustment sets? frozenset({frozenset({'B', 'D'}), frozenset({'A', 'D'}), frozenset({'C', 'D'}), frozenset({'E', 'D'})})\n",
      "Ehat's the possible front adjustment sets? frozenset({frozenset({'F'})})\n"
     ]
    }
   ],
   "source": [
    "graph = convert_pgm_to_pgmpy(pgm)\n",
    "inference = CausalInference(graph)\n",
    "print(f\"Are there are active backdoor paths? {inference._has_active_backdoors('X', 'Y')}\")\n",
    "bd_adj_sets = inference.get_all_backdoor_adjustment_sets(\"X\", \"Y\")\n",
    "print(f\"If so, what's the possible backdoor adjustment sets? {bd_adj_sets}\")\n",
    "fd_adj_sets = inference.get_all_frontdoor_adjustment_sets(\"X\", \"Y\")\n",
    "print(f\"Ehat's the possible front adjustment sets? {fd_adj_sets}\")"
   ]
  },
  {
   "cell_type": "code",
   "execution_count": 40,
   "metadata": {
    "cellView": "form",
    "colab": {
     "base_uri": "https://localhost:8080/",
     "height": 201
    },
    "colab_type": "code",
    "id": "Z4pkuyOwM9xq",
    "outputId": "82e581df-b378-423c-95bd-d16b901c5296"
   },
   "outputs": [
    {
     "data": {
      "image/png": "[encoded data removed]",
      "text/plain": [
       "<Figure size 226.772x170.079 with 1 Axes>"
      ]
     },
     "metadata": {
      "tags": []
     },
     "output_type": "display_data"
    }
   ],
   "source": [
    "#@title # Game 7\n",
    "#@markdown This game tests the front door adjustment.  B is taken to be unobserved, and therfore we cannot close the backdoor path X <- B -> Y. \n",
    "pgm = PGM(shape=[4, 3])\n",
    "\n",
    "pgm.add_node(daft.Node('X', r\"X\", 1, 1))\n",
    "pgm.add_node(daft.Node('Y', r\"Y\", 3, 1))\n",
    "pgm.add_node(daft.Node('A', r\"A\", 2, 1))\n",
    "pgm.add_node(daft.Node('B', r\"B\", 2, 2))\n",
    "\n",
    "\n",
    "pgm.add_edge('X', 'A')\n",
    "pgm.add_edge('A', 'Y')\n",
    "pgm.add_edge('B', 'X')\n",
    "pgm.add_edge('B', 'Y')\n",
    "\n",
    "pgm.render()\n",
    "plt.show()"
   ]
  },
  {
   "cell_type": "code",
   "execution_count": 41,
   "metadata": {
    "colab": {
     "base_uri": "https://localhost:8080/",
     "height": 68
    },
    "colab_type": "code",
    "id": "m8DZd_FQ4uLV",
    "outputId": "b73751d4-8aa9-4ec1-ba10-d509fe13c1a1"
   },
   "outputs": [
    {
     "name": "stdout",
     "output_type": "stream",
     "text": [
      "Are there are active backdoor paths? True\n",
      "If so, what's the possible backdoor adjustment sets? frozenset({frozenset({'B'})})\n",
      "Ehat's the possible front adjustment sets? frozenset({frozenset({'A'})})\n"
     ]
    }
   ],
   "source": [
    "graph = convert_pgm_to_pgmpy(pgm)\n",
    "inference = CausalInference(graph)\n",
    "print(f\"Are there are active backdoor paths? {inference._has_active_backdoors('X', 'Y')}\")\n",
    "bd_adj_sets = inference.get_all_backdoor_adjustment_sets(\"X\", \"Y\")\n",
    "print(f\"If so, what's the possible backdoor adjustment sets? {bd_adj_sets}\")\n",
    "fd_adj_sets = inference.get_all_frontdoor_adjustment_sets(\"X\", \"Y\")\n",
    "print(f\"Ehat's the possible front adjustment sets? {fd_adj_sets}\")"
   ]
  },
  {
   "cell_type": "code",
   "execution_count": null,
   "metadata": {
    "colab": {},
    "colab_type": "code",
    "id": "8zeU4DX0Bbxl"
   },
   "outputs": [],
   "source": []
  }
 ],
 "metadata": {
  "colab": {
   "collapsed_sections": [],
   "include_colab_link": true,
   "name": "Causal Games.ipynb",
   "provenance": [],
   "toc_visible": true,
   "version": "0.3.2"
  },
  "kernelspec": {
   "display_name": "Python 3.10.1 64-bit",
   "language": "python",
   "name": "python3"
  },
  "language_info": {
   "codemirror_mode": {
    "name": "ipython",
    "version": 3
   },
   "file_extension": ".py",
   "mimetype": "text/x-python",
   "name": "python",
   "nbconvert_exporter": "python",
   "pygments_lexer": "ipython3",
   "version": "3.10.1"
  },
  "vscode": {
   "interpreter": {
    "hash": "1527373efda72fa2755c1bf8e28aa37d44fcfaa765722a53896873e9ccde169f"
   }
  }
 },
 "nbformat": 4,
 "nbformat_minor": 1
}
